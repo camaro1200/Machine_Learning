{
 "cells": [
  {
   "cell_type": "code",
   "execution_count": 1,
   "id": "efee86ee",
   "metadata": {},
   "outputs": [
    {
     "name": "stderr",
     "output_type": "stream",
     "text": [
      "/home/iris/paulshab/NLP_env/nlp_environ/lib/python3.7/site-packages/gensim/similarities/__init__.py:15: UserWarning: The gensim.similarities.levenshtein submodule is disabled, because the optional Levenshtein package <https://pypi.org/project/python-Levenshtein/> is unavailable. Install Levenhstein (e.g. `pip install python-Levenshtein`) to suppress this warning.\n",
      "  warnings.warn(msg)\n"
     ]
    }
   ],
   "source": [
    "%matplotlib inline \n",
    "\n",
    "from prepare_data import *\n",
    "from utils import *\n",
    "from transformers import pipeline, AutoTokenizer, AutoModel, AutoModelForSequenceClassification, BertForMaskedLM, BertModel, BertTokenizer, RobertaForMaskedLM\n",
    "from BinaryClassifier import *\n",
    "import wandb\n",
    "import os\n",
    "from copy import deepcopy  # in case you still need original model\n",
    "import typing as tp\n",
    "\n",
    "import nltk \n",
    "from nltk import tokenize\n",
    "from nltk.tokenize import WordPunctTokenizer\n",
    "\n",
    "import re\n",
    "import string"
   ]
  },
  {
   "cell_type": "code",
   "execution_count": 4,
   "id": "e9008b31",
   "metadata": {},
   "outputs": [
    {
     "name": "stdout",
     "output_type": "stream",
     "text": [
      "/home/iris/paulshab/NLP_env/nlp_environ/bin/python\r\n"
     ]
    }
   ],
   "source": [
    "!which python"
   ]
  },
  {
   "cell_type": "code",
   "execution_count": 2,
   "id": "a598ef12",
   "metadata": {},
   "outputs": [],
   "source": [
    "os.environ[\"WANDB_API_KEY\"] = \"20ef80315d2796a47ee939dd78c2077dbb6d82a1\"\n",
    "os.environ[\"WANDB_NOTEBOOK_NAME\"] = \"Experiment1.ipynb\""
   ]
  },
  {
   "cell_type": "code",
   "execution_count": null,
   "id": "0e03999e",
   "metadata": {},
   "outputs": [],
   "source": [
    "\"\"\"\n",
    "1. finetine on less iterations\n",
    "2. SVM/ Random forest\n",
    "3. ensamble  // majority voting/ weigheted logits\n",
    "4. regularization --> augmenation\n",
    "5. hastags\n",
    "6. ner --> maybe  and pick best features\n",
    "\"\"\""
   ]
  },
  {
   "cell_type": "code",
   "execution_count": 70,
   "id": "93a8cbeb",
   "metadata": {},
   "outputs": [
    {
     "data": {
      "text/html": [
       "<div>\n",
       "<style scoped>\n",
       "    .dataframe tbody tr th:only-of-type {\n",
       "        vertical-align: middle;\n",
       "    }\n",
       "\n",
       "    .dataframe tbody tr th {\n",
       "        vertical-align: top;\n",
       "    }\n",
       "\n",
       "    .dataframe thead th {\n",
       "        text-align: right;\n",
       "    }\n",
       "</style>\n",
       "<table border=\"1\" class=\"dataframe\">\n",
       "  <thead>\n",
       "    <tr style=\"text-align: right;\">\n",
       "      <th></th>\n",
       "      <th>id</th>\n",
       "      <th>keyword</th>\n",
       "      <th>location</th>\n",
       "      <th>text</th>\n",
       "      <th>target</th>\n",
       "    </tr>\n",
       "  </thead>\n",
       "  <tbody>\n",
       "    <tr>\n",
       "      <th>5799</th>\n",
       "      <td>8278</td>\n",
       "      <td>rioting</td>\n",
       "      <td>NaN</td>\n",
       "      <td>aelinrhee a group of mascara smeared girls ri...</td>\n",
       "      <td>1</td>\n",
       "    </tr>\n",
       "    <tr>\n",
       "      <th>1484</th>\n",
       "      <td>2139</td>\n",
       "      <td>catastrophe</td>\n",
       "      <td>Worldwide</td>\n",
       "      <td>aiginsurance ceo divestitures and catastrophe...</td>\n",
       "      <td>0</td>\n",
       "    </tr>\n",
       "    <tr>\n",
       "      <th>7414</th>\n",
       "      <td>10607</td>\n",
       "      <td>wounded</td>\n",
       "      <td>Suva, Fiji Islands.</td>\n",
       "      <td>general audience on wounded families zenit the...</td>\n",
       "      <td>0</td>\n",
       "    </tr>\n",
       "    <tr>\n",
       "      <th>424</th>\n",
       "      <td>614</td>\n",
       "      <td>arsonist</td>\n",
       "      <td>SF Bay Area</td>\n",
       "      <td>arsonist arrested for setting many fires watc...</td>\n",
       "      <td>1</td>\n",
       "    </tr>\n",
       "  </tbody>\n",
       "</table>\n",
       "</div>"
      ],
      "text/plain": [
       "         id      keyword             location  \\\n",
       "5799   8278      rioting                  NaN   \n",
       "1484   2139  catastrophe            Worldwide   \n",
       "7414  10607      wounded  Suva, Fiji Islands.   \n",
       "424     614     arsonist          SF Bay Area   \n",
       "\n",
       "                                                   text  target  \n",
       "5799   aelinrhee a group of mascara smeared girls ri...       1  \n",
       "1484   aiginsurance ceo divestitures and catastrophe...       0  \n",
       "7414  general audience on wounded families zenit the...       0  \n",
       "424    arsonist arrested for setting many fires watc...       1  "
      ]
     },
     "execution_count": 70,
     "metadata": {},
     "output_type": "execute_result"
    }
   ],
   "source": [
    "data_train.sample(4)"
   ]
  },
  {
   "cell_type": "markdown",
   "id": "b6470c1f",
   "metadata": {},
   "source": [
    "### Load Models"
   ]
  },
  {
   "cell_type": "code",
   "execution_count": 3,
   "id": "73e8b8ea",
   "metadata": {},
   "outputs": [
    {
     "name": "stderr",
     "output_type": "stream",
     "text": [
      "Some weights of the model checkpoint at bert-base-uncased were not used when initializing BertForSequenceClassification: ['cls.predictions.transform.LayerNorm.bias', 'cls.seq_relationship.weight', 'cls.predictions.transform.LayerNorm.weight', 'cls.seq_relationship.bias', 'cls.predictions.decoder.weight', 'cls.predictions.transform.dense.weight', 'cls.predictions.transform.dense.bias', 'cls.predictions.bias']\n",
      "- This IS expected if you are initializing BertForSequenceClassification from the checkpoint of a model trained on another task or with another architecture (e.g. initializing a BertForSequenceClassification model from a BertForPreTraining model).\n",
      "- This IS NOT expected if you are initializing BertForSequenceClassification from the checkpoint of a model that you expect to be exactly identical (initializing a BertForSequenceClassification model from a BertForSequenceClassification model).\n",
      "Some weights of BertForSequenceClassification were not initialized from the model checkpoint at bert-base-uncased and are newly initialized: ['classifier.bias', 'classifier.weight']\n",
      "You should probably TRAIN this model on a down-stream task to be able to use it for predictions and inference.\n",
      "Some weights of the model checkpoint at bert-base-uncased were not used when initializing BertForMaskedLM: ['cls.seq_relationship.bias', 'cls.seq_relationship.weight']\n",
      "- This IS expected if you are initializing BertForMaskedLM from the checkpoint of a model trained on another task or with another architecture (e.g. initializing a BertForSequenceClassification model from a BertForPreTraining model).\n",
      "- This IS NOT expected if you are initializing BertForMaskedLM from the checkpoint of a model that you expect to be exactly identical (initializing a BertForSequenceClassification model from a BertForSequenceClassification model).\n",
      "Some weights of the model checkpoint at bert-base-uncased were not used when initializing BertModel: ['cls.predictions.transform.LayerNorm.bias', 'cls.seq_relationship.weight', 'cls.predictions.transform.LayerNorm.weight', 'cls.seq_relationship.bias', 'cls.predictions.decoder.weight', 'cls.predictions.transform.dense.weight', 'cls.predictions.transform.dense.bias', 'cls.predictions.bias']\n",
      "- This IS expected if you are initializing BertModel from the checkpoint of a model trained on another task or with another architecture (e.g. initializing a BertForSequenceClassification model from a BertForPreTraining model).\n",
      "- This IS NOT expected if you are initializing BertModel from the checkpoint of a model that you expect to be exactly identical (initializing a BertForSequenceClassification model from a BertForSequenceClassification model).\n",
      "Some weights of the model checkpoint at vinai/bertweet-base were not used when initializing RobertaModel: ['lm_head.bias', 'lm_head.layer_norm.bias', 'lm_head.decoder.weight', 'lm_head.layer_norm.weight', 'lm_head.decoder.bias', 'lm_head.dense.weight', 'lm_head.dense.bias']\n",
      "- This IS expected if you are initializing RobertaModel from the checkpoint of a model trained on another task or with another architecture (e.g. initializing a BertForSequenceClassification model from a BertForPreTraining model).\n",
      "- This IS NOT expected if you are initializing RobertaModel from the checkpoint of a model that you expect to be exactly identical (initializing a BertForSequenceClassification model from a BertForSequenceClassification model).\n",
      "Special tokens have been added in the vocabulary, make sure the associated word embeddings are fine-tuned or trained.\n"
     ]
    }
   ],
   "source": [
    "import torch\n",
    "\n",
    "# load tokenizer\n",
    "tokenizer1 = BertTokenizer.from_pretrained(\"bert-base-uncased\")\n",
    "\n",
    "# load models\"\n",
    "classification_model = AutoModelForSequenceClassification.from_pretrained(\"bert-base-uncased\")\n",
    "\n",
    "mlm_model = BertForMaskedLM.from_pretrained('bert-base-uncased')\n",
    "\n",
    "bert_model = BertModel.from_pretrained('bert-base-uncased')\n",
    "\n",
    "bertweet = AutoModel.from_pretrained(\"vinai/bertweet-base\")    # good for Twitter !!\n",
    "\n",
    "roberta_mlm = RobertaForMaskedLM.from_pretrained('roberta-base')\n",
    "\n",
    "tokenizer = AutoTokenizer.from_pretrained(\"vinai/bertweet-base\", use_fast=False)"
   ]
  },
  {
   "cell_type": "code",
   "execution_count": 7,
   "id": "fd03cde4",
   "metadata": {},
   "outputs": [
    {
     "ename": "NameError",
     "evalue": "name 'train_df' is not defined",
     "output_type": "error",
     "traceback": [
      "\u001b[0;31m---------------------------------------------------------------------------\u001b[0m",
      "\u001b[0;31mNameError\u001b[0m                                 Traceback (most recent call last)",
      "\u001b[0;32m/tmp/ipykernel_2133/1654439863.py\u001b[0m in \u001b[0;36m<module>\u001b[0;34m\u001b[0m\n\u001b[1;32m      4\u001b[0m \u001b[0;34m\u001b[0m\u001b[0m\n\u001b[1;32m      5\u001b[0m \u001b[0;31m# Calling the function to extract hashtags from the tweet\u001b[0m\u001b[0;34m\u001b[0m\u001b[0;34m\u001b[0m\u001b[0;34m\u001b[0m\u001b[0m\n\u001b[0;32m----> 6\u001b[0;31m \u001b[0mextract_hashtags_training\u001b[0m\u001b[0;34m(\u001b[0m\u001b[0mtrain_df\u001b[0m\u001b[0;34m[\u001b[0m\u001b[0;34m'text'\u001b[0m\u001b[0;34m]\u001b[0m\u001b[0;34m)\u001b[0m\u001b[0;34m\u001b[0m\u001b[0;34m\u001b[0m\u001b[0m\n\u001b[0m\u001b[1;32m      7\u001b[0m \u001b[0;34m\u001b[0m\u001b[0m\n\u001b[1;32m      8\u001b[0m \u001b[0;31m# Converting the list of hastags into string for each tweet\u001b[0m\u001b[0;34m\u001b[0m\u001b[0;34m\u001b[0m\u001b[0;34m\u001b[0m\u001b[0m\n",
      "\u001b[0;31mNameError\u001b[0m: name 'train_df' is not defined"
     ]
    }
   ],
   "source": [
    "def extract_hashtags_training(text):    \n",
    "    regex = \"#(\\w+)\"    # the regular expression\n",
    "    train_df['hashtags'] = [re.findall(regex, i) for i in text]    # extracting hashtags\n",
    "\n",
    "# Calling the function to extract hashtags from the tweet\n",
    "extract_hashtags_training(train_df['text'])\n",
    "\n",
    "# Converting the list of hastags into string for each tweet\n",
    "train_df['hashtags'] = train_df['hashtags'].apply(lambda x: ', '.join([i for i in x]))\n"
   ]
  },
  {
   "cell_type": "markdown",
   "id": "cc1b2076",
   "metadata": {},
   "source": [
    "### Load Data"
   ]
  },
  {
   "cell_type": "code",
   "execution_count": 8,
   "id": "28b805aa",
   "metadata": {},
   "outputs": [
    {
     "name": "stdout",
     "output_type": "stream",
     "text": [
      "torch.Size([32, 41])\n",
      "torch.Size([32, 25])\n",
      "torch.Size([32, 35])\n",
      "torch.Size([32, 25])\n",
      "torch.Size([32, 43])\n",
      "[0, 2, 3, 9, 11, 12, 21, 22, 27, 29, 30, 35, 42, 43, 45, 46, 47, 51, 58, 60, 69, 70, 72, 75, 84, 87, 88, 90, 94, 99, 101, 103]\n"
     ]
    }
   ],
   "source": [
    "# load train test df\n",
    "data_train, data_test = load_data(train_path=\"nlp-getting-started/train.csv\", \n",
    "                                  test_path=\"nlp-getting-started/test.csv\")\n",
    "full_df = pd.concat([data_train, data_test], ignore_index=True)\n",
    "\n",
    "#preprocess data\n",
    "data_train[\"text\"] = data_train[\"text\"].map(clean)\n",
    "data_test[\"text\"] = data_test[\"text\"].map(clean)\n",
    "\n",
    "dataset = Dataset(data_train, tokenizer)\n",
    "X_test = Dataset(data_test, tokenizer)\n",
    "full_dataset = Dataset(full_df, tokenizer)\n",
    "\n",
    "X_train, X_val = train_test_split(dataset, test_size=0.33, random_state=16)\n",
    "\n",
    "# #get X_train, X_test\n",
    "# X_train, X_val = get_train_dataset(data_train, tokenizer=tokenizer)\n",
    "\n",
    "# #get X_test\n",
    "# X_test = get_test_dataset(data_test, tokenizer=tokenizer)\n",
    "\n",
    "# get Dataloaders\n",
    "train_dataloader = torch.utils.data.DataLoader(X_train, \n",
    "                                               batch_size=32, \n",
    "                                               drop_last= True, \n",
    "                                               collate_fn=PadSequence(['input_ids', 'token_type_ids', 'attention_mask', 'labels', 'keyword'], device='cuda:1'\n",
    "                                                                          ))\n",
    "\n",
    "eval_dataloader = torch.utils.data.DataLoader(X_val, \n",
    "                                              batch_size=32, \n",
    "                                              drop_last= True, \n",
    "                                              collate_fn=PadSequence(['input_ids', 'token_type_ids', 'attention_mask', 'labels', 'keyword'], device='cuda:1'\n",
    "                                                                          ))\n",
    "\n",
    "\n",
    "test_dataloader = torch.utils.data.DataLoader(X_test, \n",
    "                                               batch_size=32,  \n",
    "                                               collate_fn=PadSequence(['input_ids', 'token_type_ids', 'attention_mask', 'labels', 'keyword'], device='cuda:1'\n",
    "                                                                     ))\n",
    "\n",
    "full_dataloader = torch.utils.data.DataLoader(full_dataset, \n",
    "                                               batch_size=32,  \n",
    "                                               collate_fn=PadSequence(['input_ids', 'token_type_ids', 'attention_mask', 'labels', 'keyword'], device='cuda:1'\n",
    "                                                                     ))\n",
    "\n",
    "eval_train_dataloader = torch.utils.data.DataLoader(dataset, \n",
    "                                               batch_size=32,  \n",
    "                                               collate_fn=PadSequence(['input_ids', 'token_type_ids', 'attention_mask', 'labels', 'keyword'], device='cuda:1'\n",
    "                                                                     ))\n",
    "\n",
    "train_batch = next(iter(train_dataloader))\n",
    "print(train_batch['input_ids'].shape)\n",
    "print(train_batch['keyword'].shape)\n",
    "\n",
    "full_batch = next(iter(full_dataloader))\n",
    "print(full_batch['input_ids'].shape)\n",
    "print(full_batch['keyword'].shape)\n",
    "\n",
    "test_batch = next(iter(test_dataloader))\n",
    "print(test_batch['input_ids'].shape)\n",
    "print(test_batch['id'])"
   ]
  },
  {
   "cell_type": "markdown",
   "id": "b3928db2",
   "metadata": {},
   "source": [
    "## Submission"
   ]
  },
  {
   "cell_type": "code",
   "execution_count": 67,
   "id": "1c0cc47b",
   "metadata": {},
   "outputs": [
    {
     "name": "stdout",
     "output_type": "stream",
     "text": [
      "3263\n"
     ]
    },
    {
     "data": {
      "image/png": "[encoded data removed]",
      "text/plain": [
       "<Figure size 576x288 with 1 Axes>"
      ]
     },
     "metadata": {
      "needs_background": "light"
     },
     "output_type": "display_data"
    }
   ],
   "source": [
    "def generate_submission(model, loader, classifier=None, device='cuda:0', mode=0):\n",
    "    \n",
    "    if classifier != None:\n",
    "        classifier.to(device)\n",
    "        classifier.eval()\n",
    "    \n",
    "    model.to(device)\n",
    "    model.eval()\n",
    "    \n",
    "    #df = pd.DataFrame(columns=['id', 'target', 'tokens'])\n",
    "    df = pd.DataFrame(columns=['id', 'target']) \n",
    "    \n",
    "    for batch in loader:\n",
    "        with torch.no_grad():\n",
    "            if mode == 0:\n",
    "                cls_logits = get_sentence_embeddings(model, batch)\n",
    "                logits = torch.cat((cls_logits, batch['keyword']), dim=1)\n",
    "                #print(logits)\n",
    "                logits = classifier(logits) \n",
    "            elif mode == 1:\n",
    "                cls_logits = get_sentence_pooler_output(model, batch)\n",
    "                logits = torch.cat((cls_logits, batch['keyword']), dim=1)\n",
    "                logits = classifier(logits)\n",
    "            elif mode == -1:\n",
    "                logits = model(batch['input_ids'], batch['attention_mask']).logits[:,0]                             # get logits\n",
    "            \n",
    "         \n",
    "        prob = F.softmax(logits, -1)                                        # get log-SoftMax\n",
    "        prob = torch.argmax(prob, -1)                                       # get argMax\n",
    "        prob = prob.detach().cpu().tolist()                                 # to cpu\n",
    "        \n",
    "        ids = batch['id']\n",
    "        #print(ids)\n",
    "        for i in range(len(prob)):\n",
    "            #df = df.append({'id': batch['id'][i], 'target':  prob[i], 'tokens': batch['tokens'][i]}, ignore_index=True)\n",
    "            df = df.append({'id': int(batch['id'][i]), 'target':  int(prob[i])}, ignore_index=True)\n",
    "            df.to_csv(\"submission1.csv\", index=False);\n",
    "    \n",
    "    return df\n",
    "\n",
    "# df = generate_submission(bertweet, test_dataloader, classifier=tweet_classifier, device='cuda:0', mode=1)\n",
    "\n",
    "#df = generate_submission(bertweet, test_dataloader, classifier=classifier, device='cuda:1', mode=1)\n",
    "\n",
    "#df = generate_submission(tweet_mlm_model, test_dataloader, classifier=mlm_classifier, device='cuda:1', mode=0)\n",
    "\n",
    "df = generate_submission(pretrain_bert, test_dataloader, classifier=pretrain_classifier, device='cuda:1', mode=1)\n",
    "\n",
    "# df = generate_submission(mlm_model, test_dataloader,classifier=pt_classifier, device='cuda:0', mode=0)\n",
    "\n",
    "# df = generate_submission(model, test_dataloader, device='cuda:0', mode=-1)\n",
    "# df\n",
    "\n",
    "# df = generate_submission(model, test_dataloader, classifier=ft_classifier, device='cuda:0', mode=0)\n",
    "# df\n",
    "\n",
    "\n",
    "print(len(df))\n",
    "plt.figure(figsize=[8, 4])\n",
    "plt.subplot(1, 2, 1)\n",
    "plt.hist(df[\"target\"], bins=3\n",
    ");"
   ]
  },
  {
   "cell_type": "markdown",
   "id": "36dea994",
   "metadata": {},
   "source": [
    "## Experiments"
   ]
  },
  {
   "cell_type": "markdown",
   "id": "502015a8",
   "metadata": {},
   "source": [
    "### 1.1 Roberta + Classifier With Features--> ( Pretrained)"
   ]
  },
  {
   "cell_type": "code",
   "execution_count": 11,
   "id": "9f3e936e",
   "metadata": {},
   "outputs": [
    {
     "name": "stderr",
     "output_type": "stream",
     "text": [
      "100%|█████████████████████████████████████████████████████████████████████████████████████████████████████████████████████████████████████████████████████████████████████████████████████████████████████████████████████████████████████████| 159/159 [00:08<00:00, 19.67it/s]\n"
     ]
    },
    {
     "name": "stdout",
     "output_type": "stream",
     "text": [
      "{'accuracy': 0.8219339622641509, 'f1_score': 0.8092564982286309, 'recall': 0.727874060734479, 'precision': 0.8344117250398283}\n"
     ]
    },
    {
     "name": "stderr",
     "output_type": "stream",
     "text": [
      "100%|███████████████████████████████████████████████████████████████████████████████████████████████████████████████████████████████████████████████████████████████████████████████████████████████████████████████████████████████████████████| 78/78 [00:03<00:00, 20.01it/s]"
     ]
    },
    {
     "name": "stdout",
     "output_type": "stream",
     "text": [
      "{'accuracy': 0.8044871794871795, 'f1_score': 0.7900568806879399, 'recall': 0.6937417555630225, 'precision': 0.8230141318376613}\n",
      "\n",
      "Kaggle Submission = \n"
     ]
    },
    {
     "name": "stderr",
     "output_type": "stream",
     "text": [
      "\n"
     ]
    }
   ],
   "source": [
    "# eval train \n",
    "scores = eval_model(tweet_mlm_model, train_dataloader, mlm_classifier, device='cuda:1', mode=0)\n",
    "print(scores)\n",
    "\n",
    "# eval test\n",
    "scores = eval_model(tweet_mlm_model, eval_dataloader, mlm_classifier, device='cuda:1', mode=0)\n",
    "print(scores)\n",
    "\n",
    "print(\"\\nKaggle Submission = \")"
   ]
  },
  {
   "cell_type": "markdown",
   "id": "c79d2362",
   "metadata": {},
   "source": [
    "### 1.2 Roberta + Classifier With Features--> ( NO Pretraining/Finetuning)"
   ]
  },
  {
   "cell_type": "code",
   "execution_count": 110,
   "id": "6b3ef7e9",
   "metadata": {},
   "outputs": [
    {
     "name": "stderr",
     "output_type": "stream",
     "text": [
      "100%|███████████████████████████████████████████████████████████████████████████████████████████████████████████████████████████████████████████████████████████████████████████████████████████████████████████████████████████████████████| 159/159 [00:05<00:00, 29.42it/s]\n"
     ]
    },
    {
     "name": "stdout",
     "output_type": "stream",
     "text": [
      "{'accuracy': 0.8417845911949685, 'f1_score': 0.8296289380890545, 'recall': 0.7383061208532906, 'precision': 0.872440625509584}\n"
     ]
    },
    {
     "name": "stderr",
     "output_type": "stream",
     "text": [
      "100%|█████████████████████████████████████████████████████████████████████████████████████████████████████████████████████████████████████████████████████████████████████████████████████████████████████████████████████████████████████████| 78/78 [00:02<00:00, 29.47it/s]"
     ]
    },
    {
     "name": "stdout",
     "output_type": "stream",
     "text": [
      "{'accuracy': 0.8253205128205128, 'f1_score': 0.8125885646473553, 'recall': 0.7268118936953779, 'precision': 0.8457603914810988}\n",
      "\n",
      "Kaggle Submission = 0.811\n"
     ]
    },
    {
     "name": "stderr",
     "output_type": "stream",
     "text": [
      "\n"
     ]
    }
   ],
   "source": [
    "# eval train \n",
    "scores = eval_model(bertweet, train_dataloader, classifier, device='cuda:1', mode=1)\n",
    "print(scores)\n",
    "\n",
    "# eval test\n",
    "scores = eval_model(bertweet, eval_dataloader, classifier, device='cuda:1', mode=1)\n",
    "print(scores)\n",
    "\n",
    "print(\"\\nKaggle Submission = 0.811\") "
   ]
  },
  {
   "cell_type": "markdown",
   "id": "77e7e709",
   "metadata": {},
   "source": [
    "### 1.1 Roberta --> Classifier + Pooler Fintuned"
   ]
  },
  {
   "cell_type": "code",
   "execution_count": 66,
   "id": "b8e43f43",
   "metadata": {},
   "outputs": [
    {
     "name": "stderr",
     "output_type": "stream",
     "text": [
      "100%|█████████████████████████████████████████████████████████████████████████████████████████████████████████████████████████████████████████████████████████████████████| 159/159 [00:05<00:00, 28.62it/s]\n"
     ]
    },
    {
     "name": "stdout",
     "output_type": "stream",
     "text": [
      "{'accuracy': 0.8415880503144654, 'f1_score': 0.8294478741968186, 'recall': 0.7377115197869915, 'precision': 0.8731868035310117}\n"
     ]
    },
    {
     "name": "stderr",
     "output_type": "stream",
     "text": [
      "100%|███████████████████████████████████████████████████████████████████████████████████████████████████████████████████████████████████████████████████████████████████████| 78/78 [00:02<00:00, 29.40it/s]"
     ]
    },
    {
     "name": "stdout",
     "output_type": "stream",
     "text": [
      "{'accuracy': 0.8253205128205128, 'f1_score': 0.8125834557170234, 'recall': 0.7268118936953779, 'precision': 0.8456782087066084}\n",
      "\n",
      "Kaggle Submission = \n"
     ]
    },
    {
     "name": "stderr",
     "output_type": "stream",
     "text": [
      "\n"
     ]
    }
   ],
   "source": [
    "# eval train \n",
    "scores = eval_model(pretrain_bert, train_dataloader, pretrain_classifier, device='cuda:1', mode=1)\n",
    "print(scores)\n",
    "\n",
    "# eval test\n",
    "scores = eval_model(pretrain_bert, eval_dataloader, pretrain_classifier, device='cuda:1', mode=1)\n",
    "print(scores)\n",
    "\n",
    "print(\"\\nKaggle Submission = \") #0.81397"
   ]
  },
  {
   "cell_type": "markdown",
   "id": "9a9236d9",
   "metadata": {},
   "source": [
    "### 1.1 Roberta with difficult classifier --> ( Pretrained)"
   ]
  },
  {
   "cell_type": "code",
   "execution_count": 12,
   "id": "d09cbc84",
   "metadata": {},
   "outputs": [
    {
     "name": "stderr",
     "output_type": "stream",
     "text": [
      "100%|█████████████████████████████████████████████████████████████████████████████████████████████████████████████████████████████████████████████████████████████████████████████████████████████████████████████████████████████████████████| 159/159 [00:08<00:00, 19.15it/s]\n"
     ]
    },
    {
     "name": "stdout",
     "output_type": "stream",
     "text": [
      "{'accuracy': 0.9803459119496856, 'f1_score': 0.9789238945453096, 'recall': 0.9711110592280637, 'precision': 0.9825549186325224}\n"
     ]
    },
    {
     "name": "stderr",
     "output_type": "stream",
     "text": [
      "100%|███████████████████████████████████████████████████████████████████████████████████████████████████████████████████████████████████████████████████████████████████████████████████████████████████████████████████████████████████████████| 78/78 [00:03<00:00, 19.52it/s]"
     ]
    },
    {
     "name": "stdout",
     "output_type": "stream",
     "text": [
      "{'accuracy': 0.7868589743589743, 'f1_score': 0.7754212582329939, 'recall': 0.7296020449300993, 'precision': 0.7612725633147163}\n",
      "\n",
      "Kaggle Submission = \n"
     ]
    },
    {
     "name": "stderr",
     "output_type": "stream",
     "text": [
      "\n"
     ]
    }
   ],
   "source": [
    "# eval train \n",
    "scores = eval_model(tweet_mlm_model, train_dataloader, mlm_classifier, device='cuda:1', mode=0)\n",
    "print(scores)\n",
    "\n",
    "# eval test\n",
    "scores = eval_model(tweet_mlm_model, eval_dataloader, mlm_classifier, device='cuda:1', mode=0)\n",
    "print(scores)\n",
    "\n",
    "print(\"\\nKaggle Submission = \")"
   ]
  },
  {
   "cell_type": "markdown",
   "id": "83d6ce72",
   "metadata": {},
   "source": [
    "### 1.2 Classifier on Masked LM"
   ]
  },
  {
   "cell_type": "code",
   "execution_count": 6,
   "id": "9d5d1103",
   "metadata": {},
   "outputs": [
    {
     "name": "stderr",
     "output_type": "stream",
     "text": [
      "100%|█████████████████████████████████████████████████████████████████████████████████████████████████████████████████████████████████████████████████████████████████████████████████████████████████████████████████████████████████████████| 159/159 [00:05<00:00, 29.71it/s]\n"
     ]
    },
    {
     "name": "stdout",
     "output_type": "stream",
     "text": [
      "{'accuracy': 0.820558176100629, 'f1_score': 0.8073154885930385, 'recall': 0.7262527786419369, 'precision': 0.8290266299342473}\n"
     ]
    },
    {
     "name": "stderr",
     "output_type": "stream",
     "text": [
      "100%|███████████████████████████████████████████████████████████████████████████████████████████████████████████████████████████████████████████████████████████████████████████████████████████████████████████████████████████████████████████| 78/78 [00:02<00:00, 28.97it/s]"
     ]
    },
    {
     "name": "stdout",
     "output_type": "stream",
     "text": [
      "{'accuracy': 0.7984775641025641, 'f1_score': 0.7858087014011298, 'recall': 0.7206957457240263, 'precision': 0.7864180241159879}\n",
      "\n",
      "Kaggle Submission = 0.79190\n"
     ]
    },
    {
     "name": "stderr",
     "output_type": "stream",
     "text": [
      "\n"
     ]
    }
   ],
   "source": [
    "# eval train \n",
    "scores = eval_model(mlm_model, train_dataloader, pt_classifier, device='cuda:0', mode=0)\n",
    "print(scores)\n",
    "\n",
    "# eval test\n",
    "scores = eval_model(mlm_model, eval_dataloader, pt_classifier, device='cuda:0', mode=0)\n",
    "print(scores)\n",
    "\n",
    "print(\"\\nKaggle Submission = 0.79190\")"
   ]
  },
  {
   "cell_type": "markdown",
   "id": "976df64d",
   "metadata": {},
   "source": [
    "### 1.2 Classifier on Masked LM with 2 layer classifier"
   ]
  },
  {
   "cell_type": "code",
   "execution_count": 9,
   "id": "ae1c2994",
   "metadata": {},
   "outputs": [
    {
     "name": "stderr",
     "output_type": "stream",
     "text": [
      "100%|█████████████████████████████████████████████████████████████████████████████████████████████████████████████████████████████████████████████████████████████████████████████████████████████████████████████████████████████████████████| 159/159 [00:05<00:00, 29.53it/s]\n"
     ]
    },
    {
     "name": "stdout",
     "output_type": "stream",
     "text": [
      "{'accuracy': 0.8142688679245284, 'f1_score': 0.8026564441353563, 'recall': 0.7658367613643915, 'precision': 0.7877552349286971}\n"
     ]
    },
    {
     "name": "stderr",
     "output_type": "stream",
     "text": [
      "100%|███████████████████████████████████████████████████████████████████████████████████████████████████████████████████████████████████████████████████████████████████████████████████████████████████████████████████████████████████████████| 78/78 [00:02<00:00, 28.85it/s]"
     ]
    },
    {
     "name": "stdout",
     "output_type": "stream",
     "text": [
      "{'accuracy': 0.7552083333333334, 'f1_score': 0.7444898056937154, 'recall': 0.7368608390101603, 'precision': 0.700531902407349}\n",
      "\n",
      "Kaggle Submission = ?\n"
     ]
    },
    {
     "name": "stderr",
     "output_type": "stream",
     "text": [
      "\n"
     ]
    }
   ],
   "source": [
    "# eval train \n",
    "scores = eval_model(mlm_model, train_dataloader, hard_classifier, device='cuda:0', mode=0)\n",
    "print(scores)\n",
    "\n",
    "# eval test\n",
    "scores = eval_model(mlm_model, eval_dataloader, hard_classifier, device='cuda:0', mode=0)\n",
    "print(scores)\n",
    "\n",
    "print(\"\\nKaggle Submission = ?\")"
   ]
  },
  {
   "cell_type": "markdown",
   "id": "bfe23af9",
   "metadata": {},
   "source": [
    "### 1.3 Classifier on Finetuned Model"
   ]
  },
  {
   "cell_type": "code",
   "execution_count": 26,
   "id": "6df61644",
   "metadata": {},
   "outputs": [
    {
     "name": "stderr",
     "output_type": "stream",
     "text": [
      "100%|█████████████████████████████████████████████████████████████████████████████████████████████████████████████████████████████████████████████████████████████████████████████████████████████████████████████████████████████████████████| 159/159 [00:04<00:00, 33.97it/s]\n"
     ]
    },
    {
     "name": "stdout",
     "output_type": "stream",
     "text": [
      "{'accuracy': 0.9950864779874213, 'f1_score': 0.994837141634972, 'recall': 0.9910934838376569, 'precision': 0.9976969571309194}\n"
     ]
    },
    {
     "name": "stderr",
     "output_type": "stream",
     "text": [
      "100%|███████████████████████████████████████████████████████████████████████████████████████████████████████████████████████████████████████████████████████████████████████████████████████████████████████████████████████████████████████████| 78/78 [00:02<00:00, 33.16it/s]"
     ]
    },
    {
     "name": "stdout",
     "output_type": "stream",
     "text": [
      "{'accuracy': 0.7852564102564102, 'f1_score': 0.774424757256912, 'recall': 0.7496951431340572, 'precision': 0.7480851110093192}\n",
      "\n",
      "Kaggle Submission = ?\n"
     ]
    },
    {
     "name": "stderr",
     "output_type": "stream",
     "text": [
      "\n"
     ]
    }
   ],
   "source": [
    "# eval train \n",
    "scores = eval_model(model, train_dataloader, device='cuda:0', mode=-1)\n",
    "print(scores)\n",
    "\n",
    "# eval test\n",
    "scores = eval_model(mlm_model, eval_dataloader, device='cuda:0', mode=-1)\n",
    "print(scores)\n",
    "\n",
    "print(\"\\nKaggle Submission = ?\")"
   ]
  },
  {
   "cell_type": "markdown",
   "id": "5c7ce3da",
   "metadata": {},
   "source": [
    "# Experiments"
   ]
  },
  {
   "cell_type": "markdown",
   "id": "25901e2f",
   "metadata": {},
   "source": [
    "### 1.1 Binary Cassifer with features [ ROBERTA ] BASELINE: "
   ]
  },
  {
   "cell_type": "markdown",
   "id": "ed8b2a6d",
   "metadata": {},
   "source": [
    "##### Load  Binary Classifier with Features  [ ROBERTA ]"
   ]
  },
  {
   "cell_type": "code",
   "execution_count": 109,
   "id": "a120f7d5",
   "metadata": {},
   "outputs": [
    {
     "data": {
      "text/plain": [
       "<All keys matched successfully>"
      ]
     },
     "execution_count": 109,
     "metadata": {},
     "output_type": "execute_result"
    }
   ],
   "source": [
    "classifier = BinClassifierWithFeatures()     # define model\n",
    "\n",
    "classifier.load_state_dict(torch.load('nlp-getting-started/weights/text_classifier.pth'))           # load weights"
   ]
  },
  {
   "cell_type": "markdown",
   "id": "ed8ff0df",
   "metadata": {},
   "source": [
    "##### Train Binary Classifier with Features  [ ROBERTA ]"
   ]
  },
  {
   "cell_type": "code",
   "execution_count": 16,
   "id": "384dd1f6",
   "metadata": {},
   "outputs": [
    {
     "name": "stderr",
     "output_type": "stream",
     "text": [
      "100%|█████████████████████████████████████████████████████████████████████████████████████████████████████████████████████████████████████████████████████████████████████████████████████████████████████████████████████████████████████████| 200/200 [17:43<00:00,  5.32s/it]"
     ]
    },
    {
     "name": "stdout",
     "output_type": "stream",
     "text": [
      "min loss value 0.3746858341326504\n"
     ]
    },
    {
     "name": "stderr",
     "output_type": "stream",
     "text": [
      "\n"
     ]
    },
    {
     "data": {
      "image/png": "[encoded data removed]",
      "text/plain": [
       "<Figure size 720x432 with 1 Axes>"
      ]
     },
     "metadata": {
      "needs_background": "light"
     },
     "output_type": "display_data"
    }
   ],
   "source": [
    "classifier =  BinClassifierWithFeatures()\n",
    "\n",
    "train_loss = train_bin_class(classifier, bertweet, train_dataloader, num_epochs=200, device='cuda:1', pooler=True)\n",
    "\n",
    "torch.save(classifier.state_dict(), 'nlp-getting-started/weights/text_classifier.pth')\n",
    "\n",
    "convergence_graph(train_loss)       # min loss = 0.4438683907003523"
   ]
  },
  {
   "cell_type": "markdown",
   "id": "2a0284b5",
   "metadata": {},
   "source": [
    "### 1.2 Pretraining  on Roberta\n",
    "- Using Masked LM objective on Roberta (no finetuning)\n"
   ]
  },
  {
   "cell_type": "markdown",
   "id": "abeddc1f",
   "metadata": {},
   "source": [
    "##### Load Roberta MLM + Classifier"
   ]
  },
  {
   "cell_type": "code",
   "execution_count": 311,
   "id": "62494a61",
   "metadata": {},
   "outputs": [
    {
     "data": {
      "text/plain": [
       "<All keys matched successfully>"
      ]
     },
     "execution_count": 311,
     "metadata": {},
     "output_type": "execute_result"
    }
   ],
   "source": [
    "# Load Roberta MLM Model\n",
    "\n",
    "tweet_mlm_model = deepcopy(bertweet)\n",
    "\n",
    "tweet_mlm_model.pooler = roberta_mlm.lm_head\n",
    "\n",
    "tweet_mlm_model.pooler.decoder = nn.Linear(768, len(tokenizer.get_vocab()))                                                                               # define model\n",
    "\n",
    "tweet_mlm_model.load_state_dict(torch.load('nlp-getting-started/weights/pretrained_roberta.pth'))           # load weights\n",
    "\n",
    "\n",
    "#Load Binary Classifier\n",
    "\n",
    "mlm_classifier = BinClassifierWithFeatures()     # define model\n",
    "\n",
    "mlm_classifier.load_state_dict(torch.load('nlp-getting-started/weights/mlm_classifier.pth'))           # load weights"
   ]
  },
  {
   "cell_type": "markdown",
   "id": "b80e2458",
   "metadata": {},
   "source": [
    "##### Train Roberta MLM"
   ]
  },
  {
   "cell_type": "code",
   "execution_count": 42,
   "id": "2ed9272a",
   "metadata": {},
   "outputs": [],
   "source": [
    "def roberta_pretrain(model, loader, num_epochs=10, device='cuda:1'):\n",
    "    model.to(device)\n",
    "    model.train() \n",
    "    \n",
    "    criterion = nn.CrossEntropyLoss()\n",
    "    optimizer = optim.Adam(model.parameters(), lr=0.0001)\n",
    "    cc = nn.CrossEntropyLoss()\n",
    "    \n",
    "    train_loss = []\n",
    "    avg_batch_loss = []\n",
    "    for epoch in tqdm(range(num_epochs)):\n",
    "        avg_batch_loss = []\n",
    "        for batch in loader:\n",
    "            batch = apply_mask(batch, device='cuda:1')\n",
    "            outputs = model(input_ids=batch['input_ids'],\n",
    "                        attention_mask=batch['attention_mask'],\n",
    "                        token_type_ids=batch['token_type_ids']\n",
    "                       ).pooler_output\n",
    "            \n",
    "            outputs = torch.transpose(outputs, 2, 1)\n",
    "            labels = batch['labels']\n",
    "            #print(labels.shape)\n",
    "            #print(outputs.shape)\n",
    "            \n",
    "            loss = cc(outputs, labels)\n",
    "            #print(loss)\n",
    "            \n",
    "            loss.backward()\n",
    "            optimizer.step()\n",
    "            optimizer.zero_grad()\n",
    "            avg_batch_loss.append(loss.item())\n",
    "        \n",
    "        avg = sum(avg_batch_loss) / len(avg_batch_loss)\n",
    "        train_loss.append(avg)      \n",
    "    \n",
    "    return train_loss"
   ]
  },
  {
   "cell_type": "code",
   "execution_count": null,
   "id": "77298053",
   "metadata": {},
   "outputs": [
    {
     "name": "stderr",
     "output_type": "stream",
     "text": [
      "  1%|██▎                                                                                                                                                                                                                                      | 3/300 [03:54<6:27:06, 78.20s/it]"
     ]
    }
   ],
   "source": [
    "#### Roberta MLM Model\n",
    "\n",
    "tweet_mlm_model = deepcopy(bertweet)\n",
    "\n",
    "tweet_mlm_model.pooler = roberta_mlm.lm_head\n",
    "\n",
    "tweet_mlm_model.pooler.decoder = nn.Linear(768, len(tokenizer.get_vocab()))\n",
    "\n",
    "\n",
    "## check forrward pass\n",
    "\"\"\"\n",
    "tweet_mlm_model.to('cuda:1')\n",
    "\n",
    "with torch.no_grad():\n",
    "    kk = tweet_mlm_model(input_ids=train_batch['input_ids'], \n",
    "                 attention_mask=train_batch['attention_mask'], \n",
    "                 token_type_ids=train_batch['token_type_ids']).pooler_output.shape\n",
    "print(kk)\n",
    "\n",
    "\"\"\"\n",
    "\n",
    "train_loss = roberta_pretrain(tweet_mlm_model, full_data_loader, num_epochs=300)\n",
    "\n",
    "torch.save(tweet_mlm_model.state_dict(), 'nlp-getting-started/weights/pretrained_roberta.pth')\n",
    "\n",
    "convergence_graph(train_loss)  # min loss = 0.06914102886894755"
   ]
  },
  {
   "cell_type": "code",
   "execution_count": 49,
   "id": "ff465f0c",
   "metadata": {},
   "outputs": [
    {
     "name": "stdout",
     "output_type": "stream",
     "text": [
      "min loss value 0.37822234527494925\n"
     ]
    },
    {
     "data": {
      "image/png": "[encoded data removed]",
      "text/plain": [
       "<Figure size 720x432 with 1 Axes>"
      ]
     },
     "metadata": {
      "needs_background": "light"
     },
     "output_type": "display_data"
    }
   ],
   "source": [
    "convergence_graph(train_loss)"
   ]
  },
  {
   "cell_type": "markdown",
   "id": "bcfecd7c",
   "metadata": {},
   "source": [
    "##### Train Binary Classifier with Extra Features on Roberta"
   ]
  },
  {
   "cell_type": "code",
   "execution_count": 8,
   "id": "552fa447",
   "metadata": {},
   "outputs": [
    {
     "name": "stderr",
     "output_type": "stream",
     "text": [
      "100%|███████████████████████████████████████████████████████████████████████████████████████████████████████████████████████████████████████████████████████████████████████████████████████████████████████████████████████████████████████████| 25/25 [03:21<00:00,  8.08s/it]"
     ]
    },
    {
     "name": "stdout",
     "output_type": "stream",
     "text": [
      "min loss value 0.42693398208738126\n"
     ]
    },
    {
     "name": "stderr",
     "output_type": "stream",
     "text": [
      "\n"
     ]
    },
    {
     "data": {
      "image/png": "[encoded data removed]",
      "text/plain": [
       "<Figure size 720x432 with 1 Axes>"
      ]
     },
     "metadata": {
      "needs_background": "light"
     },
     "output_type": "display_data"
    }
   ],
   "source": [
    "#tweet_mlm_model.pooler = bertweet.pooler\n",
    "\n",
    "mlm_classifier = BinClassifierWithFeatures()\n",
    "\n",
    "train_loss = train_bin_class(mlm_classifier, tweet_mlm_model, train_dataloader, num_epochs=25, device='cuda:1', pooler=False)\n",
    "\n",
    "torch.save(mlm_classifier.state_dict(), 'nlp-getting-started/weights/mlm_classifier.pth')\n",
    "\n",
    "convergence_graph(train_loss)       # min loss = 0.3895701692914063"
   ]
  },
  {
   "cell_type": "code",
   "execution_count": null,
   "id": "23f8b383",
   "metadata": {},
   "outputs": [],
   "source": [
    "# 3369, 3398, 4966, 6654 in file train.csv."
   ]
  },
  {
   "cell_type": "markdown",
   "id": "81766cd6",
   "metadata": {},
   "source": [
    "### 1.3 Finetune on Pooler and classifier"
   ]
  },
  {
   "cell_type": "code",
   "execution_count": 35,
   "id": "57c3860c",
   "metadata": {},
   "outputs": [],
   "source": [
    "def train(classifier, model, dataloader, pooler, num_epochs=10, device='cuda:1', lr=0.001):\n",
    "    classifier.to(device)\n",
    "    classifier.train()\n",
    "    pooler.train()\n",
    "    \n",
    "    model.to(device)\n",
    "    model.eval()\n",
    "    \n",
    "    criterion = nn.CrossEntropyLoss()\n",
    "    optimizer = optim.Adam(classifier.parameters(), lr=lr)\n",
    "    train_loss = []\n",
    "    \n",
    "    #wandb.init(project=\"kaggle_nlp\", name=\"binary_classifier\")\n",
    "    \n",
    "    for epoch in tqdm(range(num_epochs)):\n",
    "        avg_batch_loss = []\n",
    "        for batch in dataloader: \n",
    "            labels = torch.tensor(batch['target']).to(device)\n",
    "\n",
    "            with torch.no_grad():\n",
    "                cls_logits = model(input_ids=batch[\"input_ids\"],\n",
    "                          token_type_ids=batch[\"token_type_ids\"],\n",
    "                          attention_mask=batch[\"attention_mask\"]).pooler_output\n",
    "                \n",
    "            with torch.enable_grad():\n",
    "                cls_logits = pooler_layer(cls_logits)\n",
    "                \n",
    "            \n",
    "            logits = torch.cat((cls_logits, batch['keyword']), dim=1)\n",
    "            logits = classifier(logits)\n",
    "            \n",
    "            loss = criterion(logits, torch.squeeze(labels.T))\n",
    "            \n",
    "            loss.backward()\n",
    "            optimizer.step()\n",
    "            optimizer.zero_grad()\n",
    "            \n",
    "            avg_batch_loss.append(loss.item())\n",
    "            \n",
    "        avg = sum(avg_batch_loss) / len(avg_batch_loss)\n",
    "        #loss_dict = {'train_loss': loss.item()}\n",
    "        #wandb.log(loss_dict, step=epoch)\n",
    "        train_loss.append(avg)\n",
    "    \n",
    "    #wandb.finish()\n",
    "    return train_loss"
   ]
  },
  {
   "cell_type": "code",
   "execution_count": 65,
   "id": "cee2e958",
   "metadata": {},
   "outputs": [
    {
     "name": "stderr",
     "output_type": "stream",
     "text": [
      "100%|███████████████████████████████████████████████████████████████████████████████████████████████████████████████████████████████████████████████████████████████████████| 50/50 [04:23<00:00,  5.26s/it]"
     ]
    },
    {
     "name": "stdout",
     "output_type": "stream",
     "text": [
      "min loss value 0.3737629901313182\n"
     ]
    },
    {
     "name": "stderr",
     "output_type": "stream",
     "text": [
      "\n"
     ]
    },
    {
     "data": {
      "image/png": "[encoded data removed]",
      "text/plain": [
       "<Figure size 720x432 with 1 Axes>"
      ]
     },
     "metadata": {
      "needs_background": "light"
     },
     "output_type": "display_data"
    }
   ],
   "source": [
    "class Identity(torch.nn.Module):\n",
    "\n",
    "    def __init__(self):\n",
    "        super(Identity, self).__init__()\n",
    "\n",
    "    def forward(self, x):\n",
    "        return x\n",
    "    \n",
    "\n",
    "pretrain_classifier = BinClassifierWithFeatures()     \n",
    "    \n",
    "bertweet.to('cuda:1')\n",
    "\n",
    "pretrain_bert = deepcopy(bertweet) \n",
    "\n",
    "pooler_layer = deepcopy(bertweet.pooler)\n",
    " \n",
    "pretrain_bert.pooler = Identity()\n",
    "\n",
    "train_loss = train(pretrain_classifier, pretrain_bert, train_dataloader, pooler_layer, num_epochs=50, device='cuda:1', lr=0.001)\n",
    "\n",
    "pretrain_bert.pooler = pooler_layer\n",
    "\n",
    "convergence_graph(train_loss)"
   ]
  },
  {
   "cell_type": "markdown",
   "id": "085a326d",
   "metadata": {},
   "source": [
    "### 1.2 Pretraining  on BERTMLM\n",
    "- Using Masked LM objective on Bert Model (no finetuning)\n",
    "- Load Model"
   ]
  },
  {
   "cell_type": "code",
   "execution_count": 5,
   "id": "ad57a046",
   "metadata": {},
   "outputs": [
    {
     "name": "stderr",
     "output_type": "stream",
     "text": [
      "Some weights of the model checkpoint at bert-base-uncased were not used when initializing BertForMaskedLM: ['cls.seq_relationship.weight', 'cls.seq_relationship.bias']\n",
      "- This IS expected if you are initializing BertForMaskedLM from the checkpoint of a model trained on another task or with another architecture (e.g. initializing a BertForSequenceClassification model from a BertForPreTraining model).\n",
      "- This IS NOT expected if you are initializing BertForMaskedLM from the checkpoint of a model that you expect to be exactly identical (initializing a BertForSequenceClassification model from a BertForSequenceClassification model).\n"
     ]
    },
    {
     "data": {
      "text/plain": [
       "<All keys matched successfully>"
      ]
     },
     "execution_count": 5,
     "metadata": {},
     "output_type": "execute_result"
    }
   ],
   "source": [
    "# Load MLM Model\n",
    "\n",
    "mlm_model = BertForMaskedLM.from_pretrained('bert-base-uncased')                                                                                 # define model\n",
    "\n",
    "mlm_model.load_state_dict(torch.load('nlp-getting-started/weights/mlm_model.pth'))           # load weights\n",
    "\n",
    "mlm_model.to('cuda:0')\n",
    "\n",
    "# Load MLM classifier model\n",
    "\n",
    "pt_classifier = BinClassifier()                                                                      # define model\n",
    "\n",
    "pt_classifier.load_state_dict(torch.load('nlp-getting-started/weights/pt_classifier.pth'))           # load weights"
   ]
  },
  {
   "cell_type": "code",
   "execution_count": 5,
   "id": "5785d3e9",
   "metadata": {},
   "outputs": [
    {
     "name": "stderr",
     "output_type": "stream",
     "text": [
      "100%|█████████████████████████████████████████████████████████████████████████████████████████████████████████████████████████████████████████████████████████████████████████████████████████████████████████████████████████████████████████| 200/200 [46:59<00:00, 14.10s/it]\n"
     ]
    },
    {
     "name": "stdout",
     "output_type": "stream",
     "text": [
      "min loss value 0.021383057179513807\n"
     ]
    },
    {
     "name": "stderr",
     "output_type": "stream",
     "text": [
      "\u001b[34m\u001b[1mwandb\u001b[0m: Currently logged in as: \u001b[33mpaul_shab\u001b[0m (use `wandb login --relogin` to force relogin)\n"
     ]
    },
    {
     "data": {
      "text/html": [
       "\n",
       "                Tracking run with wandb version 0.12.0<br/>\n",
       "                Syncing run <strong style=\"color:#cdcd00\">mlm_classifier3</strong> to <a href=\"https://wandb.ai\" target=\"_blank\">Weights & Biases</a> <a href=\"https://docs.wandb.com/integrations/jupyter.html\" target=\"_blank\">(Documentation)</a>.<br/>\n",
       "                Project page: <a href=\"https://wandb.ai/paul_shab/kaggle_nlp\" target=\"_blank\">https://wandb.ai/paul_shab/kaggle_nlp</a><br/>\n",
       "                Run page: <a href=\"https://wandb.ai/paul_shab/kaggle_nlp/runs/3g5kcpp4\" target=\"_blank\">https://wandb.ai/paul_shab/kaggle_nlp/runs/3g5kcpp4</a><br/>\n",
       "                Run data is saved locally in <code>/home/iris/paulshab/KaggleComp/wandb/run-20210818_154503-3g5kcpp4</code><br/><br/>\n",
       "            "
      ],
      "text/plain": [
       "<IPython.core.display.HTML object>"
      ]
     },
     "metadata": {},
     "output_type": "display_data"
    },
    {
     "name": "stderr",
     "output_type": "stream",
     "text": [
      "100%|█████████████████████████████████████████████████████████████████████████████████████████████████████████████████████████████████████████████████████████████████████████████████████████████████████████████████████████████████████████| 100/100 [08:50<00:00,  5.31s/it]\n"
     ]
    },
    {
     "data": {
      "text/html": [
       "<br/>Waiting for W&B process to finish, PID 5403<br/>Program ended successfully."
      ],
      "text/plain": [
       "<IPython.core.display.HTML object>"
      ]
     },
     "metadata": {},
     "output_type": "display_data"
    },
    {
     "data": {
      "application/vnd.jupyter.widget-view+json": {
       "model_id": "",
       "version_major": 2,
       "version_minor": 0
      },
      "text/plain": [
       "VBox(children=(Label(value=' 0.00MB of 0.00MB uploaded (0.00MB deduped)\\r'), FloatProgress(value=1.0, max=1.0)…"
      ]
     },
     "metadata": {},
     "output_type": "display_data"
    },
    {
     "data": {
      "text/html": [
       "Find user logs for this run at: <code>/home/iris/paulshab/KaggleComp/wandb/run-20210818_154503-3g5kcpp4/logs/debug.log</code>"
      ],
      "text/plain": [
       "<IPython.core.display.HTML object>"
      ]
     },
     "metadata": {},
     "output_type": "display_data"
    },
    {
     "data": {
      "text/html": [
       "Find internal logs for this run at: <code>/home/iris/paulshab/KaggleComp/wandb/run-20210818_154503-3g5kcpp4/logs/debug-internal.log</code>"
      ],
      "text/plain": [
       "<IPython.core.display.HTML object>"
      ]
     },
     "metadata": {},
     "output_type": "display_data"
    },
    {
     "data": {
      "text/html": [
       "<h3>Run summary:</h3><br/><style>\n",
       "    table.wandb td:nth-child(1) { padding: 0 10px; text-align: right }\n",
       "    </style><table class=\"wandb\">\n",
       "<tr><td>train_loss</td><td>0.32315</td></tr><tr><td>_runtime</td><td>532</td></tr><tr><td>_timestamp</td><td>1629291235</td></tr><tr><td>_step</td><td>99</td></tr></table>"
      ],
      "text/plain": [
       "<IPython.core.display.HTML object>"
      ]
     },
     "metadata": {},
     "output_type": "display_data"
    },
    {
     "data": {
      "text/html": [
       "<h3>Run history:</h3><br/><style>\n",
       "    table.wandb td:nth-child(1) { padding: 0 10px; text-align: right }\n",
       "    </style><table class=\"wandb\">\n",
       "<tr><td>train_loss</td><td>█▆▅▅▅▅▄▄▄▄▃▃▃▃▃▃▃▂▂▂▂▂▂▂▂▂▂▂▂▁▁▁▁▁▁▁▁▁▁▁</td></tr><tr><td>_runtime</td><td>▁▁▁▁▂▂▂▂▂▃▃▃▃▃▃▄▄▄▄▄▅▅▅▅▅▆▆▆▆▆▆▇▇▇▇▇▇███</td></tr><tr><td>_timestamp</td><td>▁▁▁▁▂▂▂▂▂▃▃▃▃▃▃▄▄▄▄▄▅▅▅▅▅▆▆▆▆▆▆▇▇▇▇▇▇███</td></tr><tr><td>_step</td><td>▁▁▁▁▂▂▂▂▂▃▃▃▃▃▃▄▄▄▄▄▅▅▅▅▅▅▆▆▆▆▆▇▇▇▇▇▇███</td></tr></table><br/>"
      ],
      "text/plain": [
       "<IPython.core.display.HTML object>"
      ]
     },
     "metadata": {},
     "output_type": "display_data"
    },
    {
     "data": {
      "text/html": [
       "Synced 5 W&B file(s), 0 media file(s), 0 artifact file(s) and 0 other file(s)"
      ],
      "text/plain": [
       "<IPython.core.display.HTML object>"
      ]
     },
     "metadata": {},
     "output_type": "display_data"
    },
    {
     "data": {
      "text/html": [
       "\n",
       "                    <br/>Synced <strong style=\"color:#cdcd00\">mlm_classifier3</strong>: <a href=\"https://wandb.ai/paul_shab/kaggle_nlp/runs/3g5kcpp4\" target=\"_blank\">https://wandb.ai/paul_shab/kaggle_nlp/runs/3g5kcpp4</a><br/>\n",
       "                "
      ],
      "text/plain": [
       "<IPython.core.display.HTML object>"
      ]
     },
     "metadata": {},
     "output_type": "display_data"
    },
    {
     "name": "stdout",
     "output_type": "stream",
     "text": [
      "min loss value 0.40889642635981244\n"
     ]
    },
    {
     "data": {
      "image/png": "[encoded data removed]",
      "text/plain": [
       "<Figure size 432x288 with 1 Axes>"
      ]
     },
     "metadata": {
      "needs_background": "light"
     },
     "output_type": "display_data"
    }
   ],
   "source": [
    "# Train MLM Model\n",
    "\n",
    "train_loss1 = pretrain_masked_lm(mlm_model, test_dataloader, num_epochs=100, device='cuda:0')\n",
    "\n",
    "torch.save(mlm_model.state_dict(), 'nlp-getting-started/weights/mlm_model.pth')\n",
    "\n",
    "convergence_graph(train_loss1)   # min loss = 0.021383057179513807\n",
    "\n",
    "\n",
    "\n",
    "# Train MLM Binary Classifier Model\n",
    "\n",
    "pt_classifier = BinClassifier()\n",
    "\n",
    "train_loss = train_bin_class(pt_classifier, \"mlm_classifier3\",  mlm_model, train_dataloader, num_epochs=100, device='cuda:0')\n",
    "\n",
    "torch.save(pt_classifier.state_dict(), 'nlp-getting-started/weights/pt_classifier.pth')\n",
    "\n",
    "convergence_graph(train_loss)   # min loss = 0.39946962527509006"
   ]
  },
  {
   "cell_type": "markdown",
   "id": "23330813",
   "metadata": {},
   "source": [
    "# SKLEARN Composition Models"
   ]
  },
  {
   "cell_type": "code",
   "execution_count": 74,
   "id": "16ce45b9",
   "metadata": {},
   "outputs": [],
   "source": [
    "from sklearn.model_selection import cross_val_score, RepeatedStratifiedKFold\n",
    "from sklearn.metrics import f1_score, accuracy_score\n",
    "\n",
    "from sklearn.tree import DecisionTreeClassifier\n",
    "\n",
    "from sklearn.linear_model import LogisticRegression\n",
    "\n",
    "from sklearn.svm import SVC\n",
    "\n",
    "results_accuracy = pd.DataFrame(0.0,\n",
    "                                columns=['No composition', 'Dummy', 'Bagging', 'Bagging_mf', 'AdaBoost'],\n",
    "                                index=['DTC', 'DTC-1', 'LR', 'SVC'])"
   ]
  },
  {
   "cell_type": "code",
   "execution_count": null,
   "id": "aaf74434",
   "metadata": {},
   "outputs": [],
   "source": []
  },
  {
   "cell_type": "code",
   "execution_count": 277,
   "id": "61cccf26",
   "metadata": {},
   "outputs": [],
   "source": [
    "def eval_data(clf, model, loader):\n",
    "    model.eval()\n",
    "    scores = []\n",
    "    for batch in loader:\n",
    "        labels = torch.tensor(batch['target'])\n",
    "        \n",
    "        with torch.no_grad():\n",
    "            cls_logits = model(input_ids=batch[\"input_ids\"],\n",
    "                              token_type_ids=batch[\"token_type_ids\"],\n",
    "                              attention_mask=batch[\"attention_mask\"]).pooler_output\n",
    "        logits = torch.cat((cls_logits, batch['keyword']), dim=1).cpu()\n",
    "        pred = clf.predict(logits)\n",
    "        scores.append(f1_score(labels, pred))\n",
    "    \n",
    "    scores = np.array(scores)                 \n",
    "    return np.mean(scores), np.std(scores)\n",
    "\n",
    "def eval_train(clf, X, y):\n",
    "    cv = RepeatedStratifiedKFold(n_splits=10, n_repeats=3, random_state=43)\n",
    "    n_scores = cross_val_score(clf, X, y, scoring='f1', cv=cv, n_jobs=-1, error_score='raise')\n",
    "    return np.mean(n_scores), np.std(n_scores)\n",
    "\n",
    "def eval_train2(clf, X, y):\n",
    "    cv = RepeatedStratifiedKFold(n_splits=10, n_repeats=3, random_state=43)\n",
    "    n_scores = cross_val_score(clf, X, y, scoring='accuracy', cv=cv, n_jobs=-1, error_score='raise')\n",
    "    return np.mean(n_scores), np.std(n_scores)\n",
    "\n",
    "def generate_csv(labels, ids, name=\"submission2.csv\"):\n",
    "    df = pd.DataFrame(columns=['id', 'target']) \n",
    "    for i in range(len(labels)):\n",
    "        df = df.append({'id': int(ids[i]), 'target':  int(labels[i])}, ignore_index=True)\n",
    "        df.to_csv(name, index=False);\n",
    "    return df\n",
    "    "
   ]
  },
  {
   "cell_type": "code",
   "execution_count": 269,
   "id": "31c9b88f",
   "metadata": {},
   "outputs": [
    {
     "name": "stdout",
     "output_type": "stream",
     "text": [
      "torch.Size([7613, 793])\n",
      "torch.Size([7613])\n",
      "\n",
      " torch.Size([5088, 793])\n",
      "torch.Size([5088])\n",
      "\n",
      " torch.Size([2496, 793])\n",
      "torch.Size([2496])\n",
      "\n",
      " torch.Size([3263, 793])\n",
      "torch.Size([3263])\n"
     ]
    }
   ],
   "source": [
    "def get_tensor(model, loader, include_labels=True):\n",
    "    model.eval()\n",
    "    X = torch.tensor([])\n",
    "    y = torch.tensor([])\n",
    "    \n",
    "    for batch in loader: \n",
    "        if include_labels:\n",
    "            labels = torch.tensor(batch['target'])  \n",
    "        else:\n",
    "            labels = torch.tensor(batch['id'], dtype=torch.int32)\n",
    "            \n",
    "    \n",
    "        with torch.no_grad():\n",
    "            cls_logits = model(input_ids=batch[\"input_ids\"],\n",
    "                              token_type_ids=batch[\"token_type_ids\"],\n",
    "                              attention_mask=batch[\"attention_mask\"]).pooler_output\n",
    "        \n",
    "        logits = torch.cat((cls_logits, batch['keyword']), dim=1).cpu()\n",
    "        X = torch.cat([X, logits], dim=0)\n",
    "        y = torch.cat([y, labels], dim=0)\n",
    "        \n",
    "        \n",
    "    return X, y\n",
    "\n",
    "X, y = get_tensor(bertweet, eval_train_dataloader)\n",
    "print(X.shape)\n",
    "print(y.shape)\n",
    "\n",
    "train_X, train_y = get_tensor(bertweet, train_dataloader)\n",
    "print(\"\\n\", train_X.shape)\n",
    "print(train_y.shape)\n",
    "\n",
    "eval_X, eval_y = get_tensor(bertweet, eval_dataloader)\n",
    "print(\"\\n\", eval_X.shape)\n",
    "print(eval_y.shape)\n",
    "\n",
    "test_X, y_id = get_tensor(bertweet, test_dataloader, include_labels=False)\n",
    "print(\"\\n\", test_X.shape)\n",
    "print(y_id.shape)"
   ]
  },
  {
   "cell_type": "code",
   "execution_count": 313,
   "id": "66221e3b",
   "metadata": {},
   "outputs": [
    {
     "data": {
      "text/plain": [
       "RobertaPooler(\n",
       "  (dense): Linear(in_features=768, out_features=768, bias=True)\n",
       "  (activation): Tanh()\n",
       ")"
      ]
     },
     "execution_count": 313,
     "metadata": {},
     "output_type": "execute_result"
    }
   ],
   "source": [
    "bertweet.pooler"
   ]
  },
  {
   "cell_type": "code",
   "execution_count": 312,
   "id": "521fef28",
   "metadata": {},
   "outputs": [
    {
     "data": {
      "text/plain": [
       "RobertaLMHead(\n",
       "  (dense): Linear(in_features=768, out_features=768, bias=True)\n",
       "  (layer_norm): LayerNorm((768,), eps=1e-05, elementwise_affine=True)\n",
       "  (decoder): Linear(in_features=768, out_features=64001, bias=True)\n",
       ")"
      ]
     },
     "execution_count": 312,
     "metadata": {},
     "output_type": "execute_result"
    }
   ],
   "source": [
    ".pooler"
   ]
  },
  {
   "cell_type": "markdown",
   "id": "5fc94b83",
   "metadata": {},
   "source": [
    "### Logitsic Regression"
   ]
  },
  {
   "cell_type": "code",
   "execution_count": 300,
   "id": "88809094",
   "metadata": {},
   "outputs": [
    {
     "name": "stdout",
     "output_type": "stream",
     "text": [
      "cross vall acc: 0.78, 0.01\n"
     ]
    }
   ],
   "source": [
    "log_reg = LogisticRegression(max_iter=1000)\n",
    "\n",
    "acc_mean, acc_std = eval_train(log_reg, X, y)\n",
    "results_accuracy.loc['LR', 'No composition'] = acc_mean\n",
    "print(\"cross vall acc:\", f\"{acc_mean:.2f}, {acc_std:.2f}\")  \n",
    "\n",
    "log_reg.fit(X, y)\n",
    "\n",
    "pred_test = log_reg.predict(test_X)\n",
    "df = generate_csv(pred_test, y_id, name=\"submission11.csv\")\n",
    "\n",
    "# Kaggle Score ---> 0.81581"
   ]
  },
  {
   "cell_type": "markdown",
   "id": "ec01d0c2",
   "metadata": {},
   "source": [
    "### Decision Tree"
   ]
  },
  {
   "cell_type": "code",
   "execution_count": 301,
   "id": "dea42e99",
   "metadata": {},
   "outputs": [
    {
     "name": "stdout",
     "output_type": "stream",
     "text": [
      "cross vall acc: 0.67, 0.02\n"
     ]
    }
   ],
   "source": [
    "dec_tree = DecisionTreeClassifier()\n",
    "\n",
    "acc_mean, acc_std = eval_classifier(dec_tree, X, y)  \n",
    "\n",
    "results_accuracy.loc['DTC', 'No composition'] = acc_mean\n",
    "print(\"cross vall acc:\", f\"{acc_mean:.2f}, {acc_std:.2f}\")\n",
    "\n",
    "dec_tree.fit(X, y)\n",
    "\n",
    "pred_test = log_reg.predict(test_X)\n",
    "df = generate_csv(pred_test, y_id, name=\"submission12.csv\")"
   ]
  },
  {
   "cell_type": "markdown",
   "id": "a8d9090f",
   "metadata": {},
   "source": [
    "### Decision Tree Modifed"
   ]
  },
  {
   "cell_type": "code",
   "execution_count": 302,
   "id": "cd5ec532",
   "metadata": {},
   "outputs": [
    {
     "name": "stdout",
     "output_type": "stream",
     "text": [
      "cross vall acc: 0.66, 0.02\n"
     ]
    }
   ],
   "source": [
    "dec_tree_mf = DecisionTreeClassifier(max_depth=1)\n",
    "\n",
    "acc_mean, acc_std = eval_classifier(dec_tree_mf, X, y)\n",
    "\n",
    "results_accuracy.loc['DTC-1', 'No composition'] = acc_mean\n",
    "print(\"cross vall acc:\", f\"{acc_mean:.2f}, {acc_std:.2f}\")\n",
    "\n",
    "dec_tree_mf.fit(X, y)\n",
    "\n",
    "pred_test = dec_tree_mf.predict(test_X)\n",
    "df = generate_csv(pred_test, y_id, name=\"submission13.csv\")"
   ]
  },
  {
   "cell_type": "markdown",
   "id": "79890eee",
   "metadata": {},
   "source": [
    "### SVM"
   ]
  },
  {
   "cell_type": "code",
   "execution_count": 303,
   "id": "97a3048e",
   "metadata": {},
   "outputs": [
    {
     "name": "stdout",
     "output_type": "stream",
     "text": [
      "cross vall acc: 0.80, 0.01\n"
     ]
    }
   ],
   "source": [
    "# *\n",
    "svm = SVC(probability=True)\n",
    "\n",
    "acc_mean, acc_std = eval_classifier(svm, X, y)\n",
    "\n",
    "results_accuracy.loc['SVC', 'No composition'] = acc_mean\n",
    "print(\"cross vall acc:\", f\"{acc_mean:.2f}, {acc_std:.2f}\")\n",
    "\n",
    "svm.fit(X, y)\n",
    "\n",
    "pred_test = svm.predict(test_X)\n",
    "df = generate_csv(pred_test, y_id, name=\"submission14.csv\")\n",
    "\n",
    "# Kaggle Score ---> "
   ]
  },
  {
   "cell_type": "code",
   "execution_count": 276,
   "id": "82f0eae8",
   "metadata": {},
   "outputs": [
    {
     "data": {
      "text/html": [
       "<div>\n",
       "<style scoped>\n",
       "    .dataframe tbody tr th:only-of-type {\n",
       "        vertical-align: middle;\n",
       "    }\n",
       "\n",
       "    .dataframe tbody tr th {\n",
       "        vertical-align: top;\n",
       "    }\n",
       "\n",
       "    .dataframe thead th {\n",
       "        text-align: right;\n",
       "    }\n",
       "</style>\n",
       "<table border=\"1\" class=\"dataframe\">\n",
       "  <thead>\n",
       "    <tr style=\"text-align: right;\">\n",
       "      <th></th>\n",
       "      <th>No composition</th>\n",
       "      <th>Dummy</th>\n",
       "      <th>Bagging</th>\n",
       "      <th>Bagging_mf</th>\n",
       "      <th>AdaBoost</th>\n",
       "    </tr>\n",
       "  </thead>\n",
       "  <tbody>\n",
       "    <tr>\n",
       "      <th>DTC</th>\n",
       "      <td>0.664737</td>\n",
       "      <td>0.000000</td>\n",
       "      <td>0.000000</td>\n",
       "      <td>0.0</td>\n",
       "      <td>0.0</td>\n",
       "    </tr>\n",
       "    <tr>\n",
       "      <th>DTC-1</th>\n",
       "      <td>0.700469</td>\n",
       "      <td>0.000000</td>\n",
       "      <td>0.000000</td>\n",
       "      <td>0.0</td>\n",
       "      <td>0.0</td>\n",
       "    </tr>\n",
       "    <tr>\n",
       "      <th>LR</th>\n",
       "      <td>0.779796</td>\n",
       "      <td>0.814856</td>\n",
       "      <td>0.813284</td>\n",
       "      <td>0.0</td>\n",
       "      <td>0.0</td>\n",
       "    </tr>\n",
       "    <tr>\n",
       "      <th>SVC</th>\n",
       "      <td>0.804982</td>\n",
       "      <td>0.000000</td>\n",
       "      <td>0.000000</td>\n",
       "      <td>0.0</td>\n",
       "      <td>0.0</td>\n",
       "    </tr>\n",
       "  </tbody>\n",
       "</table>\n",
       "</div>"
      ],
      "text/plain": [
       "       No composition     Dummy   Bagging  Bagging_mf  AdaBoost\n",
       "DTC          0.664737  0.000000  0.000000         0.0       0.0\n",
       "DTC-1        0.700469  0.000000  0.000000         0.0       0.0\n",
       "LR           0.779796  0.814856  0.813284         0.0       0.0\n",
       "SVC          0.804982  0.000000  0.000000         0.0       0.0"
      ]
     },
     "execution_count": 276,
     "metadata": {},
     "output_type": "execute_result"
    }
   ],
   "source": [
    "results_accuracy"
   ]
  },
  {
   "cell_type": "markdown",
   "id": "64cbdd5d",
   "metadata": {},
   "source": [
    "# Ensamble Model"
   ]
  },
  {
   "cell_type": "code",
   "execution_count": 246,
   "id": "f66ffd84",
   "metadata": {},
   "outputs": [],
   "source": [
    "from sklearn import base\n",
    "\n",
    "class DummyEnsemble(object):\n",
    "    def __init__(self, base_estimator, n_estimators=10):\n",
    "        self.n_estimators = n_estimators\n",
    "        self.base_estimator = base_estimator            \n",
    "        self._bs = [base.clone(self.base_estimator) for _ in range(self.n_estimators)]\n",
    "        \n",
    "    def get_params(self, deep=True):\n",
    "        return {'n_estimators': self.n_estimators, \n",
    "                'base_estimator': self.base_estimator}\n",
    "        \n",
    "    def fit(self, X, Y):\n",
    "        for b in self._bs:\n",
    "            b.fit(X, Y)\n",
    "            \n",
    "    def predict(self, X):\n",
    "        probas = self.predict_proba(X)\n",
    "        return np.argmax(probas, axis=1)\n",
    "    \n",
    "    def predict_proba(self, X):\n",
    "        return np.mean([b.predict_proba(X) for b in self._bs], axis=0)"
   ]
  },
  {
   "cell_type": "markdown",
   "id": "3ca389ff",
   "metadata": {},
   "source": [
    "### Logistic Regression"
   ]
  },
  {
   "cell_type": "code",
   "execution_count": 291,
   "id": "23dc43bd",
   "metadata": {},
   "outputs": [
    {
     "name": "stdout",
     "output_type": "stream",
     "text": [
      "0.82, 0.01\n"
     ]
    },
    {
     "data": {
      "text/html": [
       "<div>\n",
       "<style scoped>\n",
       "    .dataframe tbody tr th:only-of-type {\n",
       "        vertical-align: middle;\n",
       "    }\n",
       "\n",
       "    .dataframe tbody tr th {\n",
       "        vertical-align: top;\n",
       "    }\n",
       "\n",
       "    .dataframe thead th {\n",
       "        text-align: right;\n",
       "    }\n",
       "</style>\n",
       "<table border=\"1\" class=\"dataframe\">\n",
       "  <thead>\n",
       "    <tr style=\"text-align: right;\">\n",
       "      <th></th>\n",
       "      <th>id</th>\n",
       "      <th>target</th>\n",
       "    </tr>\n",
       "  </thead>\n",
       "  <tbody>\n",
       "    <tr>\n",
       "      <th>0</th>\n",
       "      <td>0</td>\n",
       "      <td>1</td>\n",
       "    </tr>\n",
       "    <tr>\n",
       "      <th>1</th>\n",
       "      <td>2</td>\n",
       "      <td>1</td>\n",
       "    </tr>\n",
       "    <tr>\n",
       "      <th>2</th>\n",
       "      <td>3</td>\n",
       "      <td>1</td>\n",
       "    </tr>\n",
       "    <tr>\n",
       "      <th>3</th>\n",
       "      <td>9</td>\n",
       "      <td>1</td>\n",
       "    </tr>\n",
       "    <tr>\n",
       "      <th>4</th>\n",
       "      <td>11</td>\n",
       "      <td>1</td>\n",
       "    </tr>\n",
       "    <tr>\n",
       "      <th>...</th>\n",
       "      <td>...</td>\n",
       "      <td>...</td>\n",
       "    </tr>\n",
       "    <tr>\n",
       "      <th>3258</th>\n",
       "      <td>10861</td>\n",
       "      <td>1</td>\n",
       "    </tr>\n",
       "    <tr>\n",
       "      <th>3259</th>\n",
       "      <td>10865</td>\n",
       "      <td>1</td>\n",
       "    </tr>\n",
       "    <tr>\n",
       "      <th>3260</th>\n",
       "      <td>10868</td>\n",
       "      <td>1</td>\n",
       "    </tr>\n",
       "    <tr>\n",
       "      <th>3261</th>\n",
       "      <td>10874</td>\n",
       "      <td>1</td>\n",
       "    </tr>\n",
       "    <tr>\n",
       "      <th>3262</th>\n",
       "      <td>10875</td>\n",
       "      <td>1</td>\n",
       "    </tr>\n",
       "  </tbody>\n",
       "</table>\n",
       "<p>3263 rows × 2 columns</p>\n",
       "</div>"
      ],
      "text/plain": [
       "         id target\n",
       "0         0      1\n",
       "1         2      1\n",
       "2         3      1\n",
       "3         9      1\n",
       "4        11      1\n",
       "...     ...    ...\n",
       "3258  10861      1\n",
       "3259  10865      1\n",
       "3260  10868      1\n",
       "3261  10874      1\n",
       "3262  10875      1\n",
       "\n",
       "[3263 rows x 2 columns]"
      ]
     },
     "execution_count": 291,
     "metadata": {},
     "output_type": "execute_result"
    }
   ],
   "source": [
    "log_reg_ensamble = DummyEnsemble(LogisticRegression(max_iter=1000))\n",
    "\n",
    "acc_mean, acc_std = eval_classifier(log_reg_ensamble, X, y)\n",
    "\n",
    "results_accuracy.loc['LR', 'Dummy'] = acc_mean\n",
    "print(f\"{acc_mean:.2f}, {acc_std:.2f}\")\n",
    "\n",
    "log_reg_ensamble.fit(X, y)\n",
    "\n",
    "pred_test = log_reg_ensamble.predict(test_X)\n",
    "generate_csv(pred_test, y_id, name=\"submission2.csv\")\n",
    "\n",
    "# Kaggle Score ---> 0.81428"
   ]
  },
  {
   "cell_type": "markdown",
   "id": "68d283f0",
   "metadata": {},
   "source": [
    "### SVM"
   ]
  },
  {
   "cell_type": "code",
   "execution_count": 295,
   "id": "eb1c5960",
   "metadata": {},
   "outputs": [
    {
     "name": "stdout",
     "output_type": "stream",
     "text": [
      "0.80, 0.01\n"
     ]
    },
    {
     "data": {
      "text/html": [
       "<div>\n",
       "<style scoped>\n",
       "    .dataframe tbody tr th:only-of-type {\n",
       "        vertical-align: middle;\n",
       "    }\n",
       "\n",
       "    .dataframe tbody tr th {\n",
       "        vertical-align: top;\n",
       "    }\n",
       "\n",
       "    .dataframe thead th {\n",
       "        text-align: right;\n",
       "    }\n",
       "</style>\n",
       "<table border=\"1\" class=\"dataframe\">\n",
       "  <thead>\n",
       "    <tr style=\"text-align: right;\">\n",
       "      <th></th>\n",
       "      <th>id</th>\n",
       "      <th>target</th>\n",
       "    </tr>\n",
       "  </thead>\n",
       "  <tbody>\n",
       "    <tr>\n",
       "      <th>0</th>\n",
       "      <td>0</td>\n",
       "      <td>1</td>\n",
       "    </tr>\n",
       "    <tr>\n",
       "      <th>1</th>\n",
       "      <td>2</td>\n",
       "      <td>1</td>\n",
       "    </tr>\n",
       "    <tr>\n",
       "      <th>2</th>\n",
       "      <td>3</td>\n",
       "      <td>1</td>\n",
       "    </tr>\n",
       "    <tr>\n",
       "      <th>3</th>\n",
       "      <td>9</td>\n",
       "      <td>1</td>\n",
       "    </tr>\n",
       "    <tr>\n",
       "      <th>4</th>\n",
       "      <td>11</td>\n",
       "      <td>1</td>\n",
       "    </tr>\n",
       "    <tr>\n",
       "      <th>...</th>\n",
       "      <td>...</td>\n",
       "      <td>...</td>\n",
       "    </tr>\n",
       "    <tr>\n",
       "      <th>3258</th>\n",
       "      <td>10861</td>\n",
       "      <td>1</td>\n",
       "    </tr>\n",
       "    <tr>\n",
       "      <th>3259</th>\n",
       "      <td>10865</td>\n",
       "      <td>1</td>\n",
       "    </tr>\n",
       "    <tr>\n",
       "      <th>3260</th>\n",
       "      <td>10868</td>\n",
       "      <td>1</td>\n",
       "    </tr>\n",
       "    <tr>\n",
       "      <th>3261</th>\n",
       "      <td>10874</td>\n",
       "      <td>1</td>\n",
       "    </tr>\n",
       "    <tr>\n",
       "      <th>3262</th>\n",
       "      <td>10875</td>\n",
       "      <td>1</td>\n",
       "    </tr>\n",
       "  </tbody>\n",
       "</table>\n",
       "<p>3263 rows × 2 columns</p>\n",
       "</div>"
      ],
      "text/plain": [
       "         id target\n",
       "0         0      1\n",
       "1         2      1\n",
       "2         3      1\n",
       "3         9      1\n",
       "4        11      1\n",
       "...     ...    ...\n",
       "3258  10861      1\n",
       "3259  10865      1\n",
       "3260  10868      1\n",
       "3261  10874      1\n",
       "3262  10875      1\n",
       "\n",
       "[3263 rows x 2 columns]"
      ]
     },
     "execution_count": 295,
     "metadata": {},
     "output_type": "execute_result"
    }
   ],
   "source": [
    "# *\n",
    "svm_ensamble = DummyEnsemble(SVC(probability=True))\n",
    "\n",
    "acc_mean, acc_std = eval_classifier(svm_ensamble, X, y)\n",
    "\n",
    "results_accuracy.loc['SVC', 'Dummy'] = acc_mean\n",
    "print(f\"{acc_mean:.2f}, {acc_std:.2f}\")\n",
    "\n",
    "svm_ensamble.fit(X, y)\n",
    "\n",
    "pred_test = svm_ensamble.predict(test_X)\n",
    "generate_csv(pred_test, y_id, name=\"submission21.csv\")\n",
    "\n",
    "# Kaggle Score ---> "
   ]
  },
  {
   "cell_type": "markdown",
   "id": "d8a79cf5",
   "metadata": {},
   "source": [
    "### Decison Tree"
   ]
  },
  {
   "cell_type": "code",
   "execution_count": 296,
   "id": "5588c9dc",
   "metadata": {},
   "outputs": [
    {
     "name": "stdout",
     "output_type": "stream",
     "text": [
      "0.68, 0.02\n"
     ]
    }
   ],
   "source": [
    "# *\n",
    "dec_tree = DummyEnsemble(DecisionTreeClassifier(), n_estimators=10)\n",
    "\n",
    "acc_mean, acc_std = eval_classifier(dec_tree, X, y)\n",
    "\n",
    "results_accuracy.loc['DTC', 'Dummy'] = acc_mean\n",
    "print(f\"{acc_mean:.2f}, {acc_std:.2f}\")\n",
    "\n",
    "dec_tree.fit(X, y)\n",
    "\n",
    "pred_test = dec_tree.predict(test_X)\n",
    "df = generate_csv(pred_test, y_id, name=\"submission22.csv\")\n",
    "\n",
    "# Kaggle Score ---> "
   ]
  },
  {
   "cell_type": "markdown",
   "id": "db79655f",
   "metadata": {},
   "source": [
    "### Decision Tree 1"
   ]
  },
  {
   "cell_type": "code",
   "execution_count": 297,
   "id": "4bc7b442",
   "metadata": {},
   "outputs": [
    {
     "name": "stdout",
     "output_type": "stream",
     "text": [
      "0.66, 0.02\n"
     ]
    }
   ],
   "source": [
    "# *\n",
    "dec_tree_ensamble = DummyEnsemble(DecisionTreeClassifier(max_depth=1))\n",
    "\n",
    "acc_mean, acc_std = eval_classifier(dec_tree_ensamble, X, y)\n",
    "\n",
    "results_accuracy.loc['DTC-1', 'Dummy'] = acc_mean\n",
    "print(f\"{acc_mean:.2f}, {acc_std:.2f}\")\n",
    "\n",
    "dec_tree_ensamble.fit(X, y)\n",
    "\n",
    "pred_test = dec_tree_ensamble.predict(test_X)\n",
    "df = generate_csv(pred_test, y_id, name=\"submission23.csv\")\n",
    "\n",
    "# Kaggle Score ---> "
   ]
  },
  {
   "cell_type": "markdown",
   "id": "bb9b0c02",
   "metadata": {},
   "source": [
    "# Bagging"
   ]
  },
  {
   "cell_type": "markdown",
   "id": "dbd0329b",
   "metadata": {},
   "source": [
    "### Bagging Logistic Regression"
   ]
  },
  {
   "cell_type": "code",
   "execution_count": 290,
   "id": "9d40c074",
   "metadata": {},
   "outputs": [
    {
     "name": "stdout",
     "output_type": "stream",
     "text": [
      "cross vall acc: 0.82, 0.01\n"
     ]
    },
    {
     "data": {
      "text/html": [
       "<div>\n",
       "<style scoped>\n",
       "    .dataframe tbody tr th:only-of-type {\n",
       "        vertical-align: middle;\n",
       "    }\n",
       "\n",
       "    .dataframe tbody tr th {\n",
       "        vertical-align: top;\n",
       "    }\n",
       "\n",
       "    .dataframe thead th {\n",
       "        text-align: right;\n",
       "    }\n",
       "</style>\n",
       "<table border=\"1\" class=\"dataframe\">\n",
       "  <thead>\n",
       "    <tr style=\"text-align: right;\">\n",
       "      <th></th>\n",
       "      <th>id</th>\n",
       "      <th>target</th>\n",
       "    </tr>\n",
       "  </thead>\n",
       "  <tbody>\n",
       "    <tr>\n",
       "      <th>0</th>\n",
       "      <td>0</td>\n",
       "      <td>1</td>\n",
       "    </tr>\n",
       "    <tr>\n",
       "      <th>1</th>\n",
       "      <td>2</td>\n",
       "      <td>1</td>\n",
       "    </tr>\n",
       "    <tr>\n",
       "      <th>2</th>\n",
       "      <td>3</td>\n",
       "      <td>1</td>\n",
       "    </tr>\n",
       "    <tr>\n",
       "      <th>3</th>\n",
       "      <td>9</td>\n",
       "      <td>1</td>\n",
       "    </tr>\n",
       "    <tr>\n",
       "      <th>4</th>\n",
       "      <td>11</td>\n",
       "      <td>1</td>\n",
       "    </tr>\n",
       "    <tr>\n",
       "      <th>...</th>\n",
       "      <td>...</td>\n",
       "      <td>...</td>\n",
       "    </tr>\n",
       "    <tr>\n",
       "      <th>3258</th>\n",
       "      <td>10861</td>\n",
       "      <td>1</td>\n",
       "    </tr>\n",
       "    <tr>\n",
       "      <th>3259</th>\n",
       "      <td>10865</td>\n",
       "      <td>1</td>\n",
       "    </tr>\n",
       "    <tr>\n",
       "      <th>3260</th>\n",
       "      <td>10868</td>\n",
       "      <td>1</td>\n",
       "    </tr>\n",
       "    <tr>\n",
       "      <th>3261</th>\n",
       "      <td>10874</td>\n",
       "      <td>1</td>\n",
       "    </tr>\n",
       "    <tr>\n",
       "      <th>3262</th>\n",
       "      <td>10875</td>\n",
       "      <td>1</td>\n",
       "    </tr>\n",
       "  </tbody>\n",
       "</table>\n",
       "<p>3263 rows × 2 columns</p>\n",
       "</div>"
      ],
      "text/plain": [
       "         id target\n",
       "0         0      1\n",
       "1         2      1\n",
       "2         3      1\n",
       "3         9      1\n",
       "4        11      1\n",
       "...     ...    ...\n",
       "3258  10861      1\n",
       "3259  10865      1\n",
       "3260  10868      1\n",
       "3261  10874      1\n",
       "3262  10875      1\n",
       "\n",
       "[3263 rows x 2 columns]"
      ]
     },
     "execution_count": 290,
     "metadata": {},
     "output_type": "execute_result"
    }
   ],
   "source": [
    "from sklearn.ensemble import BaggingClassifier\n",
    "\n",
    "bag_log_reg = BaggingClassifier(LogisticRegression(max_iter=1000), n_estimators=10, max_samples=1.0, \n",
    "                      max_features=1.0, bootstrap=True, bootstrap_features=False)\n",
    "\n",
    "acc_mean, acc_std = eval_classifier(bag_log_reg, X, y)\n",
    "\n",
    "results_accuracy.loc['LR', 'Bagging'] = acc_mean\n",
    "print(\"cross vall acc:\", f\"{acc_mean:.2f}, {acc_std:.2f}\")\n",
    "\n",
    "bag_log_reg.fit(X, y)\n",
    "\n",
    "pred_test = bag_log_reg.predict(test_X)\n",
    "generate_csv(pred_test, y_id, name=\"submission1.csv\")\n",
    "\n",
    "# Kaggle Score ---> 0.81458"
   ]
  },
  {
   "cell_type": "markdown",
   "id": "ce84572f",
   "metadata": {},
   "source": [
    "### Modified Bagging Logistic Regression"
   ]
  },
  {
   "cell_type": "code",
   "execution_count": 314,
   "id": "0a1cd25a",
   "metadata": {},
   "outputs": [
    {
     "name": "stdout",
     "output_type": "stream",
     "text": [
      "cross vall acc: 0.82, 0.01\n",
      "\n"
     ]
    }
   ],
   "source": [
    "bag_log_reg_mf = BaggingClassifier(LogisticRegression(max_iter=1000), n_estimators=10, max_samples=1.0, \n",
    "                      max_features=0.8, bootstrap=True, bootstrap_features=False)\n",
    "\n",
    "acc_mean, acc_std = eval_classifier(bag_log_reg_mf, X, y)\n",
    "\n",
    "results_accuracy.loc['LR', 'Bagging_mf'] = acc_mean\n",
    "print(\"cross vall acc:\", f\"{acc_mean:.2f}, {acc_std:.2f}\")\n",
    "\n",
    "bag_log_reg_mf.fit(X, y)\n",
    "\n",
    "pred_test = bag_log_reg_mf.predict(test_X)\n",
    "generate_csv(pred_test, y_id, name=\"submission5.csv\")\n",
    "print()\n",
    "\n",
    "# Kaggle Score ---> 0.81366"
   ]
  },
  {
   "cell_type": "markdown",
   "id": "599abf7c",
   "metadata": {},
   "source": [
    "### Bagging SVM"
   ]
  },
  {
   "cell_type": "code",
   "execution_count": 285,
   "id": "13496d17",
   "metadata": {},
   "outputs": [
    {
     "name": "stdout",
     "output_type": "stream",
     "text": [
      "[1. 1. 1. ... 1. 1. 1.]\n",
      "\n",
      "train:  0.8012542209358418\n",
      "eval:  0.780561122244489\n",
      "\n",
      "cross vall acc: 0.804, 0.013\n"
     ]
    }
   ],
   "source": [
    "bag_svm = BaggingClassifier(SVC(probability=True))\n",
    "\n",
    "acc_mean, acc_std = eval_classifier(bag_svm, X, y)\n",
    "\n",
    "results_accuracy.loc['SVC', 'Bagging'] = acc_mean\n",
    "print(\"\\ncross vall acc:\", f\"{acc_mean:.3f}, {acc_std:.3f}\")\n",
    "\n",
    "bag_svm.fit(X, y)\n",
    "\n",
    "pred_test = bag_svm.predict(test_X)\n",
    "generate_csv(pred_test, y_id, name=\"submission5.csv\")\n",
    "print()\n",
    "\n",
    "# Kaggle Score ---> 0.79650"
   ]
  },
  {
   "cell_type": "markdown",
   "id": "0f93b35e",
   "metadata": {},
   "source": [
    "### Bagging Decision Tree"
   ]
  },
  {
   "cell_type": "code",
   "execution_count": 298,
   "id": "c4acc7ac",
   "metadata": {},
   "outputs": [
    {
     "name": "stdout",
     "output_type": "stream",
     "text": [
      "0.74, 0.01\n"
     ]
    }
   ],
   "source": [
    "# *\n",
    "bagging_dec_tree = BaggingClassifier(DecisionTreeClassifier(), n_estimators=10, max_samples=1.0, \n",
    "                      max_features=1.0, bootstrap=True, bootstrap_features=False)\n",
    "\n",
    "acc_mean, acc_std = eval_classifier(bagging_dec_tree, X, y)\n",
    "\n",
    "results_accuracy.loc['DTC', 'Bagging'] = acc_mean\n",
    "print(f\"{acc_mean:.2f}, {acc_std:.2f}\")\n",
    "\n",
    "bagging_dec_tree.fit(X, y)\n",
    "\n",
    "pred_test = bagging_dec_tree.predict(test_X)\n",
    "df = generate_csv(pred_test, y_id, name=\"submission31.csv\")\n",
    "\n",
    "# Kaggle Score ---> "
   ]
  },
  {
   "cell_type": "markdown",
   "id": "348e819e",
   "metadata": {},
   "source": [
    "### Modified Bagging Decision Tree"
   ]
  },
  {
   "cell_type": "code",
   "execution_count": 304,
   "id": "94693de2",
   "metadata": {},
   "outputs": [
    {
     "name": "stdout",
     "output_type": "stream",
     "text": [
      "0.75, 0.01\n"
     ]
    }
   ],
   "source": [
    "# *\n",
    "mf_bagging_dec_tree =BaggingClassifier(DecisionTreeClassifier(), n_estimators=10, max_samples=1.0, \n",
    "                      max_features=0.8, bootstrap=True, bootstrap_features=False)\n",
    "\n",
    "acc_mean, acc_std = eval_classifier(mf_bagging_dec_tree, X, y)\n",
    "\n",
    "results_accuracy.loc['DTC', 'Bagging_mf'] = acc_mean\n",
    "print(f\"{acc_mean:.2f}, {acc_std:.2f}\")\n",
    "\n",
    "mf_bagging_dec_tree.fit(X, y)\n",
    "\n",
    "pred_test = mf_bagging_dec_tree.predict(test_X)\n",
    "df = generate_csv(pred_test, y_id, name=\"submission32.csv\")"
   ]
  },
  {
   "cell_type": "code",
   "execution_count": 309,
   "id": "d7054392",
   "metadata": {},
   "outputs": [
    {
     "data": {
      "text/html": [
       "<div>\n",
       "<style scoped>\n",
       "    .dataframe tbody tr th:only-of-type {\n",
       "        vertical-align: middle;\n",
       "    }\n",
       "\n",
       "    .dataframe tbody tr th {\n",
       "        vertical-align: top;\n",
       "    }\n",
       "\n",
       "    .dataframe thead th {\n",
       "        text-align: right;\n",
       "    }\n",
       "</style>\n",
       "<table border=\"1\" class=\"dataframe\">\n",
       "  <thead>\n",
       "    <tr style=\"text-align: right;\">\n",
       "      <th></th>\n",
       "      <th>No composition</th>\n",
       "      <th>Dummy</th>\n",
       "      <th>Bagging</th>\n",
       "      <th>Bagging_mf</th>\n",
       "      <th>AdaBoost</th>\n",
       "    </tr>\n",
       "  </thead>\n",
       "  <tbody>\n",
       "    <tr>\n",
       "      <th>DTC</th>\n",
       "      <td>0.669598</td>\n",
       "      <td>0.676605</td>\n",
       "      <td>0.743202</td>\n",
       "      <td>0.747231</td>\n",
       "      <td>0.0</td>\n",
       "    </tr>\n",
       "    <tr>\n",
       "      <th>DTC-1</th>\n",
       "      <td>0.657428</td>\n",
       "      <td>0.657428</td>\n",
       "      <td>0.000000</td>\n",
       "      <td>0.000000</td>\n",
       "      <td>0.0</td>\n",
       "    </tr>\n",
       "    <tr>\n",
       "      <th>LR</th>\n",
       "      <td>0.779796</td>\n",
       "      <td>0.822278</td>\n",
       "      <td>0.823109</td>\n",
       "      <td>0.000000</td>\n",
       "      <td>0.0</td>\n",
       "    </tr>\n",
       "    <tr>\n",
       "      <th>SVC</th>\n",
       "      <td>0.804982</td>\n",
       "      <td>0.802311</td>\n",
       "      <td>0.804062</td>\n",
       "      <td>0.000000</td>\n",
       "      <td>0.0</td>\n",
       "    </tr>\n",
       "  </tbody>\n",
       "</table>\n",
       "</div>"
      ],
      "text/plain": [
       "       No composition     Dummy   Bagging  Bagging_mf  AdaBoost\n",
       "DTC          0.669598  0.676605  0.743202    0.747231       0.0\n",
       "DTC-1        0.657428  0.657428  0.000000    0.000000       0.0\n",
       "LR           0.779796  0.822278  0.823109    0.000000       0.0\n",
       "SVC          0.804982  0.802311  0.804062    0.000000       0.0"
      ]
     },
     "execution_count": 309,
     "metadata": {},
     "output_type": "execute_result"
    }
   ],
   "source": [
    "results_accuracy"
   ]
  },
  {
   "cell_type": "code",
   "execution_count": 308,
   "id": "d9ba67fc",
   "metadata": {},
   "outputs": [],
   "source": []
  },
  {
   "cell_type": "code",
   "execution_count": null,
   "id": "51f52572",
   "metadata": {},
   "outputs": [],
   "source": []
  }
 ],
 "metadata": {
  "kernelspec": {
   "display_name": "Python 3 (ipykernel)",
   "language": "python",
   "name": "python3"
  },
  "language_info": {
   "codemirror_mode": {
    "name": "ipython",
    "version": 3
   },
   "file_extension": ".py",
   "mimetype": "text/x-python",
   "name": "python",
   "nbconvert_exporter": "python",
   "pygments_lexer": "ipython3",
   "version": "3.7.6"
  }
 },
 "nbformat": 4,
 "nbformat_minor": 5
}
