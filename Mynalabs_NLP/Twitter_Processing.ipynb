{
 "cells": [
  {
   "cell_type": "markdown",
   "id": "15424ba9",
   "metadata": {},
   "source": [
    "### Operations\n",
    "- deleted hashtags ( not always good)\n",
    "- used tweet-preprocessor removes\n",
    "    - URLs   \n",
    "    - Hashtags\n",
    "    - Mentions\n",
    "    - Reserved words (RT, FAV)\n",
    "    - Emojis\n",
    "    - Smileys\n",
    "- removed numbers\n",
    "- converted to lower\n",
    "\n",
    "### Questions\n",
    "- should you fill in Abbreviations (btw, imho ..)\n",
    "- Should you use Lemmatization?\n",
    "- should you use Stop Words?\n"
   ]
  },
  {
   "cell_type": "code",
   "execution_count": 2,
   "id": "7e036815",
   "metadata": {},
   "outputs": [],
   "source": [
    "import typing as tp\n",
    "import numpy as np\n",
    "import pandas as pd\n",
    "import os\n",
    "\n",
    "from collections import defaultdict\n",
    "from tqdm import tqdm\n",
    "import torch.optim as optim\n",
    "import matplotlib.pyplot as plt\n",
    "\n",
    "import torch\n",
    "import torch.nn as nn\n",
    "import torch.nn.functional as F\n",
    "import re\n",
    "#device = 'cuda:0' if torch.cuda.is_available() else 'cpu'\n",
    "\n",
    "pd.options.display.max_colwidth = 150"
   ]
  },
  {
   "cell_type": "markdown",
   "id": "b3e705c7",
   "metadata": {},
   "source": [
    "## Load Data"
   ]
  },
  {
   "cell_type": "code",
   "execution_count": 3,
   "id": "9b4c7b8d",
   "metadata": {},
   "outputs": [
    {
     "data": {
      "text/html": [
       "<div>\n",
       "<style scoped>\n",
       "    .dataframe tbody tr th:only-of-type {\n",
       "        vertical-align: middle;\n",
       "    }\n",
       "\n",
       "    .dataframe tbody tr th {\n",
       "        vertical-align: top;\n",
       "    }\n",
       "\n",
       "    .dataframe thead th {\n",
       "        text-align: right;\n",
       "    }\n",
       "</style>\n",
       "<table border=\"1\" class=\"dataframe\">\n",
       "  <thead>\n",
       "    <tr style=\"text-align: right;\">\n",
       "      <th></th>\n",
       "      <th>row ID</th>\n",
       "      <th>Tweet</th>\n",
       "      <th>Time</th>\n",
       "      <th>Retweet from</th>\n",
       "      <th>User</th>\n",
       "    </tr>\n",
       "  </thead>\n",
       "  <tbody>\n",
       "    <tr>\n",
       "      <th>0</th>\n",
       "      <td>Row0</td>\n",
       "      <td>@MeltingIce Assuming max acceleration of 2 to 3 g's, but in a comfortable direction. Will feel like a mild to moder? https://t.co/fpjmEgrHfC</td>\n",
       "      <td>2017-09-29 17:39:19</td>\n",
       "      <td>NaN</td>\n",
       "      <td>elonmusk</td>\n",
       "    </tr>\n",
       "    <tr>\n",
       "      <th>1</th>\n",
       "      <td>Row1</td>\n",
       "      <td>RT @SpaceX: BFR is capable of transporting satellites to orbit, crew and cargo to the @Space_Station and completing missions to the Moon an?</td>\n",
       "      <td>2017-09-29 10:44:54</td>\n",
       "      <td>SpaceX</td>\n",
       "      <td>elonmusk</td>\n",
       "    </tr>\n",
       "    <tr>\n",
       "      <th>2</th>\n",
       "      <td>Row2</td>\n",
       "      <td>@bigajm Yup :)</td>\n",
       "      <td>2017-09-29 10:39:57</td>\n",
       "      <td>NaN</td>\n",
       "      <td>elonmusk</td>\n",
       "    </tr>\n",
       "    <tr>\n",
       "      <th>3</th>\n",
       "      <td>Row3</td>\n",
       "      <td>Part 2 https://t.co/8Fvu57muhM</td>\n",
       "      <td>2017-09-29 09:56:12</td>\n",
       "      <td>NaN</td>\n",
       "      <td>elonmusk</td>\n",
       "    </tr>\n",
       "    <tr>\n",
       "      <th>4</th>\n",
       "      <td>Row4</td>\n",
       "      <td>Fly to most places on Earth in under 30 mins and anywhere in under 60. Cost per seat should be? https://t.co/dGYDdGttYd</td>\n",
       "      <td>2017-09-29 09:19:21</td>\n",
       "      <td>NaN</td>\n",
       "      <td>elonmusk</td>\n",
       "    </tr>\n",
       "  </tbody>\n",
       "</table>\n",
       "</div>"
      ],
      "text/plain": [
       "  row ID  \\\n",
       "0   Row0   \n",
       "1   Row1   \n",
       "2   Row2   \n",
       "3   Row3   \n",
       "4   Row4   \n",
       "\n",
       "                                                                                                                                          Tweet  \\\n",
       "0  @MeltingIce Assuming max acceleration of 2 to 3 g's, but in a comfortable direction. Will feel like a mild to moder? https://t.co/fpjmEgrHfC   \n",
       "1  RT @SpaceX: BFR is capable of transporting satellites to orbit, crew and cargo to the @Space_Station and completing missions to the Moon an?   \n",
       "2                                                                                                                                @bigajm Yup :)   \n",
       "3                                                                                                                Part 2 https://t.co/8Fvu57muhM   \n",
       "4                       Fly to most places on Earth in under 30 mins and anywhere in under 60. Cost per seat should be? https://t.co/dGYDdGttYd   \n",
       "\n",
       "                  Time Retweet from      User  \n",
       "0  2017-09-29 17:39:19          NaN  elonmusk  \n",
       "1  2017-09-29 10:44:54       SpaceX  elonmusk  \n",
       "2  2017-09-29 10:39:57          NaN  elonmusk  \n",
       "3  2017-09-29 09:56:12          NaN  elonmusk  \n",
       "4  2017-09-29 09:19:21          NaN  elonmusk  "
      ]
     },
     "execution_count": 3,
     "metadata": {},
     "output_type": "execute_result"
    }
   ],
   "source": [
    "data = pd.read_csv('/home/iris/paulshab/Mynalabs_NLP/data/data_elonmusk.csv', encoding='windows-1252')\n",
    "df = data\n",
    "data.head()"
   ]
  },
  {
   "cell_type": "markdown",
   "id": "94377176",
   "metadata": {},
   "source": [
    "## Hashtag Extraction using Regex"
   ]
  },
  {
   "cell_type": "code",
   "execution_count": 141,
   "id": "d641bcd2",
   "metadata": {},
   "outputs": [
    {
     "data": {
      "text/plain": [
       "3218"
      ]
     },
     "execution_count": 141,
     "metadata": {},
     "output_type": "execute_result"
    }
   ],
   "source": [
    "df['hashtag'] = df['Tweet'].apply(lambda x: re.findall(r\"#(\\w+)\", x))\n",
    "len(data)"
   ]
  },
  {
   "cell_type": "code",
   "execution_count": 150,
   "id": "505e4214",
   "metadata": {},
   "outputs": [],
   "source": [
    "p.set_options(p.OPT.URL, p.OPT.EMOJI, p.OPT.HASHTAG, p.OPT.RESERVED, p.OPT.SMILEY, p.OPT.MENTION)"
   ]
  },
  {
   "cell_type": "code",
   "execution_count": 163,
   "id": "8a50bade",
   "metadata": {},
   "outputs": [
    {
     "name": "stdout",
     "output_type": "stream",
     "text": [
      "he had 5 children at in LA, tell me what this means.\n",
      "he had 5 children at in LA, $MENTION$ tell me what this means. $URL$\n",
      "None\n"
     ]
    }
   ],
   "source": [
    "kk = \" he had 5 children at #store in LA, @user123 tell me what this means. https://t.co/dGYDdGttYd \"\n",
    "print(p.clean(kk))\n",
    "l = p.tokenize(kk)\n",
    "print(l)\n",
    "\n",
    "parsed_tweet = p.parse(kk)\n",
    "print(parsed_tweet.hashtags)"
   ]
  },
  {
   "cell_type": "code",
   "execution_count": 178,
   "id": "117597c9",
   "metadata": {},
   "outputs": [],
   "source": [
    "df = df.drop(1)"
   ]
  },
  {
   "cell_type": "code",
   "execution_count": 179,
   "id": "fe9cf50c",
   "metadata": {},
   "outputs": [
    {
     "data": {
      "text/html": [
       "<div>\n",
       "<style scoped>\n",
       "    .dataframe tbody tr th:only-of-type {\n",
       "        vertical-align: middle;\n",
       "    }\n",
       "\n",
       "    .dataframe tbody tr th {\n",
       "        vertical-align: top;\n",
       "    }\n",
       "\n",
       "    .dataframe thead th {\n",
       "        text-align: right;\n",
       "    }\n",
       "</style>\n",
       "<table border=\"1\" class=\"dataframe\">\n",
       "  <thead>\n",
       "    <tr style=\"text-align: right;\">\n",
       "      <th></th>\n",
       "      <th>row ID</th>\n",
       "      <th>Tweet</th>\n",
       "      <th>Time</th>\n",
       "      <th>Retweet from</th>\n",
       "      <th>User</th>\n",
       "      <th>Cleaned_Tweet</th>\n",
       "    </tr>\n",
       "  </thead>\n",
       "  <tbody>\n",
       "    <tr>\n",
       "      <th>0</th>\n",
       "      <td>Row0</td>\n",
       "      <td>@MeltingIce Assuming max acceleration of 2 to 3 g's, but in a comfortable direction. Will feel like a mild to moder? https://t.co/fpjmEgrHfC</td>\n",
       "      <td>2017-09-29 17:39:19</td>\n",
       "      <td>NaN</td>\n",
       "      <td>elonmusk</td>\n",
       "      <td>Assuming max acceleration of to g's, but in a comfortable direction. Will feel like a mild to moder?</td>\n",
       "    </tr>\n",
       "    <tr>\n",
       "      <th>2</th>\n",
       "      <td>Row2</td>\n",
       "      <td>@bigajm Yup :)</td>\n",
       "      <td>2017-09-29 10:39:57</td>\n",
       "      <td>NaN</td>\n",
       "      <td>elonmusk</td>\n",
       "      <td>Yup</td>\n",
       "    </tr>\n",
       "    <tr>\n",
       "      <th>3</th>\n",
       "      <td>Row3</td>\n",
       "      <td>Part 2 https://t.co/8Fvu57muhM</td>\n",
       "      <td>2017-09-29 09:56:12</td>\n",
       "      <td>NaN</td>\n",
       "      <td>elonmusk</td>\n",
       "      <td>Part</td>\n",
       "    </tr>\n",
       "  </tbody>\n",
       "</table>\n",
       "</div>"
      ],
      "text/plain": [
       "  row ID  \\\n",
       "0   Row0   \n",
       "2   Row2   \n",
       "3   Row3   \n",
       "\n",
       "                                                                                                                                          Tweet  \\\n",
       "0  @MeltingIce Assuming max acceleration of 2 to 3 g's, but in a comfortable direction. Will feel like a mild to moder? https://t.co/fpjmEgrHfC   \n",
       "2                                                                                                                                @bigajm Yup :)   \n",
       "3                                                                                                                Part 2 https://t.co/8Fvu57muhM   \n",
       "\n",
       "                  Time Retweet from      User  \\\n",
       "0  2017-09-29 17:39:19          NaN  elonmusk   \n",
       "2  2017-09-29 10:39:57          NaN  elonmusk   \n",
       "3  2017-09-29 09:56:12          NaN  elonmusk   \n",
       "\n",
       "                                                                                          Cleaned_Tweet  \n",
       "0  Assuming max acceleration of to g's, but in a comfortable direction. Will feel like a mild to moder?  \n",
       "2                                                                                                   Yup  \n",
       "3                                                                                                  Part  "
      ]
     },
     "execution_count": 179,
     "metadata": {},
     "output_type": "execute_result"
    }
   ],
   "source": [
    "df.head(3)"
   ]
  },
  {
   "cell_type": "markdown",
   "id": "44d0aa55",
   "metadata": {},
   "source": [
    "## Tweet Processing Libaray"
   ]
  },
  {
   "cell_type": "code",
   "execution_count": null,
   "id": "a05a10cf",
   "metadata": {},
   "outputs": [],
   "source": [
    "# #installing tweet-preprocessor\n",
    "!pip install tweet-preprocessor"
   ]
  },
  {
   "cell_type": "code",
   "execution_count": 42,
   "id": "437d50cb",
   "metadata": {},
   "outputs": [
    {
     "name": "stdout",
     "output_type": "stream",
     "text": [
      "Reading twitter - 1grams ...\n",
      "Reading twitter - 2grams ...\n"
     ]
    }
   ],
   "source": [
    "from ekphrasis.classes.segmenter import Segmenter\n",
    "import preprocessor as p\n",
    "#segmenter using the word statistics from Twitter\n",
    "seg_tw = Segmenter(corpus=\"twitter\")"
   ]
  },
  {
   "cell_type": "code",
   "execution_count": 184,
   "id": "d58a497c",
   "metadata": {},
   "outputs": [
    {
     "data": {
      "text/plain": [
       "3218"
      ]
     },
     "execution_count": 184,
     "metadata": {},
     "output_type": "execute_result"
    }
   ],
   "source": [
    "len(df)"
   ]
  },
  {
   "cell_type": "code",
   "execution_count": 185,
   "id": "faf87aae",
   "metadata": {},
   "outputs": [
    {
     "data": {
      "text/plain": [
       "3116"
      ]
     },
     "execution_count": 185,
     "metadata": {},
     "output_type": "execute_result"
    }
   ],
   "source": [
    "#forming a separate feature for cleaned tweets\n",
    "p.set_options(p.OPT.URL, p.OPT.EMOJI, p.OPT.HASHTAG, p.OPT.RESERVED, p.OPT.SMILEY, p.OPT.MENTION)\n",
    "\n",
    "for i,v in enumerate(df['Tweet']):  # i --> num of tweet, v = tweet\n",
    "    parsed_tweet = p.parse(v)\n",
    "    if parsed_tweet.hashtags != None:\n",
    "        df = df.drop(i)\n",
    "    else:\n",
    "        df.loc[i,'Cleaned_Tweet'] = p.clean(v)\n",
    "\n",
    "len(df)"
   ]
  },
  {
   "cell_type": "code",
   "execution_count": 154,
   "id": "ed9002df",
   "metadata": {},
   "outputs": [
    {
     "data": {
      "text/html": [
       "<div>\n",
       "<style scoped>\n",
       "    .dataframe tbody tr th:only-of-type {\n",
       "        vertical-align: middle;\n",
       "    }\n",
       "\n",
       "    .dataframe tbody tr th {\n",
       "        vertical-align: top;\n",
       "    }\n",
       "\n",
       "    .dataframe thead th {\n",
       "        text-align: right;\n",
       "    }\n",
       "</style>\n",
       "<table border=\"1\" class=\"dataframe\">\n",
       "  <thead>\n",
       "    <tr style=\"text-align: right;\">\n",
       "      <th></th>\n",
       "      <th>row ID</th>\n",
       "      <th>Tweet</th>\n",
       "      <th>Time</th>\n",
       "      <th>Retweet from</th>\n",
       "      <th>User</th>\n",
       "      <th>Cleaned_Tweet</th>\n",
       "    </tr>\n",
       "  </thead>\n",
       "  <tbody>\n",
       "    <tr>\n",
       "      <th>0</th>\n",
       "      <td>Row0</td>\n",
       "      <td>@MeltingIce Assuming max acceleration of 2 to 3 g's, but in a comfortable direction. Will feel like a mild to moder? https://t.co/fpjmEgrHfC</td>\n",
       "      <td>2017-09-29 17:39:19</td>\n",
       "      <td>NaN</td>\n",
       "      <td>elonmusk</td>\n",
       "      <td>Assuming max acceleration of to g's, but in a comfortable direction. Will feel like a mild to moder?</td>\n",
       "    </tr>\n",
       "    <tr>\n",
       "      <th>1</th>\n",
       "      <td>Row1</td>\n",
       "      <td>RT @SpaceX: BFR is capable of transporting satellites to orbit, crew and cargo to the @Space_Station and completing missions to the Moon an?</td>\n",
       "      <td>2017-09-29 10:44:54</td>\n",
       "      <td>SpaceX</td>\n",
       "      <td>elonmusk</td>\n",
       "      <td>: BFR is capable of transporting satellites to orbit, crew and cargo to the and completing missions to the Moon an?</td>\n",
       "    </tr>\n",
       "    <tr>\n",
       "      <th>2</th>\n",
       "      <td>Row2</td>\n",
       "      <td>@bigajm Yup :)</td>\n",
       "      <td>2017-09-29 10:39:57</td>\n",
       "      <td>NaN</td>\n",
       "      <td>elonmusk</td>\n",
       "      <td>Yup</td>\n",
       "    </tr>\n",
       "    <tr>\n",
       "      <th>3</th>\n",
       "      <td>Row3</td>\n",
       "      <td>Part 2 https://t.co/8Fvu57muhM</td>\n",
       "      <td>2017-09-29 09:56:12</td>\n",
       "      <td>NaN</td>\n",
       "      <td>elonmusk</td>\n",
       "      <td>Part</td>\n",
       "    </tr>\n",
       "    <tr>\n",
       "      <th>4</th>\n",
       "      <td>Row4</td>\n",
       "      <td>Fly to most places on Earth in under 30 mins and anywhere in under 60. Cost per seat should be? https://t.co/dGYDdGttYd</td>\n",
       "      <td>2017-09-29 09:19:21</td>\n",
       "      <td>NaN</td>\n",
       "      <td>elonmusk</td>\n",
       "      <td>Fly to most places on Earth in under mins and anywhere in under . Cost per seat should be?</td>\n",
       "    </tr>\n",
       "  </tbody>\n",
       "</table>\n",
       "</div>"
      ],
      "text/plain": [
       "  row ID  \\\n",
       "0   Row0   \n",
       "1   Row1   \n",
       "2   Row2   \n",
       "3   Row3   \n",
       "4   Row4   \n",
       "\n",
       "                                                                                                                                          Tweet  \\\n",
       "0  @MeltingIce Assuming max acceleration of 2 to 3 g's, but in a comfortable direction. Will feel like a mild to moder? https://t.co/fpjmEgrHfC   \n",
       "1  RT @SpaceX: BFR is capable of transporting satellites to orbit, crew and cargo to the @Space_Station and completing missions to the Moon an?   \n",
       "2                                                                                                                                @bigajm Yup :)   \n",
       "3                                                                                                                Part 2 https://t.co/8Fvu57muhM   \n",
       "4                       Fly to most places on Earth in under 30 mins and anywhere in under 60. Cost per seat should be? https://t.co/dGYDdGttYd   \n",
       "\n",
       "                  Time Retweet from      User  \\\n",
       "0  2017-09-29 17:39:19          NaN  elonmusk   \n",
       "1  2017-09-29 10:44:54       SpaceX  elonmusk   \n",
       "2  2017-09-29 10:39:57          NaN  elonmusk   \n",
       "3  2017-09-29 09:56:12          NaN  elonmusk   \n",
       "4  2017-09-29 09:19:21          NaN  elonmusk   \n",
       "\n",
       "                                                                                                         Cleaned_Tweet  \n",
       "0                 Assuming max acceleration of to g's, but in a comfortable direction. Will feel like a mild to moder?  \n",
       "1  : BFR is capable of transporting satellites to orbit, crew and cargo to the and completing missions to the Moon an?  \n",
       "2                                                                                                                  Yup  \n",
       "3                                                                                                                 Part  \n",
       "4                           Fly to most places on Earth in under mins and anywhere in under . Cost per seat should be?  "
      ]
     },
     "execution_count": 154,
     "metadata": {},
     "output_type": "execute_result"
    }
   ],
   "source": [
    "df.head(5)"
   ]
  },
  {
   "cell_type": "code",
   "execution_count": 148,
   "id": "9e2be725",
   "metadata": {},
   "outputs": [
    {
     "data": {
      "text/html": [
       "<div>\n",
       "<style scoped>\n",
       "    .dataframe tbody tr th:only-of-type {\n",
       "        vertical-align: middle;\n",
       "    }\n",
       "\n",
       "    .dataframe tbody tr th {\n",
       "        vertical-align: top;\n",
       "    }\n",
       "\n",
       "    .dataframe thead th {\n",
       "        text-align: right;\n",
       "    }\n",
       "</style>\n",
       "<table border=\"1\" class=\"dataframe\">\n",
       "  <thead>\n",
       "    <tr style=\"text-align: right;\">\n",
       "      <th></th>\n",
       "      <th>row ID</th>\n",
       "      <th>Tweet</th>\n",
       "      <th>Time</th>\n",
       "      <th>Retweet from</th>\n",
       "      <th>User</th>\n",
       "      <th>Cleaned_Tweet</th>\n",
       "    </tr>\n",
       "  </thead>\n",
       "  <tbody>\n",
       "    <tr>\n",
       "      <th>1919</th>\n",
       "      <td>Row1919</td>\n",
       "      <td>Congrats to DeepMind! Many experts in the field thought AI was 10 years away from achieving this. https://t.co/5gGZZkud3K</td>\n",
       "      <td>2016-03-09 18:57:53</td>\n",
       "      <td>NaN</td>\n",
       "      <td>elonmusk</td>\n",
       "      <td>Congrats to DeepMind! Many experts in the field thought AI was years away from achieving this.</td>\n",
       "    </tr>\n",
       "    <tr>\n",
       "      <th>830</th>\n",
       "      <td>Row830</td>\n",
       "      <td>@shails Yes, but shipping, taxes/tariffs and installation labor vary by country, as those costs are beyond our control</td>\n",
       "      <td>2017-03-10 09:27:06</td>\n",
       "      <td>NaN</td>\n",
       "      <td>elonmusk</td>\n",
       "      <td>Yes, but shipping, taxes/tariffs and installation labor vary by country, as those costs are beyond our control</td>\n",
       "    </tr>\n",
       "    <tr>\n",
       "      <th>1267</th>\n",
       "      <td>Row1267</td>\n",
       "      <td>RT @TeslaMotors: Tesla and Panasonic to collaborate on photovoltaic cell and module production in Buffalo, New York https://t.co/bcDS3voHwu</td>\n",
       "      <td>2016-10-17 07:45:42</td>\n",
       "      <td>Tesla</td>\n",
       "      <td>elonmusk</td>\n",
       "      <td>: Tesla and Panasonic to collaborate on photovoltaic cell and module production in Buffalo, New York</td>\n",
       "    </tr>\n",
       "    <tr>\n",
       "      <th>2714</th>\n",
       "      <td>Row2714</td>\n",
       "      <td>Abort was caused by oxygen in ground side TEA-TEB. Upper stage on separate internal circuit, so doesn't face same risk.</td>\n",
       "      <td>2013-11-30 17:28:37</td>\n",
       "      <td>NaN</td>\n",
       "      <td>elonmusk</td>\n",
       "      <td>Abort was caused by oxygen in ground side TEA-TEB. Upper stage on separate internal circuit, so doesn't face same risk.</td>\n",
       "    </tr>\n",
       "    <tr>\n",
       "      <th>2810</th>\n",
       "      <td>Row2810</td>\n",
       "      <td>UDP (yeah you know me) 3X</td>\n",
       "      <td>2013-07-09 23:54:48</td>\n",
       "      <td>NaN</td>\n",
       "      <td>elonmusk</td>\n",
       "      <td>UDP (yeah you know me) X</td>\n",
       "    </tr>\n",
       "  </tbody>\n",
       "</table>\n",
       "</div>"
      ],
      "text/plain": [
       "       row ID  \\\n",
       "1919  Row1919   \n",
       "830    Row830   \n",
       "1267  Row1267   \n",
       "2714  Row2714   \n",
       "2810  Row2810   \n",
       "\n",
       "                                                                                                                                            Tweet  \\\n",
       "1919                    Congrats to DeepMind! Many experts in the field thought AI was 10 years away from achieving this. https://t.co/5gGZZkud3K   \n",
       "830                        @shails Yes, but shipping, taxes/tariffs and installation labor vary by country, as those costs are beyond our control   \n",
       "1267  RT @TeslaMotors: Tesla and Panasonic to collaborate on photovoltaic cell and module production in Buffalo, New York https://t.co/bcDS3voHwu   \n",
       "2714                      Abort was caused by oxygen in ground side TEA-TEB. Upper stage on separate internal circuit, so doesn't face same risk.   \n",
       "2810                                                                                                                    UDP (yeah you know me) 3X   \n",
       "\n",
       "                     Time Retweet from      User  \\\n",
       "1919  2016-03-09 18:57:53          NaN  elonmusk   \n",
       "830   2017-03-10 09:27:06          NaN  elonmusk   \n",
       "1267  2016-10-17 07:45:42        Tesla  elonmusk   \n",
       "2714  2013-11-30 17:28:37          NaN  elonmusk   \n",
       "2810  2013-07-09 23:54:48          NaN  elonmusk   \n",
       "\n",
       "                                                                                                                Cleaned_Tweet  \n",
       "1919                           Congrats to DeepMind! Many experts in the field thought AI was years away from achieving this.  \n",
       "830            Yes, but shipping, taxes/tariffs and installation labor vary by country, as those costs are beyond our control  \n",
       "1267                     : Tesla and Panasonic to collaborate on photovoltaic cell and module production in Buffalo, New York  \n",
       "2714  Abort was caused by oxygen in ground side TEA-TEB. Upper stage on separate internal circuit, so doesn't face same risk.  \n",
       "2810                                                                                                 UDP (yeah you know me) X  "
      ]
     },
     "execution_count": 148,
     "metadata": {},
     "output_type": "execute_result"
    }
   ],
   "source": [
    "df.sample(5)"
   ]
  },
  {
   "cell_type": "markdown",
   "id": "281e132f",
   "metadata": {},
   "source": [
    "## Tokenization , Removal of Digits, Stop Words and Punctuations\n"
   ]
  },
  {
   "cell_type": "code",
   "execution_count": 110,
   "id": "6ab141d1",
   "metadata": {},
   "outputs": [
    {
     "name": "stderr",
     "output_type": "stream",
     "text": [
      "[nltk_data] Downloading package wordnet to /home/iris/nltk_data...\n",
      "[nltk_data]   Unzipping corpora/wordnet.zip.\n",
      "[nltk_data] Downloading package stopwords to /home/iris/nltk_data...\n",
      "[nltk_data]   Package stopwords is already up-to-date!\n"
     ]
    }
   ],
   "source": [
    "#important libraries for preprocessing using NLTK\n",
    "import nltk\n",
    "from nltk import word_tokenize, FreqDist\n",
    "from nltk.corpus import stopwords\n",
    "from nltk.stem import WordNetLemmatizer\n",
    "nltk.download\n",
    "nltk.download('wordnet')\n",
    "nltk.download('stopwords')\n",
    "from nltk.tokenize import TweetTokenizer\n"
   ]
  },
  {
   "cell_type": "code",
   "execution_count": 116,
   "id": "bf01f11c",
   "metadata": {},
   "outputs": [
    {
     "name": "stderr",
     "output_type": "stream",
     "text": [
      "/home/iris/paulshab/NLP_env/nlp_environ/lib/python3.7/site-packages/ipykernel_launcher.py:2: FutureWarning: The default value of regex will change from True to False in a future version.\n",
      "  \n"
     ]
    }
   ],
   "source": [
    "# Remove Digits and lower the text\n",
    "df['Cleaned_Tweet'] = df['Cleaned_Tweet'].astype(str).str.replace('\\d+', '')\n",
    "df['Cleaned_Tweet'] = df['Cleaned_Tweet'].str.lower()"
   ]
  },
  {
   "cell_type": "code",
   "execution_count": 173,
   "id": "ad645fda",
   "metadata": {},
   "outputs": [
    {
     "data": {
      "text/html": [
       "<div>\n",
       "<style scoped>\n",
       "    .dataframe tbody tr th:only-of-type {\n",
       "        vertical-align: middle;\n",
       "    }\n",
       "\n",
       "    .dataframe tbody tr th {\n",
       "        vertical-align: top;\n",
       "    }\n",
       "\n",
       "    .dataframe thead th {\n",
       "        text-align: right;\n",
       "    }\n",
       "</style>\n",
       "<table border=\"1\" class=\"dataframe\">\n",
       "  <thead>\n",
       "    <tr style=\"text-align: right;\">\n",
       "      <th></th>\n",
       "      <th>row ID</th>\n",
       "      <th>Tweet</th>\n",
       "      <th>Time</th>\n",
       "      <th>Retweet from</th>\n",
       "      <th>User</th>\n",
       "      <th>Cleaned_Tweet</th>\n",
       "    </tr>\n",
       "  </thead>\n",
       "  <tbody>\n",
       "    <tr>\n",
       "      <th>2864</th>\n",
       "      <td>Row2864</td>\n",
       "      <td>Climate change deniers claim scientists disagree, same rebuttal used by tobacco industry about lung cancer for decades</td>\n",
       "      <td>2013-05-25 21:08:54</td>\n",
       "      <td>NaN</td>\n",
       "      <td>elonmusk</td>\n",
       "      <td>Climate change deniers claim scientists disagree, same rebuttal used by tobacco industry about lung cancer for decades</td>\n",
       "    </tr>\n",
       "    <tr>\n",
       "      <th>313</th>\n",
       "      <td>Row313</td>\n",
       "      <td>@newscientist The world's population is accelerating towards collapse, but few seem to notice or care</td>\n",
       "      <td>2017-07-06 15:29:56</td>\n",
       "      <td>NaN</td>\n",
       "      <td>elonmusk</td>\n",
       "      <td>The world's population is accelerating towards collapse, but few seem to notice or care</td>\n",
       "    </tr>\n",
       "    <tr>\n",
       "      <th>3108</th>\n",
       "      <td>Row3108</td>\n",
       "      <td>RT @willsamari: @elonmusk you should let everyone know they can watch the launch live at: http://t.co/89qFtbZj74</td>\n",
       "      <td>2013-03-01 17:01:43</td>\n",
       "      <td>willsamari</td>\n",
       "      <td>elonmusk</td>\n",
       "      <td>: you should let everyone know they can watch the launch live at:</td>\n",
       "    </tr>\n",
       "    <tr>\n",
       "      <th>1171</th>\n",
       "      <td>Row1171</td>\n",
       "      <td>RT @TeslaMotors: Survey shows Tesla owners in Germany understand the meaning and function of Autopilot https://t.co/gvEX0h7mxq</td>\n",
       "      <td>2016-11-10 20:56:14</td>\n",
       "      <td>Tesla</td>\n",
       "      <td>elonmusk</td>\n",
       "      <td>: Survey shows Tesla owners in Germany understand the meaning and function of Autopilot</td>\n",
       "    </tr>\n",
       "    <tr>\n",
       "      <th>2759</th>\n",
       "      <td>Row2759</td>\n",
       "      <td>RT @ID_AA_Carmack: @elonmusk @BadAstronomer We actually are outside some of the IPCC prediction ranges from 20 years ago http://t.co/WOLZlZ?</td>\n",
       "      <td>2013-09-27 02:35:33</td>\n",
       "      <td>ID_AA_Carmack</td>\n",
       "      <td>elonmusk</td>\n",
       "      <td>: We actually are outside some of the IPCC prediction ranges from years ago ?</td>\n",
       "    </tr>\n",
       "    <tr>\n",
       "      <th>738</th>\n",
       "      <td>Row738</td>\n",
       "      <td>@business Glad to have Tencent as an investor and advisor to Tesla</td>\n",
       "      <td>2017-03-28 20:04:59</td>\n",
       "      <td>NaN</td>\n",
       "      <td>elonmusk</td>\n",
       "      <td>Glad to have Tencent as an investor and advisor to Tesla</td>\n",
       "    </tr>\n",
       "    <tr>\n",
       "      <th>3063</th>\n",
       "      <td>Row3063</td>\n",
       "      <td>@Nezheim @jbmeicher sure :)</td>\n",
       "      <td>2013-03-24 01:41:56</td>\n",
       "      <td>NaN</td>\n",
       "      <td>elonmusk</td>\n",
       "      <td>sure</td>\n",
       "    </tr>\n",
       "    <tr>\n",
       "      <th>16</th>\n",
       "      <td>Row16</td>\n",
       "      <td>@El_Deano @Daimler @Jalopnik Yes, I did :)</td>\n",
       "      <td>2017-09-26 15:04:25</td>\n",
       "      <td>NaN</td>\n",
       "      <td>elonmusk</td>\n",
       "      <td>Yes, I did</td>\n",
       "    </tr>\n",
       "    <tr>\n",
       "      <th>144</th>\n",
       "      <td>Row144</td>\n",
       "      <td>@neddesmond @SpaceX The danger is def high for South Korea, due to proximity, but much less for distant targets lik? https://t.co/H6w2W9Mage</td>\n",
       "      <td>2017-08-15 01:26:47</td>\n",
       "      <td>NaN</td>\n",
       "      <td>elonmusk</td>\n",
       "      <td>The danger is def high for South Korea, due to proximity, but much less for distant targets lik?</td>\n",
       "    </tr>\n",
       "    <tr>\n",
       "      <th>1674</th>\n",
       "      <td>Row1674</td>\n",
       "      <td>@jlgolson No prob. We care about doing what's fair &amp; just. Don't always get it right, but intent is always there &amp; we make amends when wrong</td>\n",
       "      <td>2016-05-18 22:47:37</td>\n",
       "      <td>NaN</td>\n",
       "      <td>elonmusk</td>\n",
       "      <td>No prob. We care about doing what's fair &amp; just. Don't always get it right, but intent is always there &amp; we make amends when wrong</td>\n",
       "    </tr>\n",
       "    <tr>\n",
       "      <th>1942</th>\n",
       "      <td>Row1942</td>\n",
       "      <td>@skiesforme @TeslaMotors That said, the white interior is the best. Highly recommend.</td>\n",
       "      <td>2016-02-27 19:44:11</td>\n",
       "      <td>NaN</td>\n",
       "      <td>elonmusk</td>\n",
       "      <td>That said, the white interior is the best. Highly recommend.</td>\n",
       "    </tr>\n",
       "    <tr>\n",
       "      <th>2814</th>\n",
       "      <td>Row2814</td>\n",
       "      <td>Woohoo, Tesla direct sales petition passed the 100k threshold! Thanks a lot to everyone that helped!!</td>\n",
       "      <td>2013-07-02 21:47:25</td>\n",
       "      <td>NaN</td>\n",
       "      <td>elonmusk</td>\n",
       "      <td>Woohoo, Tesla direct sales petition passed the k threshold! Thanks a lot to everyone that helped!!</td>\n",
       "    </tr>\n",
       "    <tr>\n",
       "      <th>1286</th>\n",
       "      <td>Row1286</td>\n",
       "      <td>Would also like to correct expectations that Tesla/SolarCity will need to raise equity or corp debt in Q4. Won't be necessary for either.</td>\n",
       "      <td>2016-10-09 18:25:12</td>\n",
       "      <td>NaN</td>\n",
       "      <td>elonmusk</td>\n",
       "      <td>Would also like to correct expectations that Tesla/SolarCity will need to raise equity or corp debt in Q4. Won't be necessary for either.</td>\n",
       "    </tr>\n",
       "    <tr>\n",
       "      <th>1564</th>\n",
       "      <td>Row1564</td>\n",
       "      <td>Model S had the lowest probability of injury of any car ever tested by NHTSA, which is why ... https://t.co/9tZZJEc5wg</td>\n",
       "      <td>2016-07-08 23:39:47</td>\n",
       "      <td>NaN</td>\n",
       "      <td>elonmusk</td>\n",
       "      <td>Model S had the lowest probability of injury of any car ever tested by NHTSA, which is why ...</td>\n",
       "    </tr>\n",
       "    <tr>\n",
       "      <th>344</th>\n",
       "      <td>Row344</td>\n",
       "      <td>@SyrenBoaz A ceiling is simply a floor from below</td>\n",
       "      <td>2017-06-29 05:32:18</td>\n",
       "      <td>NaN</td>\n",
       "      <td>elonmusk</td>\n",
       "      <td>A ceiling is simply a floor from below</td>\n",
       "    </tr>\n",
       "  </tbody>\n",
       "</table>\n",
       "</div>"
      ],
      "text/plain": [
       "       row ID  \\\n",
       "2864  Row2864   \n",
       "313    Row313   \n",
       "3108  Row3108   \n",
       "1171  Row1171   \n",
       "2759  Row2759   \n",
       "738    Row738   \n",
       "3063  Row3063   \n",
       "16      Row16   \n",
       "144    Row144   \n",
       "1674  Row1674   \n",
       "1942  Row1942   \n",
       "2814  Row2814   \n",
       "1286  Row1286   \n",
       "1564  Row1564   \n",
       "344    Row344   \n",
       "\n",
       "                                                                                                                                             Tweet  \\\n",
       "2864                        Climate change deniers claim scientists disagree, same rebuttal used by tobacco industry about lung cancer for decades   \n",
       "313                                          @newscientist The world's population is accelerating towards collapse, but few seem to notice or care   \n",
       "3108                              RT @willsamari: @elonmusk you should let everyone know they can watch the launch live at: http://t.co/89qFtbZj74   \n",
       "1171                RT @TeslaMotors: Survey shows Tesla owners in Germany understand the meaning and function of Autopilot https://t.co/gvEX0h7mxq   \n",
       "2759  RT @ID_AA_Carmack: @elonmusk @BadAstronomer We actually are outside some of the IPCC prediction ranges from 20 years ago http://t.co/WOLZlZ?   \n",
       "738                                                                             @business Glad to have Tencent as an investor and advisor to Tesla   \n",
       "3063                                                                                                                   @Nezheim @jbmeicher sure :)   \n",
       "16                                                                                                      @El_Deano @Daimler @Jalopnik Yes, I did :)   \n",
       "144   @neddesmond @SpaceX The danger is def high for South Korea, due to proximity, but much less for distant targets lik? https://t.co/H6w2W9Mage   \n",
       "1674  @jlgolson No prob. We care about doing what's fair & just. Don't always get it right, but intent is always there & we make amends when wrong   \n",
       "1942                                                         @skiesforme @TeslaMotors That said, the white interior is the best. Highly recommend.   \n",
       "2814                                         Woohoo, Tesla direct sales petition passed the 100k threshold! Thanks a lot to everyone that helped!!   \n",
       "1286     Would also like to correct expectations that Tesla/SolarCity will need to raise equity or corp debt in Q4. Won't be necessary for either.   \n",
       "1564                        Model S had the lowest probability of injury of any car ever tested by NHTSA, which is why ... https://t.co/9tZZJEc5wg   \n",
       "344                                                                                              @SyrenBoaz A ceiling is simply a floor from below   \n",
       "\n",
       "                     Time   Retweet from      User  \\\n",
       "2864  2013-05-25 21:08:54            NaN  elonmusk   \n",
       "313   2017-07-06 15:29:56            NaN  elonmusk   \n",
       "3108  2013-03-01 17:01:43     willsamari  elonmusk   \n",
       "1171  2016-11-10 20:56:14          Tesla  elonmusk   \n",
       "2759  2013-09-27 02:35:33  ID_AA_Carmack  elonmusk   \n",
       "738   2017-03-28 20:04:59            NaN  elonmusk   \n",
       "3063  2013-03-24 01:41:56            NaN  elonmusk   \n",
       "16    2017-09-26 15:04:25            NaN  elonmusk   \n",
       "144   2017-08-15 01:26:47            NaN  elonmusk   \n",
       "1674  2016-05-18 22:47:37            NaN  elonmusk   \n",
       "1942  2016-02-27 19:44:11            NaN  elonmusk   \n",
       "2814  2013-07-02 21:47:25            NaN  elonmusk   \n",
       "1286  2016-10-09 18:25:12            NaN  elonmusk   \n",
       "1564  2016-07-08 23:39:47            NaN  elonmusk   \n",
       "344   2017-06-29 05:32:18            NaN  elonmusk   \n",
       "\n",
       "                                                                                                                                  Cleaned_Tweet  \n",
       "2864                     Climate change deniers claim scientists disagree, same rebuttal used by tobacco industry about lung cancer for decades  \n",
       "313                                                     The world's population is accelerating towards collapse, but few seem to notice or care  \n",
       "3108                                                                          : you should let everyone know they can watch the launch live at:  \n",
       "1171                                                    : Survey shows Tesla owners in Germany understand the meaning and function of Autopilot  \n",
       "2759                                                              : We actually are outside some of the IPCC prediction ranges from years ago ?  \n",
       "738                                                                                    Glad to have Tencent as an investor and advisor to Tesla  \n",
       "3063                                                                                                                                       sure  \n",
       "16                                                                                                                                   Yes, I did  \n",
       "144                                            The danger is def high for South Korea, due to proximity, but much less for distant targets lik?  \n",
       "1674         No prob. We care about doing what's fair & just. Don't always get it right, but intent is always there & we make amends when wrong  \n",
       "1942                                                                               That said, the white interior is the best. Highly recommend.  \n",
       "2814                                         Woohoo, Tesla direct sales petition passed the k threshold! Thanks a lot to everyone that helped!!  \n",
       "1286  Would also like to correct expectations that Tesla/SolarCity will need to raise equity or corp debt in Q4. Won't be necessary for either.  \n",
       "1564                                             Model S had the lowest probability of injury of any car ever tested by NHTSA, which is why ...  \n",
       "344                                                                                                      A ceiling is simply a floor from below  "
      ]
     },
     "execution_count": 173,
     "metadata": {},
     "output_type": "execute_result"
    }
   ],
   "source": [
    "df.sample(15)"
   ]
  },
  {
   "cell_type": "code",
   "execution_count": 127,
   "id": "b76fe27f",
   "metadata": {},
   "outputs": [
    {
     "data": {
      "text/plain": [
       "3211    btw, i don't think apple is doomed. just won't...\n",
       "Name: Cleaned_Tweet, dtype: object"
      ]
     },
     "execution_count": 127,
     "metadata": {},
     "output_type": "execute_result"
    }
   ],
   "source": [
    "df.iloc[[3211]]['Cleaned_Tweet']"
   ]
  },
  {
   "cell_type": "code",
   "execution_count": 180,
   "id": "291e9b49",
   "metadata": {},
   "outputs": [
    {
     "data": {
      "text/plain": [
       "'Yup'"
      ]
     },
     "execution_count": 180,
     "metadata": {},
     "output_type": "execute_result"
    }
   ],
   "source": [
    "df.iloc[1,5]"
   ]
  },
  {
   "cell_type": "code",
   "execution_count": 181,
   "id": "b34ec114",
   "metadata": {},
   "outputs": [
    {
     "data": {
      "text/plain": [
       "'@bigajm Yup :)'"
      ]
     },
     "execution_count": 181,
     "metadata": {},
     "output_type": "execute_result"
    }
   ],
   "source": [
    "df.iloc[1,1]"
   ]
  },
  {
   "cell_type": "code",
   "execution_count": 188,
   "id": "0076d6f0",
   "metadata": {},
   "outputs": [],
   "source": [
    "import preprocessor"
   ]
  },
  {
   "cell_type": "code",
   "execution_count": null,
   "id": "58bd4b4b",
   "metadata": {},
   "outputs": [],
   "source": [
    "#climate change is bad"
   ]
  },
  {
   "cell_type": "code",
   "execution_count": 186,
   "id": "ea5e8de0",
   "metadata": {},
   "outputs": [
    {
     "data": {
      "text/html": [
       "<div>\n",
       "<style scoped>\n",
       "    .dataframe tbody tr th:only-of-type {\n",
       "        vertical-align: middle;\n",
       "    }\n",
       "\n",
       "    .dataframe tbody tr th {\n",
       "        vertical-align: top;\n",
       "    }\n",
       "\n",
       "    .dataframe thead th {\n",
       "        text-align: right;\n",
       "    }\n",
       "</style>\n",
       "<table border=\"1\" class=\"dataframe\">\n",
       "  <thead>\n",
       "    <tr style=\"text-align: right;\">\n",
       "      <th></th>\n",
       "      <th>row ID</th>\n",
       "      <th>Tweet</th>\n",
       "      <th>Time</th>\n",
       "      <th>Retweet from</th>\n",
       "      <th>User</th>\n",
       "      <th>Cleaned_Tweet</th>\n",
       "    </tr>\n",
       "  </thead>\n",
       "  <tbody>\n",
       "    <tr>\n",
       "      <th>0</th>\n",
       "      <td>Row0</td>\n",
       "      <td>@MeltingIce Assuming max acceleration of 2 to 3 g's, but in a comfortable direction. Will feel like a mild to moder? https://t.co/fpjmEgrHfC</td>\n",
       "      <td>2017-09-29 17:39:19</td>\n",
       "      <td>NaN</td>\n",
       "      <td>elonmusk</td>\n",
       "      <td>Assuming max acceleration of 2 to 3 g's, but in a comfortable direction. Will feel like a mild to moder?</td>\n",
       "    </tr>\n",
       "    <tr>\n",
       "      <th>1</th>\n",
       "      <td>Row1</td>\n",
       "      <td>RT @SpaceX: BFR is capable of transporting satellites to orbit, crew and cargo to the @Space_Station and completing missions to the Moon an?</td>\n",
       "      <td>2017-09-29 10:44:54</td>\n",
       "      <td>SpaceX</td>\n",
       "      <td>elonmusk</td>\n",
       "      <td>: BFR is capable of transporting satellites to orbit, crew and cargo to the and completing missions to the Moon an?</td>\n",
       "    </tr>\n",
       "    <tr>\n",
       "      <th>2</th>\n",
       "      <td>Row2</td>\n",
       "      <td>@bigajm Yup :)</td>\n",
       "      <td>2017-09-29 10:39:57</td>\n",
       "      <td>NaN</td>\n",
       "      <td>elonmusk</td>\n",
       "      <td>Yup</td>\n",
       "    </tr>\n",
       "    <tr>\n",
       "      <th>3</th>\n",
       "      <td>Row3</td>\n",
       "      <td>Part 2 https://t.co/8Fvu57muhM</td>\n",
       "      <td>2017-09-29 09:56:12</td>\n",
       "      <td>NaN</td>\n",
       "      <td>elonmusk</td>\n",
       "      <td>Part 2</td>\n",
       "    </tr>\n",
       "    <tr>\n",
       "      <th>4</th>\n",
       "      <td>Row4</td>\n",
       "      <td>Fly to most places on Earth in under 30 mins and anywhere in under 60. Cost per seat should be? https://t.co/dGYDdGttYd</td>\n",
       "      <td>2017-09-29 09:19:21</td>\n",
       "      <td>NaN</td>\n",
       "      <td>elonmusk</td>\n",
       "      <td>Fly to most places on Earth in under 30 mins and anywhere in under 60. Cost per seat should be?</td>\n",
       "    </tr>\n",
       "    <tr>\n",
       "      <th>...</th>\n",
       "      <td>...</td>\n",
       "      <td>...</td>\n",
       "      <td>...</td>\n",
       "      <td>...</td>\n",
       "      <td>...</td>\n",
       "      <td>...</td>\n",
       "    </tr>\n",
       "    <tr>\n",
       "      <th>3111</th>\n",
       "      <td>Row3212</td>\n",
       "      <td>Mass. judge denies auto dealers' demand to kill our little Tesla store. Yay, justice prevails!  http://t.co/MqnNYScE</td>\n",
       "      <td>2012-11-20 21:22:29</td>\n",
       "      <td>NaN</td>\n",
       "      <td>elonmusk</td>\n",
       "      <td>Mass. judge denies auto dealers' demand to kill our little Tesla store. Yay, justice prevails!</td>\n",
       "    </tr>\n",
       "    <tr>\n",
       "      <th>3112</th>\n",
       "      <td>Row3213</td>\n",
       "      <td>@YOUSRC Amos's article was fair, but his editor chose a more sensational headline &amp; used quotes even though I didn't actually say that.</td>\n",
       "      <td>2012-11-20 08:52:03</td>\n",
       "      <td>NaN</td>\n",
       "      <td>elonmusk</td>\n",
       "      <td>Amos's article was fair, but his editor chose a more sensational headline &amp; used quotes even though I didn't actually say that.</td>\n",
       "    </tr>\n",
       "    <tr>\n",
       "      <th>3113</th>\n",
       "      <td>Row3214</td>\n",
       "      <td>These articles in Space News describe why Ariane 6 vs 5: http://t.co/IaeYXXK9 and http://t.co/ghs3FG8w</td>\n",
       "      <td>2012-11-20 08:38:31</td>\n",
       "      <td>NaN</td>\n",
       "      <td>elonmusk</td>\n",
       "      <td>These articles in Space News describe why Ariane 6 vs 5: and</td>\n",
       "    </tr>\n",
       "    <tr>\n",
       "      <th>3114</th>\n",
       "      <td>Row3215</td>\n",
       "      <td>Was misquoted by BBC as saying Europe's rocket has no chance. Just said the [Franco-German] Ariane 5 has no chance, so go with Ariane 6.</td>\n",
       "      <td>2012-11-20 08:30:44</td>\n",
       "      <td>NaN</td>\n",
       "      <td>elonmusk</td>\n",
       "      <td>Was misquoted by BBC as saying Europe's rocket has no chance. Just said the [Franco-German] Ariane 5 has no chance, so go with Ariane 6.</td>\n",
       "    </tr>\n",
       "    <tr>\n",
       "      <th>3115</th>\n",
       "      <td>Row3216</td>\n",
       "      <td>Just returned from a trip to London and Oxford, where I met with many interesting people. I really like Britain!</td>\n",
       "      <td>2012-11-19 08:59:46</td>\n",
       "      <td>NaN</td>\n",
       "      <td>elonmusk</td>\n",
       "      <td>Just returned from a trip to London and Oxford, where I met with many interesting people. I really like Britain!</td>\n",
       "    </tr>\n",
       "  </tbody>\n",
       "</table>\n",
       "<p>3116 rows × 6 columns</p>\n",
       "</div>"
      ],
      "text/plain": [
       "       row ID  \\\n",
       "0        Row0   \n",
       "1        Row1   \n",
       "2        Row2   \n",
       "3        Row3   \n",
       "4        Row4   \n",
       "...       ...   \n",
       "3111  Row3212   \n",
       "3112  Row3213   \n",
       "3113  Row3214   \n",
       "3114  Row3215   \n",
       "3115  Row3216   \n",
       "\n",
       "                                                                                                                                             Tweet  \\\n",
       "0     @MeltingIce Assuming max acceleration of 2 to 3 g's, but in a comfortable direction. Will feel like a mild to moder? https://t.co/fpjmEgrHfC   \n",
       "1     RT @SpaceX: BFR is capable of transporting satellites to orbit, crew and cargo to the @Space_Station and completing missions to the Moon an?   \n",
       "2                                                                                                                                   @bigajm Yup :)   \n",
       "3                                                                                                                   Part 2 https://t.co/8Fvu57muhM   \n",
       "4                          Fly to most places on Earth in under 30 mins and anywhere in under 60. Cost per seat should be? https://t.co/dGYDdGttYd   \n",
       "...                                                                                                                                            ...   \n",
       "3111                          Mass. judge denies auto dealers' demand to kill our little Tesla store. Yay, justice prevails!  http://t.co/MqnNYScE   \n",
       "3112       @YOUSRC Amos's article was fair, but his editor chose a more sensational headline & used quotes even though I didn't actually say that.   \n",
       "3113                                        These articles in Space News describe why Ariane 6 vs 5: http://t.co/IaeYXXK9 and http://t.co/ghs3FG8w   \n",
       "3114      Was misquoted by BBC as saying Europe's rocket has no chance. Just said the [Franco-German] Ariane 5 has no chance, so go with Ariane 6.   \n",
       "3115                              Just returned from a trip to London and Oxford, where I met with many interesting people. I really like Britain!   \n",
       "\n",
       "                     Time Retweet from      User  \\\n",
       "0     2017-09-29 17:39:19          NaN  elonmusk   \n",
       "1     2017-09-29 10:44:54       SpaceX  elonmusk   \n",
       "2     2017-09-29 10:39:57          NaN  elonmusk   \n",
       "3     2017-09-29 09:56:12          NaN  elonmusk   \n",
       "4     2017-09-29 09:19:21          NaN  elonmusk   \n",
       "...                   ...          ...       ...   \n",
       "3111  2012-11-20 21:22:29          NaN  elonmusk   \n",
       "3112  2012-11-20 08:52:03          NaN  elonmusk   \n",
       "3113  2012-11-20 08:38:31          NaN  elonmusk   \n",
       "3114  2012-11-20 08:30:44          NaN  elonmusk   \n",
       "3115  2012-11-19 08:59:46          NaN  elonmusk   \n",
       "\n",
       "                                                                                                                                 Cleaned_Tweet  \n",
       "0                                     Assuming max acceleration of 2 to 3 g's, but in a comfortable direction. Will feel like a mild to moder?  \n",
       "1                          : BFR is capable of transporting satellites to orbit, crew and cargo to the and completing missions to the Moon an?  \n",
       "2                                                                                                                                          Yup  \n",
       "3                                                                                                                                       Part 2  \n",
       "4                                              Fly to most places on Earth in under 30 mins and anywhere in under 60. Cost per seat should be?  \n",
       "...                                                                                                                                        ...  \n",
       "3111                                            Mass. judge denies auto dealers' demand to kill our little Tesla store. Yay, justice prevails!  \n",
       "3112           Amos's article was fair, but his editor chose a more sensational headline & used quotes even though I didn't actually say that.  \n",
       "3113                                                                              These articles in Space News describe why Ariane 6 vs 5: and  \n",
       "3114  Was misquoted by BBC as saying Europe's rocket has no chance. Just said the [Franco-German] Ariane 5 has no chance, so go with Ariane 6.  \n",
       "3115                          Just returned from a trip to London and Oxford, where I met with many interesting people. I really like Britain!  \n",
       "\n",
       "[3116 rows x 6 columns]"
      ]
     },
     "execution_count": 186,
     "metadata": {},
     "output_type": "execute_result"
    }
   ],
   "source": [
    "new_data = pd.read_csv('/home/iris/paulshab/Mynalabs_NLP/Twitter_Processing/file2.csv', encoding='windows-1252')\n",
    "new_data "
   ]
  },
  {
   "cell_type": "code",
   "execution_count": 189,
   "id": "8b3e70eb",
   "metadata": {},
   "outputs": [],
   "source": [
    "import pandas"
   ]
  },
  {
   "cell_type": "code",
   "execution_count": 195,
   "id": "147bcaf8",
   "metadata": {},
   "outputs": [
    {
     "ename": "SyntaxError",
     "evalue": "invalid syntax (3434669239.py, line 10)",
     "output_type": "error",
     "traceback": [
      "\u001b[0;36m  File \u001b[0;32m\"/tmp/ipykernel_23498/3434669239.py\"\u001b[0;36m, line \u001b[0;32m10\u001b[0m\n\u001b[0;31m    globals()[module] = importlib.import_module(module) as short_cut\u001b[0m\n\u001b[0m                                                         ^\u001b[0m\n\u001b[0;31mSyntaxError\u001b[0m\u001b[0;31m:\u001b[0m invalid syntax\n"
     ]
    }
   ],
   "source": [
    "def install(module, package, short_cut=None):\n",
    "    import importlib\n",
    "    try:\n",
    "        importlib.import_module(module)\n",
    "    except ImportError:\n",
    "        import pip\n",
    "        pip.main(['install', package])\n",
    "    finally:\n",
    "        if short_cut != None:\n",
    "            globals()[module] = importlib.import_module(module)\n",
    "        else:\n",
    "            import module\n",
    "\n",
    "install(module='pandas', package='pandas', short_cut='pd')"
   ]
  },
  {
   "cell_type": "code",
   "execution_count": 201,
   "id": "0a89cdb0",
   "metadata": {},
   "outputs": [],
   "source": [
    "import importlib\n",
    "importlib.import_module??"
   ]
  },
  {
   "cell_type": "code",
   "execution_count": 204,
   "id": "43953238",
   "metadata": {},
   "outputs": [
    {
     "name": "stdout",
     "output_type": "stream",
     "text": [
      "\n"
     ]
    },
    {
     "name": "stderr",
     "output_type": "stream",
     "text": [
      "WARNING: Ignoring invalid distribution -ransformers (/home/iris/paulshab/NLP_env/nlp_environ/lib/python3.7/site-packages)\n",
      "WARNING: Ignoring invalid distribution -qdm (/home/iris/paulshab/NLP_env/nlp_environ/lib/python3.7/site-packages)\n",
      "WARNING: Ignoring invalid distribution -okenizers (/home/iris/paulshab/NLP_env/nlp_environ/lib/python3.7/site-packages)\n",
      "WARNING: Ignoring invalid distribution -lick (/home/iris/paulshab/NLP_env/nlp_environ/lib/python3.7/site-packages)\n",
      "WARNING: Ignoring invalid distribution -illow (/home/iris/paulshab/NLP_env/nlp_environ/lib/python3.7/site-packages)\n",
      "WARNING: Ignoring invalid distribution -ransformers (/home/iris/paulshab/NLP_env/nlp_environ/lib/python3.7/site-packages)\n",
      "WARNING: Ignoring invalid distribution -qdm (/home/iris/paulshab/NLP_env/nlp_environ/lib/python3.7/site-packages)\n",
      "WARNING: Ignoring invalid distribution -okenizers (/home/iris/paulshab/NLP_env/nlp_environ/lib/python3.7/site-packages)\n",
      "WARNING: Ignoring invalid distribution -lick (/home/iris/paulshab/NLP_env/nlp_environ/lib/python3.7/site-packages)\n",
      "WARNING: Ignoring invalid distribution -illow (/home/iris/paulshab/NLP_env/nlp_environ/lib/python3.7/site-packages)\n",
      "WARNING: Ignoring invalid distribution -ransformers (/home/iris/paulshab/NLP_env/nlp_environ/lib/python3.7/site-packages)\n",
      "WARNING: Ignoring invalid distribution -qdm (/home/iris/paulshab/NLP_env/nlp_environ/lib/python3.7/site-packages)\n",
      "WARNING: Ignoring invalid distribution -okenizers (/home/iris/paulshab/NLP_env/nlp_environ/lib/python3.7/site-packages)\n",
      "WARNING: Ignoring invalid distribution -lick (/home/iris/paulshab/NLP_env/nlp_environ/lib/python3.7/site-packages)\n",
      "WARNING: Ignoring invalid distribution -illow (/home/iris/paulshab/NLP_env/nlp_environ/lib/python3.7/site-packages)\n"
     ]
    },
    {
     "name": "stdout",
     "output_type": "stream",
     "text": [
      "Requirement already satisfied: pandas in /home/iris/paulshab/NLP_env/nlp_environ/lib/python3.7/site-packages (1.3.1)\n",
      "Requirement already satisfied: python-dateutil>=2.7.3 in /home/iris/paulshab/NLP_env/nlp_environ/lib/python3.7/site-packages (from pandas) (2.8.1)\n",
      "Requirement already satisfied: numpy>=1.17.3 in /home/iris/paulshab/NLP_env/nlp_environ/lib/python3.7/site-packages (from pandas) (1.21.0)\n",
      "Requirement already satisfied: pytz>=2017.3 in /home/iris/paulshab/NLP_env/nlp_environ/lib/python3.7/site-packages (from pandas) (2021.1)\n",
      "Requirement already satisfied: six>=1.5 in /home/iris/paulshab/NLP_env/nlp_environ/lib/python3.7/site-packages (from python-dateutil>=2.7.3->pandas) (1.16.0)\n",
      "hello\n",
      "pandas\n"
     ]
    },
    {
     "name": "stderr",
     "output_type": "stream",
     "text": [
      "WARNING: Ignoring invalid distribution -ransformers (/home/iris/paulshab/NLP_env/nlp_environ/lib/python3.7/site-packages)\n",
      "WARNING: Ignoring invalid distribution -qdm (/home/iris/paulshab/NLP_env/nlp_environ/lib/python3.7/site-packages)\n",
      "WARNING: Ignoring invalid distribution -okenizers (/home/iris/paulshab/NLP_env/nlp_environ/lib/python3.7/site-packages)\n",
      "WARNING: Ignoring invalid distribution -lick (/home/iris/paulshab/NLP_env/nlp_environ/lib/python3.7/site-packages)\n",
      "WARNING: Ignoring invalid distribution -illow (/home/iris/paulshab/NLP_env/nlp_environ/lib/python3.7/site-packages)\n",
      "WARNING: Ignoring invalid distribution -ransformers (/home/iris/paulshab/NLP_env/nlp_environ/lib/python3.7/site-packages)\n",
      "WARNING: Ignoring invalid distribution -qdm (/home/iris/paulshab/NLP_env/nlp_environ/lib/python3.7/site-packages)\n",
      "WARNING: Ignoring invalid distribution -okenizers (/home/iris/paulshab/NLP_env/nlp_environ/lib/python3.7/site-packages)\n",
      "WARNING: Ignoring invalid distribution -lick (/home/iris/paulshab/NLP_env/nlp_environ/lib/python3.7/site-packages)\n",
      "WARNING: Ignoring invalid distribution -illow (/home/iris/paulshab/NLP_env/nlp_environ/lib/python3.7/site-packages)\n",
      "WARNING: Ignoring invalid distribution -ransformers (/home/iris/paulshab/NLP_env/nlp_environ/lib/python3.7/site-packages)\n",
      "WARNING: Ignoring invalid distribution -qdm (/home/iris/paulshab/NLP_env/nlp_environ/lib/python3.7/site-packages)\n",
      "WARNING: Ignoring invalid distribution -okenizers (/home/iris/paulshab/NLP_env/nlp_environ/lib/python3.7/site-packages)\n",
      "WARNING: Ignoring invalid distribution -lick (/home/iris/paulshab/NLP_env/nlp_environ/lib/python3.7/site-packages)\n",
      "WARNING: Ignoring invalid distribution -illow (/home/iris/paulshab/NLP_env/nlp_environ/lib/python3.7/site-packages)\n",
      "WARNING: You are using pip version 21.2.2; however, version 21.2.4 is available.\n",
      "You should consider upgrading via the '/home/iris/paulshab/NLP_env/nlp_environ/bin/python -m pip install --upgrade pip' command.\n"
     ]
    },
    {
     "ename": "ModuleNotFoundError",
     "evalue": "No module named 'module'",
     "output_type": "error",
     "traceback": [
      "\u001b[0;31m---------------------------------------------------------------------------\u001b[0m",
      "\u001b[0;31mModuleNotFoundError\u001b[0m                       Traceback (most recent call last)",
      "\u001b[0;32m/tmp/ipykernel_23498/2191380666.py\u001b[0m in \u001b[0;36m<module>\u001b[0;34m\u001b[0m\n\u001b[1;32m     19\u001b[0m             \u001b[0;32mimport\u001b[0m \u001b[0mmodule\u001b[0m\u001b[0;34m\u001b[0m\u001b[0;34m\u001b[0m\u001b[0m\n\u001b[1;32m     20\u001b[0m \u001b[0;34m\u001b[0m\u001b[0m\n\u001b[0;32m---> 21\u001b[0;31m \u001b[0minstall\u001b[0m\u001b[0;34m(\u001b[0m\u001b[0mmodule\u001b[0m\u001b[0;34m=\u001b[0m\u001b[0;34m'pandas'\u001b[0m\u001b[0;34m,\u001b[0m \u001b[0mpackage\u001b[0m\u001b[0;34m=\u001b[0m\u001b[0;34m'pandas'\u001b[0m\u001b[0;34m,\u001b[0m \u001b[0mshort_cut\u001b[0m\u001b[0;34m=\u001b[0m\u001b[0;34m'pd'\u001b[0m\u001b[0;34m)\u001b[0m\u001b[0;34m\u001b[0m\u001b[0;34m\u001b[0m\u001b[0m\n\u001b[0m",
      "\u001b[0;32m/tmp/ipykernel_23498/2191380666.py\u001b[0m in \u001b[0;36minstall\u001b[0;34m(module, package, short_cut)\u001b[0m\n\u001b[1;32m     15\u001b[0m             \u001b[0mprint\u001b[0m\u001b[0;34m(\u001b[0m\u001b[0;34m\"hello\"\u001b[0m\u001b[0;34m)\u001b[0m\u001b[0;34m\u001b[0m\u001b[0;34m\u001b[0m\u001b[0m\n\u001b[1;32m     16\u001b[0m             \u001b[0mprint\u001b[0m\u001b[0;34m(\u001b[0m\u001b[0mmodule\u001b[0m\u001b[0;34m)\u001b[0m\u001b[0;34m\u001b[0m\u001b[0;34m\u001b[0m\u001b[0m\n\u001b[0;32m---> 17\u001b[0;31m             \u001b[0;32mimport\u001b[0m \u001b[0mmodule\u001b[0m \u001b[0;32mas\u001b[0m \u001b[0mshort_cut\u001b[0m\u001b[0;34m\u001b[0m\u001b[0;34m\u001b[0m\u001b[0m\n\u001b[0m\u001b[1;32m     18\u001b[0m         \u001b[0;32melse\u001b[0m\u001b[0;34m:\u001b[0m\u001b[0;34m\u001b[0m\u001b[0;34m\u001b[0m\u001b[0m\n\u001b[1;32m     19\u001b[0m             \u001b[0;32mimport\u001b[0m \u001b[0mmodule\u001b[0m\u001b[0;34m\u001b[0m\u001b[0;34m\u001b[0m\u001b[0m\n",
      "\u001b[0;31mModuleNotFoundError\u001b[0m: No module named 'module'"
     ]
    }
   ],
   "source": [
    "import subprocess\n",
    "import sys\n",
    "\n",
    "def install(module, package, short_cut=None):\n",
    "    print()\n",
    "    try:\n",
    "        if short_cut != None:\n",
    "            import module as short_cut\n",
    "        else:\n",
    "            import module\n",
    "    except ImportError:\n",
    "        subprocess.check_call([sys.executable, \"-m\", \"pip\", \"install\", package])\n",
    "    finally:\n",
    "        if short_cut != None:\n",
    "            print(\"hello\")\n",
    "            print(module)\n",
    "            import module as short_cut\n",
    "        else:\n",
    "            import module\n",
    "    \n",
    "install(module='pandas', package='pandas', short_cut='pd')"
   ]
  },
  {
   "cell_type": "code",
   "execution_count": 205,
   "id": "c1c149e0",
   "metadata": {},
   "outputs": [
    {
     "name": "stderr",
     "output_type": "stream",
     "text": [
      "WARNING: Ignoring invalid distribution -ransformers (/home/iris/paulshab/NLP_env/nlp_environ/lib/python3.7/site-packages)\n",
      "WARNING: Ignoring invalid distribution -qdm (/home/iris/paulshab/NLP_env/nlp_environ/lib/python3.7/site-packages)\n",
      "WARNING: Ignoring invalid distribution -okenizers (/home/iris/paulshab/NLP_env/nlp_environ/lib/python3.7/site-packages)\n",
      "WARNING: Ignoring invalid distribution -lick (/home/iris/paulshab/NLP_env/nlp_environ/lib/python3.7/site-packages)\n",
      "WARNING: Ignoring invalid distribution -illow (/home/iris/paulshab/NLP_env/nlp_environ/lib/python3.7/site-packages)\n",
      "WARNING: Ignoring invalid distribution -ransformers (/home/iris/paulshab/NLP_env/nlp_environ/lib/python3.7/site-packages)\n",
      "WARNING: Ignoring invalid distribution -qdm (/home/iris/paulshab/NLP_env/nlp_environ/lib/python3.7/site-packages)\n",
      "WARNING: Ignoring invalid distribution -okenizers (/home/iris/paulshab/NLP_env/nlp_environ/lib/python3.7/site-packages)\n",
      "WARNING: Ignoring invalid distribution -lick (/home/iris/paulshab/NLP_env/nlp_environ/lib/python3.7/site-packages)\n",
      "WARNING: Ignoring invalid distribution -illow (/home/iris/paulshab/NLP_env/nlp_environ/lib/python3.7/site-packages)\n"
     ]
    },
    {
     "name": "stdout",
     "output_type": "stream",
     "text": [
      "Collecting wget\n",
      "  Using cached wget-3.2-py3-none-any.whl\n"
     ]
    },
    {
     "name": "stderr",
     "output_type": "stream",
     "text": [
      "WARNING: Ignoring invalid distribution -ransformers (/home/iris/paulshab/NLP_env/nlp_environ/lib/python3.7/site-packages)\n",
      "WARNING: Ignoring invalid distribution -qdm (/home/iris/paulshab/NLP_env/nlp_environ/lib/python3.7/site-packages)\n",
      "WARNING: Ignoring invalid distribution -okenizers (/home/iris/paulshab/NLP_env/nlp_environ/lib/python3.7/site-packages)\n",
      "WARNING: Ignoring invalid distribution -lick (/home/iris/paulshab/NLP_env/nlp_environ/lib/python3.7/site-packages)\n",
      "WARNING: Ignoring invalid distribution -illow (/home/iris/paulshab/NLP_env/nlp_environ/lib/python3.7/site-packages)\n"
     ]
    },
    {
     "name": "stdout",
     "output_type": "stream",
     "text": [
      "Installing collected packages: wget\n",
      "Successfully installed wget-3.2\n"
     ]
    },
    {
     "name": "stderr",
     "output_type": "stream",
     "text": [
      "WARNING: Ignoring invalid distribution -ransformers (/home/iris/paulshab/NLP_env/nlp_environ/lib/python3.7/site-packages)\n",
      "WARNING: Ignoring invalid distribution -qdm (/home/iris/paulshab/NLP_env/nlp_environ/lib/python3.7/site-packages)\n",
      "WARNING: Ignoring invalid distribution -okenizers (/home/iris/paulshab/NLP_env/nlp_environ/lib/python3.7/site-packages)\n",
      "WARNING: Ignoring invalid distribution -lick (/home/iris/paulshab/NLP_env/nlp_environ/lib/python3.7/site-packages)\n",
      "WARNING: Ignoring invalid distribution -illow (/home/iris/paulshab/NLP_env/nlp_environ/lib/python3.7/site-packages)\n",
      "WARNING: Ignoring invalid distribution -ransformers (/home/iris/paulshab/NLP_env/nlp_environ/lib/python3.7/site-packages)\n",
      "WARNING: Ignoring invalid distribution -qdm (/home/iris/paulshab/NLP_env/nlp_environ/lib/python3.7/site-packages)\n",
      "WARNING: Ignoring invalid distribution -okenizers (/home/iris/paulshab/NLP_env/nlp_environ/lib/python3.7/site-packages)\n",
      "WARNING: Ignoring invalid distribution -lick (/home/iris/paulshab/NLP_env/nlp_environ/lib/python3.7/site-packages)\n",
      "WARNING: Ignoring invalid distribution -illow (/home/iris/paulshab/NLP_env/nlp_environ/lib/python3.7/site-packages)\n",
      "WARNING: Ignoring invalid distribution -ransformers (/home/iris/paulshab/NLP_env/nlp_environ/lib/python3.7/site-packages)\n",
      "WARNING: Ignoring invalid distribution -qdm (/home/iris/paulshab/NLP_env/nlp_environ/lib/python3.7/site-packages)\n",
      "WARNING: Ignoring invalid distribution -okenizers (/home/iris/paulshab/NLP_env/nlp_environ/lib/python3.7/site-packages)\n",
      "WARNING: Ignoring invalid distribution -lick (/home/iris/paulshab/NLP_env/nlp_environ/lib/python3.7/site-packages)\n",
      "WARNING: Ignoring invalid distribution -illow (/home/iris/paulshab/NLP_env/nlp_environ/lib/python3.7/site-packages)\n",
      "WARNING: Ignoring invalid distribution -ransformers (/home/iris/paulshab/NLP_env/nlp_environ/lib/python3.7/site-packages)\n",
      "WARNING: Ignoring invalid distribution -qdm (/home/iris/paulshab/NLP_env/nlp_environ/lib/python3.7/site-packages)\n",
      "WARNING: Ignoring invalid distribution -okenizers (/home/iris/paulshab/NLP_env/nlp_environ/lib/python3.7/site-packages)\n",
      "WARNING: Ignoring invalid distribution -lick (/home/iris/paulshab/NLP_env/nlp_environ/lib/python3.7/site-packages)\n",
      "WARNING: Ignoring invalid distribution -illow (/home/iris/paulshab/NLP_env/nlp_environ/lib/python3.7/site-packages)\n",
      "WARNING: You are using pip version 21.2.2; however, version 21.2.4 is available.\n",
      "You should consider upgrading via the '/home/iris/paulshab/NLP_env/nlp_environ/bin/python -m pip install --upgrade pip' command.\n"
     ]
    },
    {
     "data": {
      "text/plain": [
       "0"
      ]
     },
     "execution_count": 205,
     "metadata": {},
     "output_type": "execute_result"
    }
   ],
   "source": [
    "subprocess.call(['pip', 'install', 'wget'])"
   ]
  },
  {
   "cell_type": "code",
   "execution_count": 9,
   "id": "8d7973a4",
   "metadata": {},
   "outputs": [
    {
     "data": {
      "text/html": [
       "<div>\n",
       "<style scoped>\n",
       "    .dataframe tbody tr th:only-of-type {\n",
       "        vertical-align: middle;\n",
       "    }\n",
       "\n",
       "    .dataframe tbody tr th {\n",
       "        vertical-align: top;\n",
       "    }\n",
       "\n",
       "    .dataframe thead th {\n",
       "        text-align: right;\n",
       "    }\n",
       "</style>\n",
       "<table border=\"1\" class=\"dataframe\">\n",
       "  <thead>\n",
       "    <tr style=\"text-align: right;\">\n",
       "      <th></th>\n",
       "      <th>row ID</th>\n",
       "      <th>Tweet</th>\n",
       "      <th>Time</th>\n",
       "      <th>Retweet from</th>\n",
       "      <th>User</th>\n",
       "    </tr>\n",
       "  </thead>\n",
       "  <tbody>\n",
       "    <tr>\n",
       "      <th>0</th>\n",
       "      <td>Row0</td>\n",
       "      <td>@MeltingIce Assuming max acceleration of 2 to 3 g's, but in a comfortable direction. Will feel like a mild to moder? https://t.co/fpjmEgrHfC</td>\n",
       "      <td>2017-09-29 17:39:19</td>\n",
       "      <td>NaN</td>\n",
       "      <td>elonmusk</td>\n",
       "    </tr>\n",
       "    <tr>\n",
       "      <th>1</th>\n",
       "      <td>Row1</td>\n",
       "      <td>RT @SpaceX: BFR is capable of transporting satellites to orbit, crew and cargo to the @Space_Station and completing missions to the Moon an?</td>\n",
       "      <td>2017-09-29 10:44:54</td>\n",
       "      <td>SpaceX</td>\n",
       "      <td>elonmusk</td>\n",
       "    </tr>\n",
       "    <tr>\n",
       "      <th>2</th>\n",
       "      <td>Row2</td>\n",
       "      <td>@bigajm Yup :)</td>\n",
       "      <td>2017-09-29 10:39:57</td>\n",
       "      <td>NaN</td>\n",
       "      <td>elonmusk</td>\n",
       "    </tr>\n",
       "    <tr>\n",
       "      <th>3</th>\n",
       "      <td>Row3</td>\n",
       "      <td>Part 2 https://t.co/8Fvu57muhM</td>\n",
       "      <td>2017-09-29 09:56:12</td>\n",
       "      <td>NaN</td>\n",
       "      <td>elonmusk</td>\n",
       "    </tr>\n",
       "    <tr>\n",
       "      <th>4</th>\n",
       "      <td>Row4</td>\n",
       "      <td>Fly to most places on Earth in under 30 mins and anywhere in under 60. Cost per seat should be? https://t.co/dGYDdGttYd</td>\n",
       "      <td>2017-09-29 09:19:21</td>\n",
       "      <td>NaN</td>\n",
       "      <td>elonmusk</td>\n",
       "    </tr>\n",
       "  </tbody>\n",
       "</table>\n",
       "</div>"
      ],
      "text/plain": [
       "  row ID  \\\n",
       "0   Row0   \n",
       "1   Row1   \n",
       "2   Row2   \n",
       "3   Row3   \n",
       "4   Row4   \n",
       "\n",
       "                                                                                                                                          Tweet  \\\n",
       "0  @MeltingIce Assuming max acceleration of 2 to 3 g's, but in a comfortable direction. Will feel like a mild to moder? https://t.co/fpjmEgrHfC   \n",
       "1  RT @SpaceX: BFR is capable of transporting satellites to orbit, crew and cargo to the @Space_Station and completing missions to the Moon an?   \n",
       "2                                                                                                                                @bigajm Yup :)   \n",
       "3                                                                                                                Part 2 https://t.co/8Fvu57muhM   \n",
       "4                       Fly to most places on Earth in under 30 mins and anywhere in under 60. Cost per seat should be? https://t.co/dGYDdGttYd   \n",
       "\n",
       "                  Time Retweet from      User  \n",
       "0  2017-09-29 17:39:19          NaN  elonmusk  \n",
       "1  2017-09-29 10:44:54       SpaceX  elonmusk  \n",
       "2  2017-09-29 10:39:57          NaN  elonmusk  \n",
       "3  2017-09-29 09:56:12          NaN  elonmusk  \n",
       "4  2017-09-29 09:19:21          NaN  elonmusk  "
      ]
     },
     "execution_count": 9,
     "metadata": {},
     "output_type": "execute_result"
    }
   ],
   "source": [
    "data.head()"
   ]
  },
  {
   "cell_type": "code",
   "execution_count": 12,
   "id": "09cd3853",
   "metadata": {},
   "outputs": [
    {
     "data": {
      "text/html": [
       "<div>\n",
       "<style scoped>\n",
       "    .dataframe tbody tr th:only-of-type {\n",
       "        vertical-align: middle;\n",
       "    }\n",
       "\n",
       "    .dataframe tbody tr th {\n",
       "        vertical-align: top;\n",
       "    }\n",
       "\n",
       "    .dataframe thead th {\n",
       "        text-align: right;\n",
       "    }\n",
       "</style>\n",
       "<table border=\"1\" class=\"dataframe\">\n",
       "  <thead>\n",
       "    <tr style=\"text-align: right;\">\n",
       "      <th></th>\n",
       "      <th>row ID</th>\n",
       "      <th>Tweet</th>\n",
       "    </tr>\n",
       "  </thead>\n",
       "  <tbody>\n",
       "    <tr>\n",
       "      <th>0</th>\n",
       "      <td>Row0</td>\n",
       "      <td>@MeltingIce Assuming max acceleration of 2 to 3 g's, but in a comfortable direction. Will feel like a mild to moder? https://t.co/fpjmEgrHfC</td>\n",
       "    </tr>\n",
       "    <tr>\n",
       "      <th>1</th>\n",
       "      <td>Row1</td>\n",
       "      <td>RT @SpaceX: BFR is capable of transporting satellites to orbit, crew and cargo to the @Space_Station and completing missions to the Moon an?</td>\n",
       "    </tr>\n",
       "    <tr>\n",
       "      <th>2</th>\n",
       "      <td>Row2</td>\n",
       "      <td>@bigajm Yup :)</td>\n",
       "    </tr>\n",
       "    <tr>\n",
       "      <th>3</th>\n",
       "      <td>Row3</td>\n",
       "      <td>Part 2 https://t.co/8Fvu57muhM</td>\n",
       "    </tr>\n",
       "    <tr>\n",
       "      <th>4</th>\n",
       "      <td>Row4</td>\n",
       "      <td>Fly to most places on Earth in under 30 mins and anywhere in under 60. Cost per seat should be? https://t.co/dGYDdGttYd</td>\n",
       "    </tr>\n",
       "  </tbody>\n",
       "</table>\n",
       "</div>"
      ],
      "text/plain": [
       "  row ID  \\\n",
       "0   Row0   \n",
       "1   Row1   \n",
       "2   Row2   \n",
       "3   Row3   \n",
       "4   Row4   \n",
       "\n",
       "                                                                                                                                          Tweet  \n",
       "0  @MeltingIce Assuming max acceleration of 2 to 3 g's, but in a comfortable direction. Will feel like a mild to moder? https://t.co/fpjmEgrHfC  \n",
       "1  RT @SpaceX: BFR is capable of transporting satellites to orbit, crew and cargo to the @Space_Station and completing missions to the Moon an?  \n",
       "2                                                                                                                                @bigajm Yup :)  \n",
       "3                                                                                                                Part 2 https://t.co/8Fvu57muhM  \n",
       "4                       Fly to most places on Earth in under 30 mins and anywhere in under 60. Cost per seat should be? https://t.co/dGYDdGttYd  "
      ]
     },
     "execution_count": 12,
     "metadata": {},
     "output_type": "execute_result"
    }
   ],
   "source": [
    "data = pd.read_csv('/home/iris/paulshab/Mynalabs_NLP/data/data_elonmusk.csv', encoding='windows-1252')\n",
    "df = data\n",
    "data = data.drop(['Time', 'Retweet from', 'User'], axis=1)\n",
    "data.head()"
   ]
  },
  {
   "cell_type": "code",
   "execution_count": 24,
   "id": "8980bd84",
   "metadata": {},
   "outputs": [],
   "source": [
    "import nltk \n",
    "import wget\n",
    "import preprocessor as p"
   ]
  },
  {
   "cell_type": "code",
   "execution_count": 25,
   "id": "92ea50db",
   "metadata": {},
   "outputs": [],
   "source": [
    "p.set_options(p.OPT.URL, p.OPT.EMOJI, p.OPT.HASHTAG, p.OPT.RESERVED, p.OPT.SMILEY, p.OPT.MENTION)\n",
    "url = 'https://raw.githubusercontent.com/camaro1200/Tweet_Processing/main/data_elonmusk.csv'\n",
    "\n",
    "def clean_mode1(df, min_len):\n",
    "    \"\"\"\n",
    "        - deltes all tweets with hastags\n",
    "        - removes hashtags/mentions/reserved words/Emojis/Smileys\n",
    "    \"\"\"\n",
    "    \n",
    "    for i,v in enumerate(df['Tweet']):\n",
    "        parsed_tweet = p.parse(v)\n",
    "        if parsed_tweet.hashtags != None:\n",
    "            df = df.drop(i)\n",
    "        else:\n",
    "            cleaned_tweet = p.clean(v)\n",
    "            tokens = nltk.word_tokenize(cleaned_tweet)\n",
    "            if len(tokens) < min_len:\n",
    "                df = df.drop(i)\n",
    "            else:\n",
    "                df.loc[i,'Cleaned_Tweet'] = cleaned_tweet\n",
    "        \n",
    "     \n",
    "    return df\n",
    "\n",
    "\n",
    "class CreateDataset():\n",
    "    def __init__(self, mode, ltweet, ofile):\n",
    "        self.ltweet = ltweet\n",
    "        self.ifile = wget.download(url)\n",
    "        self.mode = mode\n",
    "        self.ofile = ofile\n",
    "    \n",
    "    def load_dataset(self):\n",
    "        \n",
    "        df = pd.read_csv(self.ifile, encoding='windows-1252')\n",
    "        df = df.drop(['Time', 'Retweet from', 'User'], axis=1)\n",
    "        \n",
    "        if self.mode == 0:\n",
    "            print(\"no changes made\")\n",
    "        elif self.mode == 1:\n",
    "            df = clean_mode1(df, self.ltweet)\n",
    "        else:\n",
    "            print (\"no such mode found, please enter valid mode\")\n",
    "            sys.exit(2)\n",
    "        \n",
    "        #df.to_csv(self.ofile, index=False)\n",
    "        \n",
    "        return df\n",
    "        "
   ]
  },
  {
   "cell_type": "code",
   "execution_count": 28,
   "id": "2cf5d470",
   "metadata": {},
   "outputs": [
    {
     "name": "stdout",
     "output_type": "stream",
     "text": [
      "100% [............................................................................] 452905 / 452905"
     ]
    }
   ],
   "source": [
    "dataset = CreateDataset(mode=1, ltweet=3, ofile=\"exit.txt\")\n",
    "new_df = dataset.load_dataset()"
   ]
  },
  {
   "cell_type": "code",
   "execution_count": 29,
   "id": "bf1744b2",
   "metadata": {},
   "outputs": [
    {
     "data": {
      "text/html": [
       "<div>\n",
       "<style scoped>\n",
       "    .dataframe tbody tr th:only-of-type {\n",
       "        vertical-align: middle;\n",
       "    }\n",
       "\n",
       "    .dataframe tbody tr th {\n",
       "        vertical-align: top;\n",
       "    }\n",
       "\n",
       "    .dataframe thead th {\n",
       "        text-align: right;\n",
       "    }\n",
       "</style>\n",
       "<table border=\"1\" class=\"dataframe\">\n",
       "  <thead>\n",
       "    <tr style=\"text-align: right;\">\n",
       "      <th></th>\n",
       "      <th>row ID</th>\n",
       "      <th>Tweet</th>\n",
       "      <th>Cleaned_Tweet</th>\n",
       "    </tr>\n",
       "  </thead>\n",
       "  <tbody>\n",
       "    <tr>\n",
       "      <th>0</th>\n",
       "      <td>Row0</td>\n",
       "      <td>@MeltingIce Assuming max acceleration of 2 to 3 g's, but in a comfortable direction. Will feel like a mild to moder? https://t.co/fpjmEgrHfC</td>\n",
       "      <td>Assuming max acceleration of 2 to 3 g's, but in a comfortable direction. Will feel like a mild to moder?</td>\n",
       "    </tr>\n",
       "    <tr>\n",
       "      <th>1</th>\n",
       "      <td>Row1</td>\n",
       "      <td>RT @SpaceX: BFR is capable of transporting satellites to orbit, crew and cargo to the @Space_Station and completing missions to the Moon an?</td>\n",
       "      <td>: BFR is capable of transporting satellites to orbit, crew and cargo to the and completing missions to the Moon an?</td>\n",
       "    </tr>\n",
       "    <tr>\n",
       "      <th>4</th>\n",
       "      <td>Row4</td>\n",
       "      <td>Fly to most places on Earth in under 30 mins and anywhere in under 60. Cost per seat should be? https://t.co/dGYDdGttYd</td>\n",
       "      <td>Fly to most places on Earth in under 30 mins and anywhere in under 60. Cost per seat should be?</td>\n",
       "    </tr>\n",
       "    <tr>\n",
       "      <th>5</th>\n",
       "      <td>Row5</td>\n",
       "      <td>RT @SpaceX: Supporting the creation of a permanent, self-sustaining human presence on Mars. https://t.co/kCtBLPbSg8 https://t.co/ra6hKsrOcG</td>\n",
       "      <td>: Supporting the creation of a permanent, self-sustaining human presence on Mars.</td>\n",
       "    </tr>\n",
       "    <tr>\n",
       "      <th>6</th>\n",
       "      <td>Row6</td>\n",
       "      <td>BFR will take you anywhere on Earth in less than 60 mins https://t.co/HWt9BZ1FI9</td>\n",
       "      <td>BFR will take you anywhere on Earth in less than 60 mins</td>\n",
       "    </tr>\n",
       "  </tbody>\n",
       "</table>\n",
       "</div>"
      ],
      "text/plain": [
       "  row ID  \\\n",
       "0   Row0   \n",
       "1   Row1   \n",
       "4   Row4   \n",
       "5   Row5   \n",
       "6   Row6   \n",
       "\n",
       "                                                                                                                                          Tweet  \\\n",
       "0  @MeltingIce Assuming max acceleration of 2 to 3 g's, but in a comfortable direction. Will feel like a mild to moder? https://t.co/fpjmEgrHfC   \n",
       "1  RT @SpaceX: BFR is capable of transporting satellites to orbit, crew and cargo to the @Space_Station and completing missions to the Moon an?   \n",
       "4                       Fly to most places on Earth in under 30 mins and anywhere in under 60. Cost per seat should be? https://t.co/dGYDdGttYd   \n",
       "5   RT @SpaceX: Supporting the creation of a permanent, self-sustaining human presence on Mars. https://t.co/kCtBLPbSg8 https://t.co/ra6hKsrOcG   \n",
       "6                                                              BFR will take you anywhere on Earth in less than 60 mins https://t.co/HWt9BZ1FI9   \n",
       "\n",
       "                                                                                                         Cleaned_Tweet  \n",
       "0             Assuming max acceleration of 2 to 3 g's, but in a comfortable direction. Will feel like a mild to moder?  \n",
       "1  : BFR is capable of transporting satellites to orbit, crew and cargo to the and completing missions to the Moon an?  \n",
       "4                      Fly to most places on Earth in under 30 mins and anywhere in under 60. Cost per seat should be?  \n",
       "5                                    : Supporting the creation of a permanent, self-sustaining human presence on Mars.  \n",
       "6                                                             BFR will take you anywhere on Earth in less than 60 mins  "
      ]
     },
     "execution_count": 29,
     "metadata": {},
     "output_type": "execute_result"
    }
   ],
   "source": [
    "new_df.head()"
   ]
  },
  {
   "cell_type": "code",
   "execution_count": 16,
   "id": "d18eb489",
   "metadata": {},
   "outputs": [
    {
     "data": {
      "text/plain": [
       "['hello', 'how', 'are', 'you']"
      ]
     },
     "execution_count": 16,
     "metadata": {},
     "output_type": "execute_result"
    }
   ],
   "source": [
    "tokens = nltk.word_tokenize(\"hello how are you\")\n",
    "tokens"
   ]
  },
  {
   "cell_type": "code",
   "execution_count": null,
   "id": "e268c22f",
   "metadata": {},
   "outputs": [],
   "source": []
  }
 ],
 "metadata": {
  "kernelspec": {
   "display_name": "nlp_environ",
   "language": "python",
   "name": "nlp_environ"
  },
  "language_info": {
   "codemirror_mode": {
    "name": "ipython",
    "version": 3
   },
   "file_extension": ".py",
   "mimetype": "text/x-python",
   "name": "python",
   "nbconvert_exporter": "python",
   "pygments_lexer": "ipython3",
   "version": "3.7.6"
  }
 },
 "nbformat": 4,
 "nbformat_minor": 5
}
