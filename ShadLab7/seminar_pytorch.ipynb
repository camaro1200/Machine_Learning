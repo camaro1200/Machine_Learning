{
 "cells": [
  {
   "cell_type": "markdown",
   "metadata": {},
   "source": [
    "### Generating names with recurrent neural networks\n",
    "\n",
    "This time you'll find yourself delving into the heart (and other intestines) of recurrent neural networks on a class of toy problems.\n",
    "\n",
    "Struggle to find a name for the variable? Let's see how you'll come up with a name for your son/daughter. Surely no human has expertize over what is a good child name, so let us train RNN instead;\n",
    "\n",
    "It's dangerous to go alone, take these:"
   ]
  },
  {
   "cell_type": "code",
   "execution_count": 1,
   "metadata": {},
   "outputs": [],
   "source": [
    "import numpy as np\n",
    "import matplotlib.pyplot as plt\n",
    "%matplotlib inline\n",
    "\n",
    "from IPython.display import clear_output\n",
    "from random import sample\n",
    "import os\n",
    "\n",
    "import torch, torch.nn as nn\n",
    "import torch.nn.functional as F\n",
    "\n",
    "#!wget https://raw.githubusercontent.com/yandexdataschool/Practical_DL/fall19/week06_rnn/names -O names"
   ]
  },
  {
   "cell_type": "markdown",
   "metadata": {},
   "source": [
    "# Our data\n",
    "The dataset contains ~8k earthling names from different cultures, all in latin transcript.\n",
    "\n",
    "This notebook has been designed so as to allow you to quickly swap names for something similar: deep learning article titles, IKEA furniture, pokemon names, etc."
   ]
  },
  {
   "cell_type": "code",
   "execution_count": 2,
   "metadata": {},
   "outputs": [],
   "source": [
    "start_token = \" \"\n",
    "\n",
    "#read_file = \"/home/iris/paulshab/ShadLab7/shakespeare.txt\"\n",
    "read_file = \"/home/iris/paulshab/ShadLab7/names\"\n",
    "\n",
    "with open(read_file) as f:\n",
    "    lines = f.read()[:-1].split('\\n')\n",
    "    lines = [start_token + line for line in lines]"
   ]
  },
  {
   "cell_type": "code",
   "execution_count": 3,
   "metadata": {},
   "outputs": [
    {
     "name": "stdout",
     "output_type": "stream",
     "text": [
      "n samples =  7944\n",
      " Abagael\n",
      " Claresta\n",
      " Glory\n",
      " Liliane\n",
      " Prissie\n",
      " Geeta\n",
      " Giovanne\n",
      " Piggy\n"
     ]
    }
   ],
   "source": [
    "print ('n samples = ',len(lines))\n",
    "for x in lines[::1000]:\n",
    "    print (x)"
   ]
  },
  {
   "cell_type": "code",
   "execution_count": 12,
   "metadata": {},
   "outputs": [
    {
     "name": "stdout",
     "output_type": "stream",
     "text": [
      "max length = 16\n"
     ]
    },
    {
     "data": {
      "image/png": "[encoded data removed]",
      "text/plain": [
       "<Figure size 432x288 with 1 Axes>"
      ]
     },
     "metadata": {
      "needs_background": "light"
     },
     "output_type": "display_data"
    }
   ],
   "source": [
    "MAX_LENGTH = max(map(len, lines))\n",
    "print(\"max length =\", MAX_LENGTH)\n",
    "\n",
    "plt.title('Sequence length distribution')\n",
    "plt.hist(list(map(len, lines)),bins=25);"
   ]
  },
  {
   "cell_type": "code",
   "execution_count": 5,
   "metadata": {},
   "outputs": [
    {
     "data": {
      "text/plain": [
       "7944"
      ]
     },
     "execution_count": 5,
     "metadata": {},
     "output_type": "execute_result"
    }
   ],
   "source": [
    "len(lines)"
   ]
  },
  {
   "cell_type": "code",
   "execution_count": 4,
   "metadata": {},
   "outputs": [],
   "source": [
    "chars = list(set(lines))\n",
    "len(chars)\n",
    "\n",
    "data_size, vocab_size = len(lines), len(chars)\n",
    "\n",
    "char_to_indx = {ch:i for i, ch in enumerate(chars)}\n",
    "indx_to_char = {i:ch for i, ch in enumerate(chars)}"
   ]
  },
  {
   "cell_type": "markdown",
   "metadata": {},
   "source": [
    "# Text processing\n",
    "\n",
    "First we need next to collect a \"vocabulary\" of all unique tokens i.e. unique characters. We can then encode inputs as a sequence of character ids."
   ]
  },
  {
   "cell_type": "code",
   "execution_count": 5,
   "metadata": {},
   "outputs": [
    {
     "name": "stdout",
     "output_type": "stream",
     "text": [
      "{'m', 'O', 'b', 'c', 'l', 'y', '-', 'u', 'g', 'j', 't', 'q', 'J', 'E', 'v', 'r', 'z', 'D', 'B', 'X', 's', 'S', 'G', 'R', 'h', 'w', 'M', 'Y', 'L', 'K', 'V', 'n', 'U', 'N', 'T', 'k', 'x', 'o', 'H', ' ', 'W', 'f', 'p', 'Z', 'd', \"'\", 'P', 'A', 'a', 'F', 'I', 'Q', 'e', 'C', 'i'}\n",
      "num_tokens =  55\n"
     ]
    }
   ],
   "source": [
    "#all unique characters go here\n",
    "\n",
    "#tokens = <all unique characters in the dataset>\n",
    "\n",
    "def split(word):\n",
    "    char_list = []\n",
    "    for char in word:\n",
    "        char_list.append(char)\n",
    "#         if char != ' ':\n",
    "#             char_list.append(char)\n",
    "    return char_list\n",
    "\n",
    "tokens = []\n",
    "for line in lines:\n",
    "    char_list = split(line)\n",
    "    for char in char_list:\n",
    "        tokens.append(char)\n",
    "\n",
    "tokens = set(tokens)\n",
    "\n",
    "print(tokens)\n",
    "\n",
    "tokens = list(tokens)\n",
    "\n",
    "num_tokens = len(tokens)\n",
    "print ('num_tokens = ', num_tokens)\n",
    "\n",
    "#assert 50 < num_tokens < 60, \"Names should contain within 50 and 60 unique tokens depending on encoding\""
   ]
  },
  {
   "cell_type": "markdown",
   "metadata": {},
   "source": [
    "### Convert characters to integers\n",
    "\n",
    "Torch is built for crunching numbers, not strings. \n",
    "To train our neural network, we'll need to replace characters with their indices in tokens list.\n",
    "\n",
    "Let's compose a dictionary that does this mapping."
   ]
  },
  {
   "cell_type": "code",
   "execution_count": 6,
   "metadata": {},
   "outputs": [],
   "source": [
    "#token_to_id = <dictionary of symbol -> its identifier (index in tokens list)>\n",
    "token_to_id = {ch:i for i, ch in enumerate(tokens)}\n",
    "id_to_token = {i:ch for i, ch in enumerate(tokens)}"
   ]
  },
  {
   "cell_type": "code",
   "execution_count": 7,
   "metadata": {},
   "outputs": [
    {
     "name": "stdout",
     "output_type": "stream",
     "text": [
      "Seems alright!\n"
     ]
    }
   ],
   "source": [
    "assert len(tokens) == len(token_to_id), \"dictionaries must have same size\"\n",
    "\n",
    "for i in range(num_tokens):\n",
    "    assert token_to_id[tokens[i]] == i, \"token identifier must be it's position in tokens list\"\n",
    "\n",
    "print(\"Seems alright!\")"
   ]
  },
  {
   "cell_type": "code",
   "execution_count": 8,
   "metadata": {},
   "outputs": [],
   "source": [
    "def to_matrix(lines, max_len=None, pad=token_to_id[' '], dtype='int32', batch_first = True):\n",
    "    \"\"\"Casts a list of names into rnn-digestable matrix\"\"\"\n",
    "    \n",
    "    max_len = max_len or max(map(len, lines))\n",
    "    lines_ix = np.zeros([len(lines), max_len], dtype) + pad\n",
    "\n",
    "    for i in range(len(lines)):\n",
    "        line_ix = [token_to_id[c] for c in lines[i]]\n",
    "        lines_ix[i, :len(line_ix)] = line_ix\n",
    "        \n",
    "    if not batch_first: # convert [batch, time] into [time, batch]\n",
    "        lines_ix = np.transpose(lines_ix)\n",
    "\n",
    "    return lines_ix"
   ]
  },
  {
   "cell_type": "code",
   "execution_count": 9,
   "metadata": {},
   "outputs": [
    {
     "name": "stdout",
     "output_type": "stream",
     "text": [
      " Abagael\n",
      " Glory\n",
      " Prissie\n",
      " Giovanne\n",
      "[[39 47  2 48  8 48 52  4 39]\n",
      " [39 22  4 37 15  5 39 39 39]\n",
      " [39 46 15 54 20 20 54 52 39]\n",
      " [39 22 54 37 14 48 31 31 52]]\n"
     ]
    }
   ],
   "source": [
    "#Example: cast 4 random names to matrices, pad with zeros\n",
    "print('\\n'.join(lines[::2000]))\n",
    "print(to_matrix(lines[::2000]))"
   ]
  },
  {
   "cell_type": "markdown",
   "metadata": {},
   "source": [
    "## RNN from Scratch"
   ]
  },
  {
   "cell_type": "markdown",
   "metadata": {},
   "source": [
    "- Why do you sample and not take the biggest prob?"
   ]
  },
  {
   "cell_type": "markdown",
   "metadata": {},
   "source": [
    "<img src=\"IMG_6768.jpg\" width=500>"
   ]
  },
  {
   "cell_type": "markdown",
   "metadata": {},
   "source": [
    "<img src=\"./IMG_6769.jpg\" width=500>"
   ]
  },
  {
   "cell_type": "markdown",
   "metadata": {},
   "source": [
    "<img src=\"IMG_6770.jpg\" width=500>"
   ]
  },
  {
   "cell_type": "markdown",
   "metadata": {},
   "source": [
    "# Recurrent neural network\n",
    "\n",
    "We can rewrite recurrent neural network as a consecutive application of dense layer to input $x_t$ and previous rnn state $h_t$. This is exactly what we're gonna do now.\n",
    "<img src=\"./rnn.png\" width=480>\n",
    "\n",
    "Since we're training a language model, there should also be:\n",
    "* An embedding layer that converts character id x_t to a vector.\n",
    "* An output layer that predicts probabilities of next phoneme"
   ]
  },
  {
   "cell_type": "code",
   "execution_count": 21,
   "metadata": {},
   "outputs": [
    {
     "name": "stdout",
     "output_type": "stream",
     "text": [
      "tensor([[ 6, 40, 24, 33, 44, 33,  0, 12]])\n"
     ]
    },
    {
     "data": {
      "text/plain": [
       "tensor([[[ 2.2417,  0.7451, -1.3035, -1.6020, -1.0485,  1.9074, -0.4141,\n",
       "           1.3691, -0.4117, -0.0320],\n",
       "         [-0.2035,  0.4741,  0.0829, -0.4370,  1.7775, -1.2368, -0.8618,\n",
       "           1.0661, -1.6345, -0.4146],\n",
       "         [-1.2896, -0.3127, -0.4131,  1.2063, -0.4347,  1.7969, -1.5622,\n",
       "           0.0623, -1.6734, -0.3407],\n",
       "         [ 2.1481,  0.2812,  1.0802,  0.5862,  0.0598,  0.2400,  0.7990,\n",
       "           0.1333, -0.6883,  0.1057],\n",
       "         [-0.5329,  2.2235, -0.0752,  0.3196, -1.3173, -1.1512,  1.5680,\n",
       "           0.9124,  1.2879, -0.6022],\n",
       "         [ 2.1481,  0.2812,  1.0802,  0.5862,  0.0598,  0.2400,  0.7990,\n",
       "           0.1333, -0.6883,  0.1057],\n",
       "         [-0.8774, -0.7939, -1.6465, -0.2427,  0.0752,  0.8167, -1.0168,\n",
       "           0.4705,  0.6958, -1.5691],\n",
       "         [ 0.1045, -0.8414, -0.8063,  0.2777,  0.4459,  0.4962, -1.0370,\n",
       "          -0.2371,  0.8984,  0.4905]]], grad_fn=<EmbeddingBackward>)"
      ]
     },
     "execution_count": 21,
     "metadata": {},
     "output_type": "execute_result"
    }
   ],
   "source": [
    "len(tokens)\n",
    "k = nn.Embedding(num_tokens, 10)\n",
    "\n",
    "batch_ix = to_matrix(lines[:1])\n",
    "batch_ix = torch.tensor(batch_ix, dtype=torch.int64)\n",
    "print(batch_ix)\n",
    "\n",
    "embedding = k(batch_ix)\n",
    "embedding"
   ]
  },
  {
   "cell_type": "code",
   "execution_count": 16,
   "metadata": {},
   "outputs": [],
   "source": [
    "m = nn.Tanh()\n",
    "soft_max = nn.Softmax(dim=1)\n",
    "\n",
    "class RNN(nn.Module):\n",
    "    \"\"\"\n",
    "    Implement the scheme above as torch module\n",
    "    \"\"\"\n",
    "    def __init__(self, num_tokens=len(tokens), embedding_size=16, rnn_num_units=64):\n",
    "        super(self.__class__,self).__init__()\n",
    "        self.num_units = rnn_num_units\n",
    "        \n",
    "        self.embedding = nn.Embedding(num_tokens, embedding_size)   # encoder/decoder\n",
    "        self.rnn_update = nn.Linear(embedding_size + rnn_num_units, rnn_num_units)   \n",
    "        self.rnn_to_logits = nn.Linear(rnn_num_units, num_tokens)          \n",
    "        \n",
    "    def forward(self, x, h_prev):\n",
    "        \"\"\"\n",
    "        This method computes h_next(x, h_prev) and log P(x_next | h_next)\n",
    "        We'll call it repeatedly to produce the whole sequence.\n",
    "        \n",
    "        :param x: batch of character ids, int64[batch_size]\n",
    "        :param h_prev: previous rnn hidden states, float32 matrix [batch, rnn_num_units]\n",
    "        \"\"\"\n",
    "        # get vector embedding of x\n",
    "        x_emb = self.embedding(x)\n",
    "        #print(\"x_emb:\", x_emb.shape)\n",
    "        \n",
    "        h_next = torch.cat((h_prev, x_emb), dim=1)\n",
    "        #print(\"concat: \", h_next.shape)\n",
    "        \n",
    "        h_next = m(h_next @ self.rnn_update.weight.T)\n",
    "        #print(\"h_next\", h_next.shape)\n",
    "        \n",
    "        #compute logits for next character probs\n",
    "        logits = h_next @ self.rnn_to_logits.weight.T\n",
    "        #print(\"logits\", F.log_softmax(logits, -1).shape)\n",
    " \n",
    "        return h_next, F.log_softmax(logits, -1)\n",
    "    \n",
    "    \n",
    "    def initial_state(self, batch_size):\n",
    "        \"\"\" return rnn state before it processes first input (aka h0) \"\"\"\n",
    "        return torch.zeros(batch_size, self.num_units)"
   ]
  },
  {
   "cell_type": "markdown",
   "metadata": {},
   "source": [
    "### Forward Pass for 1 Batch\n",
    "\n",
    "Once we've defined a single RNN step, we can apply it in a loop to get predictions on each step."
   ]
  },
  {
   "cell_type": "code",
   "execution_count": 15,
   "metadata": {},
   "outputs": [
    {
     "name": "stdout",
     "output_type": "stream",
     "text": [
      "batch:  torch.Size([5, 24])\n",
      "\n",
      "batch_size, name_len:  5 24\n",
      "\n",
      "initial hidden state:  torch.Size([5, 64])\n",
      "\n",
      "rnn update:  torch.Size([64, 89])\n",
      "\n",
      "to_logits:  torch.Size([62, 64])\n",
      "\n",
      "ht-1:  torch.Size([5, 64])\n",
      "xt:  torch.Size([5])\n",
      "rnn update:  torch.Size([64, 89])\n"
     ]
    }
   ],
   "source": [
    "rnn = RNN(embedding_size=25)\n",
    "\n",
    "# get name matrix && convert to Tensor\n",
    "batch_ix = to_matrix(lines[:5])\n",
    "batch_ix = torch.tensor(batch_ix, dtype=torch.int64)\n",
    "print(\"batch: \", batch_ix.shape)\n",
    "\n",
    "# get \"name\" matrix size\n",
    "batch_size, max_length = batch_ix.size()\n",
    "print(\"\\nbatch_size, name_len: \", batch_size, max_length)\n",
    "\n",
    "# get h0 state\n",
    "hid_state = rnn.initial_state(batch_size)\n",
    "print(\"\\ninitial hidden state: \", hid_state.shape)\n",
    "\n",
    "print(\"\\nrnn update: \", rnn.rnn_update.weight.shape)\n",
    "\n",
    "print(\"\\nto_logits: \", rnn.rnn_to_logits.weight.shape)\n",
    "\n",
    "# pass xt to RNN\n",
    "for x_t in batch_ix.transpose(0,1):      # why transpose?\n",
    "    print(\"\\nht-1: \", hid_state.shape)\n",
    "    print(\"xt: \", x_t.shape)\n",
    "    emb = rnn(x_t, hid_state)\n",
    "    print(\"rnn update: \", rnn.rnn_update.weight.shape)\n",
    "    break\n",
    "\n"
   ]
  },
  {
   "cell_type": "markdown",
   "metadata": {},
   "source": [
    "## Calculate log P for all batches"
   ]
  },
  {
   "cell_type": "code",
   "execution_count": 21,
   "metadata": {},
   "outputs": [],
   "source": [
    "def rnn_loop(rnn, batch_ix):\n",
    "    \n",
    "    \"\"\"\n",
    "    Computes log P(next_character) for all time-steps in lines_ix\n",
    "    :param lines_ix: an int32 matrix of shape [batch, time], output of to_matrix(lines)\n",
    "    \"\"\"\n",
    "    batch_size, max_length = batch_ix.size()\n",
    "    hid_state = rnn.initial_state(batch_size)\n",
    "    logprobs = []\n",
    "\n",
    "    for x_t in batch_ix.transpose(0,1):\n",
    "        hid_state, logp_next = rnn(x_t, hid_state)  # <-- here we call your one-step code\n",
    "        logprobs.append(logp_next)\n",
    "        #print(hid_state)\n",
    "    return torch.stack(logprobs, dim=1)\n",
    "\n",
    "#rnn_loop(rnn, batch_ix)"
   ]
  },
  {
   "cell_type": "code",
   "execution_count": 17,
   "metadata": {},
   "outputs": [
    {
     "name": "stdout",
     "output_type": "stream",
     "text": [
      "5\n"
     ]
    }
   ],
   "source": [
    "batch_ix = to_matrix(lines[:5])\n",
    "batch_ix = torch.tensor(batch_ix, dtype=torch.int64)\n",
    "\n",
    "logp_seq = rnn_loop(rnn, batch_ix)\n",
    "print(len(logp_seq))\n",
    "\n",
    "assert torch.max(logp_seq).data.numpy() <= 0\n",
    "assert tuple(logp_seq.size()) ==  batch_ix.shape + (num_tokens,)"
   ]
  },
  {
   "cell_type": "markdown",
   "metadata": {},
   "source": [
    "### Likelihood and gradients\n",
    "\n",
    "We can now train our neural network to minimize crossentropy (maximize log-likelihood) with the actual next tokens.\n",
    "\n",
    "To do so in a vectorized manner, we take `batch_ix[:, 1:]` - a matrix of token ids shifted i step to the left so i-th element is acutally the \"next token\" for i-th prediction"
   ]
  },
  {
   "cell_type": "code",
   "execution_count": 18,
   "metadata": {},
   "outputs": [
    {
     "name": "stdout",
     "output_type": "stream",
     "text": [
      "torch.Size([5, 23, 1])\n"
     ]
    }
   ],
   "source": [
    "predictions_logp = logp_seq[:, :-1]\n",
    "actual_next_tokens = batch_ix[:, 1:]\n",
    "\n",
    "# take the actual letter in word from logits matrix\n",
    "logp_next = torch.gather(predictions_logp, dim=2, index=actual_next_tokens[:,:,None])\n",
    "print(logp_next.shape)\n",
    "\n",
    "loss = -logp_next.mean()"
   ]
  },
  {
   "cell_type": "code",
   "execution_count": 19,
   "metadata": {},
   "outputs": [
    {
     "name": "stdout",
     "output_type": "stream",
     "text": [
      "all log_p size torch.Size([5, 24, 62])\n",
      "next log_p size torch.Size([5, 23, 62])\n",
      "\n",
      "actual batch next tokens\n",
      " tensor([[18, 26,  1,  4,  4, 49, 13, 26, 50, 50, 50, 50, 50, 50, 50, 50, 50, 50,\n",
      "         50, 50, 50, 50, 50],\n",
      "        [50, 50, 50, 50, 50, 50, 50, 50, 50, 50, 50, 50, 50, 50, 50, 50, 50, 50,\n",
      "         50, 50, 50, 50, 50],\n",
      "        [50, 50, 50, 50, 50, 50, 50, 50, 50, 50, 50, 50, 50, 50, 50, 50, 50, 50,\n",
      "         50, 50, 50, 50, 50],\n",
      "        [50, 50, 50, 50, 50, 50, 50, 50, 50, 50, 50, 50, 50, 50, 50, 50, 50, 50,\n",
      "         50, 50, 50, 50, 50],\n",
      "        [13,  1, 50, 13,  7, 49, 50,  1,  4, 54,  5, 50, 20, 49, 17, 49, 13, 13,\n",
      "         49, 30, 50,  1, 61]])\n",
      "\n",
      " actual letter prob\n",
      " tensor([[[-4.1656, -4.2230, -4.2230, -4.2230, -4.0996],\n",
      "         [-4.1308, -4.1395, -4.1395, -4.1395, -3.9421],\n",
      "         [-4.1171, -4.1149, -4.1149, -4.1149, -4.0612],\n",
      "         [-4.2530, -4.0828, -4.0828, -4.0828, -4.0739],\n",
      "         [-4.1403, -4.0759, -4.0759, -4.0759, -4.2083],\n",
      "         [-3.9846, -4.0768, -4.0768, -4.0768, -4.2121],\n",
      "         [-4.2874, -4.0770, -4.0770, -4.0770, -4.0627],\n",
      "         [-4.1538, -4.0768, -4.0768, -4.0768, -4.2161],\n",
      "         [-4.3664, -4.0767, -4.0767, -4.0767, -4.2175],\n",
      "         [-4.1656, -4.0766, -4.0766, -4.0766, -4.2637],\n",
      "         [-4.0391, -4.0766, -4.0766, -4.0766, -4.3355],\n",
      "         [-4.0909, -4.0766, -4.0766, -4.0766, -4.3011],\n",
      "         [-4.0811, -4.0766, -4.0766, -4.0766, -4.3410],\n",
      "         [-4.0748, -4.0766, -4.0766, -4.0766, -4.3274],\n",
      "         [-4.0772, -4.0766, -4.0766, -4.0766, -4.1541],\n",
      "         [-4.0758, -4.0766, -4.0766, -4.0766, -4.5641],\n",
      "         [-4.0766, -4.0766, -4.0766, -4.0766, -4.2486],\n",
      "         [-4.0766, -4.0766, -4.0766, -4.0766, -4.2984],\n",
      "         [-4.0766, -4.0766, -4.0766, -4.0766, -4.0281],\n",
      "         [-4.0766, -4.0766, -4.0766, -4.0766, -4.1657],\n",
      "         [-4.0766, -4.0766, -4.0766, -4.0766, -4.0222],\n",
      "         [-4.0766, -4.0766, -4.0766, -4.0766, -4.1458],\n",
      "         [-4.0766, -4.0766, -4.0766, -4.0766, -4.0891]]],\n",
      "       grad_fn=<PermuteBackward>)\n"
     ]
    }
   ],
   "source": [
    "print(\"all log_p size\", logp_seq.size())\n",
    "\n",
    "print(\"next log_p size\", predictions_logp.size())\n",
    "\n",
    "print(\"\\nactual batch next tokens\\n\", actual_next_tokens)\n",
    "\n",
    "print(\"\\n actual letter prob\\n\", logp_next.T)  # want to be minimal\n",
    "\n",
    "#logp_next"
   ]
  },
  {
   "cell_type": "code",
   "execution_count": 20,
   "metadata": {},
   "outputs": [],
   "source": [
    "loss.backward()"
   ]
  },
  {
   "cell_type": "code",
   "execution_count": 21,
   "metadata": {},
   "outputs": [
    {
     "ename": "AssertionError",
     "evalue": "Loss is not differentiable w.r.t. a weight with shape torch.Size([64]). Check forward method.",
     "output_type": "error",
     "traceback": [
      "\u001b[0;31m---------------------------------------------------------------------------\u001b[0m",
      "\u001b[0;31mAssertionError\u001b[0m                            Traceback (most recent call last)",
      "\u001b[0;32m<ipython-input-21-1c640fde2a27>\u001b[0m in \u001b[0;36m<module>\u001b[0;34m\u001b[0m\n\u001b[1;32m      1\u001b[0m \u001b[0;32mfor\u001b[0m \u001b[0mw\u001b[0m \u001b[0;32min\u001b[0m \u001b[0mrnn\u001b[0m\u001b[0;34m.\u001b[0m\u001b[0mparameters\u001b[0m\u001b[0;34m(\u001b[0m\u001b[0;34m)\u001b[0m\u001b[0;34m:\u001b[0m\u001b[0;34m\u001b[0m\u001b[0;34m\u001b[0m\u001b[0m\n\u001b[1;32m      2\u001b[0m     \u001b[0;32massert\u001b[0m \u001b[0mw\u001b[0m\u001b[0;34m.\u001b[0m\u001b[0mgrad\u001b[0m \u001b[0;32mis\u001b[0m \u001b[0;32mnot\u001b[0m \u001b[0;32mNone\u001b[0m \u001b[0;32mand\u001b[0m \u001b[0mtorch\u001b[0m\u001b[0;34m.\u001b[0m\u001b[0mmax\u001b[0m\u001b[0;34m(\u001b[0m\u001b[0mtorch\u001b[0m\u001b[0;34m.\u001b[0m\u001b[0mabs\u001b[0m\u001b[0;34m(\u001b[0m\u001b[0mw\u001b[0m\u001b[0;34m.\u001b[0m\u001b[0mgrad\u001b[0m\u001b[0;34m)\u001b[0m\u001b[0;34m)\u001b[0m\u001b[0;34m.\u001b[0m\u001b[0mdata\u001b[0m\u001b[0;34m.\u001b[0m\u001b[0mnumpy\u001b[0m\u001b[0;34m(\u001b[0m\u001b[0;34m)\u001b[0m \u001b[0;34m!=\u001b[0m \u001b[0;36m0\u001b[0m\u001b[0;34m,\u001b[0m\u001b[0;31m \u001b[0m\u001b[0;31m\\\u001b[0m\u001b[0;34m\u001b[0m\u001b[0;34m\u001b[0m\u001b[0m\n\u001b[0;32m----> 3\u001b[0;31m         \u001b[0;34m\"Loss is not differentiable w.r.t. a weight with shape %s. Check forward method.\"\u001b[0m \u001b[0;34m%\u001b[0m \u001b[0;34m(\u001b[0m\u001b[0mw\u001b[0m\u001b[0;34m.\u001b[0m\u001b[0msize\u001b[0m\u001b[0;34m(\u001b[0m\u001b[0;34m)\u001b[0m\u001b[0;34m,\u001b[0m\u001b[0;34m)\u001b[0m\u001b[0;34m\u001b[0m\u001b[0;34m\u001b[0m\u001b[0m\n\u001b[0m",
      "\u001b[0;31mAssertionError\u001b[0m: Loss is not differentiable w.r.t. a weight with shape torch.Size([64]). Check forward method."
     ]
    }
   ],
   "source": [
    "for w in rnn.parameters():\n",
    "    assert w.grad is not None and torch.max(torch.abs(w.grad)).data.numpy() != 0, \\\n",
    "        \"Loss is not differentiable w.r.t. a weight with shape %s. Check forward method.\" % (w.size(),)"
   ]
  },
  {
   "cell_type": "markdown",
   "metadata": {},
   "source": [
    "### The training loop\n",
    "\n",
    "We train our char-rnn exactly the same way we train any deep learning model: by minibatch sgd.\n",
    "\n",
    "The only difference is that this time we sample strings, not images or sound."
   ]
  },
  {
   "cell_type": "code",
   "execution_count": 20,
   "metadata": {},
   "outputs": [],
   "source": [
    "#rnn = CharRNNCell()\n",
    "opt = torch.optim.Adam(rnn.parameters())\n",
    "history = []"
   ]
  },
  {
   "cell_type": "code",
   "execution_count": 21,
   "metadata": {},
   "outputs": [
    {
     "data": {
      "image/png": "[encoded data removed]",
      "text/plain": [
       "<Figure size 432x288 with 1 Axes>"
      ]
     },
     "metadata": {
      "needs_background": "light"
     },
     "output_type": "display_data"
    },
    {
     "ename": "KeyboardInterrupt",
     "evalue": "",
     "output_type": "error",
     "traceback": [
      "\u001b[0;31m---------------------------------------------------------------------------\u001b[0m",
      "\u001b[0;31mKeyboardInterrupt\u001b[0m                         Traceback (most recent call last)",
      "\u001b[0;32m<ipython-input-21-e879f1f20ab7>\u001b[0m in \u001b[0;36m<module>\u001b[0;34m\u001b[0m\n\u001b[1;32m     15\u001b[0m \u001b[0;34m\u001b[0m\u001b[0m\n\u001b[1;32m     16\u001b[0m     \u001b[0;31m# train with backprop  <YOUR CODE>\u001b[0m\u001b[0;34m\u001b[0m\u001b[0;34m\u001b[0m\u001b[0;34m\u001b[0m\u001b[0m\n\u001b[0;32m---> 17\u001b[0;31m     \u001b[0mloss\u001b[0m\u001b[0;34m.\u001b[0m\u001b[0mbackward\u001b[0m\u001b[0;34m(\u001b[0m\u001b[0;34m)\u001b[0m\u001b[0;34m\u001b[0m\u001b[0;34m\u001b[0m\u001b[0m\n\u001b[0m\u001b[1;32m     18\u001b[0m     \u001b[0mopt\u001b[0m\u001b[0;34m.\u001b[0m\u001b[0mstep\u001b[0m\u001b[0;34m(\u001b[0m\u001b[0;34m)\u001b[0m\u001b[0;34m\u001b[0m\u001b[0;34m\u001b[0m\u001b[0m\n\u001b[1;32m     19\u001b[0m     \u001b[0mopt\u001b[0m\u001b[0;34m.\u001b[0m\u001b[0mzero_grad\u001b[0m\u001b[0;34m(\u001b[0m\u001b[0;34m)\u001b[0m\u001b[0;34m\u001b[0m\u001b[0;34m\u001b[0m\u001b[0m\n",
      "\u001b[0;32m/usr/local/lib/python3.6/dist-packages/torch/tensor.py\u001b[0m in \u001b[0;36mbackward\u001b[0;34m(self, gradient, retain_graph, create_graph)\u001b[0m\n\u001b[1;32m    183\u001b[0m                 \u001b[0mproducts\u001b[0m\u001b[0;34m.\u001b[0m \u001b[0mDefaults\u001b[0m \u001b[0mto\u001b[0m\u001b[0;31m \u001b[0m\u001b[0;31m`\u001b[0m\u001b[0;31m`\u001b[0m\u001b[0;32mFalse\u001b[0m\u001b[0;31m`\u001b[0m\u001b[0;31m`\u001b[0m\u001b[0;34m.\u001b[0m\u001b[0;34m\u001b[0m\u001b[0;34m\u001b[0m\u001b[0m\n\u001b[1;32m    184\u001b[0m         \"\"\"\n\u001b[0;32m--> 185\u001b[0;31m         \u001b[0mtorch\u001b[0m\u001b[0;34m.\u001b[0m\u001b[0mautograd\u001b[0m\u001b[0;34m.\u001b[0m\u001b[0mbackward\u001b[0m\u001b[0;34m(\u001b[0m\u001b[0mself\u001b[0m\u001b[0;34m,\u001b[0m \u001b[0mgradient\u001b[0m\u001b[0;34m,\u001b[0m \u001b[0mretain_graph\u001b[0m\u001b[0;34m,\u001b[0m \u001b[0mcreate_graph\u001b[0m\u001b[0;34m)\u001b[0m\u001b[0;34m\u001b[0m\u001b[0;34m\u001b[0m\u001b[0m\n\u001b[0m\u001b[1;32m    186\u001b[0m \u001b[0;34m\u001b[0m\u001b[0m\n\u001b[1;32m    187\u001b[0m     \u001b[0;32mdef\u001b[0m \u001b[0mregister_hook\u001b[0m\u001b[0;34m(\u001b[0m\u001b[0mself\u001b[0m\u001b[0;34m,\u001b[0m \u001b[0mhook\u001b[0m\u001b[0;34m)\u001b[0m\u001b[0;34m:\u001b[0m\u001b[0;34m\u001b[0m\u001b[0;34m\u001b[0m\u001b[0m\n",
      "\u001b[0;32m/usr/local/lib/python3.6/dist-packages/torch/autograd/__init__.py\u001b[0m in \u001b[0;36mbackward\u001b[0;34m(tensors, grad_tensors, retain_graph, create_graph, grad_variables)\u001b[0m\n\u001b[1;32m    125\u001b[0m     Variable._execution_engine.run_backward(\n\u001b[1;32m    126\u001b[0m         \u001b[0mtensors\u001b[0m\u001b[0;34m,\u001b[0m \u001b[0mgrad_tensors\u001b[0m\u001b[0;34m,\u001b[0m \u001b[0mretain_graph\u001b[0m\u001b[0;34m,\u001b[0m \u001b[0mcreate_graph\u001b[0m\u001b[0;34m,\u001b[0m\u001b[0;34m\u001b[0m\u001b[0;34m\u001b[0m\u001b[0m\n\u001b[0;32m--> 127\u001b[0;31m         allow_unreachable=True)  # allow_unreachable flag\n\u001b[0m\u001b[1;32m    128\u001b[0m \u001b[0;34m\u001b[0m\u001b[0m\n\u001b[1;32m    129\u001b[0m \u001b[0;34m\u001b[0m\u001b[0m\n",
      "\u001b[0;31mKeyboardInterrupt\u001b[0m: "
     ]
    }
   ],
   "source": [
    "for i in range(10000):\n",
    "    \n",
    "    batch_ix = to_matrix(sample(lines, 32), max_len=MAX_LENGTH)\n",
    "    batch_ix = torch.tensor(batch_ix, dtype=torch.int64)\n",
    "    \n",
    "    logp_seq = rnn_loop(rnn, batch_ix)  # get log_P's for batch\n",
    "    predictions_logp = logp_seq[:, :-1] # get next log_p's\n",
    "    \n",
    "    actual_next_tokens = batch_ix[:, 1:] # get actual next tokens\n",
    "\n",
    "    # take the actual letter in word from logits matrix\n",
    "    logp_next = torch.gather(predictions_logp, dim=2, index=actual_next_tokens[:,:,None])\n",
    "\n",
    "    #compute loss\n",
    "    loss = -logp_next.mean()\n",
    "    \n",
    "    # train with backprop  <YOUR CODE>\n",
    "    loss.backward()\n",
    "    opt.step()\n",
    "    opt.zero_grad()\n",
    "    \n",
    "    \n",
    "    history.append(loss.data.numpy())\n",
    "    if (i+1)%100==0:\n",
    "        clear_output(True)\n",
    "        plt.plot(history,label='loss')\n",
    "        plt.legend()\n",
    "        plt.show()\n",
    "\n",
    "assert np.mean(history[:10]) > np.mean(history[-10:]), \"RNN didn't converge.\""
   ]
  },
  {
   "cell_type": "markdown",
   "metadata": {},
   "source": [
    "### RNN: sampling\n",
    "Once we've trained our network a bit, let's get to actually generating stuff. \n",
    "All we need is the single rnn step function you have defined in `char_rnn.forward`."
   ]
  },
  {
   "cell_type": "code",
   "execution_count": 22,
   "metadata": {},
   "outputs": [
    {
     "name": "stdout",
     "output_type": "stream",
     "text": [
      " So this writ you worntion deserved endees my insor by still \n"
     ]
    }
   ],
   "source": [
    "def generate_sample(char_rnn, seed_phrase=' ', max_length=MAX_LENGTH, temperature=1.0):\n",
    "    '''\n",
    "    The function generates text given a phrase of length at least SEQ_LENGTH.\n",
    "    :param seed_phrase: prefix characters. The RNN is asked to continue the phrase\n",
    "    :param max_length: maximum output length, including seed_phrase\n",
    "    :param temperature: coefficient for sampling.  higher temperature produces more chaotic outputs,\n",
    "                        smaller temperature converges to the single most likely output\n",
    "    '''\n",
    "    \n",
    "    x_sequence = [token_to_id[token] for token in seed_phrase]  # get sequance\n",
    "    x_sequence = torch.tensor([x_sequence], dtype=torch.int64)\n",
    "    #print(\"actual seq: \", x_sequence)\n",
    "    hid_state = char_rnn.initial_state(batch_size=1)\n",
    "    \n",
    "    #feed the seed phrase, if any\n",
    "    for i in range(len(seed_phrase) - 1):\n",
    "        #print(\"x_seq\", x_sequence[:, i])\n",
    "        hid_state, _ = char_rnn(x_sequence[:, i], hid_state)\n",
    "    \n",
    "    #start generating\n",
    "    for _ in range(max_length - len(seed_phrase)):\n",
    "        #print(\"x_seq\", x_sequence[:, -1])\n",
    "        hid_state, logp_next = char_rnn(x_sequence[:, -1], hid_state)\n",
    "        p_next = F.softmax(logp_next / temperature, dim=-1).data.numpy()[0]\n",
    "        #print(\"p_next\", p_next.shape)\n",
    "        #print(p_next)\n",
    "        \n",
    "        # sample next token and push it back into x_sequence\n",
    "        next_ix = np.random.choice(num_tokens,p=p_next)\n",
    "        next_ix = torch.tensor([[next_ix]], dtype=torch.int64)\n",
    "        #print(\"next_ix\", next_ix)\n",
    "        x_sequence = torch.cat([x_sequence, next_ix], dim=1)\n",
    "        #print(\"final seq\", x_sequence)\n",
    "     \n",
    "    #print(\"print seq\", x_sequence.data.numpy()[0])\n",
    "    return ''.join([tokens[ix] for ix in x_sequence.data.numpy()[0]])\n",
    "\n",
    "print(generate_sample(rnn))"
   ]
  },
  {
   "cell_type": "code",
   "execution_count": 23,
   "metadata": {},
   "outputs": [
    {
     "name": "stdout",
     "output_type": "stream",
     "text": [
      "   all                                                       \n",
      " Mus of true happose I, fears,                               \n",
      " Lather's be poor teen's losurones preous a this ten pracess \n",
      "                                                             \n",
      "   in mose couly thed wrink on my puty, by the love thosving \n",
      " Mish                                                        \n",
      "   Thesoild ouftles I so that Melfets less, if you is wince q\n",
      " My doin spee tatieed to be ase but I thou                   \n",
      " Dot pound,                                                  \n",
      " Ap wrent.                                                   \n",
      " Thine;                                                      \n",
      "                                                             \n",
      "   Kild, and that and,                                       \n",
      " Thy sporn, and in of bequequmits his I as thoray agand and k\n",
      "   Yat,                                                      \n",
      " O, se so winds crowsil:                                     \n",
      " Time giver from thich, frouf happurs whelland more for thous\n",
      " LXXI.                                                       \n",
      " In your shall distant;                                      \n",
      " By stort I see to this skambs slavereting heatening wV.     \n"
     ]
    }
   ],
   "source": [
    "for _ in range(20):\n",
    "    print(generate_sample(rnn))"
   ]
  },
  {
   "cell_type": "code",
   "execution_count": 155,
   "metadata": {},
   "outputs": [
    {
     "name": "stdout",
     "output_type": "stream",
     "text": [
      "torch.Size([1, 55])\n"
     ]
    }
   ],
   "source": [
    "k = torch.tensor([31], dtype=torch.int64)\n",
    "\n",
    "hid_state = rnn.initial_state(batch_size=1)\n",
    "h_next, logp =  rnn(k, hid_state)    # h_next and logits\n",
    "print(logp.shape)\n",
    "\n",
    "#model(k)"
   ]
  },
  {
   "cell_type": "code",
   "execution_count": 252,
   "metadata": {},
   "outputs": [
    {
     "name": "stdout",
     "output_type": "stream",
     "text": [
      " Puurita            \n",
      " Alkelde            \n",
      " Jesseo             \n",
      " Killa              \n",
      " Loryane            \n",
      " Traceo             \n",
      " Britta             \n",
      " Rokell             \n",
      " Matther            \n",
      " Dephen             \n",
      " Randon             \n",
      " Elex               \n",
      " Cat                \n",
      " Windred            \n",
      " Giffie             \n",
      " Zsila              \n",
      " Loty               \n",
      " Cliel              \n",
      " Vival              \n",
      " Inguenn            \n"
     ]
    }
   ],
   "source": [
    "for _ in range(20):\n",
    "    print(generate_sample(rnn, max_length=20, temperature=1))"
   ]
  },
  {
   "cell_type": "code",
   "execution_count": null,
   "metadata": {},
   "outputs": [],
   "source": [
    "for _ in range(20):\n",
    "    print(generate_sample(rnn, seed_phrase='Timur '))"
   ]
  },
  {
   "cell_type": "code",
   "execution_count": null,
   "metadata": {},
   "outputs": [],
   "source": [
    "for _ in range(10):\n",
    "    print(generate_sample(rnn))"
   ]
  },
  {
   "cell_type": "markdown",
   "metadata": {},
   "source": [
    "### Try it out!\n",
    "You've just implemented a recurrent language model that can be tasked with generating any kind of sequence, so there's plenty of data you can try it on:\n",
    "\n",
    "* Novels/poems/songs of your favorite author\n",
    "* News titles/clickbait titles\n",
    "* Source code of Linux or Tensorflow\n",
    "* Molecules in [smiles](https://en.wikipedia.org/wiki/Simplified_molecular-input_line-entry_system) format\n",
    "* Melody in notes/chords format\n",
    "* Ikea catalog titles\n",
    "* Pokemon names\n",
    "* Cards from Magic, the Gathering / Hearthstone\n",
    "\n",
    "If you're willing to give it a try, here's what you wanna look at:\n",
    "* Current data format is a sequence of lines, so a novel can be formatted as a list of sentences. Alternatively, you can change data preprocessing altogether.\n",
    "* While some datasets are readily available, others can only be scraped from the web. Try `Selenium` or `Scrapy` for that.\n",
    "* Make sure MAX_LENGTH is adjusted for longer datasets. There's also a bonus section about dynamic RNNs at the bottom.\n",
    "* More complex tasks require larger RNN architecture, try more neurons or several layers. It would also require more training iterations.\n",
    "* Long-term dependencies in music, novels or molecules are better handled with LSTM or GRU\n",
    "\n",
    "__Good hunting!__"
   ]
  },
  {
   "cell_type": "markdown",
   "metadata": {
    "collapsed": true
   },
   "source": [
    "### More seriously\n",
    "\n",
    "What we just did is a manual low-level implementation of RNN. While it's cool, i guess you won't like the idea of re-writing it from scratch on every occasion. \n",
    "\n",
    "As you might have guessed, torch has a solution for this. To be more specific, there are two options:\n",
    "* `nn.RNNCell(emb_size, rnn_num_units)` - implements a single step of RNN just like you did. Basically concat-linear-tanh\n",
    "* `nn.RNN(emb_size, rnn_num_units` - implements the whole rnn_loop for you.\n",
    "\n",
    "There's also `nn.LSTMCell` vs `nn.LSTM`, `nn.GRUCell` vs `nn.GRU`, etc. etc.\n",
    "\n",
    "In this example we'll rewrite the char_rnn and rnn_loop using high-level rnn API."
   ]
  },
  {
   "cell_type": "markdown",
   "metadata": {},
   "source": [
    "# RNN Pytorch Implementation"
   ]
  },
  {
   "cell_type": "code",
   "execution_count": 41,
   "metadata": {},
   "outputs": [],
   "source": [
    "class CharRNNLoop(nn.Module):\n",
    "    def __init__(self, num_tokens=num_tokens, emb_size=32, rnn_num_units=64):\n",
    "        super(self.__class__, self).__init__()\n",
    "        self.emb = nn.Embedding(num_tokens, emb_size)\n",
    "        self.rnn = nn.RNN(emb_size, rnn_num_units, batch_first=True)    # tan[conact hid * W]\n",
    "        self.hid_to_logits = nn.Linear(rnn_num_units, num_tokens)\n",
    "        \n",
    "    def forward(self, x):\n",
    "        print(\"\\nemebbedded\", self.emb(x).shape)\n",
    "        h_seq, h_last = self.rnn(self.emb(x)) # h_next, h_last\n",
    "        print(\"\\nh_next\", h_seq.shape)\n",
    "        print(\"\\nh_last\", h_last.shape)\n",
    "        \n",
    "        next_logits = self.hid_to_logits(h_seq)  \n",
    "        print(\"\\nnex logits\", next_logits.shape)\n",
    "        next_logp = F.log_softmax(next_logits, dim=-1)\n",
    "        return next_logp\n",
    "    \n",
    "    \n",
    "model = CharRNNLoop()"
   ]
  },
  {
   "cell_type": "markdown",
   "metadata": {},
   "source": [
    "#### Feed Batch"
   ]
  },
  {
   "cell_type": "code",
   "execution_count": 42,
   "metadata": {},
   "outputs": [
    {
     "name": "stdout",
     "output_type": "stream",
     "text": [
      "batch shape torch.Size([5, 16])\n",
      "\n",
      "emebbedded torch.Size([5, 16, 32])\n",
      "\n",
      "h_next torch.Size([5, 16, 64])\n",
      "\n",
      "h_last torch.Size([1, 5, 64])\n",
      "\n",
      "nex logits torch.Size([5, 16, 55])\n",
      "\n",
      "embedding:  torch.Size([55, 32])\n",
      "\n",
      "rnn_layer RNN(32, 64, batch_first=True)\n",
      "\n",
      "hidden to logits:  torch.Size([55, 64])\n"
     ]
    },
    {
     "data": {
      "text/plain": [
       "torch.Size([55])"
      ]
     },
     "execution_count": 42,
     "metadata": {},
     "output_type": "execute_result"
    }
   ],
   "source": [
    "batch_ix = to_matrix(sample(lines, 5), max_len=MAX_LENGTH)\n",
    "batch_ix = torch.tensor(batch_ix, dtype=torch.int64)\n",
    "print(\"batch shape\", batch_ix.shape)\n",
    "\n",
    "logp_seq = model(batch_ix)\n",
    "\n",
    "print(\"\\nembedding: \", model.emb.weight.shape)\n",
    "print(\"\\nrnn_layer\", model.rnn)\n",
    "print(\"\\nhidden to logits: \", model.hid_to_logits.weight.shape)\n",
    "\n",
    "\n",
    "#print(logp_seq.shape)\n",
    "#print(torch.exp(logp_seq[-1, -1, :]).sum())\n",
    "\n",
    "logp_seq[0][-1].shape"
   ]
  },
  {
   "cell_type": "markdown",
   "metadata": {},
   "source": [
    "#### Feed one Char"
   ]
  },
  {
   "cell_type": "code",
   "execution_count": 161,
   "metadata": {},
   "outputs": [
    {
     "name": "stdout",
     "output_type": "stream",
     "text": [
      "torch.Size([1, 1])\n",
      "torch.Size([1, 1, 55])\n"
     ]
    },
    {
     "data": {
      "text/plain": [
       "tensor(1.0000, grad_fn=<SumBackward0>)"
      ]
     },
     "execution_count": 161,
     "metadata": {},
     "output_type": "execute_result"
    }
   ],
   "source": [
    "k = torch.tensor([31], dtype=torch.int64)\n",
    "k = k.unsqueeze(0)\n",
    "print(k.shape)\n",
    "\n",
    "log_p = model(k)\n",
    "print(log_p.shape)\n",
    "torch.exp(log_p).sum()"
   ]
  },
  {
   "cell_type": "markdown",
   "metadata": {},
   "source": [
    "#### Train"
   ]
  },
  {
   "cell_type": "code",
   "execution_count": 121,
   "metadata": {},
   "outputs": [
    {
     "data": {
      "image/png": "[encoded data removed]",
      "text/plain": [
       "<Figure size 432x288 with 1 Axes>"
      ]
     },
     "metadata": {
      "needs_background": "light"
     },
     "output_type": "display_data"
    }
   ],
   "source": [
    "def train_model(model):\n",
    "    opt = torch.optim.Adam(model.parameters())\n",
    "    history = []\n",
    "    \n",
    "    for i in range(10000):\n",
    "        batch_ix = to_matrix(sample(lines, 32), max_len=MAX_LENGTH)\n",
    "        batch_ix = torch.tensor(batch_ix, dtype=torch.int64)\n",
    "        \n",
    "        logp_seq = model(batch_ix)     # forward pass\n",
    "        \n",
    "        predictions_logp = logp_seq[:, :-1] # get next log_p's\n",
    "\n",
    "        actual_next_tokens = batch_ix[:, 1:] # get actual next tokens\n",
    "\n",
    "        # take the actual letter in word from logits matrix\n",
    "        logp_next = torch.gather(predictions_logp, dim=2, index=actual_next_tokens[:,:,None])\n",
    "\n",
    "        #compute loss\n",
    "        loss = -logp_next.mean()\n",
    "\n",
    "        # train with backprop \n",
    "        loss.backward()\n",
    "        opt.step()\n",
    "        opt.zero_grad()\n",
    "        \n",
    "        history.append(loss.data.numpy())\n",
    "        if (i+1)%100==0:\n",
    "            clear_output(True)\n",
    "            plt.plot(history,label='loss')\n",
    "            plt.legend()\n",
    "            plt.show()\n",
    "        \n",
    "        #return history\n",
    "        \n",
    "train_model(model) "
   ]
  },
  {
   "cell_type": "markdown",
   "metadata": {},
   "source": [
    "#### Predict"
   ]
  },
  {
   "cell_type": "code",
   "execution_count": 139,
   "metadata": {},
   "outputs": [
    {
     "name": "stdout",
     "output_type": "stream",
     "text": [
      "kerse,                                   \n",
      "kit coming fathing, thy onech thy plamany\n",
      "kin for the sud fortempon as end?        \n",
      "kandife:                                 \n",
      "king, my leving even your with name faud,\n",
      "ken,                                     \n",
      "kVsent not then and me is clent;         \n",
      "knsh shuse dive hold, so that I thede.   \n",
      "kes feuse,                               \n",
      "kney,                                    \n"
     ]
    }
   ],
   "source": [
    "def rnn_predict(model, text='k', phrase_len=16):\n",
    "    model.eval()\n",
    "    \n",
    "    words = text.split(' ')\n",
    "    \n",
    "    for i in range(0, phrase_len):\n",
    "        x = [token_to_id[token] for token in words] \n",
    "        x = torch.tensor([x], dtype=torch.int64)\n",
    "\n",
    "        y_pred = model(x)\n",
    "\n",
    "        last_word_logits = y_pred[0][-1] \n",
    "        \n",
    "        p = torch.nn.functional.softmax(last_word_logits, dim=0).detach().numpy()   # why 2 softmax\n",
    "        \n",
    "        word_index = np.random.choice(len(last_word_logits), p=p)   # get word\n",
    "        \n",
    "        words.append(id_to_token[word_index])\n",
    "\n",
    "    return ''.join(words)\n",
    "\n",
    "for i in range(10):\n",
    "    print(rnn_predict(model, text=\"k\", phrase_len=40))"
   ]
  },
  {
   "cell_type": "markdown",
   "metadata": {},
   "source": [
    "#### Forward Pass"
   ]
  },
  {
   "cell_type": "code",
   "execution_count": 253,
   "metadata": {},
   "outputs": [
    {
     "name": "stdout",
     "output_type": "stream",
     "text": [
      "torch.Size([8, 16])\n",
      "tensor(1.0000, grad_fn=<SumBackward0>)\n",
      "torch.Size([8, 16, 55])\n"
     ]
    }
   ],
   "source": [
    "# the model applies over the whole sequence\n",
    "batch_ix = to_matrix(sample(lines, 8), max_len=MAX_LENGTH)\n",
    "batch_ix = torch.tensor(batch_ix, dtype=torch.int64)\n",
    "print(batch_ix.shape)\n",
    "\n",
    "logp_seq = model(batch_ix)\n",
    "print(torch.exp(logp_seq[-1:,-1:,:]).sum())\n",
    "print(logp_seq.shape)\n",
    "\n",
    "# compute loss. This time we use nll_loss with some duct tape\n",
    "loss = F.nll_loss(logp_seq[:, :-1].contiguous().view(-1, num_tokens), \n",
    "                  batch_ix[:, 1:].contiguous().view(-1))\n",
    "\n",
    "loss.backward()"
   ]
  },
  {
   "cell_type": "markdown",
   "metadata": {
    "collapsed": true
   },
   "source": [
    "# LSTM"
   ]
  },
  {
   "cell_type": "code",
   "execution_count": 214,
   "metadata": {},
   "outputs": [],
   "source": [
    "class CharLSTMCell(nn.Module):\n",
    "    \"\"\"\n",
    "    Implements something like CharRNNCell, but with LSTM\n",
    "    \"\"\"\n",
    "    def __init__(self, num_tokens=len(tokens), embedding_size=16, rnn_num_units=64):\n",
    "        super(self.__class__,self).__init__()\n",
    "        self.num_units = rnn_num_units\n",
    "        self.emb = nn.Embedding(num_tokens, embedding_size)\n",
    "        self.lstm = nn.LSTMCell(embedding_size, rnn_num_units)\n",
    "        self.rnn_to_logits = nn.Linear(rnn_num_units, num_tokens)\n",
    "        \n",
    "    def forward(self, x, prev_state):\n",
    "        (prev_h, prev_c) = prev_state\n",
    "        (next_h, next_c) = self.lstm(self.emb(x), (prev_h, prev_c))\n",
    "        logits = self.rnn_to_logits(next_h)\n",
    "        \n",
    "        return (next_h, next_c), F.log_softmax(logits, -1)\n",
    "    \n",
    "    def initial_state(self, batch_size):\n",
    "        \"\"\" LSTM has two state variables, cell and hid \"\"\"\n",
    "        return torch.zeros(batch_size, self.num_units), torch.zeros(batch_size, self.num_units)\n",
    "    \n",
    "char_lstm = CharLSTMCell()"
   ]
  },
  {
   "cell_type": "markdown",
   "metadata": {},
   "source": [
    "#### Forward Pass"
   ]
  },
  {
   "cell_type": "code",
   "execution_count": 22,
   "metadata": {},
   "outputs": [],
   "source": [
    "# the model applies over the whole sequence\n",
    "batch_ix = to_matrix(sample(lines, 32), max_len=MAX_LENGTH)\n",
    "batch_ix = torch.tensor(batch_ix, dtype=torch.int64)\n",
    "\n",
    "logp_seq = rnn_loop(char_lstm, batch_ix)\n",
    "\n",
    "# compute loss. This time we use nll_loss with some duct tape\n",
    "loss = F.nll_loss(logp_seq[:, :-1].contiguous().view(-1, num_tokens), \n",
    "                  batch_ix[:, 1:].contiguous().view(-1))\n",
    "\n",
    "loss.backward()"
   ]
  },
  {
   "cell_type": "markdown",
   "metadata": {},
   "source": [
    "#### Train"
   ]
  },
  {
   "cell_type": "code",
   "execution_count": 217,
   "metadata": {},
   "outputs": [],
   "source": [
    "def train_lstm(model, deep=False):\n",
    "    opt = torch.optim.Adam(model.parameters())\n",
    "    history = []\n",
    "    \n",
    "    for i in range(10000):\n",
    "        batch_ix = to_matrix(sample(lines, 32), max_len=MAX_LENGTH)\n",
    "        batch_ix = torch.tensor(batch_ix, dtype=torch.int64)\n",
    "        \n",
    "        if deep == False:\n",
    "            logp_seq = rnn_loop(model, batch_ix)     # forward pass\n",
    "        else:\n",
    "            logp_seq = lstm_rnn_loop(model, batch_ix)\n",
    "        \n",
    "        predictions_logp = logp_seq[:, :-1] # get next log_p's\n",
    "\n",
    "        actual_next_tokens = batch_ix[:, 1:] # get actual next tokens\n",
    "\n",
    "        # take the actual letter in word from logits matrix\n",
    "        logp_next = torch.gather(predictions_logp, dim=2, index=actual_next_tokens[:,:,None])\n",
    "\n",
    "        #compute loss\n",
    "        loss = -logp_next.mean()\n",
    "\n",
    "        # train with backprop  <YOUR CODE>\n",
    "        loss.backward()\n",
    "        opt.step()\n",
    "        opt.zero_grad()\n",
    "        \n",
    "        history.append(loss.data.numpy())\n",
    "        if (i+1)%100==0:\n",
    "            clear_output(True)\n",
    "            plt.plot(history,label='loss')\n",
    "            plt.legend()\n",
    "            plt.show()\n",
    "        \n",
    "\n",
    "#train_lstm(char_lstm)"
   ]
  },
  {
   "cell_type": "markdown",
   "metadata": {},
   "source": [
    "#### LSTM Predict"
   ]
  },
  {
   "cell_type": "code",
   "execution_count": 216,
   "metadata": {},
   "outputs": [
    {
     "name": "stdout",
     "output_type": "stream",
     "text": [
      "hve:                                               \n",
      "h' Ish mights of goess greel more where wite       \n",
      "hay,,                                              \n",
      "hidin goon ston thich bodeds not foung,            \n",
      "hIIWhe Bates I defiver paitnows woul;              \n",
      "hR]n'n.                                            \n",
      "hAMPvjghDdesi.                                     \n",
      "h?Weesthrmfly buly tome.                           \n",
      "h]:And the love and should;                        \n",
      "h Who watches what shacule on shalosone asseep for \n"
     ]
    }
   ],
   "source": [
    "def predict(model, text=' ', phrase_len=16, deep=False):\n",
    "    model.eval()\n",
    "    \n",
    "    words = text.split(' ')\n",
    "    \n",
    "    for i in range(0, phrase_len):\n",
    "        x = [token_to_id[token] for token in words] \n",
    "        x = torch.tensor([x], dtype=torch.int64)\n",
    "        #print(\"\\n x\", x)\n",
    "        \n",
    "        if deep==True:\n",
    "            y_pred = lstm_rnn_loop(model, x)\n",
    "        else:\n",
    "            y_pred = rnn_loop(model, x)\n",
    "        #print(\"\\n y_pred\", y_pred.shape)\n",
    "\n",
    "        last_word_logits = y_pred[0][-1] \n",
    "        #print(\"\\n logits\", last_word_logits.shape)\n",
    "        p = torch.nn.functional.softmax(last_word_logits, dim=0).detach().numpy()   # why 2 softmax\n",
    "        \n",
    "        word_index = np.random.choice(len(last_word_logits), p=p)\n",
    "        \n",
    "        #print(\"\\n sample letter\", word_index)\n",
    "        \n",
    "        words.append(id_to_token[word_index])\n",
    "\n",
    "    return ''.join(words)\n",
    "\n",
    "for i in range(10):\n",
    "    print(predict(char_lstm, text=\"h\", phrase_len=50))"
   ]
  },
  {
   "cell_type": "markdown",
   "metadata": {},
   "source": [
    "### __Bonus quest: __ implement a model that uses 2 LSTM layers (the second lstm uses the first as input) and train it on your data."
   ]
  },
  {
   "cell_type": "markdown",
   "metadata": {},
   "source": [
    "# Deep RNN"
   ]
  },
  {
   "cell_type": "code",
   "execution_count": 149,
   "metadata": {},
   "outputs": [],
   "source": [
    "class RNN_2Layer(nn.Module):\n",
    "    def __init__(self, num_tokens=num_tokens, emb_size=16, rnn_num_units1=64, rnn_num_units2=32):\n",
    "        super(self.__class__, self).__init__()\n",
    "        self.emb = nn.Embedding(num_tokens, emb_size)\n",
    "        self.rnn1 = nn.RNN(emb_size, rnn_num_units1, batch_first=True)       # tan[conact hid * W]\n",
    "        self.rnn2 = nn.RNN(rnn_num_units1, rnn_num_units2, batch_first=True)\n",
    "        self.hid_to_logits = nn.Linear(rnn_num_units2, num_tokens)\n",
    "        \n",
    "    def forward(self, x):\n",
    "        h_seq, _ = self.rnn1(self.emb(x)) # h_next\n",
    "        j_seq, _ = self.rnn2(h_seq)\n",
    "        next_logits = self.hid_to_logits(j_seq)              # \n",
    "        next_logp = F.log_softmax(next_logits, dim=-1)\n",
    "        return next_logp\n",
    "    \n",
    "    \n",
    "model = CharRNNLoop()"
   ]
  },
  {
   "cell_type": "markdown",
   "metadata": {},
   "source": [
    "### Forward Pass"
   ]
  },
  {
   "cell_type": "code",
   "execution_count": 150,
   "metadata": {},
   "outputs": [
    {
     "name": "stdout",
     "output_type": "stream",
     "text": [
      "torch.Size([8, 61])\n",
      "tensor(1.0000, grad_fn=<SumBackward0>)\n",
      "torch.Size([8, 61, 62])\n"
     ]
    }
   ],
   "source": [
    "deep_rnn = RNN_2Layer()\n",
    "\n",
    "# the model applies over the whole sequence\n",
    "batch_ix = to_matrix(sample(lines, 8), max_len=MAX_LENGTH)\n",
    "batch_ix = torch.tensor(batch_ix, dtype=torch.int64)\n",
    "print(batch_ix.shape)\n",
    "\n",
    "logp_seq = deep_rnn(batch_ix)\n",
    "print(torch.exp(logp_seq[-1:,-1:,:]).sum())\n",
    "print(logp_seq.shape)\n",
    "\n",
    "# compute loss. This time we use nll_loss with some duct tape\n",
    "loss = F.nll_loss(logp_seq[:, :-1].contiguous().view(-1, num_tokens), \n",
    "                  batch_ix[:, 1:].contiguous().view(-1))\n",
    "\n",
    "loss.backward()"
   ]
  },
  {
   "cell_type": "markdown",
   "metadata": {},
   "source": [
    "### Train"
   ]
  },
  {
   "cell_type": "code",
   "execution_count": 151,
   "metadata": {},
   "outputs": [
    {
     "data": {
      "image/png": "[encoded data removed]",
      "text/plain": [
       "<Figure size 432x288 with 1 Axes>"
      ]
     },
     "metadata": {
      "needs_background": "light"
     },
     "output_type": "display_data"
    }
   ],
   "source": [
    "train_model(deep_rnn) "
   ]
  },
  {
   "cell_type": "markdown",
   "metadata": {},
   "source": [
    "### Predict"
   ]
  },
  {
   "cell_type": "code",
   "execution_count": 152,
   "metadata": {},
   "outputs": [
    {
     "name": "stdout",
     "output_type": "stream",
     "text": [
      "kings lie.                               \n",
      "king eye I nage conguest fair            \n",
      "kirghors no urins thou lecious thou did c\n",
      "ksees,                                   \n",
      "kXLS.                                    \n",
      "kprossos in grave of men                 \n",
      "khul doth self'Br thy self so natune in t\n",
      "kings deest to stather, you'd hast nef do\n",
      "khd two greace where con o, wht shoaraget\n",
      "kios to mone bast.                       \n"
     ]
    }
   ],
   "source": [
    "for i in range(10):\n",
    "    print(rnn_predict(deep_rnn, text=\"k\", phrase_len=40))"
   ]
  },
  {
   "cell_type": "markdown",
   "metadata": {},
   "source": [
    "# Deep LSTM"
   ]
  },
  {
   "cell_type": "code",
   "execution_count": 219,
   "metadata": {},
   "outputs": [],
   "source": [
    "class LSTM_2Layer(nn.Module):\n",
    "    def __init__(self, num_tokens=len(tokens), embedding_size=16, rnn_num_units1=64,rnn_num_units2=128):\n",
    "        super(self.__class__,self).__init__()\n",
    "        self.num_units1 = rnn_num_units1\n",
    "        self.num_units2 = rnn_num_units2\n",
    "        \n",
    "        self.emb = nn.Embedding(num_tokens, embedding_size)\n",
    "        \n",
    "        self.lstm1 = nn.LSTMCell(embedding_size, rnn_num_units1)\n",
    "        \n",
    "        self.lstm2 = nn.LSTMCell(rnn_num_units1, rnn_num_units2)\n",
    "        \n",
    "        self.rnn_to_logits = nn.Linear(rnn_num_units2, num_tokens)\n",
    "        \n",
    "    def forward(self, x, prev_state1, prev_state2):\n",
    "        (prev_h, prev_ch) = prev_state1\n",
    "        (next_h, next_ch) = self.lstm1(self.emb(x), (prev_h, prev_ch))\n",
    "        \n",
    "        (prev_j, prev_cj) = prev_state2\n",
    "        (next_j, next_cj) = self.lstm2(next_h, (prev_j, prev_cj))\n",
    "        \n",
    "        #return (next_h, next_ch), (next_j, next_cj)\n",
    "        \n",
    "        logits = self.rnn_to_logits(next_j)\n",
    "        \n",
    "        return (next_h, next_ch), (next_j, next_cj), F.log_softmax(logits, -1)\n",
    "    \n",
    "    def initial_state1(self, batch_size):\n",
    "        \"\"\" LSTM has two state variables, cell and hid \"\"\"\n",
    "        return torch.zeros(batch_size, self.num_units1), torch.zeros(batch_size, self.num_units1)\n",
    "    \n",
    "    def initial_state2(self, batch_size):\n",
    "        \"\"\" LSTM has two state variables, cell and hid \"\"\"\n",
    "        return torch.zeros(batch_size, self.num_units2), torch.zeros(batch_size, self.num_units2)\n",
    "    \n",
    "deep_lstm = LSTM_2Layer()"
   ]
  },
  {
   "cell_type": "markdown",
   "metadata": {},
   "source": [
    "### RNN Loop"
   ]
  },
  {
   "cell_type": "code",
   "execution_count": 220,
   "metadata": {},
   "outputs": [
    {
     "data": {
      "text/plain": [
       "torch.Size([32, 61, 62])"
      ]
     },
     "execution_count": 220,
     "metadata": {},
     "output_type": "execute_result"
    }
   ],
   "source": [
    "def lstm_rnn_loop(rnn, batch_ix):\n",
    "    \n",
    "    \"\"\"\n",
    "    Computes log P(next_character) for all time-steps in lines_ix\n",
    "    :param lines_ix: an int32 matrix of shape [batch, time], output of to_matrix(lines)\n",
    "    \"\"\"\n",
    "    batch_size, max_length = batch_ix.size()\n",
    "    \n",
    "    hid_state1 = rnn.initial_state1(batch_size)\n",
    "    hid_state2 = rnn.initial_state2(batch_size)\n",
    "    \n",
    "    logprobs = []\n",
    "\n",
    "    for x_t in batch_ix.transpose(0,1):\n",
    "        hid_state1, hid_state2, logp_next = rnn(x_t, hid_state1, hid_state2)  # <-- here we call your one-step code\n",
    "        \n",
    "        logprobs.append(logp_next)\n",
    "    return torch.stack(logprobs, dim=1)\n",
    "\n",
    "#rnn_loop(rnn, batch_ix)\n",
    "\n",
    "batch_ix = to_matrix(sample(lines, 32), max_len=MAX_LENGTH)\n",
    "batch_ix = torch.tensor(batch_ix, dtype=torch.int64)\n",
    "\n",
    "logp_seq = lstm_rnn_loop(deep_lstm, batch_ix)\n",
    "logp_seq.shape"
   ]
  },
  {
   "cell_type": "markdown",
   "metadata": {},
   "source": [
    "### Forward Pass"
   ]
  },
  {
   "cell_type": "code",
   "execution_count": 221,
   "metadata": {},
   "outputs": [],
   "source": [
    "# the model applies over the whole sequence\n",
    "batch_ix = to_matrix(sample(lines, 32), max_len=MAX_LENGTH)\n",
    "batch_ix = torch.tensor(batch_ix, dtype=torch.int64)\n",
    "\n",
    "logp_seq = lstm_rnn_loop(deep_lstm, batch_ix)\n",
    "\n",
    "# compute loss. This time we use nll_loss with some duct tape\n",
    "loss = F.nll_loss(logp_seq[:, :-1].contiguous().view(-1, num_tokens), \n",
    "                  batch_ix[:, 1:].contiguous().view(-1))\n",
    "\n",
    "loss.backward()"
   ]
  },
  {
   "cell_type": "markdown",
   "metadata": {},
   "source": [
    "### Train"
   ]
  },
  {
   "cell_type": "code",
   "execution_count": 222,
   "metadata": {},
   "outputs": [
    {
     "data": {
      "image/png": "[encoded data removed]",
      "text/plain": [
       "<Figure size 432x288 with 1 Axes>"
      ]
     },
     "metadata": {
      "needs_background": "light"
     },
     "output_type": "display_data"
    }
   ],
   "source": [
    "train_lstm(deep_lstm, deep=True)"
   ]
  },
  {
   "cell_type": "markdown",
   "metadata": {},
   "source": [
    "### Predict"
   ]
  },
  {
   "cell_type": "code",
   "execution_count": 226,
   "metadata": {},
   "outputs": [
    {
     "name": "stdout",
     "output_type": "stream",
     "text": [
      "ly,-                                               \n",
      "lEPS Much inor up his fair comperet                \n",
      "lindy!   He penerace wheremocy durwarning rockow:  \n",
      "lix, stigh rowy sake humber world-wind             \n",
      "lvxwD-for therefore so be vassing or call,         \n",
      "linly too other shall own hath unheit,             \n",
      "lztyhholst he vetter travel thee thou assure.      \n",
      "lfoor from their sprity I winter place?            \n",
      "l!-                                                \n",
      "ls;                                                \n",
      "lyhhShh One beauty in loss ox a perfeased          \n",
      "llst I loves it is assamment must begind.          \n",
      "llllbllR Which, her prove and all, but they die:   \n",
      "lhRIII                                             \n",
      "lmzoketh for thy sey being for perfect,            \n",
      "lvMonpour the grament of swear'd                   \n",
      "lakeoad, in then gentle dead sees to be show       \n",
      "lokberakinned the voir still agoung to men,        \n",
      "lyaII.                                             \n",
      "lturs to least so; but from thyself warther to dead\n"
     ]
    }
   ],
   "source": [
    "for i in range(20):\n",
    "    print(predict(deep_lstm, text=\"l\", phrase_len=50, deep=True))"
   ]
  },
  {
   "cell_type": "code",
   "execution_count": null,
   "metadata": {},
   "outputs": [],
   "source": []
  }
 ],
 "metadata": {
  "kernelspec": {
   "display_name": "Python 3 (ipykernel)",
   "language": "python",
   "name": "python3"
  },
  "language_info": {
   "codemirror_mode": {
    "name": "ipython",
    "version": 3
   },
   "file_extension": ".py",
   "mimetype": "text/x-python",
   "name": "python",
   "nbconvert_exporter": "python",
   "pygments_lexer": "ipython3",
   "version": "3.7.6"
  }
 },
 "nbformat": 4,
 "nbformat_minor": 1
}
