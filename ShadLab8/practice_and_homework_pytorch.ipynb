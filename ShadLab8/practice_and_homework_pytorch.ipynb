{
 "cells": [
  {
   "cell_type": "markdown",
   "metadata": {
    "colab_type": "text",
    "id": "HmsFABwClrsS"
   },
   "source": [
    "## Seminar and homework (10 points total)\n",
    "\n",
    "Today we shall compose encoder-decoder neural networks and apply them to the task of machine translation.\n",
    "\n",
    "![img](https://esciencegroup.files.wordpress.com/2016/03/seq2seq.jpg)\n",
    "_(img: esciencegroup.files.wordpress.com)_\n",
    "\n",
    "\n",
    "Encoder-decoder architectures are about converting anything to anything, including\n",
    " * Machine translation and spoken dialogue systems\n",
    " * [Image captioning](http://mscoco.org/dataset/#captions-challenge2015) and [image2latex](https://openai.com/requests-for-research/#im2latex) (convolutional encoder, recurrent decoder)\n",
    " * Generating [images by captions](https://arxiv.org/abs/1511.02793) (recurrent encoder, convolutional decoder)\n",
    " * Grapheme2phoneme - convert words to transcripts"
   ]
  },
  {
   "cell_type": "markdown",
   "metadata": {
    "colab_type": "text",
    "id": "R4N9AD2dlrsU"
   },
   "source": [
    "## Our task: machine translation\n",
    "\n",
    "We gonna try our encoder-decoder models on russian to english machine translation problem. More specifically, we'll translate hotel and hostel descriptions. This task shows the scale of machine translation while not requiring you to train your model for weeks if you don't use GPU.\n",
    "\n",
    "Before we get to the architecture, there's some preprocessing to be done. ~~Go tokenize~~ Alright, this time we've done preprocessing for you. As usual, the data will be tokenized with WordPunctTokenizer.\n",
    "\n",
    "However, there's one more thing to do. Our data lines contain unique rare words. If we operate on a word level, we will have to deal with large vocabulary size. If instead we use character-level models, it would take lots of iterations to process a sequence. This time we're gonna pick something inbetween.\n",
    "\n",
    "One popular approach is called [Byte Pair Encoding](https://github.com/rsennrich/subword-nmt) aka __BPE__. The algorithm starts with a character-level tokenization and then iteratively merges most frequent pairs for N iterations. This results in frequent words being merged into a single token and rare words split into syllables or even characters.\n",
    "\n"
   ]
  },
  {
   "cell_type": "code",
   "execution_count": null,
   "metadata": {
    "colab": {},
    "colab_type": "code",
    "id": "CfvojjHQlrsU"
   },
   "outputs": [],
   "source": [
    "#!pip3 install torch>=1.3.0\n",
    "#!pip3 install subword-nmt &> log\n",
    "#!wget https://www.dropbox.com/s/yy2zqh34dyhv07i/data.txt?dl=1 -O data.txt\n",
    "#!wget https://raw.githubusercontent.com/yandexdataschool/nlp_course/2020/week04_seq2seq/vocab.py -O vocab.py\n",
    "# thanks to tilda and deephack teams for the data, Dmitry Emelyanenko for the code :)"
   ]
  },
  {
   "cell_type": "code",
   "execution_count": 1,
   "metadata": {},
   "outputs": [
    {
     "name": "stdout",
     "output_type": "stream",
     "text": [
      "/usr/local/bin/pip\r\n"
     ]
    }
   ],
   "source": [
    "!which pip"
   ]
  },
  {
   "cell_type": "code",
   "execution_count": null,
   "metadata": {},
   "outputs": [],
   "source": [
    "#!pip install subword-nmt"
   ]
  },
  {
   "cell_type": "code",
   "execution_count": 2,
   "metadata": {},
   "outputs": [],
   "source": [
    "from nltk.tokenize import WordPunctTokenizer\n",
    "from subword_nmt.learn_bpe import learn_bpe\n",
    "from subword_nmt.apply_bpe import BPE\n",
    "from sklearn.model_selection import train_test_split\n",
    "\n",
    "import numpy as np\n",
    "import matplotlib.pyplot as plt\n",
    "%matplotlib inline\n",
    "\n",
    "from vocab import Vocab\n",
    "\n",
    "from IPython.display import clear_output\n",
    "from tqdm import tqdm, trange"
   ]
  },
  {
   "cell_type": "code",
   "execution_count": null,
   "metadata": {},
   "outputs": [],
   "source": []
  },
  {
   "cell_type": "code",
   "execution_count": 3,
   "metadata": {
    "colab": {},
    "colab_type": "code",
    "id": "g9kP0SdxlrsY"
   },
   "outputs": [],
   "source": [
    "tokenizer = WordPunctTokenizer()\n",
    "\n",
    "def tokenize(x):\n",
    "    return ' '.join(tokenizer.tokenize(x.lower()))\n",
    "\n",
    "# split and tokenize the data\n",
    "with open('train.en', 'w', encoding=\"utf-8\") as f_src, open('train.ru', 'w', encoding=\"utf-8\") as f_dst:\n",
    "    for line in open('data.txt', encoding=\"utf-8\"):\n",
    "        #print(line)\n",
    "        src_line, dst_line = line.strip().split('\\t')\n",
    "        f_src.write(tokenize(src_line) + '\\n')\n",
    "        f_dst.write(tokenize(dst_line) + '\\n')\n",
    "\n",
    "# build and apply bpe vocs\n",
    "bpe = {}\n",
    "for lang in ['en', 'ru']:\n",
    "    learn_bpe(open('./train.' + lang, encoding=\"utf-8\"), open('bpe_rules.' + lang, 'w', encoding=\"utf-8\"), num_symbols=8000)\n",
    "    bpe[lang] = BPE(open('./bpe_rules.' + lang, encoding=\"utf-8\"))\n",
    "    \n",
    "    with open('train.bpe.' + lang, 'w', encoding=\"utf-8\") as f_out:\n",
    "        for line in open('train.' + lang, encoding=\"utf-8\"):\n",
    "            f_out.write(bpe[lang].process_line(line.strip()) + '\\n')"
   ]
  },
  {
   "cell_type": "markdown",
   "metadata": {
    "colab_type": "text",
    "id": "0UPW3sV8lrsb"
   },
   "source": [
    "### Building vocabularies\n",
    "\n",
    "We now need to build vocabularies that map strings to token ids and vice versa. We're gonna need these fellas when we feed training data into model or convert output matrices into words."
   ]
  },
  {
   "cell_type": "code",
   "execution_count": 4,
   "metadata": {
    "colab": {},
    "colab_type": "code",
    "id": "8PskgBSxlrsd"
   },
   "outputs": [
    {
     "name": "stdout",
     "output_type": "stream",
     "text": [
      "inp: на территории обустроена бесплатная частная парковка .\n",
      "out: free private parking is available on site .\n",
      "\n",
      "inp: кроме того , в 5 минутах ходьбы работают многочисленные бары и рестораны .\n",
      "out: guests can find many bars and restaurants within a 5 - minute walk .\n",
      "\n",
      "inp: отель san mi@@ gu@@ el расположен в центре мор@@ ели@@ и , в 750 метрах от главной площади города и кафедрального собора .\n",
      "out: hotel san miguel is located in central more@@ lia , 750 metres from the city ’ s main square and cathedral .\n",
      "\n"
     ]
    }
   ],
   "source": [
    "data_inp = np.array(open('./train.bpe.ru', encoding=\"utf-8\").read().split('\\n'))\n",
    "data_out = np.array(open('./train.bpe.en', encoding=\"utf-8\").read().split('\\n'))\n",
    "\n",
    "train_inp, dev_inp, train_out, dev_out = train_test_split(data_inp, data_out, test_size=3000,\n",
    "                                                          random_state=42)\n",
    "for i in range(3):\n",
    "    print('inp:', train_inp[i])\n",
    "    print('out:', train_out[i], end='\\n\\n')"
   ]
  },
  {
   "cell_type": "code",
   "execution_count": null,
   "metadata": {},
   "outputs": [],
   "source": [
    "data_inp"
   ]
  },
  {
   "cell_type": "code",
   "execution_count": 5,
   "metadata": {
    "colab": {},
    "colab_type": "code",
    "id": "vipg4O61lrsg"
   },
   "outputs": [],
   "source": [
    "inp_voc = Vocab.from_lines(train_inp)\n",
    "out_voc = Vocab.from_lines(train_out)"
   ]
  },
  {
   "cell_type": "code",
   "execution_count": 6,
   "metadata": {
    "colab": {},
    "colab_type": "code",
    "id": "cwOoHfuhlrsi"
   },
   "outputs": [
    {
     "name": "stdout",
     "output_type": "stream",
     "text": [
      "lines\n",
      "['гостевой дом r .', 'до афин — 20 км .', 'работает боулинг .', 'оборудован балкон .', 'подключен wi - fi .']\n",
      "\n",
      "words to ids (0 = bos, 1 = eos):\n",
      "tensor([[   0, 2688, 2943, 1108,   29,    1,    1,    1],\n",
      "        [   0, 2922, 1834, 8035,   59, 3800,   29,    1],\n",
      "        [   0, 6030, 2083,   29,    1,    1,    1,    1],\n",
      "        [   0, 4927, 1870,   29,    1,    1,    1,    1],\n",
      "        [   0, 5549, 1453,   27,  592,   29,    1,    1]])\n",
      "\n",
      "back to words\n",
      "['гостевой дом r .', 'до афин — 20 км .', 'работает боулинг .', 'оборудован балкон .', 'подключен wi - fi .']\n"
     ]
    }
   ],
   "source": [
    "# Here's how you cast lines into ids and backwards.\n",
    "batch_lines = sorted(train_inp, key=len)[5:10]\n",
    "batch_ids = inp_voc.to_matrix(batch_lines)\n",
    "batch_lines_restored = inp_voc.to_lines(batch_ids)\n",
    "\n",
    "print(\"lines\")\n",
    "print(batch_lines)\n",
    "print(\"\\nwords to ids (0 = bos, 1 = eos):\")\n",
    "print(batch_ids)\n",
    "print(\"\\nback to words\")\n",
    "print(batch_lines_restored)"
   ]
  },
  {
   "cell_type": "markdown",
   "metadata": {
    "colab_type": "text",
    "id": "gSYu-MkElrsk"
   },
   "source": [
    "Draw source and translation length distributions to estimate the scope of the task."
   ]
  },
  {
   "cell_type": "code",
   "execution_count": 7,
   "metadata": {
    "colab": {},
    "colab_type": "code",
    "id": "TLLl9cSNlrsl"
   },
   "outputs": [
    {
     "data": {
      "image/png": "[encoded data removed]",
      "text/plain": [
       "<Figure size 576x288 with 2 Axes>"
      ]
     },
     "metadata": {
      "needs_background": "light"
     },
     "output_type": "display_data"
    }
   ],
   "source": [
    "plt.figure(figsize=[8, 4])\n",
    "plt.subplot(1, 2, 1)\n",
    "plt.title(\"source length\")\n",
    "plt.hist(list(map(len, map(str.split, train_inp))), bins=20);\n",
    "\n",
    "plt.subplot(1, 2, 2)\n",
    "plt.title(\"translation length\")\n",
    "plt.hist(list(map(len, map(str.split, train_out))), bins=20);"
   ]
  },
  {
   "cell_type": "markdown",
   "metadata": {
    "colab_type": "text",
    "id": "BHWgx34flrsn"
   },
   "source": [
    "### Encoder-decoder model\n",
    "\n",
    "The code below contains a template for a simple encoder-decoder model: single GRU encoder/decoder, no attention or anything. This model is implemented for you as a reference and a baseline for your homework assignment."
   ]
  },
  {
   "cell_type": "code",
   "execution_count": 8,
   "metadata": {
    "colab": {},
    "colab_type": "code",
    "id": "pd_rDRm9lrso"
   },
   "outputs": [],
   "source": [
    "import torch\n",
    "import torch.nn as nn\n",
    "import torch.nn.functional as F\n",
    "device = 'cuda:0' if torch.cuda.is_available() else 'cpu'"
   ]
  },
  {
   "cell_type": "code",
   "execution_count": 9,
   "metadata": {},
   "outputs": [
    {
     "data": {
      "text/plain": [
       "[tensor([[   0, 2688, 2943, 1108,   29,    1,    1,    1],\n",
       "         [   0, 2922, 1834, 8035,   59, 3800,   29,    1],\n",
       "         [   0, 6030, 2083,   29,    1,    1,    1,    1],\n",
       "         [   0, 4927, 1870,   29,    1,    1,    1,    1],\n",
       "         [   0, 5549, 1453,   27,  592,   29,    1,    1]])]"
      ]
     },
     "execution_count": 9,
     "metadata": {},
     "output_type": "execute_result"
    }
   ],
   "source": [
    "batch_lines = sorted(train_inp, key=len)[5:10]\n",
    "batch_ids = inp_voc.to_matrix(batch_lines)\n",
    "batch_ids.shape\n",
    "[batch_ids]"
   ]
  },
  {
   "cell_type": "code",
   "execution_count": 10,
   "metadata": {},
   "outputs": [
    {
     "name": "stdout",
     "output_type": "stream",
     "text": [
      "8048\n",
      "7801\n"
     ]
    }
   ],
   "source": [
    "def create_sentence(inp, voc):\n",
    "    mystring = \" \"\n",
    "    for i in voc.to_lines(inp):\n",
    "        mystring+=i\n",
    "    return mystring\n",
    "\n",
    "print(len(inp_voc))\n",
    "print(len(out_voc))\n",
    "#inp_voc.bos_ix"
   ]
  },
  {
   "cell_type": "code",
   "execution_count": 14,
   "metadata": {},
   "outputs": [],
   "source": [
    "torch.cuda.empty_cache()"
   ]
  },
  {
   "cell_type": "code",
   "execution_count": 11,
   "metadata": {},
   "outputs": [
    {
     "name": "stdout",
     "output_type": "stream",
     "text": [
      "input batch:  torch.Size([5, 8])\n",
      "\n",
      "input:  tensor([[   0, 2688, 2943, 1108,   29,    1,    1,    1],\n",
      "        [   0, 2922, 1834, 8035,   59, 3800,   29,    1],\n",
      "        [   0, 6030, 2083,   29,    1,    1,    1,    1],\n",
      "        [   0, 4927, 1870,   29,    1,    1,    1,    1],\n",
      "        [   0, 5549, 1453,   27,  592,   29,    1,    1]], device='cuda:0')\n",
      "\n",
      "output:  torch.Size([5, 7])\n",
      "\n",
      "  гостевой дом r .до афин — 20 км .работает боулинг .оборудован балкон .подключен wi - fi .\n",
      " the hotel st .wifi is free .each has a tv .parking is free .parking is free .\n"
     ]
    }
   ],
   "source": [
    "dummy_inp_tokens = inp_voc.to_matrix(sorted(train_inp, key=len)[5:10]).to(device)\n",
    "dummy_out_tokens = out_voc.to_matrix(sorted(train_out, key=len)[5:10]).to(device)\n",
    "\n",
    "print(\"input batch: \", dummy_inp_tokens.shape)\n",
    "print(\"\\ninput: \", dummy_inp_tokens)\n",
    "print(\"\\noutput: \", dummy_out_tokens.shape)\n",
    "\n",
    "print(\"\\n\", create_sentence(dummy_inp_tokens,inp_voc))\n",
    "print(create_sentence(dummy_out_tokens, out_voc))"
   ]
  },
  {
   "cell_type": "code",
   "execution_count": 12,
   "metadata": {},
   "outputs": [
    {
     "ename": "NameError",
     "evalue": "name 'BasicModel' is not defined",
     "output_type": "error",
     "traceback": [
      "\u001b[0;31m---------------------------------------------------------------------------\u001b[0m",
      "\u001b[0;31mNameError\u001b[0m                                 Traceback (most recent call last)",
      "\u001b[0;32m<ipython-input-12-694c9b7d00c6>\u001b[0m in \u001b[0;36m<module>\u001b[0;34m\u001b[0m\n\u001b[0;32m----> 1\u001b[0;31m \u001b[0mmy_model\u001b[0m \u001b[0;34m=\u001b[0m \u001b[0mBasicModel\u001b[0m\u001b[0;34m(\u001b[0m\u001b[0minp_voc\u001b[0m\u001b[0;34m,\u001b[0m \u001b[0mout_voc\u001b[0m\u001b[0;34m)\u001b[0m\u001b[0;34m.\u001b[0m\u001b[0mto\u001b[0m\u001b[0;34m(\u001b[0m\u001b[0mdevice\u001b[0m\u001b[0;34m)\u001b[0m\u001b[0;34m\u001b[0m\u001b[0;34m\u001b[0m\u001b[0m\n\u001b[0m\u001b[1;32m      2\u001b[0m \u001b[0mh0_state\u001b[0m\u001b[0;34m,\u001b[0m \u001b[0menc_in\u001b[0m \u001b[0;34m=\u001b[0m \u001b[0mmy_model\u001b[0m\u001b[0;34m.\u001b[0m\u001b[0mencode\u001b[0m\u001b[0;34m(\u001b[0m\u001b[0mdummy_inp_tokens\u001b[0m\u001b[0;34m)\u001b[0m\u001b[0;34m\u001b[0m\u001b[0;34m\u001b[0m\u001b[0m\n\u001b[1;32m      3\u001b[0m \u001b[0mh0_state\u001b[0m \u001b[0;34m=\u001b[0m \u001b[0mh0_state\u001b[0m\u001b[0;34m[\u001b[0m\u001b[0;36m0\u001b[0m\u001b[0;34m]\u001b[0m\u001b[0;34m.\u001b[0m\u001b[0mto\u001b[0m\u001b[0;34m(\u001b[0m\u001b[0;34m\"cpu\"\u001b[0m\u001b[0;34m)\u001b[0m\u001b[0;34m\u001b[0m\u001b[0;34m\u001b[0m\u001b[0m\n\u001b[1;32m      4\u001b[0m \u001b[0;34m\u001b[0m\u001b[0m\n\u001b[1;32m      5\u001b[0m \u001b[0menc_in\u001b[0m \u001b[0;34m=\u001b[0m \u001b[0menc_in\u001b[0m\u001b[0;34m.\u001b[0m\u001b[0mto\u001b[0m\u001b[0;34m(\u001b[0m\u001b[0;34m\"cpu\"\u001b[0m\u001b[0;34m)\u001b[0m\u001b[0;34m\u001b[0m\u001b[0;34m\u001b[0m\u001b[0m\n",
      "\u001b[0;31mNameError\u001b[0m: name 'BasicModel' is not defined"
     ]
    }
   ],
   "source": [
    "my_model = BasicModel(inp_voc, out_voc).to(device)\n",
    "h0_state, enc_in = my_model.encode(dummy_inp_tokens)\n",
    "h0_state = h0_state[0].to(\"cpu\")\n",
    "\n",
    "enc_in = enc_in.to(\"cpu\")\n",
    "print(enc_in.shape)\n",
    "print(h0_state.shape)"
   ]
  },
  {
   "cell_type": "code",
   "execution_count": 13,
   "metadata": {
    "colab": {},
    "colab_type": "code",
    "id": "wgfN5-F7lrst"
   },
   "outputs": [],
   "source": [
    "class BasicModel(nn.Module):\n",
    "    def __init__(self, inp_voc, out_voc, emb_size=64, hid_size=128):\n",
    "        \"\"\"\n",
    "        A simple encoder-decoder seq2seq model\n",
    "        \"\"\"\n",
    "        super().__init__() # initialize base class to track sub-layers, parameters, etc.\n",
    "\n",
    "        self.inp_voc, self.out_voc = inp_voc, out_voc\n",
    "        self.hid_size = hid_size\n",
    "        \n",
    "        self.emb_inp = nn.Embedding(len(inp_voc), emb_size)     # encoder possible tokens\n",
    "        self.emb_out = nn.Embedding(len(out_voc), emb_size)     # decocder possible tokens\n",
    "        self.enc0 = nn.GRU(emb_size, hid_size, batch_first=True)\n",
    "\n",
    "        self.dec_start = nn.Linear(hid_size, hid_size)    # ?\n",
    "        self.dec0 = nn.GRUCell(emb_size, hid_size)        \n",
    "        self.logits = nn.Linear(hid_size, len(out_voc))   \n",
    "        \n",
    "    def forward(self, inp, out):\n",
    "        \"\"\" Apply model in training mode \"\"\"\n",
    "        initial_state = self.encode(inp)\n",
    "        return self.decode(initial_state, out)\n",
    "\n",
    "\n",
    "    def encode(self, inp, **flags):\n",
    "        \"\"\"\n",
    "        Takes symbolic input sequence, computes initial state\n",
    "        :param inp: matrix of input tokens [batch, time]\n",
    "        :returns: initial decoder state tensors, one or many\n",
    "        \"\"\"\n",
    "        inp_emb = self.emb_inp(inp)    # create embedding\n",
    "        #print(\"\\nembedded batch\",  inp_emb.shape)\n",
    "        batch_size = inp.shape[0]\n",
    "        \n",
    "        enc_seq, [last_state_but_not_really] = self.enc0(inp_emb)  # h_next, h_last\n",
    "        #print(\"\\nh_next: \", enc_seq.shape)\n",
    "        #print(\"\\nh_last: \", last_state_but_not_really.shape)\n",
    "        # enc_seq: [batch, time(max_len), hid_size], last_state: [batch, hid_size]\n",
    "        \n",
    "        # note: last_state is not _actually_ last because of padding, let's find the real last_state   || why!!!\n",
    "        lengths = (inp != self.inp_voc.eos_ix).to(torch.int64).sum(dim=1).clamp_max(inp.shape[1] - 1)\n",
    "        last_state = enc_seq[torch.arange(len(enc_seq)), lengths]   # new h_last\n",
    "        #print(\"\\nfinal h_last: \", last_state.shape)\n",
    "        # ^-- shape: [batch_size, hid_size]\n",
    "        \n",
    "        dec_start = self.dec_start(last_state)  # dec_start_linear * h_last\n",
    "        #print(\"\\ndecoder start\", dec_start.shape)\n",
    "        #return [dec_start], enc_seq\n",
    "        return [dec_start]\n",
    "\n",
    "    def decode_step(self, prev_state, prev_tokens, **flags):\n",
    "        \"\"\"\n",
    "        Takes previous decoder state and tokens, returns new state and logits for next tokens\n",
    "        :param prev_state: a list of previous decoder state tensors, same as returned by encode(...)\n",
    "        :param prev_tokens: previous output tokens, an int vector of [batch_size]\n",
    "        :return: a list of next decoder state tensors, a tensor of logits [batch, len(out_voc)]\n",
    "        \"\"\"\n",
    "        prev_gru0_state = prev_state[0]  # encode returns list\n",
    "        \n",
    "        out_emb = self.emb_out(prev_tokens)    # make embedding\n",
    "        #print(\"\\noutput emb\", out_emb.shape)\n",
    "        \n",
    "        h_next = self.dec0(out_emb, prev_gru0_state)    # calculate next hidden state\n",
    "        #print(\"\\nh_next\", h_next.shape)\n",
    "        \n",
    "        output_logits = self.logits(h_next)             # calculaet logits of next hidden state\n",
    "        #print(\"\\noutput_logits\", output_logits.shape)\n",
    "         \n",
    "        return [h_next], output_logits\n",
    "\n",
    "    def decode(self, initial_state, out_tokens, **flags):\n",
    "        \"\"\" Iterate over reference tokens (out_tokens) with decode_step \"\"\"\n",
    "        batch_size = out_tokens.shape[0]\n",
    "        state = initial_state\n",
    "        \n",
    "        #print(\"\\n----------Decoder Main---------------\")\n",
    "        #print(\"encoder pass\", initial_state[0].shape)\n",
    "        #print(\"out tokens\",out_tokens.shape)\n",
    "        \n",
    "        # initial logits: always predict BOS\n",
    "        onehot_bos = F.one_hot(torch.full([batch_size], self.out_voc.bos_ix, dtype=torch.int64),\n",
    "                               num_classes=len(self.out_voc)).to(device=out_tokens.device)\n",
    "        \n",
    "        \n",
    "        first_logits = torch.log(onehot_bos.to(torch.float32) + 1e-9)\n",
    "        \n",
    "        #print(\"first_logits\", onehot_bos.shape)\n",
    "        \n",
    "        logits_sequence = [first_logits]\n",
    "        for i in range(out_tokens.shape[1] - 1):\n",
    "            state, logits = self.decode_step(state, out_tokens[:, i])    # claculate h_next + h_next_to_logits\n",
    "            #print(\"\\nstate len\", len(state))\n",
    "            logits_sequence.append(logits)                               # append\n",
    "        return torch.stack(logits_sequence, dim=1)    \n",
    "\n",
    "    def decode_inference(self, initial_state, max_len=100, **flags):\n",
    "        \"\"\" Generate translations from model (greedy version) \"\"\"\n",
    "        batch_size, device = len(initial_state[0]), initial_state[0].device\n",
    "        \n",
    "        state = initial_state\n",
    "        outputs = [torch.full([batch_size], self.out_voc.bos_ix, dtype=torch.int64, \n",
    "                              device=device)]\n",
    "        all_states = [initial_state]\n",
    "\n",
    "        for i in range(max_len):\n",
    "        \n",
    "            state, logits = self.decode_step(state, outputs[-1])\n",
    "            outputs.append(logits.argmax(dim=-1))\n",
    "            all_states.append(state)\n",
    "        \n",
    "        return torch.stack(outputs, dim=1), all_states\n",
    "\n",
    "    def translate_lines(self, inp_lines, **kwargs):\n",
    "        print(\"input text\", inp_lines)\n",
    "        inp = self.inp_voc.to_matrix(inp_lines).to(device)\n",
    "        print(\"\\ninp:\", inp.shape)\n",
    "        \n",
    "        initial_state = self.encode(inp)\n",
    "        \n",
    "        out_ids, states = self.decode_inference(initial_state, **kwargs)\n",
    "        \n",
    "        return self.out_voc.to_lines(out_ids.cpu().numpy()), states\n"
   ]
  },
  {
   "cell_type": "code",
   "execution_count": 14,
   "metadata": {},
   "outputs": [
    {
     "name": "stdout",
     "output_type": "stream",
     "text": [
      "batch_size torch.Size([5, 8])\n"
     ]
    }
   ],
   "source": [
    "# debugging area\n",
    "model = BasicModel(inp_voc, out_voc).to(device)\n",
    "\n",
    "print(\"batch_size\", dummy_inp_tokens.shape)\n",
    "#print(\"\\nembedding layer\", model.emb_inp.weight.shape)\n",
    "h0 = model.encode(dummy_inp_tokens)\n",
    "\n",
    "#model.decode_step(h0, torch.arange(len(dummy_inp_tokens), device=device))\n",
    "h1, logits1 = model.decode_step(h0, dummy_inp_tokens[:,0])\n",
    "h2, logits2 = model.decode_step(h1, dummy_inp_tokens[:,1])\n",
    "\n",
    "assert isinstance(h1, list) and len(h1) == len(h0)\n",
    "assert h1[0].shape == h0[0].shape and not torch.allclose(h1[0], h0[0])\n",
    "assert logits1.shape == (len(dummy_inp_tokens), len(out_voc))\n",
    "\n",
    "logits_seq = model.decode(h0, dummy_out_tokens)\n",
    "assert logits_seq.shape == (dummy_out_tokens.shape[0], dummy_out_tokens.shape[1], len(out_voc))\n",
    "\n",
    "# full forward\n",
    "logits_seq2 = model(dummy_inp_tokens, dummy_out_tokens)\n",
    "assert logits_seq2.shape == logits_seq.shape"
   ]
  },
  {
   "cell_type": "code",
   "execution_count": 15,
   "metadata": {},
   "outputs": [
    {
     "name": "stdout",
     "output_type": "stream",
     "text": [
      "input text ['в распоряжении гостей общая кухня и общая гостиная .']\n",
      "\n",
      "inp: torch.Size([1, 11])\n",
      "\n",
      "translation ['zon@@ iii forte ener@@ azzo у@@ gage dan@@ azur plas@@ attic nin stal@@ ul energy catalunya gnano tor@@ mina agen rochelle rochelle track are ral bukov@@ galo@@ gena reis aa neighbor@@ statue ros@@ check spain cellar stal@@ bur@@ alpine apartament@@ ē@@ tions zhen means nic@@ wood@@ struc@@ dame dame cuisine']\n",
      "\n",
      "states torch.Size([1, 128])\n"
     ]
    }
   ],
   "source": [
    "inp = dev_inp[0:1]\n",
    "#print(inp)\n",
    "\n",
    "translation, states = model.translate_lines(inp, max_len=50)\n",
    "print(\"\\ntranslation\", translation)\n",
    "print(\"\\nstates\", states[0][0].shape)"
   ]
  },
  {
   "cell_type": "code",
   "execution_count": 16,
   "metadata": {},
   "outputs": [
    {
     "name": "stdout",
     "output_type": "stream",
     "text": [
      "input text ['кроме того , в 5 минутах ходьбы работают многочисленные бары и рестораны .']\n",
      "\n",
      "inp: torch.Size([1, 15])\n",
      "Translations without training:\n",
      "zon@@ iii forte ener@@ azzo у@@ gage dan@@ azur plas@@ attic nin stal@@ ul energy catalunya gnano tor@@ mina agen rochelle rochelle track are ral\n"
     ]
    }
   ],
   "source": [
    "dummy_translations, dummy_states = model.translate_lines(train_inp[1:2], max_len=25)\n",
    "print(\"Translations without training:\")\n",
    "print('\\n'.join([line for line in dummy_translations]))"
   ]
  },
  {
   "cell_type": "markdown",
   "metadata": {
    "colab_type": "text",
    "id": "_wuv1-aVlrs0"
   },
   "source": [
    "### Training loss (2 points)\n",
    "\n",
    "Our training objective is almost the same as it was for neural language models:\n",
    "$$ L = {\\frac1{|D|}} \\sum_{X, Y \\in D} \\sum_{y_t \\in Y} - \\log p(y_t \\mid y_1, \\dots, y_{t-1}, X, \\theta) $$\n",
    "\n",
    "where $|D|$ is the __total length of all sequences__, including BOS and first EOS, but excluding PAD."
   ]
  },
  {
   "cell_type": "code",
   "execution_count": 17,
   "metadata": {
    "colab": {},
    "colab_type": "code",
    "id": "c8XPV8sWlrs5",
    "scrolled": true
   },
   "outputs": [],
   "source": [
    "def compute_loss(model, inp, out, **flags):\n",
    "    \"\"\"\n",
    "    Compute loss (float32 scalar) as in the formula above\n",
    "    :param inp: input tokens matrix, int32[batch, time]\n",
    "    :param out: reference tokens matrix, int32[batch, time]\n",
    "    \n",
    "    In order to pass the tests, your function should\n",
    "    * include loss at first EOS but not the subsequent ones\n",
    "    * divide sum of losses by a sum of input lengths (use voc.compute_mask)\n",
    "    \"\"\"\n",
    "    mask = model.out_voc.compute_mask(out) # [batch_size, out_len]   --> \"\" compute a boolean mask that equals \"1\" until first EOS (including that EOS) \"\"\"\n",
    "    #print(\"\\nmask\", mask.shape)\n",
    "    \n",
    "    targets_1hot = F.one_hot(out, len(model.out_voc)).to(torch.float32)   # 5, 7, 7801\n",
    "    #print(\"\\ntargets_1hot\", targets_1hot.shape)\n",
    "    \n",
    "    # outputs of the model, [batch_size, out_len, num_tokens]\n",
    "    logits_seq = model(inp, out)\n",
    "    #print(\"\\nlogits of batch\", logits_seq.shape)\n",
    "\n",
    "    # log-probabilities of all tokens at all steps, [batch_size, out_len, num_tokens]\n",
    "    logprobs_seq = F.log_softmax(logits_seq, dim=-1)\n",
    "    \n",
    "    # log-probabilities of correct outputs, [batch_size, out_len]\n",
    "    logp_out = (logprobs_seq * targets_1hot).sum(dim=-1)\n",
    "    #print(\"\\ncorrect logp\", logp_out.shape)\n",
    "    # ^-- this will select the probability of the actual next token.\n",
    "\n",
    "    \n",
    "    logp_out = torch.mul(logp_out, mask) # apply mask\n",
    "    loss = -logp_out.mean()\n",
    "    # Note: you can compute loss more efficiently using using F.cross_entropy\n",
    "\n",
    "#     # average cross-entropy over tokens where mask == True\n",
    "    return loss # average loss, scalar"
   ]
  },
  {
   "cell_type": "code",
   "execution_count": 18,
   "metadata": {},
   "outputs": [
    {
     "name": "stdout",
     "output_type": "stream",
     "text": [
      "input tokens torch.Size([5, 8])\n",
      "output tokens torch.Size([5, 7])\n"
     ]
    },
    {
     "data": {
      "text/plain": [
       "6.632195949554443"
      ]
     },
     "execution_count": 18,
     "metadata": {},
     "output_type": "execute_result"
    }
   ],
   "source": [
    "print(\"input tokens\", dummy_inp_tokens.shape)\n",
    "print(\"output tokens\", dummy_out_tokens.shape)\n",
    "\n",
    "compute_loss(model, dummy_inp_tokens, dummy_out_tokens).item()"
   ]
  },
  {
   "cell_type": "code",
   "execution_count": 22,
   "metadata": {
    "colab": {},
    "colab_type": "code",
    "id": "ME_LWUeklrs7"
   },
   "outputs": [
    {
     "name": "stdout",
     "output_type": "stream",
     "text": [
      "Loss: tensor(6.6757, device='cuda:0', grad_fn=<NegBackward>)\n"
     ]
    }
   ],
   "source": [
    "dummy_loss = compute_loss(model, dummy_inp_tokens, dummy_out_tokens)\n",
    "print(\"Loss:\", dummy_loss)\n",
    "assert np.allclose(dummy_loss.item(), 7.5, rtol=0.1, atol=0.1), \"We're sorry for your loss\"\n",
    "\n",
    "# test autograd\n",
    "dummy_loss.backward()\n",
    "for name, param in model.named_parameters():\n",
    "    assert param.grad is not None and abs(param.grad.max()) != 0, f\"Param {name} received no gradients\""
   ]
  },
  {
   "cell_type": "markdown",
   "metadata": {
    "colab_type": "text",
    "id": "HpbaBpW7lrs-"
   },
   "source": [
    "### Evaluation: BLEU\n",
    "\n",
    "Machine translation is commonly evaluated with [BLEU](https://en.wikipedia.org/wiki/BLEU) score. This metric simply computes which fraction of predicted n-grams is actually present in the reference translation. It does so for n=1,2,3 and 4 and computes the geometric average with penalty if translation is shorter than reference.\n",
    "\n",
    "While BLEU [has many drawbacks](http://www.cs.jhu.edu/~ccb/publications/re-evaluating-the-role-of-bleu-in-mt-research.pdf), it still remains the most commonly used metric and one of the simplest to compute."
   ]
  },
  {
   "cell_type": "code",
   "execution_count": 23,
   "metadata": {
    "colab": {},
    "colab_type": "code",
    "id": "Gb1-PhKIlrs-"
   },
   "outputs": [],
   "source": [
    "from nltk.translate.bleu_score import corpus_bleu\n",
    "def compute_bleu(model, inp_lines, out_lines, bpe_sep='@@ ', **flags):\n",
    "    \"\"\"\n",
    "    Estimates corpora-level BLEU score of model's translations given inp and reference out\n",
    "    Note: if you're serious about reporting your results, use https://pypi.org/project/sacrebleu\n",
    "    \"\"\"\n",
    "    with torch.no_grad():\n",
    "        translations, _ = model.translate_lines(inp_lines, **flags)\n",
    "        translations = [line.replace(bpe_sep, '') for line in translations]\n",
    "        actual = [line.replace(bpe_sep, '') for line in out_lines]\n",
    "        return corpus_bleu(\n",
    "            [[ref.split()] for ref in actual],\n",
    "            [trans.split() for trans in translations],\n",
    "            smoothing_function=lambda precisions, **kw: [p + 1.0 / p.denominator for p in precisions]\n",
    "            ) * 100"
   ]
  },
  {
   "cell_type": "code",
   "execution_count": 24,
   "metadata": {
    "colab": {},
    "colab_type": "code",
    "id": "gZvfid1RlrtA"
   },
   "outputs": [
    {
     "name": "stdout",
     "output_type": "stream",
     "text": [
      "input text ['в распоряжении гостей общая кухня и общая гостиная .'\n",
      " 'на территории виллы sh@@ eng@@ si hu@@ a@@ jing находится сад и терраса .'\n",
      " 'расстояние от отеля li@@ bu@@ š@@ e до ближайшей станции метро ko@@ by@@ lis@@ y ( линия с ), от которой можно добраться до центрального железнодорожного вокзала праги и центра города , составляет 500 метров .'\n",
      " ...\n",
      " 'в нескольких минутах ходьбы от гостевого дома fal@@ k@@ inn работают рестораны , бары и торговые центры .'\n",
      " 'в некоторых из них есть терраса и / или балкон с видом на море .'\n",
      " 'отель costa village обеспечи@@ вает круглосуточ@@ ную бе@@ зо@@ пас@@ ность .']\n",
      "\n",
      "inp: torch.Size([3000, 106])\n"
     ]
    },
    {
     "data": {
      "text/plain": [
       "0.0017321456587414876"
      ]
     },
     "execution_count": 24,
     "metadata": {},
     "output_type": "execute_result"
    }
   ],
   "source": [
    "compute_bleu(model, dev_inp, dev_out)"
   ]
  },
  {
   "cell_type": "markdown",
   "metadata": {
    "colab_type": "text",
    "id": "nQDhGwg4lrtC"
   },
   "source": [
    "### Training loop\n",
    "\n",
    "Training encoder-decoder models isn't that different from any other models: sample batches, compute loss, backprop and update"
   ]
  },
  {
   "cell_type": "code",
   "execution_count": 25,
   "metadata": {
    "colab": {},
    "colab_type": "code",
    "id": "yfwIaixHlrtI",
    "scrolled": false
   },
   "outputs": [],
   "source": [
    "metrics = {'train_loss': [], 'dev_bleu': [] }\n",
    "\n",
    "model = BasicModel(inp_voc, out_voc).to(device)\n",
    "opt = torch.optim.Adam(model.parameters(), lr=1e-3)\n",
    "batch_size = 32"
   ]
  },
  {
   "cell_type": "code",
   "execution_count": 26,
   "metadata": {
    "colab": {},
    "colab_type": "code",
    "id": "LlDT6eDUlrtL",
    "scrolled": true
   },
   "outputs": [
    {
     "data": {
      "image/png": "[encoded data removed]",
      "text/plain": [
       "<Figure size 864x288 with 2 Axes>"
      ]
     },
     "metadata": {
      "needs_background": "light"
     },
     "output_type": "display_data"
    },
    {
     "name": "stdout",
     "output_type": "stream",
     "text": [
      "Mean loss=0.814\n"
     ]
    },
    {
     "name": "stderr",
     "output_type": "stream",
     "text": [
      " 93%|█████████▎| 23371/25000 [17:31<01:00, 26.83it/s]"
     ]
    },
    {
     "ename": "KeyboardInterrupt",
     "evalue": "",
     "output_type": "error",
     "traceback": [
      "\u001b[0;31m---------------------------------------------------------------------------\u001b[0m",
      "\u001b[0;31mKeyboardInterrupt\u001b[0m                         Traceback (most recent call last)",
      "\u001b[0;32m<ipython-input-26-1c458f1bafe0>\u001b[0m in \u001b[0;36m<module>\u001b[0;34m\u001b[0m\n\u001b[1;32m     18\u001b[0m     \u001b[0mopt\u001b[0m\u001b[0;34m.\u001b[0m\u001b[0mzero_grad\u001b[0m\u001b[0;34m(\u001b[0m\u001b[0;34m)\u001b[0m\u001b[0;34m\u001b[0m\u001b[0;34m\u001b[0m\u001b[0m\n\u001b[1;32m     19\u001b[0m     \u001b[0mloss_t\u001b[0m \u001b[0;34m=\u001b[0m \u001b[0mcompute_loss\u001b[0m\u001b[0;34m(\u001b[0m\u001b[0mmodel\u001b[0m\u001b[0;34m,\u001b[0m \u001b[0mbatch_inp\u001b[0m\u001b[0;34m,\u001b[0m \u001b[0mbatch_out\u001b[0m\u001b[0;34m)\u001b[0m\u001b[0;34m\u001b[0m\u001b[0;34m\u001b[0m\u001b[0m\n\u001b[0;32m---> 20\u001b[0;31m     \u001b[0mloss_t\u001b[0m\u001b[0;34m.\u001b[0m\u001b[0mbackward\u001b[0m\u001b[0;34m(\u001b[0m\u001b[0;34m)\u001b[0m\u001b[0;34m\u001b[0m\u001b[0;34m\u001b[0m\u001b[0m\n\u001b[0m\u001b[1;32m     21\u001b[0m     \u001b[0mopt\u001b[0m\u001b[0;34m.\u001b[0m\u001b[0mstep\u001b[0m\u001b[0;34m(\u001b[0m\u001b[0;34m)\u001b[0m\u001b[0;34m\u001b[0m\u001b[0;34m\u001b[0m\u001b[0m\n\u001b[1;32m     22\u001b[0m \u001b[0;34m\u001b[0m\u001b[0m\n",
      "\u001b[0;32m/usr/local/lib/python3.6/dist-packages/torch/tensor.py\u001b[0m in \u001b[0;36mbackward\u001b[0;34m(self, gradient, retain_graph, create_graph)\u001b[0m\n\u001b[1;32m    193\u001b[0m                 \u001b[0mproducts\u001b[0m\u001b[0;34m.\u001b[0m \u001b[0mDefaults\u001b[0m \u001b[0mto\u001b[0m\u001b[0;31m \u001b[0m\u001b[0;31m`\u001b[0m\u001b[0;31m`\u001b[0m\u001b[0;32mFalse\u001b[0m\u001b[0;31m`\u001b[0m\u001b[0;31m`\u001b[0m\u001b[0;34m.\u001b[0m\u001b[0;34m\u001b[0m\u001b[0;34m\u001b[0m\u001b[0m\n\u001b[1;32m    194\u001b[0m         \"\"\"\n\u001b[0;32m--> 195\u001b[0;31m         \u001b[0mtorch\u001b[0m\u001b[0;34m.\u001b[0m\u001b[0mautograd\u001b[0m\u001b[0;34m.\u001b[0m\u001b[0mbackward\u001b[0m\u001b[0;34m(\u001b[0m\u001b[0mself\u001b[0m\u001b[0;34m,\u001b[0m \u001b[0mgradient\u001b[0m\u001b[0;34m,\u001b[0m \u001b[0mretain_graph\u001b[0m\u001b[0;34m,\u001b[0m \u001b[0mcreate_graph\u001b[0m\u001b[0;34m)\u001b[0m\u001b[0;34m\u001b[0m\u001b[0;34m\u001b[0m\u001b[0m\n\u001b[0m\u001b[1;32m    196\u001b[0m \u001b[0;34m\u001b[0m\u001b[0m\n\u001b[1;32m    197\u001b[0m     \u001b[0;32mdef\u001b[0m \u001b[0mregister_hook\u001b[0m\u001b[0;34m(\u001b[0m\u001b[0mself\u001b[0m\u001b[0;34m,\u001b[0m \u001b[0mhook\u001b[0m\u001b[0;34m)\u001b[0m\u001b[0;34m:\u001b[0m\u001b[0;34m\u001b[0m\u001b[0;34m\u001b[0m\u001b[0m\n",
      "\u001b[0;32m/usr/local/lib/python3.6/dist-packages/torch/autograd/__init__.py\u001b[0m in \u001b[0;36mbackward\u001b[0;34m(tensors, grad_tensors, retain_graph, create_graph, grad_variables)\u001b[0m\n\u001b[1;32m     97\u001b[0m     Variable._execution_engine.run_backward(\n\u001b[1;32m     98\u001b[0m         \u001b[0mtensors\u001b[0m\u001b[0;34m,\u001b[0m \u001b[0mgrad_tensors\u001b[0m\u001b[0;34m,\u001b[0m \u001b[0mretain_graph\u001b[0m\u001b[0;34m,\u001b[0m \u001b[0mcreate_graph\u001b[0m\u001b[0;34m,\u001b[0m\u001b[0;34m\u001b[0m\u001b[0;34m\u001b[0m\u001b[0m\n\u001b[0;32m---> 99\u001b[0;31m         allow_unreachable=True)  # allow_unreachable flag\n\u001b[0m\u001b[1;32m    100\u001b[0m \u001b[0;34m\u001b[0m\u001b[0m\n\u001b[1;32m    101\u001b[0m \u001b[0;34m\u001b[0m\u001b[0m\n",
      "\u001b[0;31mKeyboardInterrupt\u001b[0m: "
     ]
    }
   ],
   "source": [
    "opt = torch.optim.Adam(model.parameters(), lr=1e-3)\n",
    "batch_size = 32\n",
    "\n",
    "for _ in trange(25000):\n",
    "    step = len(metrics['train_loss']) + 1\n",
    "    #print(step)\n",
    "    batch_ix = np.random.randint(len(train_inp), size=batch_size)\n",
    "    batch_inp = inp_voc.to_matrix(train_inp[batch_ix]).to(device)\n",
    "    batch_out = out_voc.to_matrix(train_out[batch_ix]).to(device)\n",
    "    \n",
    "    #print(\"input tokens\", batch_inp.shape)\n",
    "    #print(\"output tokens\", batch_out.shape)\n",
    "    \n",
    "    #<YOUR CODE: training step using batch_inp and batch_out>\n",
    "    \n",
    "    #print(\"\\nloss:\", loss)\n",
    "    \n",
    "    opt.zero_grad()\n",
    "    loss_t = compute_loss(model, batch_inp, batch_out)\n",
    "    loss_t.backward()\n",
    "    opt.step()\n",
    "    \n",
    "    \n",
    "    metrics['train_loss'].append((step, loss_t.item()))\n",
    "    \n",
    "    if step % 100 == 0:\n",
    "        metrics['dev_bleu'].append((step, compute_bleu(model, dev_inp, dev_out)))\n",
    "        \n",
    "        clear_output(True)\n",
    "        plt.figure(figsize=(12,4))\n",
    "        for i, (name, history) in enumerate(sorted(metrics.items())):\n",
    "            plt.subplot(1, len(metrics), i + 1)\n",
    "            plt.title(name)\n",
    "            plt.plot(*zip(*history))\n",
    "            plt.grid()\n",
    "        plt.show()\n",
    "        print(\"Mean loss=%.3f\" % np.mean(metrics['train_loss'][-10:], axis=0)[1], flush=True)\n",
    "        \n",
    "# Note: it's okay if bleu oscillates up and down as long as it gets better on average over long term (e.g. 5k batches)"
   ]
  },
  {
   "cell_type": "code",
   "execution_count": null,
   "metadata": {
    "colab": {},
    "colab_type": "code",
    "id": "2ahuhKVhlrtP"
   },
   "outputs": [],
   "source": [
    "assert np.mean(metrics['dev_bleu'][-10:], axis=0)[1] > 15, \"We kind of need a higher bleu BLEU from you. Kind of right now.\""
   ]
  },
  {
   "cell_type": "code",
   "execution_count": null,
   "metadata": {
    "colab": {},
    "colab_type": "code",
    "id": "KyaHOpealrtS"
   },
   "outputs": [],
   "source": [
    "for inp_line, trans_line in zip(dev_inp[::500], model.translate_lines(dev_inp[::500])[0]):\n",
    "    print(inp_line)\n",
    "    print(trans_line)\n",
    "    print()"
   ]
  },
  {
   "cell_type": "code",
   "execution_count": 41,
   "metadata": {},
   "outputs": [],
   "source": [
    "def train_model(model, opt, batch_size):\n",
    "    #<YOUR CODE: training loop>\n",
    "    metrics = {'train_loss': [], 'dev_bleu': [] }\n",
    "\n",
    "    for _ in trange(25000):\n",
    "        step = len(metrics['train_loss']) + 1\n",
    "        \n",
    "        batch_ix = np.random.randint(len(train_inp), size=batch_size)\n",
    "        batch_inp = inp_voc.to_matrix(train_inp[batch_ix]).to(device)\n",
    "        batch_out = out_voc.to_matrix(train_out[batch_ix]).to(device)\n",
    "    \n",
    "    \n",
    "        #<YOUR CODE: training step using batch_inp and batch_out>\n",
    "        loss_t = compute_loss(model, batch_inp, batch_out)\n",
    "        #print(\"\\nloss:\", loss_t)\n",
    "    \n",
    "        loss_t.backward()\n",
    "        opt.step()\n",
    "        opt.zero_grad()\n",
    "    \n",
    "        metrics['train_loss'].append((step, loss_t.item()))\n",
    "    \n",
    "        if step % 100 == 0:\n",
    "            metrics['dev_bleu'].append((step, compute_bleu(model, dev_inp, dev_out)))\n",
    "        \n",
    "            clear_output(True)\n",
    "            plt.figure(figsize=(12,4))\n",
    "            for i, (name, history) in enumerate(sorted(metrics.items())):\n",
    "                plt.subplot(1, len(metrics), i + 1)\n",
    "                plt.title(name)\n",
    "                plt.plot(*zip(*history))\n",
    "                plt.grid()\n",
    "            plt.show()\n",
    "            print(\"Mean loss=%.3f\" % np.mean(metrics['train_loss'][-10:], axis=0)[1], flush=True)\n",
    "        \n",
    "# Note: it's okay if bleu oscillates up and down as long as it gets better on average over long term (e.g. 5k batches)"
   ]
  },
  {
   "cell_type": "markdown",
   "metadata": {
    "colab_type": "text",
    "id": "Tv0s8qxOXp5y"
   },
   "source": [
    "# Homework code templates will appear here soon!"
   ]
  },
  {
   "cell_type": "markdown",
   "metadata": {
    "colab_type": "text",
    "id": "edk_oVg0lrtW"
   },
   "source": [
    "### Your Attention Required\n",
    "\n",
    "In this section we want you to improve over the basic model by implementing a simple attention mechanism.\n",
    "\n",
    "This is gonna be a two-parter: building the __attention layer__ and using it for an __attentive seq2seq model__."
   ]
  },
  {
   "cell_type": "markdown",
   "metadata": {
    "colab_type": "text",
    "id": "Qz9aROAIlrtX"
   },
   "source": [
    "### Attention layer (3 points)\n",
    "\n",
    "Here you will have to implement a layer that computes a simple additive attention:\n",
    "\n",
    "Given encoder sequence $ h^e_0, h^e_1, h^e_2, ..., h^e_T$ and a single decoder state $h^d$,\n",
    "\n",
    "* Compute logits with a 2-layer neural network\n",
    "$$a_t = linear_{out}(tanh(linear_{e}(h^e_t) + linear_{d}(h_d)))$$\n",
    "* Get probabilities from logits, \n",
    "$$ p_t = {{e ^ {a_t}} \\over { \\sum_\\tau e^{a_\\tau} }} $$\n",
    "\n",
    "* Add up encoder states with probabilities to get __attention response__\n",
    "$$ attn = \\sum_t p_t \\cdot h^e_t $$\n",
    "\n",
    "You can learn more about attention layers in the lecture slides or [from this post](https://distill.pub/2016/augmented-rnns/)."
   ]
  },
  {
   "cell_type": "code",
   "execution_count": 18,
   "metadata": {},
   "outputs": [],
   "source": [
    "class RevisedAttentionLayer(nn.Module):  # dot product\n",
    "    def __init__(self):\n",
    "        \"\"\" A layer that computes additive attention response and weights \"\"\"\n",
    "        super().__init__()\n",
    "\n",
    "    def forward(self, enc, dec, inp_mask):\n",
    "\n",
    "        #inp_mask = ~inp_mask\n",
    "        \n",
    "        # Compute Attention Score logits \n",
    "        attn_scores = torch.bmm(enc, dec.unsqueeze(dim=-1))\n",
    "        \n",
    "        # Apply mask - if mask is 0, logits should be -inf or -1e9\n",
    "        attn_scores =  attn_scores.masked_fill(~inp_mask.unsqueeze(dim=-1), -float('inf'))\n",
    "        #print(\"/nattn_scores\", attn_scores)\n",
    "        \n",
    "        # apply softmax \n",
    "        #attn_weights = F.log_softmax(final_attn_score, dim=1)\n",
    "        attn_weights = attn_scores.softmax(dim=1)\n",
    "        \n",
    "        # Compute attention response using enc and probs\n",
    "        attn_response = (attn_weights * enc).sum(dim=1)\n",
    "    \n",
    "        return attn_response, attn_weights"
   ]
  },
  {
   "cell_type": "code",
   "execution_count": null,
   "metadata": {},
   "outputs": [],
   "source": [
    "my_mask = inp_voc.compute_mask(dummy_inp_tokens).to('cpu')\n",
    "print(\"mask shape\", my_mask.shape)\n",
    "print(my_mask)\n",
    "\n",
    "rev_attn_layer = RevisedAttentionLayer()\n",
    "\n",
    "print(enc_in.shape)\n",
    "print(h0_state.shape)\n",
    "\n",
    "attn_res, attn_prob = rev_attn_layer(enc_in, h0_state, my_mask)\n",
    "torch.as_tensor(attn_res).shape"
   ]
  },
  {
   "cell_type": "code",
   "execution_count": null,
   "metadata": {},
   "outputs": [],
   "source": [
    "class AttentionLayer(nn.Module):\n",
    "    def __init__(self, name, enc_size, dec_size, hid_size, activ=torch.tanh):\n",
    "        \"\"\" A layer that computes additive attention response and weights \"\"\"\n",
    "        super().__init__()\n",
    "        self.name = name\n",
    "        self.enc_size = enc_size # num units in encoder state\n",
    "        self.dec_size = dec_size # num units in decoder state\n",
    "        self.hid_size = hid_size # attention layer hidden units\n",
    "        self.activ = activ       # attention layer hidden nonlinearity\n",
    "        \n",
    "        # create trainable paramteres like this:\n",
    "        #self.<PARAMETER_NAME> = nn.Parameter(<INITIAL_VALUES>, requires_grad=True)\n",
    "        \n",
    "        self.linear_encoder = nn.Linear(enc_size, hid_size, bias=False)\n",
    "        self.linear_decoder = nn.Linear(dec_size, hid_size, bias=False)\n",
    "        self.linear_output = nn.Linear(hid_size, dec_size, bias=False)\n",
    "        \n",
    "        \"\"\"\n",
    "        self.linear_encoder = nn.Parameter(enc_size, 128, requires_grad=True)\n",
    "        self.linear_decoder = nn.Parameter(dec_size, 128, requires_grad=True)\n",
    "        self.linear_encoder = nn.Parameter(128, enc_size, requires_grad=True)\n",
    "        \"\"\"\n",
    "\n",
    "    def forward(self, enc, dec, inp_mask=0):\n",
    "        \"\"\"\n",
    "        Computes attention response and weights\n",
    "        :param enc: encoder activation sequence, float32[batch_size, ninp, enc_size]\n",
    "        :param dec: single decoder state used as \"query\", float32[batch_size, dec_size] -> [batch_size, 1, dec_size] -> [batch_size, ninp, enc_size]\n",
    "        :param inp_mask: mask on enc activatons (0 after first eos), float32 [batch_size, ninp]\n",
    "        :returns: attn[batch_size, enc_size], probs[batch_size, ninp]\n",
    "            - attn - attention response vector (weighted sum of enc)\n",
    "            - probs - attention weights after softmax\n",
    "            \n",
    "        1. dec.shape -> [batch_size, ninp, dec_size], enc.shape -> [batch_size, ninp, enc_size]\n",
    "        2. #encoder -> reshape -> [batch_size*ninp, enc_size], decoder -> [batch_size * ninp, dec_size]\n",
    "        3. Linear_encoder(encoder) -> [batch_size*ninp, 128], Linear_decoder(decoder) -> [batch_size*ninp, 128]\n",
    "        4. -> nn.tanh(Linear_encoder(encoder)) = tanh_e\n",
    "        5. tanh_e + Linear_decoder(decoder) = res_5\n",
    "        6. linear_output(res_5) -> [batch_size*ninp, enc_size] -> reshape -> [batch_size, ninp, enc_size]\n",
    "        7. enc -> [batch_size, ninp, enc_size], enc + linear_output(res_5)\n",
    "        \"\"\"\n",
    "        \n",
    "        # Compute Attention Weights\n",
    "        encoder_w = self.linear_encoder(enc)  # [batch_size * max_len * enc_hidden] @ [enc_hidden, 128] = [batch_size, max_len, 128]\n",
    "        print(\"\\nenc_w: \", encoder_w.shape)\n",
    "        #encoder_w = encoder_w.view(encoder_w.size(0), -1)\n",
    "        #print(\"\\nenc_w: \", encoder_w.shape)\n",
    "        \n",
    "        dec = torch.unsqueeze(dec, 1)\n",
    "        decoder_w = self.linear_decoder(dec)  # [batch_size * dec_hidden] @ [dec_hidden, 128] = [batch_size, 128]\n",
    "        print(\"\\ndec_w: \", decoder_w.shape)\n",
    "\n",
    "        # Compute logits\n",
    "        attn_weights = self.linear_output(self.activ(encoder_w + decoder_w))\n",
    "        print(\"\\nattn_weights : \", attn_weights.shape)\n",
    "\n",
    "        # Apply mask - if mask is 0, logits should be -inf or -1e9\n",
    "        # attn_weights = torch.mul(attn_weights, inp_mask) + apply_mask(inp_mask)\n",
    "        # You may need torch.where\n",
    "        #<...>\n",
    "\n",
    "        # Compute attention probabilities (softmax)\n",
    "        probs = F.log_softmax(attn_weights, dim=-1)\n",
    "        print(\"\\nprobs : \", probs.shape)\n",
    "\n",
    "        # Compute attention response using enc and probs\n",
    "        attent = probs*enc\n",
    "        print(\"attention\", attent.shape)\n",
    "        attent = torch.sum(attent, axis = 1)\n",
    "        #attent = torch.sum(attent, axis = 0)\n",
    "        print(\"atts_sum\", attent.shape)\n",
    "\n",
    "        return attent, probs"
   ]
  },
  {
   "cell_type": "code",
   "execution_count": null,
   "metadata": {},
   "outputs": [],
   "source": [
    "attn_layer = AttentionLayer(name=\"simple_attention\", enc_size=128, dec_size=128, hid_size=256)\n",
    "#mask = inp_voc.compute_mask(dummy_inp_tokens).to(\"cpu\")\n",
    "\n",
    "print(enc_in.shape)\n",
    "print(h0_state.shape)\n",
    "#print(mask.shape)\n",
    "\n",
    "attn, probs = attn_layer(enc_in, h0_state)\n",
    "print(\"attn prob: \", probs.shape)\n",
    "print(\"attn:\", attn.shape)\n"
   ]
  },
  {
   "cell_type": "markdown",
   "metadata": {
    "colab_type": "text",
    "id": "IalfpdAelrtb"
   },
   "source": [
    "### Seq2seq model with attention (3 points)\n",
    "\n",
    "You can now use the attention layer to build a network. The simplest way to implement attention is to use it in decoder phase:\n",
    "![img](https://i.imgur.com/6fKHlHb.png)\n",
    "_image from distill.pub [article](https://distill.pub/2016/augmented-rnns/)_\n",
    "\n",
    "On every step, use __previous__ decoder state to obtain attention response. Then feed concat this response to the inputs of next attention layer.\n",
    "\n",
    "The key implementation detail here is __model state__. Put simply, you can add any tensor into the list of `encode` outputs. You will then have access to them at each `decode` step. This may include:\n",
    "* Last RNN hidden states (as in basic model)\n",
    "* The whole sequence of encoder outputs (to attend to) and mask\n",
    "* Attention probabilities (to visualize)\n",
    "\n",
    "_There are, of course, alternative ways to wire attention into your network and different kinds of attention. Take a look at [this](https://arxiv.org/abs/1609.08144), [this](https://arxiv.org/abs/1706.03762) and [this](https://arxiv.org/abs/1808.03867) for ideas. And for image captioning/im2latex there's [visual attention](https://arxiv.org/abs/1502.03044)_"
   ]
  },
  {
   "cell_type": "code",
   "execution_count": 38,
   "metadata": {},
   "outputs": [],
   "source": [
    "class AttentionModel(nn.Module):\n",
    "    def __init__(self, inp_voc, out_voc, emb_size=64, hid_size=128):\n",
    "    \n",
    "        super().__init__() \n",
    "\n",
    "        self.inp_voc, self.out_voc = inp_voc, out_voc\n",
    "        self.hid_size = hid_size\n",
    "        \n",
    "        self.emb_inp = nn.Embedding(len(inp_voc), emb_size)     # encoder possible tokens\n",
    "        self.emb_out = nn.Embedding(len(out_voc), emb_size)     # decocder possible tokens\n",
    "        self.enc0 = nn.GRU(emb_size, hid_size, batch_first=True)\n",
    "\n",
    "        self.dec_start = nn.Linear(hid_size, hid_size)    \n",
    "        self.dec0 = nn.GRUCell(emb_size, hid_size)        \n",
    "        self.logits = nn.Linear(hid_size, len(out_voc))   \n",
    "        \n",
    "        self.attn_layer = RevisedAttentionLayer()\n",
    "        self.converter = nn.Linear(hid_size * 2, hid_size, bias=False) \n",
    "        self.batch_norm = nn.BatchNorm1d(hid_size * 2)\n",
    "        \n",
    "        self.batch_norm1 = nn.BatchNorm1d(hid_size)\n",
    "        self.batch_norm2 = nn.BatchNorm1d(hid_size)\n",
    "        \n",
    "        self.x1 = nn.Linear(hid_size, hid_size)\n",
    "        self.x2 = nn.Linear(hid_size, hid_size)\n",
    "        \n",
    "        self.m = nn.Tanh()\n",
    "        self.relu = nn.ReLU()\n",
    "        \n",
    "        \n",
    "    def forward(self, inp, out):\n",
    "        \"\"\" Apply model in training mode \"\"\"\n",
    "        initial_state, enc_seq, mask = self.encode(inp)\n",
    "        return self.decode(initial_state, out, enc_seq, mask)\n",
    "\n",
    "\n",
    "    def encode(self, inp, **flags):\n",
    "        \n",
    "        # create mask\n",
    "        mask = inp_voc.compute_mask(inp) \n",
    "        \n",
    "        # create emedding\n",
    "        inp_emb = self.emb_inp(inp) \n",
    "    \n",
    "        batch_size = inp.shape[0]\n",
    "        \n",
    "        # create enc_sequance + last hidden state\n",
    "        enc_seq, [last_state_but_not_really] = self.enc0(inp_emb)  # h_next, h_last\n",
    "        \n",
    "        # note: last_state is not _actually_ last because of padding, let's find the real last_state   || why!!!\n",
    "        lengths = (inp != self.inp_voc.eos_ix).to(torch.int64).sum(dim=1).clamp_max(inp.shape[1] - 1)\n",
    "        last_state = enc_seq[torch.arange(len(enc_seq)), lengths]   # new h_last\n",
    "        \n",
    "        #pass last hidden state to decoder\n",
    "        dec_start = self.dec_start(last_state) \n",
    "       \n",
    "        return [dec_start], enc_seq, mask\n",
    "        \n",
    "\n",
    "    def decode_step(self, prev_state, prev_tokens, **flags):\n",
    "        \n",
    "        prev_gru0_state = prev_state[0]  # encode returns list\n",
    "        \n",
    "        out_emb = self.emb_out(prev_tokens)    # make embedding\n",
    "        \n",
    "        h_next = self.dec0(out_emb, prev_gru0_state)    # calculate next hidden state\n",
    "        \n",
    "        output_logits = self.logits(h_next)             # calculaet logits of next hidden state\n",
    "         \n",
    "        return [h_next], output_logits\n",
    "\n",
    "    def decode(self, state, out_tokens, enc_seq, mask, **flags):\n",
    "        \"\"\" Iterate over reference tokens (out_tokens) with decode_step \"\"\"\n",
    "        \n",
    "        batch_size = out_tokens.shape[0]\n",
    "        \n",
    "        noise = torch.ones(state[0].shape[0], state[0].shape[1]).to(device)\n",
    "        \n",
    "        # initial logits: always predict BOS\n",
    "        onehot_bos = F.one_hot(torch.full([batch_size], self.out_voc.bos_ix, dtype=torch.int64),\n",
    "                               num_classes=len(self.out_voc)).to(device=out_tokens.device)\n",
    "        \n",
    "        first_logits = torch.log(onehot_bos.to(torch.float32) + 1e-9)\n",
    "        \n",
    "        logits_sequence = [first_logits]\n",
    "        for i in range(out_tokens.shape[1] - 1):\n",
    "            \n",
    "            state = state[0]\n",
    "            attn, _ = self.attn_layer(enc_seq, state, mask) \n",
    "           \n",
    "            # convert to [batxh_size x hid_size]  -->\n",
    "            state = self.relu(self.x1(state))\n",
    "            attn =  self.relu(self.x2(attn))\n",
    "            \n",
    "            state = torch.cat((state, attn), 1)\n",
    "            # state = self.batch_norm(state)\n",
    "            state = self.m(self.converter(state))\n",
    "            #print(\"new_state_convert\", out_tokens[:, i].shape)\n",
    "            \n",
    "            state, logits = self.decode_step([state], out_tokens[:, i])  \n",
    "            logits_sequence.append(logits)                               \n",
    "        return torch.stack(logits_sequence, dim=1)    \n",
    "\n",
    "    def decode_inference(self, initial_state, enc_seq, mask, max_len=100, **flags):\n",
    "        \"\"\" Generate translations from model (greedy version) \"\"\"\n",
    "        batch_size, device = len(initial_state[0]), initial_state[0].device\n",
    "        \n",
    "        state = initial_state    # add attention\n",
    "        #m = nn.Tanh()\n",
    "        \n",
    "        \n",
    "        outputs = [torch.full([batch_size], self.out_voc.bos_ix, dtype=torch.int64, \n",
    "                              device=device)]\n",
    "        all_states = [initial_state]\n",
    "\n",
    "        for i in range(max_len):\n",
    "            attn, _ = self.attn_layer(enc_seq, state[0], mask)\n",
    "            \n",
    "            state = self.relu(self.x1(state[0]))\n",
    "            attn =  self.relu(self.x2(attn))\n",
    "            \n",
    "            #state = torch.cat((state[0], attn), 1)\n",
    "            state = torch.cat((state, attn), 1)\n",
    "            state = self.m(self.converter(state))\n",
    "            \n",
    "            state, logits = self.decode_step([state], outputs[-1])\n",
    "            outputs.append(logits.argmax(dim=-1))\n",
    "            all_states.append(state)\n",
    "        \n",
    "        return torch.stack(outputs, dim=1), all_states\n",
    "\n",
    "    def translate_lines(self, inp_lines, **kwargs):\n",
    "        print(\"input text\", inp_lines)\n",
    "        inp = self.inp_voc.to_matrix(inp_lines).to(device)\n",
    "        print(\"\\ninp:\", inp.shape)\n",
    "        \n",
    "        initial_state, enc_seq, mask = self.encode(inp)\n",
    "        \n",
    "        out_ids, states = self.decode_inference(initial_state,enc_seq, mask, **kwargs)\n",
    "        \n",
    "        return self.out_voc.to_lines(out_ids.cpu().numpy()), states\n",
    "\n"
   ]
  },
  {
   "cell_type": "code",
   "execution_count": 39,
   "metadata": {},
   "outputs": [
    {
     "name": "stdout",
     "output_type": "stream",
     "text": [
      "loss 6.715794086456299\n",
      "input text ['на территории обустроена бесплатная частная парковка .']\n",
      "\n",
      "inp: torch.Size([1, 9])\n",
      "Translations without training:\n",
      "pousada furnished cap fru@@ booking zagreb ically complex fly quality goro@@ rua pai@@ bot@@ z@@\n"
     ]
    }
   ],
   "source": [
    "attn_model = AttentionModel(inp_voc, out_voc).to(device)\n",
    "\n",
    "h0, enc_seq, mask = attn_model.encode(dummy_inp_tokens)\n",
    "\n",
    "my_logits_seq = attn_model.decode(h0, dummy_out_tokens, enc_seq, mask)\n",
    "\n",
    "logits_seq2 = attn_model(dummy_inp_tokens, dummy_out_tokens)\n",
    "logits_seq2.shape\n",
    "\n",
    "my_loss = compute_loss(attn_model, dummy_inp_tokens, dummy_out_tokens).item()\n",
    "print(\"loss\", my_loss)\n",
    "\n",
    "dummy_translations, dummy_states = attn_model.translate_lines(train_inp[0:1], max_len=15)\n",
    "print(\"Translations without training:\")\n",
    "print('\\n'.join([line for line in dummy_translations]))"
   ]
  },
  {
   "cell_type": "markdown",
   "metadata": {
    "colab_type": "text",
    "id": "ryZCOTEslrtf"
   },
   "source": [
    "### Training attentive model\n",
    "\n",
    "Please reuse the infrastructure you've built for the regular model. I hope you didn't hard-code anything :)"
   ]
  },
  {
   "cell_type": "code",
   "execution_count": 40,
   "metadata": {},
   "outputs": [
    {
     "data": {
      "image/png": "[encoded data removed]",
      "text/plain": [
       "<Figure size 864x288 with 2 Axes>"
      ]
     },
     "metadata": {
      "needs_background": "light"
     },
     "output_type": "display_data"
    },
    {
     "name": "stdout",
     "output_type": "stream",
     "text": [
      "Mean loss=0.973\n"
     ]
    },
    {
     "name": "stderr",
     "output_type": "stream",
     "text": [
      "\n",
      "\n",
      "100%|██████████| 25000/25000 [27:12<00:00, 15.32it/s]\u001b[A\u001b[A\n"
     ]
    }
   ],
   "source": [
    "#<YOUR CODE: training loop>\n",
    "metrics = {'train_loss': [], 'dev_bleu': [] }\n",
    "\n",
    "#attn_model = AttentiveModel(inp_voc, out_voc, 5).to(device)\n",
    "attn_model = AttentionModel(inp_voc, out_voc).to(device)\n",
    "opt = torch.optim.Adam(attn_model.parameters(), lr=1e-3)\n",
    "batch_size = 32\n",
    "\n",
    "for _ in trange(25000):\n",
    "    step = len(metrics['train_loss']) + 1\n",
    "    #print(step)\n",
    "    batch_ix = np.random.randint(len(train_inp), size=batch_size)\n",
    "    batch_inp = inp_voc.to_matrix(train_inp[batch_ix]).to(device)\n",
    "    batch_out = out_voc.to_matrix(train_out[batch_ix]).to(device)\n",
    "    \n",
    "    #print(\"input tokens\", batch_inp.shape)\n",
    "    #print(\"output tokens\", batch_out.shape)\n",
    "    \n",
    "    #<YOUR CODE: training step using batch_inp and batch_out>\n",
    "    loss_t = compute_loss(attn_model, batch_inp, batch_out)\n",
    "    #print(\"\\nloss:\", loss_t)\n",
    "    \n",
    "    loss_t.backward()\n",
    "    opt.step()\n",
    "    opt.zero_grad()\n",
    "    \n",
    "    metrics['train_loss'].append((step, loss_t.item()))\n",
    "    \n",
    "    if step % 100 == 0:\n",
    "        metrics['dev_bleu'].append((step, compute_bleu(attn_model, dev_inp, dev_out)))\n",
    "        \n",
    "        clear_output(True)\n",
    "        plt.figure(figsize=(12,4))\n",
    "        for i, (name, history) in enumerate(sorted(metrics.items())):\n",
    "            plt.subplot(1, len(metrics), i + 1)\n",
    "            plt.title(name)\n",
    "            plt.plot(*zip(*history))\n",
    "            plt.grid()\n",
    "        plt.show()\n",
    "        print(\"Mean loss=%.3f\" % np.mean(metrics['train_loss'][-10:], axis=0)[1], flush=True)\n",
    "        \n",
    "# Note: it's okay if bleu oscillates up and down as long as it gets better on average over long term (e.g. 5k batches)  "
   ]
  },
  {
   "cell_type": "code",
   "execution_count": 42,
   "metadata": {},
   "outputs": [
    {
     "name": "stdout",
     "output_type": "stream",
     "text": [
      "input text ['на территории обустроена бесплатная частная парковка .'\n",
      " 'кроме того , в 5 минутах ходьбы работают многочисленные бары и рестораны .'\n",
      " 'отель san mi@@ gu@@ el расположен в центре мор@@ ели@@ и , в 750 метрах от главной площади города и кафедрального собора .'\n",
      " 'в распоряжении гостей также ванная комната с ванной или душем .'\n",
      " 'апартаменты с 1 спальней o@@ as@@ i da el@@ io расположены в городе га@@ эта , в 1 , 2 км от регионального природного парка монте - орландо .']\n",
      "\n",
      "inp: torch.Size([5, 31])\n",
      "free private parking is available on site .\n",
      "there are a lot of restaurants and bars .\n",
      "the hotel is located in the centre of hvar , this hotel is located in the centre of hvar , this hotel is located in\n",
      "the bathroom comes with a bath or shower .\n",
      "apartment 3 is a self - catering accommodation located in gdańsk , 1 . 2 km from o2 arena .\n"
     ]
    }
   ],
   "source": [
    "#<YOUR CODE: measure final BLEU>\n",
    "\n",
    "dummy_translations, dummy_states = attn_model.translate_lines(train_inp[0:5], max_len=25)\n",
    "#print(\"Translations without training:\")\n",
    "print('\\n'.join([line for line in dummy_translations]))\n"
   ]
  },
  {
   "cell_type": "code",
   "execution_count": 43,
   "metadata": {},
   "outputs": [
    {
     "data": {
      "image/png": "[encoded data removed]",
      "text/plain": [
       "<Figure size 864x288 with 2 Axes>"
      ]
     },
     "metadata": {
      "needs_background": "light"
     },
     "output_type": "display_data"
    },
    {
     "name": "stdout",
     "output_type": "stream",
     "text": [
      "Mean loss=0.929\n"
     ]
    },
    {
     "name": "stderr",
     "output_type": "stream",
     "text": [
      "100%|██████████| 25000/25000 [31:24<00:00, 13.26it/s]\n"
     ]
    }
   ],
   "source": [
    "attn_model = AttentionModel(inp_voc, out_voc).to(device)\n",
    "opt = torch.optim.Adam(attn_model.parameters(), lr=1e-3)\n",
    "batch_size = 32\n",
    "\n",
    "train_model(attn_model, opt, batch_size)"
   ]
  },
  {
   "cell_type": "markdown",
   "metadata": {},
   "source": [
    "### Visualizing model attention (2 points)\n",
    "\n",
    "After training the attentive translation model, you can check it's sanity by visualizing its attention weights.\n",
    "\n",
    "We provided you with a function that draws attention maps using [`Bokeh`](https://bokeh.pydata.org/en/latest/index.html). Once you managed to produce something better than random noise, please save at least 3 attention maps and __submit them to anytask__ alongside this notebook to get the max grade. Saving bokeh figures as __cell outputs is not enough!__ (TAs can't see saved bokeh figures in anytask). You can save bokeh images as screenshots or using this button:\n",
    "\n",
    "![bokeh_panel](https://github.com/yandexdataschool/nlp_course/raw/2019/resources/bokeh_panel.png)\n",
    "\n",
    "__Note:__ you're not locked into using bokeh. If you prefer a different visualization method, feel free to use that instead of bokeh."
   ]
  },
  {
   "cell_type": "code",
   "execution_count": 43,
   "metadata": {},
   "outputs": [
    {
     "data": {
      "text/html": [
       "\n",
       "    <div class=\"bk-root\">\n",
       "        <a href=\"https://bokeh.org\" target=\"_blank\" class=\"bk-logo bk-logo-small bk-logo-notebook\"></a>\n",
       "        <span id=\"1002\">Loading BokehJS ...</span>\n",
       "    </div>"
      ]
     },
     "metadata": {},
     "output_type": "display_data"
    },
    {
     "data": {
      "application/javascript": [
       "\n",
       "(function(root) {\n",
       "  function now() {\n",
       "    return new Date();\n",
       "  }\n",
       "\n",
       "  var force = true;\n",
       "\n",
       "  if (typeof root._bokeh_onload_callbacks === \"undefined\" || force === true) {\n",
       "    root._bokeh_onload_callbacks = [];\n",
       "    root._bokeh_is_loading = undefined;\n",
       "  }\n",
       "\n",
       "  var JS_MIME_TYPE = 'application/javascript';\n",
       "  var HTML_MIME_TYPE = 'text/html';\n",
       "  var EXEC_MIME_TYPE = 'application/vnd.bokehjs_exec.v0+json';\n",
       "  var CLASS_NAME = 'output_bokeh rendered_html';\n",
       "\n",
       "  /**\n",
       "   * Render data to the DOM node\n",
       "   */\n",
       "  function render(props, node) {\n",
       "    var script = document.createElement(\"script\");\n",
       "    node.appendChild(script);\n",
       "  }\n",
       "\n",
       "  /**\n",
       "   * Handle when an output is cleared or removed\n",
       "   */\n",
       "  function handleClearOutput(event, handle) {\n",
       "    var cell = handle.cell;\n",
       "\n",
       "    var id = cell.output_area._bokeh_element_id;\n",
       "    var server_id = cell.output_area._bokeh_server_id;\n",
       "    // Clean up Bokeh references\n",
       "    if (id != null && id in Bokeh.index) {\n",
       "      Bokeh.index[id].model.document.clear();\n",
       "      delete Bokeh.index[id];\n",
       "    }\n",
       "\n",
       "    if (server_id !== undefined) {\n",
       "      // Clean up Bokeh references\n",
       "      var cmd = \"from bokeh.io.state import curstate; print(curstate().uuid_to_server['\" + server_id + \"'].get_sessions()[0].document.roots[0]._id)\";\n",
       "      cell.notebook.kernel.execute(cmd, {\n",
       "        iopub: {\n",
       "          output: function(msg) {\n",
       "            var id = msg.content.text.trim();\n",
       "            if (id in Bokeh.index) {\n",
       "              Bokeh.index[id].model.document.clear();\n",
       "              delete Bokeh.index[id];\n",
       "            }\n",
       "          }\n",
       "        }\n",
       "      });\n",
       "      // Destroy server and session\n",
       "      var cmd = \"import bokeh.io.notebook as ion; ion.destroy_server('\" + server_id + \"')\";\n",
       "      cell.notebook.kernel.execute(cmd);\n",
       "    }\n",
       "  }\n",
       "\n",
       "  /**\n",
       "   * Handle when a new output is added\n",
       "   */\n",
       "  function handleAddOutput(event, handle) {\n",
       "    var output_area = handle.output_area;\n",
       "    var output = handle.output;\n",
       "\n",
       "    // limit handleAddOutput to display_data with EXEC_MIME_TYPE content only\n",
       "    if ((output.output_type != \"display_data\") || (!Object.prototype.hasOwnProperty.call(output.data, EXEC_MIME_TYPE))) {\n",
       "      return\n",
       "    }\n",
       "\n",
       "    var toinsert = output_area.element.find(\".\" + CLASS_NAME.split(' ')[0]);\n",
       "\n",
       "    if (output.metadata[EXEC_MIME_TYPE][\"id\"] !== undefined) {\n",
       "      toinsert[toinsert.length - 1].firstChild.textContent = output.data[JS_MIME_TYPE];\n",
       "      // store reference to embed id on output_area\n",
       "      output_area._bokeh_element_id = output.metadata[EXEC_MIME_TYPE][\"id\"];\n",
       "    }\n",
       "    if (output.metadata[EXEC_MIME_TYPE][\"server_id\"] !== undefined) {\n",
       "      var bk_div = document.createElement(\"div\");\n",
       "      bk_div.innerHTML = output.data[HTML_MIME_TYPE];\n",
       "      var script_attrs = bk_div.children[0].attributes;\n",
       "      for (var i = 0; i < script_attrs.length; i++) {\n",
       "        toinsert[toinsert.length - 1].firstChild.setAttribute(script_attrs[i].name, script_attrs[i].value);\n",
       "        toinsert[toinsert.length - 1].firstChild.textContent = bk_div.children[0].textContent\n",
       "      }\n",
       "      // store reference to server id on output_area\n",
       "      output_area._bokeh_server_id = output.metadata[EXEC_MIME_TYPE][\"server_id\"];\n",
       "    }\n",
       "  }\n",
       "\n",
       "  function register_renderer(events, OutputArea) {\n",
       "\n",
       "    function append_mime(data, metadata, element) {\n",
       "      // create a DOM node to render to\n",
       "      var toinsert = this.create_output_subarea(\n",
       "        metadata,\n",
       "        CLASS_NAME,\n",
       "        EXEC_MIME_TYPE\n",
       "      );\n",
       "      this.keyboard_manager.register_events(toinsert);\n",
       "      // Render to node\n",
       "      var props = {data: data, metadata: metadata[EXEC_MIME_TYPE]};\n",
       "      render(props, toinsert[toinsert.length - 1]);\n",
       "      element.append(toinsert);\n",
       "      return toinsert\n",
       "    }\n",
       "\n",
       "    /* Handle when an output is cleared or removed */\n",
       "    events.on('clear_output.CodeCell', handleClearOutput);\n",
       "    events.on('delete.Cell', handleClearOutput);\n",
       "\n",
       "    /* Handle when a new output is added */\n",
       "    events.on('output_added.OutputArea', handleAddOutput);\n",
       "\n",
       "    /**\n",
       "     * Register the mime type and append_mime function with output_area\n",
       "     */\n",
       "    OutputArea.prototype.register_mime_type(EXEC_MIME_TYPE, append_mime, {\n",
       "      /* Is output safe? */\n",
       "      safe: true,\n",
       "      /* Index of renderer in `output_area.display_order` */\n",
       "      index: 0\n",
       "    });\n",
       "  }\n",
       "\n",
       "  // register the mime type if in Jupyter Notebook environment and previously unregistered\n",
       "  if (root.Jupyter !== undefined) {\n",
       "    var events = require('base/js/events');\n",
       "    var OutputArea = require('notebook/js/outputarea').OutputArea;\n",
       "\n",
       "    if (OutputArea.prototype.mime_types().indexOf(EXEC_MIME_TYPE) == -1) {\n",
       "      register_renderer(events, OutputArea);\n",
       "    }\n",
       "  }\n",
       "\n",
       "  \n",
       "  if (typeof (root._bokeh_timeout) === \"undefined\" || force === true) {\n",
       "    root._bokeh_timeout = Date.now() + 5000;\n",
       "    root._bokeh_failed_load = false;\n",
       "  }\n",
       "\n",
       "  var NB_LOAD_WARNING = {'data': {'text/html':\n",
       "     \"<div style='background-color: #fdd'>\\n\"+\n",
       "     \"<p>\\n\"+\n",
       "     \"BokehJS does not appear to have successfully loaded. If loading BokehJS from CDN, this \\n\"+\n",
       "     \"may be due to a slow or bad network connection. Possible fixes:\\n\"+\n",
       "     \"</p>\\n\"+\n",
       "     \"<ul>\\n\"+\n",
       "     \"<li>re-rerun `output_notebook()` to attempt to load from CDN again, or</li>\\n\"+\n",
       "     \"<li>use INLINE resources instead, as so:</li>\\n\"+\n",
       "     \"</ul>\\n\"+\n",
       "     \"<code>\\n\"+\n",
       "     \"from bokeh.resources import INLINE\\n\"+\n",
       "     \"output_notebook(resources=INLINE)\\n\"+\n",
       "     \"</code>\\n\"+\n",
       "     \"</div>\"}};\n",
       "\n",
       "  function display_loaded() {\n",
       "    var el = document.getElementById(\"1002\");\n",
       "    if (el != null) {\n",
       "      el.textContent = \"BokehJS is loading...\";\n",
       "    }\n",
       "    if (root.Bokeh !== undefined) {\n",
       "      if (el != null) {\n",
       "        el.textContent = \"BokehJS \" + root.Bokeh.version + \" successfully loaded.\";\n",
       "      }\n",
       "    } else if (Date.now() < root._bokeh_timeout) {\n",
       "      setTimeout(display_loaded, 100)\n",
       "    }\n",
       "  }\n",
       "\n",
       "\n",
       "  function run_callbacks() {\n",
       "    try {\n",
       "      root._bokeh_onload_callbacks.forEach(function(callback) {\n",
       "        if (callback != null)\n",
       "          callback();\n",
       "      });\n",
       "    } finally {\n",
       "      delete root._bokeh_onload_callbacks\n",
       "    }\n",
       "    console.debug(\"Bokeh: all callbacks have finished\");\n",
       "  }\n",
       "\n",
       "  function load_libs(css_urls, js_urls, callback) {\n",
       "    if (css_urls == null) css_urls = [];\n",
       "    if (js_urls == null) js_urls = [];\n",
       "\n",
       "    root._bokeh_onload_callbacks.push(callback);\n",
       "    if (root._bokeh_is_loading > 0) {\n",
       "      console.debug(\"Bokeh: BokehJS is being loaded, scheduling callback at\", now());\n",
       "      return null;\n",
       "    }\n",
       "    if (js_urls == null || js_urls.length === 0) {\n",
       "      run_callbacks();\n",
       "      return null;\n",
       "    }\n",
       "    console.debug(\"Bokeh: BokehJS not loaded, scheduling load and callback at\", now());\n",
       "    root._bokeh_is_loading = css_urls.length + js_urls.length;\n",
       "\n",
       "    function on_load() {\n",
       "      root._bokeh_is_loading--;\n",
       "      if (root._bokeh_is_loading === 0) {\n",
       "        console.debug(\"Bokeh: all BokehJS libraries/stylesheets loaded\");\n",
       "        run_callbacks()\n",
       "      }\n",
       "    }\n",
       "\n",
       "    function on_error(url) {\n",
       "      console.error(\"failed to load \" + url);\n",
       "    }\n",
       "\n",
       "    for (let i = 0; i < css_urls.length; i++) {\n",
       "      const url = css_urls[i];\n",
       "      const element = document.createElement(\"link\");\n",
       "      element.onload = on_load;\n",
       "      element.onerror = on_error.bind(null, url);\n",
       "      element.rel = \"stylesheet\";\n",
       "      element.type = \"text/css\";\n",
       "      element.href = url;\n",
       "      console.debug(\"Bokeh: injecting link tag for BokehJS stylesheet: \", url);\n",
       "      document.body.appendChild(element);\n",
       "    }\n",
       "\n",
       "    const hashes = {\"https://cdn.bokeh.org/bokeh/release/bokeh-2.3.2.min.js\": \"XypntL49z55iwGVUW4qsEu83zKL3XEcz0MjuGOQ9SlaaQ68X/g+k1FcioZi7oQAc\", \"https://cdn.bokeh.org/bokeh/release/bokeh-tables-2.3.2.min.js\": \"bEsM86IHGDTLCS0Zod8a8WM6Y4+lafAL/eSiyQcuPzinmWNgNO2/olUF0Z2Dkn5i\", \"https://cdn.bokeh.org/bokeh/release/bokeh-widgets-2.3.2.min.js\": \"TX0gSQTdXTTeScqxj6PVQxTiRW8DOoGVwinyi1D3kxv7wuxQ02XkOxv0xwiypcAH\"};\n",
       "\n",
       "    for (let i = 0; i < js_urls.length; i++) {\n",
       "      const url = js_urls[i];\n",
       "      const element = document.createElement('script');\n",
       "      element.onload = on_load;\n",
       "      element.onerror = on_error.bind(null, url);\n",
       "      element.async = false;\n",
       "      element.src = url;\n",
       "      if (url in hashes) {\n",
       "        element.crossOrigin = \"anonymous\";\n",
       "        element.integrity = \"sha384-\" + hashes[url];\n",
       "      }\n",
       "      console.debug(\"Bokeh: injecting script tag for BokehJS library: \", url);\n",
       "      document.head.appendChild(element);\n",
       "    }\n",
       "  };\n",
       "\n",
       "  function inject_raw_css(css) {\n",
       "    const element = document.createElement(\"style\");\n",
       "    element.appendChild(document.createTextNode(css));\n",
       "    document.body.appendChild(element);\n",
       "  }\n",
       "\n",
       "  \n",
       "  var js_urls = [\"https://cdn.bokeh.org/bokeh/release/bokeh-2.3.2.min.js\", \"https://cdn.bokeh.org/bokeh/release/bokeh-widgets-2.3.2.min.js\", \"https://cdn.bokeh.org/bokeh/release/bokeh-tables-2.3.2.min.js\"];\n",
       "  var css_urls = [];\n",
       "  \n",
       "\n",
       "  var inline_js = [\n",
       "    function(Bokeh) {\n",
       "      Bokeh.set_log_level(\"info\");\n",
       "    },\n",
       "    function(Bokeh) {\n",
       "    \n",
       "    \n",
       "    }\n",
       "  ];\n",
       "\n",
       "  function run_inline_js() {\n",
       "    \n",
       "    if (root.Bokeh !== undefined || force === true) {\n",
       "      \n",
       "    for (var i = 0; i < inline_js.length; i++) {\n",
       "      inline_js[i].call(root, root.Bokeh);\n",
       "    }\n",
       "    if (force === true) {\n",
       "        display_loaded();\n",
       "      }} else if (Date.now() < root._bokeh_timeout) {\n",
       "      setTimeout(run_inline_js, 100);\n",
       "    } else if (!root._bokeh_failed_load) {\n",
       "      console.log(\"Bokeh: BokehJS failed to load within specified timeout.\");\n",
       "      root._bokeh_failed_load = true;\n",
       "    } else if (force !== true) {\n",
       "      var cell = $(document.getElementById(\"1002\")).parents('.cell').data().cell;\n",
       "      cell.output_area.append_execute_result(NB_LOAD_WARNING)\n",
       "    }\n",
       "\n",
       "  }\n",
       "\n",
       "  if (root._bokeh_is_loading === 0) {\n",
       "    console.debug(\"Bokeh: BokehJS loaded, going straight to plotting\");\n",
       "    run_inline_js();\n",
       "  } else {\n",
       "    load_libs(css_urls, js_urls, function() {\n",
       "      console.debug(\"Bokeh: BokehJS plotting callback run at\", now());\n",
       "      run_inline_js();\n",
       "    });\n",
       "  }\n",
       "}(window));"
      ],
      "application/vnd.bokehjs_load.v0+json": "\n(function(root) {\n  function now() {\n    return new Date();\n  }\n\n  var force = true;\n\n  if (typeof root._bokeh_onload_callbacks === \"undefined\" || force === true) {\n    root._bokeh_onload_callbacks = [];\n    root._bokeh_is_loading = undefined;\n  }\n\n  \n\n  \n  if (typeof (root._bokeh_timeout) === \"undefined\" || force === true) {\n    root._bokeh_timeout = Date.now() + 5000;\n    root._bokeh_failed_load = false;\n  }\n\n  var NB_LOAD_WARNING = {'data': {'text/html':\n     \"<div style='background-color: #fdd'>\\n\"+\n     \"<p>\\n\"+\n     \"BokehJS does not appear to have successfully loaded. If loading BokehJS from CDN, this \\n\"+\n     \"may be due to a slow or bad network connection. Possible fixes:\\n\"+\n     \"</p>\\n\"+\n     \"<ul>\\n\"+\n     \"<li>re-rerun `output_notebook()` to attempt to load from CDN again, or</li>\\n\"+\n     \"<li>use INLINE resources instead, as so:</li>\\n\"+\n     \"</ul>\\n\"+\n     \"<code>\\n\"+\n     \"from bokeh.resources import INLINE\\n\"+\n     \"output_notebook(resources=INLINE)\\n\"+\n     \"</code>\\n\"+\n     \"</div>\"}};\n\n  function display_loaded() {\n    var el = document.getElementById(\"1002\");\n    if (el != null) {\n      el.textContent = \"BokehJS is loading...\";\n    }\n    if (root.Bokeh !== undefined) {\n      if (el != null) {\n        el.textContent = \"BokehJS \" + root.Bokeh.version + \" successfully loaded.\";\n      }\n    } else if (Date.now() < root._bokeh_timeout) {\n      setTimeout(display_loaded, 100)\n    }\n  }\n\n\n  function run_callbacks() {\n    try {\n      root._bokeh_onload_callbacks.forEach(function(callback) {\n        if (callback != null)\n          callback();\n      });\n    } finally {\n      delete root._bokeh_onload_callbacks\n    }\n    console.debug(\"Bokeh: all callbacks have finished\");\n  }\n\n  function load_libs(css_urls, js_urls, callback) {\n    if (css_urls == null) css_urls = [];\n    if (js_urls == null) js_urls = [];\n\n    root._bokeh_onload_callbacks.push(callback);\n    if (root._bokeh_is_loading > 0) {\n      console.debug(\"Bokeh: BokehJS is being loaded, scheduling callback at\", now());\n      return null;\n    }\n    if (js_urls == null || js_urls.length === 0) {\n      run_callbacks();\n      return null;\n    }\n    console.debug(\"Bokeh: BokehJS not loaded, scheduling load and callback at\", now());\n    root._bokeh_is_loading = css_urls.length + js_urls.length;\n\n    function on_load() {\n      root._bokeh_is_loading--;\n      if (root._bokeh_is_loading === 0) {\n        console.debug(\"Bokeh: all BokehJS libraries/stylesheets loaded\");\n        run_callbacks()\n      }\n    }\n\n    function on_error(url) {\n      console.error(\"failed to load \" + url);\n    }\n\n    for (let i = 0; i < css_urls.length; i++) {\n      const url = css_urls[i];\n      const element = document.createElement(\"link\");\n      element.onload = on_load;\n      element.onerror = on_error.bind(null, url);\n      element.rel = \"stylesheet\";\n      element.type = \"text/css\";\n      element.href = url;\n      console.debug(\"Bokeh: injecting link tag for BokehJS stylesheet: \", url);\n      document.body.appendChild(element);\n    }\n\n    const hashes = {\"https://cdn.bokeh.org/bokeh/release/bokeh-2.3.2.min.js\": \"XypntL49z55iwGVUW4qsEu83zKL3XEcz0MjuGOQ9SlaaQ68X/g+k1FcioZi7oQAc\", \"https://cdn.bokeh.org/bokeh/release/bokeh-tables-2.3.2.min.js\": \"bEsM86IHGDTLCS0Zod8a8WM6Y4+lafAL/eSiyQcuPzinmWNgNO2/olUF0Z2Dkn5i\", \"https://cdn.bokeh.org/bokeh/release/bokeh-widgets-2.3.2.min.js\": \"TX0gSQTdXTTeScqxj6PVQxTiRW8DOoGVwinyi1D3kxv7wuxQ02XkOxv0xwiypcAH\"};\n\n    for (let i = 0; i < js_urls.length; i++) {\n      const url = js_urls[i];\n      const element = document.createElement('script');\n      element.onload = on_load;\n      element.onerror = on_error.bind(null, url);\n      element.async = false;\n      element.src = url;\n      if (url in hashes) {\n        element.crossOrigin = \"anonymous\";\n        element.integrity = \"sha384-\" + hashes[url];\n      }\n      console.debug(\"Bokeh: injecting script tag for BokehJS library: \", url);\n      document.head.appendChild(element);\n    }\n  };\n\n  function inject_raw_css(css) {\n    const element = document.createElement(\"style\");\n    element.appendChild(document.createTextNode(css));\n    document.body.appendChild(element);\n  }\n\n  \n  var js_urls = [\"https://cdn.bokeh.org/bokeh/release/bokeh-2.3.2.min.js\", \"https://cdn.bokeh.org/bokeh/release/bokeh-widgets-2.3.2.min.js\", \"https://cdn.bokeh.org/bokeh/release/bokeh-tables-2.3.2.min.js\"];\n  var css_urls = [];\n  \n\n  var inline_js = [\n    function(Bokeh) {\n      Bokeh.set_log_level(\"info\");\n    },\n    function(Bokeh) {\n    \n    \n    }\n  ];\n\n  function run_inline_js() {\n    \n    if (root.Bokeh !== undefined || force === true) {\n      \n    for (var i = 0; i < inline_js.length; i++) {\n      inline_js[i].call(root, root.Bokeh);\n    }\n    if (force === true) {\n        display_loaded();\n      }} else if (Date.now() < root._bokeh_timeout) {\n      setTimeout(run_inline_js, 100);\n    } else if (!root._bokeh_failed_load) {\n      console.log(\"Bokeh: BokehJS failed to load within specified timeout.\");\n      root._bokeh_failed_load = true;\n    } else if (force !== true) {\n      var cell = $(document.getElementById(\"1002\")).parents('.cell').data().cell;\n      cell.output_area.append_execute_result(NB_LOAD_WARNING)\n    }\n\n  }\n\n  if (root._bokeh_is_loading === 0) {\n    console.debug(\"Bokeh: BokehJS loaded, going straight to plotting\");\n    run_inline_js();\n  } else {\n    load_libs(css_urls, js_urls, function() {\n      console.debug(\"Bokeh: BokehJS plotting callback run at\", now());\n      run_inline_js();\n    });\n  }\n}(window));"
     },
     "metadata": {},
     "output_type": "display_data"
    }
   ],
   "source": [
    "import bokeh.plotting as pl\n",
    "import bokeh.models as bm\n",
    "from bokeh.io import output_notebook, show\n",
    "output_notebook()\n",
    "\n",
    "def draw_attention(inp_line, translation, probs):\n",
    "    \"\"\" An intentionally ambiguous function to visualize attention weights \"\"\"\n",
    "    inp_tokens = inp_voc.tokenize(inp_line)\n",
    "    trans_tokens = out_voc.tokenize(translation)\n",
    "    probs = probs[:len(trans_tokens), :len(inp_tokens)]\n",
    "    probs = probs.tolist()\n",
    "    print(\"probs\", probs)\n",
    "    \n",
    "    fig = pl.figure(x_range=(0, len(inp_tokens)), y_range=(0, len(trans_tokens)),\n",
    "                    x_axis_type=None, y_axis_type=None, tools=[])\n",
    "    \n",
    "    #print(\"probs\", [probs[:-1]])\n",
    "    \n",
    "    #fig.image([probs[::-1]], 0, 0, len(inp_tokens), len(trans_tokens))\n",
    "    fig.image([probs[:-1]], 0, 0, len(inp_tokens), len(trans_tokens))\n",
    "\n",
    "    fig.add_layout(bm.LinearAxis(axis_label='source tokens'), 'above')\n",
    "    fig.xaxis.ticker = np.arange(len(inp_tokens)) + 0.5\n",
    "    fig.xaxis.major_label_overrides = dict(zip(np.arange(len(inp_tokens)) + 0.5, inp_tokens))\n",
    "    fig.xaxis.major_label_orientation = 45\n",
    "\n",
    "    fig.add_layout(bm.LinearAxis(axis_label='translation tokens'), 'left')\n",
    "    fig.yaxis.ticker = np.arange(len(trans_tokens)) + 0.5\n",
    "    fig.yaxis.major_label_overrides = dict(zip(np.arange(len(trans_tokens)) + 0.5, trans_tokens[::-1]))\n",
    "\n",
    "    show(fig)"
   ]
  },
  {
   "cell_type": "markdown",
   "metadata": {},
   "source": [
    "## Generate Text"
   ]
  },
  {
   "cell_type": "code",
   "execution_count": 46,
   "metadata": {},
   "outputs": [
    {
     "name": "stdout",
     "output_type": "stream",
     "text": [
      "mask shape torch.Size([5, 8])\n",
      "torch.Size([5, 8, 128])\n",
      "torch.Size([5, 128])\n",
      "\n",
      "attn prob torch.Size([5, 8, 1])\n",
      "input text ['дом для отпуска la cas@@ ita del mar находится в очаровательном старом городе си@@ т@@ ж@@ еса , в 50 метрах от набережной .'\n",
      " 'для желающих могут быть организованы различные дополнитель@@ ные услуги , в том числе сеансы массажа . по прибытии гостям предлагается приветственный пода@@ рок : св@@ еч@@ и и вино .'\n",
      " 'каждый номер располагает собственной ванной комнатой с ванной или душем .'\n",
      " 'в этом отеле с прекрасным видом на горы имеется зона бесплатного wi - fi и бесплатная парковка .'\n",
      " 'билеты можно приобрести на территории отеля .']\n",
      "\n",
      "inp: torch.Size([5, 32])\n",
      "\n",
      "translation ['holiday home skov@@ o de la mer is located in', 'for those who wish to prepare their own meals for', 'each room has a private bathroom with a bath or', 'the hotel has a private pool and a free wi', 'an array of activities can be arranged at the property']\n",
      "\n",
      "states torch.Size([5, 128])\n"
     ]
    }
   ],
   "source": [
    "inp = train_inp[5:10]\n",
    "\n",
    "inp_tokens = inp_voc.to_matrix(sorted(train_inp, key=len)[5:10]).to(device)\n",
    "out_tokens = out_voc.to_matrix(sorted(train_out, key=len)[5:10]).to(device)\n",
    "\n",
    "#mask = inp_voc.compute_mask(inp_tokens).to('cpu')\n",
    "\n",
    "\n",
    "h0_state, enc_in, mask = attn_model.encode(inp_tokens)\n",
    "h0_state = h0_state[0].to(device)\n",
    "enc_in = enc_in.to(device)\n",
    "\n",
    "print(\"mask shape\", mask.shape)\n",
    "print(enc_in.shape)\n",
    "print(h0_state.shape)\n",
    "\n",
    "# select attention probs from model state (you may need to change this for your custom model)\n",
    "# attention_probs below must have shape [batch_size, translation_length, input_length], extracted from states\n",
    "# e.g. if attention probs are at the end of each state, use np.stack([state[-1] for state in states], axis=1)\n",
    "\n",
    "attn_res, attention_probs = attn_model.attn_layer(enc_in, h0_state, mask)\n",
    "print(\"\\nattn prob\", attention_probs.shape)\n",
    "# torch.as_tensor(attn_res).shape\n",
    "\n",
    "translation, states = attn_model.translate_lines(train_inp[5:10], max_len=10)\n",
    "print(\"\\ntranslation\", translation)\n",
    "print(\"\\nstates\", states[0][0].shape)"
   ]
  },
  {
   "cell_type": "code",
   "execution_count": null,
   "metadata": {},
   "outputs": [],
   "source": [
    "attention_probs[0].tolist()"
   ]
  },
  {
   "cell_type": "code",
   "execution_count": 48,
   "metadata": {},
   "outputs": [
    {
     "name": "stdout",
     "output_type": "stream",
     "text": [
      "probs [[5.9377205616328865e-05], [0.36116155982017517], [0.4759567975997925], [0.0017083730781450868], [0.1369214504957199], [0.0241924449801445], [0.0], [0.0]]\n"
     ]
    },
    {
     "data": {
      "text/html": [
       "\n",
       "\n",
       "\n",
       "\n",
       "\n",
       "\n",
       "  <div class=\"bk-root\" id=\"f25e5d88-eee5-4e44-9c14-a84cf60b7325\" data-root-id=\"1003\"></div>\n"
      ]
     },
     "metadata": {},
     "output_type": "display_data"
    },
    {
     "data": {
      "application/javascript": [
       "(function(root) {\n",
       "  function embed_document(root) {\n",
       "    \n",
       "  var docs_json = {\"4b1d2506-945d-40ed-94f5-d897fde672b6\":{\"defs\":[],\"roots\":{\"references\":[{\"attributes\":{\"above\":[{\"id\":\"1022\"}],\"left\":[{\"id\":\"1025\"}],\"renderers\":[{\"id\":\"1020\"}],\"title\":{\"id\":\"1029\"},\"toolbar\":{\"id\":\"1012\"},\"x_range\":{\"id\":\"1004\"},\"x_scale\":{\"id\":\"1008\"},\"y_range\":{\"id\":\"1006\"},\"y_scale\":{\"id\":\"1010\"}},\"id\":\"1003\",\"subtype\":\"Figure\",\"type\":\"Plot\"},{\"attributes\":{},\"id\":\"1031\",\"type\":\"AllLabels\"},{\"attributes\":{\"data_source\":{\"id\":\"1013\"},\"glyph\":{\"id\":\"1014\"},\"hover_glyph\":null,\"muted_glyph\":null,\"nonselection_glyph\":{\"id\":\"1017\"},\"view\":{\"id\":\"1021\"}},\"id\":\"1020\",\"type\":\"GlyphRenderer\"},{\"attributes\":{\"end\":26},\"id\":\"1004\",\"type\":\"Range1d\"},{\"attributes\":{\"data\":{\"image\":[[[5.9377205616328865e-05],[0.36116155982017517],[0.4759567975997925],[0.0017083730781450868],[0.1369214504957199],[0.0241924449801445],[0.0]]]},\"selected\":{\"id\":\"1035\"},\"selection_policy\":{\"id\":\"1034\"}},\"id\":\"1013\",\"type\":\"ColumnDataSource\"},{\"attributes\":{\"color_mapper\":{\"id\":\"1015\"},\"dh\":{\"value\":12},\"dw\":{\"value\":26},\"image\":{\"field\":\"image\"},\"x\":{\"value\":0},\"y\":{\"value\":0}},\"id\":\"1014\",\"type\":\"Image\"},{\"attributes\":{},\"id\":\"1035\",\"type\":\"Selection\"},{\"attributes\":{},\"id\":\"1032\",\"type\":\"BasicTickFormatter\"},{\"attributes\":{\"palette\":[\"#000000\",\"#252525\",\"#525252\",\"#737373\",\"#969696\",\"#bdbdbd\",\"#d9d9d9\",\"#f0f0f0\",\"#ffffff\"]},\"id\":\"1015\",\"type\":\"LinearColorMapper\"},{\"attributes\":{\"end\":12},\"id\":\"1006\",\"type\":\"Range1d\"},{\"attributes\":{\"color_mapper\":{\"id\":\"1018\"},\"dh\":{\"value\":12},\"dw\":{\"value\":26},\"global_alpha\":0.1,\"image\":{\"field\":\"image\"},\"x\":{\"value\":0},\"y\":{\"value\":0}},\"id\":\"1017\",\"type\":\"Image\"},{\"attributes\":{},\"id\":\"1008\",\"type\":\"LinearScale\"},{\"attributes\":{\"source\":{\"id\":\"1013\"}},\"id\":\"1021\",\"type\":\"CDSView\"},{\"attributes\":{},\"id\":\"1034\",\"type\":\"UnionRenderers\"},{\"attributes\":{\"ticks\":[0.5,1.5,2.5,3.5,4.5,5.5,6.5,7.5,8.5,9.5,10.5,11.5]},\"id\":\"1026\",\"type\":\"FixedTicker\"},{\"attributes\":{\"active_multi\":null},\"id\":\"1012\",\"type\":\"Toolbar\"},{\"attributes\":{\"axis_label\":\"source tokens\",\"formatter\":{\"id\":\"1030\"},\"major_label_orientation\":45,\"major_label_overrides\":{\"0.5\":\"_BOS_\",\"1.5\":\"\\u0434\\u043e\\u043c\",\"10.5\":\"\\u0432\",\"11.5\":\"\\u043e\\u0447\\u0430\\u0440\\u043e\\u0432\\u0430\\u0442\\u0435\\u043b\\u044c\\u043d\\u043e\\u043c\",\"12.5\":\"\\u0441\\u0442\\u0430\\u0440\\u043e\\u043c\",\"13.5\":\"\\u0433\\u043e\\u0440\\u043e\\u0434\\u0435\",\"14.5\":\"\\u0441\\u0438@@\",\"15.5\":\"\\u0442@@\",\"16.5\":\"\\u0436@@\",\"17.5\":\"\\u0435\\u0441\\u0430\",\"18.5\":\",\",\"19.5\":\"\\u0432\",\"2.5\":\"\\u0434\\u043b\\u044f\",\"20.5\":\"50\",\"21.5\":\"\\u043c\\u0435\\u0442\\u0440\\u0430\\u0445\",\"22.5\":\"\\u043e\\u0442\",\"23.5\":\"\\u043d\\u0430\\u0431\\u0435\\u0440\\u0435\\u0436\\u043d\\u043e\\u0439\",\"24.5\":\".\",\"25.5\":\"_EOS_\",\"3.5\":\"\\u043e\\u0442\\u043f\\u0443\\u0441\\u043a\\u0430\",\"4.5\":\"la\",\"5.5\":\"cas@@\",\"6.5\":\"ita\",\"7.5\":\"del\",\"8.5\":\"mar\",\"9.5\":\"\\u043d\\u0430\\u0445\\u043e\\u0434\\u0438\\u0442\\u0441\\u044f\"},\"major_label_policy\":{\"id\":\"1031\"},\"ticker\":{\"id\":\"1023\"}},\"id\":\"1022\",\"type\":\"LinearAxis\"},{\"attributes\":{},\"id\":\"1030\",\"type\":\"BasicTickFormatter\"},{\"attributes\":{},\"id\":\"1029\",\"type\":\"Title\"},{\"attributes\":{},\"id\":\"1010\",\"type\":\"LinearScale\"},{\"attributes\":{},\"id\":\"1033\",\"type\":\"AllLabels\"},{\"attributes\":{\"palette\":[\"#000000\",\"#252525\",\"#525252\",\"#737373\",\"#969696\",\"#bdbdbd\",\"#d9d9d9\",\"#f0f0f0\",\"#ffffff\"]},\"id\":\"1018\",\"type\":\"LinearColorMapper\"},{\"attributes\":{\"axis_label\":\"translation tokens\",\"formatter\":{\"id\":\"1032\"},\"major_label_overrides\":{\"0.5\":\"_EOS_\",\"1.5\":\"in\",\"10.5\":\"holiday\",\"11.5\":\"_BOS_\",\"2.5\":\"located\",\"3.5\":\"is\",\"4.5\":\"mer\",\"5.5\":\"la\",\"6.5\":\"de\",\"7.5\":\"o\",\"8.5\":\"skov@@\",\"9.5\":\"home\"},\"major_label_policy\":{\"id\":\"1033\"},\"ticker\":{\"id\":\"1026\"}},\"id\":\"1025\",\"type\":\"LinearAxis\"},{\"attributes\":{\"ticks\":[0.5,1.5,2.5,3.5,4.5,5.5,6.5,7.5,8.5,9.5,10.5,11.5,12.5,13.5,14.5,15.5,16.5,17.5,18.5,19.5,20.5,21.5,22.5,23.5,24.5,25.5]},\"id\":\"1023\",\"type\":\"FixedTicker\"}],\"root_ids\":[\"1003\"]},\"title\":\"Bokeh Application\",\"version\":\"2.3.2\"}};\n",
       "  var render_items = [{\"docid\":\"4b1d2506-945d-40ed-94f5-d897fde672b6\",\"root_ids\":[\"1003\"],\"roots\":{\"1003\":\"f25e5d88-eee5-4e44-9c14-a84cf60b7325\"}}];\n",
       "  root.Bokeh.embed.embed_items_notebook(docs_json, render_items);\n",
       "\n",
       "  }\n",
       "  if (root.Bokeh !== undefined) {\n",
       "    embed_document(root);\n",
       "  } else {\n",
       "    var attempts = 0;\n",
       "    var timer = setInterval(function(root) {\n",
       "      if (root.Bokeh !== undefined) {\n",
       "        clearInterval(timer);\n",
       "        embed_document(root);\n",
       "      } else {\n",
       "        attempts++;\n",
       "        if (attempts > 100) {\n",
       "          clearInterval(timer);\n",
       "          console.log(\"Bokeh: ERROR: Unable to run BokehJS code because BokehJS library is missing\");\n",
       "        }\n",
       "      }\n",
       "    }, 10, root)\n",
       "  }\n",
       "})(window);"
      ],
      "application/vnd.bokehjs_exec.v0+json": ""
     },
     "metadata": {
      "application/vnd.bokehjs_exec.v0+json": {
       "id": "1003"
      }
     },
     "output_type": "display_data"
    },
    {
     "name": "stdout",
     "output_type": "stream",
     "text": [
      "probs [[0.00017601822037249804], [0.06970763951539993], [0.7438105940818787], [0.03429015353322029], [0.08149012178182602], [0.011837907135486603], [0.05836521461606026], [0.00032238400308415294]]\n"
     ]
    },
    {
     "data": {
      "text/html": [
       "\n",
       "\n",
       "\n",
       "\n",
       "\n",
       "\n",
       "  <div class=\"bk-root\" id=\"73b14ba5-067e-4f22-99b9-02ddf8280983\" data-root-id=\"1076\"></div>\n"
      ]
     },
     "metadata": {},
     "output_type": "display_data"
    },
    {
     "data": {
      "application/javascript": [
       "(function(root) {\n",
       "  function embed_document(root) {\n",
       "    \n",
       "  var docs_json = {\"624a5165-f61d-48fa-b190-66d815cbe87b\":{\"defs\":[],\"roots\":{\"references\":[{\"attributes\":{\"above\":[{\"id\":\"1095\"}],\"left\":[{\"id\":\"1098\"}],\"renderers\":[{\"id\":\"1093\"}],\"title\":{\"id\":\"1110\"},\"toolbar\":{\"id\":\"1085\"},\"x_range\":{\"id\":\"1077\"},\"x_scale\":{\"id\":\"1081\"},\"y_range\":{\"id\":\"1079\"},\"y_scale\":{\"id\":\"1083\"}},\"id\":\"1076\",\"subtype\":\"Figure\",\"type\":\"Plot\"},{\"attributes\":{},\"id\":\"1083\",\"type\":\"LinearScale\"},{\"attributes\":{\"ticks\":[0.5,1.5,2.5,3.5,4.5,5.5,6.5,7.5,8.5,9.5,10.5,11.5]},\"id\":\"1099\",\"type\":\"FixedTicker\"},{\"attributes\":{\"axis_label\":\"translation tokens\",\"formatter\":{\"id\":\"1113\"},\"major_label_overrides\":{\"0.5\":\"_EOS_\",\"1.5\":\"for\",\"10.5\":\"for\",\"11.5\":\"_BOS_\",\"2.5\":\"meals\",\"3.5\":\"own\",\"4.5\":\"their\",\"5.5\":\"prepare\",\"6.5\":\"to\",\"7.5\":\"wish\",\"8.5\":\"who\",\"9.5\":\"those\"},\"major_label_policy\":{\"id\":\"1114\"},\"ticker\":{\"id\":\"1099\"}},\"id\":\"1098\",\"type\":\"LinearAxis\"},{\"attributes\":{},\"id\":\"1111\",\"type\":\"BasicTickFormatter\"},{\"attributes\":{},\"id\":\"1081\",\"type\":\"LinearScale\"},{\"attributes\":{},\"id\":\"1114\",\"type\":\"AllLabels\"},{\"attributes\":{\"palette\":[\"#000000\",\"#252525\",\"#525252\",\"#737373\",\"#969696\",\"#bdbdbd\",\"#d9d9d9\",\"#f0f0f0\",\"#ffffff\"]},\"id\":\"1088\",\"type\":\"LinearColorMapper\"},{\"attributes\":{\"palette\":[\"#000000\",\"#252525\",\"#525252\",\"#737373\",\"#969696\",\"#bdbdbd\",\"#d9d9d9\",\"#f0f0f0\",\"#ffffff\"]},\"id\":\"1091\",\"type\":\"LinearColorMapper\"},{\"attributes\":{\"source\":{\"id\":\"1086\"}},\"id\":\"1094\",\"type\":\"CDSView\"},{\"attributes\":{\"data_source\":{\"id\":\"1086\"},\"glyph\":{\"id\":\"1087\"},\"hover_glyph\":null,\"muted_glyph\":null,\"nonselection_glyph\":{\"id\":\"1090\"},\"view\":{\"id\":\"1094\"}},\"id\":\"1093\",\"type\":\"GlyphRenderer\"},{\"attributes\":{},\"id\":\"1112\",\"type\":\"AllLabels\"},{\"attributes\":{\"ticks\":[0.5,1.5,2.5,3.5,4.5,5.5,6.5,7.5,8.5,9.5,10.5,11.5,12.5,13.5,14.5,15.5,16.5,17.5,18.5,19.5,20.5,21.5,22.5,23.5,24.5,25.5,26.5,27.5,28.5,29.5,30.5,31.5]},\"id\":\"1096\",\"type\":\"FixedTicker\"},{\"attributes\":{},\"id\":\"1110\",\"type\":\"Title\"},{\"attributes\":{},\"id\":\"1116\",\"type\":\"Selection\"},{\"attributes\":{\"end\":12},\"id\":\"1079\",\"type\":\"Range1d\"},{\"attributes\":{\"axis_label\":\"source tokens\",\"formatter\":{\"id\":\"1111\"},\"major_label_orientation\":45,\"major_label_overrides\":{\"0.5\":\"_BOS_\",\"1.5\":\"\\u0434\\u043b\\u044f\",\"10.5\":\",\",\"11.5\":\"\\u0432\",\"12.5\":\"\\u0442\\u043e\\u043c\",\"13.5\":\"\\u0447\\u0438\\u0441\\u043b\\u0435\",\"14.5\":\"\\u0441\\u0435\\u0430\\u043d\\u0441\\u044b\",\"15.5\":\"\\u043c\\u0430\\u0441\\u0441\\u0430\\u0436\\u0430\",\"16.5\":\".\",\"17.5\":\"\\u043f\\u043e\",\"18.5\":\"\\u043f\\u0440\\u0438\\u0431\\u044b\\u0442\\u0438\\u0438\",\"19.5\":\"\\u0433\\u043e\\u0441\\u0442\\u044f\\u043c\",\"2.5\":\"\\u0436\\u0435\\u043b\\u0430\\u044e\\u0449\\u0438\\u0445\",\"20.5\":\"\\u043f\\u0440\\u0435\\u0434\\u043b\\u0430\\u0433\\u0430\\u0435\\u0442\\u0441\\u044f\",\"21.5\":\"\\u043f\\u0440\\u0438\\u0432\\u0435\\u0442\\u0441\\u0442\\u0432\\u0435\\u043d\\u043d\\u044b\\u0439\",\"22.5\":\"\\u043f\\u043e\\u0434\\u0430@@\",\"23.5\":\"\\u0440\\u043e\\u043a\",\"24.5\":\":\",\"25.5\":\"\\u0441\\u0432@@\",\"26.5\":\"\\u0435\\u0447@@\",\"27.5\":\"\\u0438\",\"28.5\":\"\\u0438\",\"29.5\":\"\\u0432\\u0438\\u043d\\u043e\",\"3.5\":\"\\u043c\\u043e\\u0433\\u0443\\u0442\",\"30.5\":\".\",\"31.5\":\"_EOS_\",\"4.5\":\"\\u0431\\u044b\\u0442\\u044c\",\"5.5\":\"\\u043e\\u0440\\u0433\\u0430\\u043d\\u0438\\u0437\\u043e\\u0432\\u0430\\u043d\\u044b\",\"6.5\":\"\\u0440\\u0430\\u0437\\u043b\\u0438\\u0447\\u043d\\u044b\\u0435\",\"7.5\":\"\\u0434\\u043e\\u043f\\u043e\\u043b\\u043d\\u0438\\u0442\\u0435\\u043b\\u044c@@\",\"8.5\":\"\\u043d\\u044b\\u0435\",\"9.5\":\"\\u0443\\u0441\\u043b\\u0443\\u0433\\u0438\"},\"major_label_policy\":{\"id\":\"1112\"},\"ticker\":{\"id\":\"1096\"}},\"id\":\"1095\",\"type\":\"LinearAxis\"},{\"attributes\":{},\"id\":\"1115\",\"type\":\"UnionRenderers\"},{\"attributes\":{\"end\":32},\"id\":\"1077\",\"type\":\"Range1d\"},{\"attributes\":{\"color_mapper\":{\"id\":\"1088\"},\"dh\":{\"value\":12},\"dw\":{\"value\":32},\"image\":{\"field\":\"image\"},\"x\":{\"value\":0},\"y\":{\"value\":0}},\"id\":\"1087\",\"type\":\"Image\"},{\"attributes\":{\"data\":{\"image\":[[[0.00017601822037249804],[0.06970763951539993],[0.7438105940818787],[0.03429015353322029],[0.08149012178182602],[0.011837907135486603],[0.05836521461606026]]]},\"selected\":{\"id\":\"1116\"},\"selection_policy\":{\"id\":\"1115\"}},\"id\":\"1086\",\"type\":\"ColumnDataSource\"},{\"attributes\":{},\"id\":\"1113\",\"type\":\"BasicTickFormatter\"},{\"attributes\":{\"color_mapper\":{\"id\":\"1091\"},\"dh\":{\"value\":12},\"dw\":{\"value\":32},\"global_alpha\":0.1,\"image\":{\"field\":\"image\"},\"x\":{\"value\":0},\"y\":{\"value\":0}},\"id\":\"1090\",\"type\":\"Image\"},{\"attributes\":{\"active_multi\":null},\"id\":\"1085\",\"type\":\"Toolbar\"}],\"root_ids\":[\"1076\"]},\"title\":\"Bokeh Application\",\"version\":\"2.3.2\"}};\n",
       "  var render_items = [{\"docid\":\"624a5165-f61d-48fa-b190-66d815cbe87b\",\"root_ids\":[\"1076\"],\"roots\":{\"1076\":\"73b14ba5-067e-4f22-99b9-02ddf8280983\"}}];\n",
       "  root.Bokeh.embed.embed_items_notebook(docs_json, render_items);\n",
       "\n",
       "  }\n",
       "  if (root.Bokeh !== undefined) {\n",
       "    embed_document(root);\n",
       "  } else {\n",
       "    var attempts = 0;\n",
       "    var timer = setInterval(function(root) {\n",
       "      if (root.Bokeh !== undefined) {\n",
       "        clearInterval(timer);\n",
       "        embed_document(root);\n",
       "      } else {\n",
       "        attempts++;\n",
       "        if (attempts > 100) {\n",
       "          clearInterval(timer);\n",
       "          console.log(\"Bokeh: ERROR: Unable to run BokehJS code because BokehJS library is missing\");\n",
       "        }\n",
       "      }\n",
       "    }, 10, root)\n",
       "  }\n",
       "})(window);"
      ],
      "application/vnd.bokehjs_exec.v0+json": ""
     },
     "metadata": {
      "application/vnd.bokehjs_exec.v0+json": {
       "id": "1076"
      }
     },
     "output_type": "display_data"
    },
    {
     "name": "stdout",
     "output_type": "stream",
     "text": [
      "probs [[7.271791673701955e-06], [0.00010158307122765109], [0.000780843198299408], [0.7660876512527466], [0.23302267491817474], [0.0], [0.0], [0.0]]\n"
     ]
    },
    {
     "data": {
      "text/html": [
       "\n",
       "\n",
       "\n",
       "\n",
       "\n",
       "\n",
       "  <div class=\"bk-root\" id=\"51e35f3b-91fc-4cc7-ae66-3cc4bebcc023\" data-root-id=\"1157\"></div>\n"
      ]
     },
     "metadata": {},
     "output_type": "display_data"
    },
    {
     "data": {
      "application/javascript": [
       "(function(root) {\n",
       "  function embed_document(root) {\n",
       "    \n",
       "  var docs_json = {\"8614225a-6798-4418-bf25-285b2efedc4d\":{\"defs\":[],\"roots\":{\"references\":[{\"attributes\":{\"above\":[{\"id\":\"1176\"}],\"left\":[{\"id\":\"1179\"}],\"renderers\":[{\"id\":\"1174\"}],\"title\":{\"id\":\"1199\"},\"toolbar\":{\"id\":\"1166\"},\"x_range\":{\"id\":\"1158\"},\"x_scale\":{\"id\":\"1162\"},\"y_range\":{\"id\":\"1160\"},\"y_scale\":{\"id\":\"1164\"}},\"id\":\"1157\",\"subtype\":\"Figure\",\"type\":\"Plot\"},{\"attributes\":{\"active_multi\":null},\"id\":\"1166\",\"type\":\"Toolbar\"},{\"attributes\":{},\"id\":\"1199\",\"type\":\"Title\"},{\"attributes\":{\"data_source\":{\"id\":\"1167\"},\"glyph\":{\"id\":\"1168\"},\"hover_glyph\":null,\"muted_glyph\":null,\"nonselection_glyph\":{\"id\":\"1171\"},\"view\":{\"id\":\"1175\"}},\"id\":\"1174\",\"type\":\"GlyphRenderer\"},{\"attributes\":{\"axis_label\":\"translation tokens\",\"formatter\":{\"id\":\"1202\"},\"major_label_overrides\":{\"0.5\":\"_EOS_\",\"1.5\":\"or\",\"10.5\":\"each\",\"11.5\":\"_BOS_\",\"2.5\":\"bath\",\"3.5\":\"a\",\"4.5\":\"with\",\"5.5\":\"bathroom\",\"6.5\":\"private\",\"7.5\":\"a\",\"8.5\":\"has\",\"9.5\":\"room\"},\"major_label_policy\":{\"id\":\"1203\"},\"ticker\":{\"id\":\"1180\"}},\"id\":\"1179\",\"type\":\"LinearAxis\"},{\"attributes\":{},\"id\":\"1204\",\"type\":\"UnionRenderers\"},{\"attributes\":{\"color_mapper\":{\"id\":\"1169\"},\"dh\":{\"value\":12},\"dw\":{\"value\":13},\"image\":{\"field\":\"image\"},\"x\":{\"value\":0},\"y\":{\"value\":0}},\"id\":\"1168\",\"type\":\"Image\"},{\"attributes\":{},\"id\":\"1164\",\"type\":\"LinearScale\"},{\"attributes\":{},\"id\":\"1203\",\"type\":\"AllLabels\"},{\"attributes\":{\"end\":13},\"id\":\"1158\",\"type\":\"Range1d\"},{\"attributes\":{\"ticks\":[0.5,1.5,2.5,3.5,4.5,5.5,6.5,7.5,8.5,9.5,10.5,11.5]},\"id\":\"1180\",\"type\":\"FixedTicker\"},{\"attributes\":{},\"id\":\"1200\",\"type\":\"BasicTickFormatter\"},{\"attributes\":{\"end\":12},\"id\":\"1160\",\"type\":\"Range1d\"},{\"attributes\":{},\"id\":\"1201\",\"type\":\"AllLabels\"},{\"attributes\":{\"palette\":[\"#000000\",\"#252525\",\"#525252\",\"#737373\",\"#969696\",\"#bdbdbd\",\"#d9d9d9\",\"#f0f0f0\",\"#ffffff\"]},\"id\":\"1169\",\"type\":\"LinearColorMapper\"},{\"attributes\":{\"color_mapper\":{\"id\":\"1172\"},\"dh\":{\"value\":12},\"dw\":{\"value\":13},\"global_alpha\":0.1,\"image\":{\"field\":\"image\"},\"x\":{\"value\":0},\"y\":{\"value\":0}},\"id\":\"1171\",\"type\":\"Image\"},{\"attributes\":{\"axis_label\":\"source tokens\",\"formatter\":{\"id\":\"1200\"},\"major_label_orientation\":45,\"major_label_overrides\":{\"0.5\":\"_BOS_\",\"1.5\":\"\\u043a\\u0430\\u0436\\u0434\\u044b\\u0439\",\"10.5\":\"\\u0434\\u0443\\u0448\\u0435\\u043c\",\"11.5\":\".\",\"12.5\":\"_EOS_\",\"2.5\":\"\\u043d\\u043e\\u043c\\u0435\\u0440\",\"3.5\":\"\\u0440\\u0430\\u0441\\u043f\\u043e\\u043b\\u0430\\u0433\\u0430\\u0435\\u0442\",\"4.5\":\"\\u0441\\u043e\\u0431\\u0441\\u0442\\u0432\\u0435\\u043d\\u043d\\u043e\\u0439\",\"5.5\":\"\\u0432\\u0430\\u043d\\u043d\\u043e\\u0439\",\"6.5\":\"\\u043a\\u043e\\u043c\\u043d\\u0430\\u0442\\u043e\\u0439\",\"7.5\":\"\\u0441\",\"8.5\":\"\\u0432\\u0430\\u043d\\u043d\\u043e\\u0439\",\"9.5\":\"\\u0438\\u043b\\u0438\"},\"major_label_policy\":{\"id\":\"1201\"},\"ticker\":{\"id\":\"1177\"}},\"id\":\"1176\",\"type\":\"LinearAxis\"},{\"attributes\":{},\"id\":\"1205\",\"type\":\"Selection\"},{\"attributes\":{\"ticks\":[0.5,1.5,2.5,3.5,4.5,5.5,6.5,7.5,8.5,9.5,10.5,11.5,12.5]},\"id\":\"1177\",\"type\":\"FixedTicker\"},{\"attributes\":{},\"id\":\"1202\",\"type\":\"BasicTickFormatter\"},{\"attributes\":{\"source\":{\"id\":\"1167\"}},\"id\":\"1175\",\"type\":\"CDSView\"},{\"attributes\":{\"data\":{\"image\":[[[7.271791673701955e-06],[0.00010158307122765109],[0.000780843198299408],[0.7660876512527466],[0.23302267491817474],[0.0],[0.0]]]},\"selected\":{\"id\":\"1205\"},\"selection_policy\":{\"id\":\"1204\"}},\"id\":\"1167\",\"type\":\"ColumnDataSource\"},{\"attributes\":{\"palette\":[\"#000000\",\"#252525\",\"#525252\",\"#737373\",\"#969696\",\"#bdbdbd\",\"#d9d9d9\",\"#f0f0f0\",\"#ffffff\"]},\"id\":\"1172\",\"type\":\"LinearColorMapper\"},{\"attributes\":{},\"id\":\"1162\",\"type\":\"LinearScale\"}],\"root_ids\":[\"1157\"]},\"title\":\"Bokeh Application\",\"version\":\"2.3.2\"}};\n",
       "  var render_items = [{\"docid\":\"8614225a-6798-4418-bf25-285b2efedc4d\",\"root_ids\":[\"1157\"],\"roots\":{\"1157\":\"51e35f3b-91fc-4cc7-ae66-3cc4bebcc023\"}}];\n",
       "  root.Bokeh.embed.embed_items_notebook(docs_json, render_items);\n",
       "\n",
       "  }\n",
       "  if (root.Bokeh !== undefined) {\n",
       "    embed_document(root);\n",
       "  } else {\n",
       "    var attempts = 0;\n",
       "    var timer = setInterval(function(root) {\n",
       "      if (root.Bokeh !== undefined) {\n",
       "        clearInterval(timer);\n",
       "        embed_document(root);\n",
       "      } else {\n",
       "        attempts++;\n",
       "        if (attempts > 100) {\n",
       "          clearInterval(timer);\n",
       "          console.log(\"Bokeh: ERROR: Unable to run BokehJS code because BokehJS library is missing\");\n",
       "        }\n",
       "      }\n",
       "    }, 10, root)\n",
       "  }\n",
       "})(window);"
      ],
      "application/vnd.bokehjs_exec.v0+json": ""
     },
     "metadata": {
      "application/vnd.bokehjs_exec.v0+json": {
       "id": "1157"
      }
     },
     "output_type": "display_data"
    },
    {
     "name": "stdout",
     "output_type": "stream",
     "text": [
      "probs [[5.256942313280888e-05], [0.0005993142258375883], [0.0003063764306716621], [0.8229584693908691], [0.17608334124088287], [0.0], [0.0], [0.0]]\n"
     ]
    },
    {
     "data": {
      "text/html": [
       "\n",
       "\n",
       "\n",
       "\n",
       "\n",
       "\n",
       "  <div class=\"bk-root\" id=\"e5fb7a96-f2b1-4f33-8092-8dacd5cd120b\" data-root-id=\"1246\"></div>\n"
      ]
     },
     "metadata": {},
     "output_type": "display_data"
    },
    {
     "data": {
      "application/javascript": [
       "(function(root) {\n",
       "  function embed_document(root) {\n",
       "    \n",
       "  var docs_json = {\"008679a3-c42c-48b2-8399-11d64780a4c1\":{\"defs\":[],\"roots\":{\"references\":[{\"attributes\":{\"above\":[{\"id\":\"1265\"}],\"left\":[{\"id\":\"1268\"}],\"renderers\":[{\"id\":\"1263\"}],\"title\":{\"id\":\"1296\"},\"toolbar\":{\"id\":\"1255\"},\"x_range\":{\"id\":\"1247\"},\"x_scale\":{\"id\":\"1251\"},\"y_range\":{\"id\":\"1249\"},\"y_scale\":{\"id\":\"1253\"}},\"id\":\"1246\",\"subtype\":\"Figure\",\"type\":\"Plot\"},{\"attributes\":{\"source\":{\"id\":\"1256\"}},\"id\":\"1264\",\"type\":\"CDSView\"},{\"attributes\":{\"active_multi\":null},\"id\":\"1255\",\"type\":\"Toolbar\"},{\"attributes\":{},\"id\":\"1299\",\"type\":\"BasicTickFormatter\"},{\"attributes\":{\"end\":20},\"id\":\"1247\",\"type\":\"Range1d\"},{\"attributes\":{},\"id\":\"1297\",\"type\":\"BasicTickFormatter\"},{\"attributes\":{\"ticks\":[0.5,1.5,2.5,3.5,4.5,5.5,6.5,7.5,8.5,9.5,10.5,11.5]},\"id\":\"1269\",\"type\":\"FixedTicker\"},{\"attributes\":{\"end\":12},\"id\":\"1249\",\"type\":\"Range1d\"},{\"attributes\":{},\"id\":\"1298\",\"type\":\"AllLabels\"},{\"attributes\":{},\"id\":\"1251\",\"type\":\"LinearScale\"},{\"attributes\":{\"data_source\":{\"id\":\"1256\"},\"glyph\":{\"id\":\"1257\"},\"hover_glyph\":null,\"muted_glyph\":null,\"nonselection_glyph\":{\"id\":\"1260\"},\"view\":{\"id\":\"1264\"}},\"id\":\"1263\",\"type\":\"GlyphRenderer\"},{\"attributes\":{},\"id\":\"1302\",\"type\":\"Selection\"},{\"attributes\":{\"axis_label\":\"source tokens\",\"formatter\":{\"id\":\"1297\"},\"major_label_orientation\":45,\"major_label_overrides\":{\"0.5\":\"_BOS_\",\"1.5\":\"\\u0432\",\"10.5\":\"\\u0437\\u043e\\u043d\\u0430\",\"11.5\":\"\\u0431\\u0435\\u0441\\u043f\\u043b\\u0430\\u0442\\u043d\\u043e\\u0433\\u043e\",\"12.5\":\"wi\",\"13.5\":\"-\",\"14.5\":\"fi\",\"15.5\":\"\\u0438\",\"16.5\":\"\\u0431\\u0435\\u0441\\u043f\\u043b\\u0430\\u0442\\u043d\\u0430\\u044f\",\"17.5\":\"\\u043f\\u0430\\u0440\\u043a\\u043e\\u0432\\u043a\\u0430\",\"18.5\":\".\",\"19.5\":\"_EOS_\",\"2.5\":\"\\u044d\\u0442\\u043e\\u043c\",\"3.5\":\"\\u043e\\u0442\\u0435\\u043b\\u0435\",\"4.5\":\"\\u0441\",\"5.5\":\"\\u043f\\u0440\\u0435\\u043a\\u0440\\u0430\\u0441\\u043d\\u044b\\u043c\",\"6.5\":\"\\u0432\\u0438\\u0434\\u043e\\u043c\",\"7.5\":\"\\u043d\\u0430\",\"8.5\":\"\\u0433\\u043e\\u0440\\u044b\",\"9.5\":\"\\u0438\\u043c\\u0435\\u0435\\u0442\\u0441\\u044f\"},\"major_label_policy\":{\"id\":\"1298\"},\"ticker\":{\"id\":\"1266\"}},\"id\":\"1265\",\"type\":\"LinearAxis\"},{\"attributes\":{\"color_mapper\":{\"id\":\"1261\"},\"dh\":{\"value\":12},\"dw\":{\"value\":20},\"global_alpha\":0.1,\"image\":{\"field\":\"image\"},\"x\":{\"value\":0},\"y\":{\"value\":0}},\"id\":\"1260\",\"type\":\"Image\"},{\"attributes\":{\"ticks\":[0.5,1.5,2.5,3.5,4.5,5.5,6.5,7.5,8.5,9.5,10.5,11.5,12.5,13.5,14.5,15.5,16.5,17.5,18.5,19.5]},\"id\":\"1266\",\"type\":\"FixedTicker\"},{\"attributes\":{},\"id\":\"1253\",\"type\":\"LinearScale\"},{\"attributes\":{},\"id\":\"1300\",\"type\":\"AllLabels\"},{\"attributes\":{\"palette\":[\"#000000\",\"#252525\",\"#525252\",\"#737373\",\"#969696\",\"#bdbdbd\",\"#d9d9d9\",\"#f0f0f0\",\"#ffffff\"]},\"id\":\"1258\",\"type\":\"LinearColorMapper\"},{\"attributes\":{\"color_mapper\":{\"id\":\"1258\"},\"dh\":{\"value\":12},\"dw\":{\"value\":20},\"image\":{\"field\":\"image\"},\"x\":{\"value\":0},\"y\":{\"value\":0}},\"id\":\"1257\",\"type\":\"Image\"},{\"attributes\":{},\"id\":\"1296\",\"type\":\"Title\"},{\"attributes\":{\"axis_label\":\"translation tokens\",\"formatter\":{\"id\":\"1299\"},\"major_label_overrides\":{\"0.5\":\"_EOS_\",\"1.5\":\"wi\",\"10.5\":\"the\",\"11.5\":\"_BOS_\",\"2.5\":\"free\",\"3.5\":\"a\",\"4.5\":\"and\",\"5.5\":\"pool\",\"6.5\":\"private\",\"7.5\":\"a\",\"8.5\":\"has\",\"9.5\":\"hotel\"},\"major_label_policy\":{\"id\":\"1300\"},\"ticker\":{\"id\":\"1269\"}},\"id\":\"1268\",\"type\":\"LinearAxis\"},{\"attributes\":{},\"id\":\"1301\",\"type\":\"UnionRenderers\"},{\"attributes\":{\"data\":{\"image\":[[[5.256942313280888e-05],[0.0005993142258375883],[0.0003063764306716621],[0.8229584693908691],[0.17608334124088287],[0.0],[0.0]]]},\"selected\":{\"id\":\"1302\"},\"selection_policy\":{\"id\":\"1301\"}},\"id\":\"1256\",\"type\":\"ColumnDataSource\"},{\"attributes\":{\"palette\":[\"#000000\",\"#252525\",\"#525252\",\"#737373\",\"#969696\",\"#bdbdbd\",\"#d9d9d9\",\"#f0f0f0\",\"#ffffff\"]},\"id\":\"1261\",\"type\":\"LinearColorMapper\"}],\"root_ids\":[\"1246\"]},\"title\":\"Bokeh Application\",\"version\":\"2.3.2\"}};\n",
       "  var render_items = [{\"docid\":\"008679a3-c42c-48b2-8399-11d64780a4c1\",\"root_ids\":[\"1246\"],\"roots\":{\"1246\":\"e5fb7a96-f2b1-4f33-8092-8dacd5cd120b\"}}];\n",
       "  root.Bokeh.embed.embed_items_notebook(docs_json, render_items);\n",
       "\n",
       "  }\n",
       "  if (root.Bokeh !== undefined) {\n",
       "    embed_document(root);\n",
       "  } else {\n",
       "    var attempts = 0;\n",
       "    var timer = setInterval(function(root) {\n",
       "      if (root.Bokeh !== undefined) {\n",
       "        clearInterval(timer);\n",
       "        embed_document(root);\n",
       "      } else {\n",
       "        attempts++;\n",
       "        if (attempts > 100) {\n",
       "          clearInterval(timer);\n",
       "          console.log(\"Bokeh: ERROR: Unable to run BokehJS code because BokehJS library is missing\");\n",
       "        }\n",
       "      }\n",
       "    }, 10, root)\n",
       "  }\n",
       "})(window);"
      ],
      "application/vnd.bokehjs_exec.v0+json": ""
     },
     "metadata": {
      "application/vnd.bokehjs_exec.v0+json": {
       "id": "1246"
      }
     },
     "output_type": "display_data"
    },
    {
     "name": "stdout",
     "output_type": "stream",
     "text": [
      "probs [[2.7885202480426585e-10], [2.1887274215259822e-09], [0.0005587841151282191], [0.00236505176872015], [0.9939508438110352], [0.0023140977136790752], [0.0008112725918181241], [0.0]]\n"
     ]
    },
    {
     "data": {
      "text/html": [
       "\n",
       "\n",
       "\n",
       "\n",
       "\n",
       "\n",
       "  <div class=\"bk-root\" id=\"dcd2c0ad-fc4f-4952-b890-4f73be5f9196\" data-root-id=\"1343\"></div>\n"
      ]
     },
     "metadata": {},
     "output_type": "display_data"
    },
    {
     "data": {
      "application/javascript": [
       "(function(root) {\n",
       "  function embed_document(root) {\n",
       "    \n",
       "  var docs_json = {\"b4e1736d-5df8-416e-b7aa-4134894f5643\":{\"defs\":[],\"roots\":{\"references\":[{\"attributes\":{\"above\":[{\"id\":\"1362\"}],\"left\":[{\"id\":\"1365\"}],\"renderers\":[{\"id\":\"1360\"}],\"title\":{\"id\":\"1401\"},\"toolbar\":{\"id\":\"1352\"},\"x_range\":{\"id\":\"1344\"},\"x_scale\":{\"id\":\"1348\"},\"y_range\":{\"id\":\"1346\"},\"y_scale\":{\"id\":\"1350\"}},\"id\":\"1343\",\"subtype\":\"Figure\",\"type\":\"Plot\"},{\"attributes\":{\"color_mapper\":{\"id\":\"1358\"},\"dh\":{\"value\":12},\"dw\":{\"value\":9},\"global_alpha\":0.1,\"image\":{\"field\":\"image\"},\"x\":{\"value\":0},\"y\":{\"value\":0}},\"id\":\"1357\",\"type\":\"Image\"},{\"attributes\":{},\"id\":\"1348\",\"type\":\"LinearScale\"},{\"attributes\":{\"active_multi\":null},\"id\":\"1352\",\"type\":\"Toolbar\"},{\"attributes\":{\"source\":{\"id\":\"1353\"}},\"id\":\"1361\",\"type\":\"CDSView\"},{\"attributes\":{\"axis_label\":\"translation tokens\",\"formatter\":{\"id\":\"1404\"},\"major_label_overrides\":{\"0.5\":\"_EOS_\",\"1.5\":\"property\",\"10.5\":\"an\",\"11.5\":\"_BOS_\",\"2.5\":\"the\",\"3.5\":\"at\",\"4.5\":\"arranged\",\"5.5\":\"be\",\"6.5\":\"can\",\"7.5\":\"activities\",\"8.5\":\"of\",\"9.5\":\"array\"},\"major_label_policy\":{\"id\":\"1405\"},\"ticker\":{\"id\":\"1366\"}},\"id\":\"1365\",\"type\":\"LinearAxis\"},{\"attributes\":{},\"id\":\"1404\",\"type\":\"BasicTickFormatter\"},{\"attributes\":{\"palette\":[\"#000000\",\"#252525\",\"#525252\",\"#737373\",\"#969696\",\"#bdbdbd\",\"#d9d9d9\",\"#f0f0f0\",\"#ffffff\"]},\"id\":\"1355\",\"type\":\"LinearColorMapper\"},{\"attributes\":{},\"id\":\"1407\",\"type\":\"Selection\"},{\"attributes\":{\"ticks\":[0.5,1.5,2.5,3.5,4.5,5.5,6.5,7.5,8.5,9.5,10.5,11.5]},\"id\":\"1366\",\"type\":\"FixedTicker\"},{\"attributes\":{\"data_source\":{\"id\":\"1353\"},\"glyph\":{\"id\":\"1354\"},\"hover_glyph\":null,\"muted_glyph\":null,\"nonselection_glyph\":{\"id\":\"1357\"},\"view\":{\"id\":\"1361\"}},\"id\":\"1360\",\"type\":\"GlyphRenderer\"},{\"attributes\":{\"axis_label\":\"source tokens\",\"formatter\":{\"id\":\"1402\"},\"major_label_orientation\":45,\"major_label_overrides\":{\"0.5\":\"_BOS_\",\"1.5\":\"\\u0431\\u0438\\u043b\\u0435\\u0442\\u044b\",\"2.5\":\"\\u043c\\u043e\\u0436\\u043d\\u043e\",\"3.5\":\"\\u043f\\u0440\\u0438\\u043e\\u0431\\u0440\\u0435\\u0441\\u0442\\u0438\",\"4.5\":\"\\u043d\\u0430\",\"5.5\":\"\\u0442\\u0435\\u0440\\u0440\\u0438\\u0442\\u043e\\u0440\\u0438\\u0438\",\"6.5\":\"\\u043e\\u0442\\u0435\\u043b\\u044f\",\"7.5\":\".\",\"8.5\":\"_EOS_\"},\"major_label_policy\":{\"id\":\"1403\"},\"ticker\":{\"id\":\"1363\"}},\"id\":\"1362\",\"type\":\"LinearAxis\"},{\"attributes\":{},\"id\":\"1402\",\"type\":\"BasicTickFormatter\"},{\"attributes\":{\"ticks\":[0.5,1.5,2.5,3.5,4.5,5.5,6.5,7.5,8.5]},\"id\":\"1363\",\"type\":\"FixedTicker\"},{\"attributes\":{},\"id\":\"1405\",\"type\":\"AllLabels\"},{\"attributes\":{\"color_mapper\":{\"id\":\"1355\"},\"dh\":{\"value\":12},\"dw\":{\"value\":9},\"image\":{\"field\":\"image\"},\"x\":{\"value\":0},\"y\":{\"value\":0}},\"id\":\"1354\",\"type\":\"Image\"},{\"attributes\":{},\"id\":\"1403\",\"type\":\"AllLabels\"},{\"attributes\":{},\"id\":\"1350\",\"type\":\"LinearScale\"},{\"attributes\":{},\"id\":\"1406\",\"type\":\"UnionRenderers\"},{\"attributes\":{\"palette\":[\"#000000\",\"#252525\",\"#525252\",\"#737373\",\"#969696\",\"#bdbdbd\",\"#d9d9d9\",\"#f0f0f0\",\"#ffffff\"]},\"id\":\"1358\",\"type\":\"LinearColorMapper\"},{\"attributes\":{\"end\":9},\"id\":\"1344\",\"type\":\"Range1d\"},{\"attributes\":{\"data\":{\"image\":[[[2.7885202480426585e-10],[2.1887274215259822e-09],[0.0005587841151282191],[0.00236505176872015],[0.9939508438110352],[0.0023140977136790752],[0.0008112725918181241]]]},\"selected\":{\"id\":\"1407\"},\"selection_policy\":{\"id\":\"1406\"}},\"id\":\"1353\",\"type\":\"ColumnDataSource\"},{\"attributes\":{\"end\":12},\"id\":\"1346\",\"type\":\"Range1d\"},{\"attributes\":{},\"id\":\"1401\",\"type\":\"Title\"}],\"root_ids\":[\"1343\"]},\"title\":\"Bokeh Application\",\"version\":\"2.3.2\"}};\n",
       "  var render_items = [{\"docid\":\"b4e1736d-5df8-416e-b7aa-4134894f5643\",\"root_ids\":[\"1343\"],\"roots\":{\"1343\":\"dcd2c0ad-fc4f-4952-b890-4f73be5f9196\"}}];\n",
       "  root.Bokeh.embed.embed_items_notebook(docs_json, render_items);\n",
       "\n",
       "  }\n",
       "  if (root.Bokeh !== undefined) {\n",
       "    embed_document(root);\n",
       "  } else {\n",
       "    var attempts = 0;\n",
       "    var timer = setInterval(function(root) {\n",
       "      if (root.Bokeh !== undefined) {\n",
       "        clearInterval(timer);\n",
       "        embed_document(root);\n",
       "      } else {\n",
       "        attempts++;\n",
       "        if (attempts > 100) {\n",
       "          clearInterval(timer);\n",
       "          console.log(\"Bokeh: ERROR: Unable to run BokehJS code because BokehJS library is missing\");\n",
       "        }\n",
       "      }\n",
       "    }, 10, root)\n",
       "  }\n",
       "})(window);"
      ],
      "application/vnd.bokehjs_exec.v0+json": ""
     },
     "metadata": {
      "application/vnd.bokehjs_exec.v0+json": {
       "id": "1343"
      }
     },
     "output_type": "display_data"
    }
   ],
   "source": [
    "for i in range(5):\n",
    "    draw_attention(inp[i], translation[i], attention_probs[i])\n",
    "    \n",
    "# Does it look fine already? don't forget to save images for anytask!"
   ]
  },
  {
   "cell_type": "markdown",
   "metadata": {},
   "source": [
    "__Note 1:__ If the attention maps are not iterpretable, try starting encoder from zeros (instead of dec_start), forcing model to use attention.\n",
    "\n",
    "__Note 2:__ If you're studying this course as a YSDA student, please submit __attention screenshots__ alongside your notebook."
   ]
  },
  {
   "cell_type": "markdown",
   "metadata": {
    "colab_type": "text",
    "id": "pbIIngNVlrtt"
   },
   "source": [
    "## Goind deeper (2++ points each)\n",
    "\n",
    "We want you to find the best model for the task. Use everything you know.\n",
    "\n",
    "* different recurrent units: rnn/gru/lstm; deeper architectures\n",
    "* bidirectional encoder, different attention methods for decoder (additive, dot-product, multi-head)\n",
    "* word dropout, training schedules, anything you can imagine\n",
    "* replace greedy inference with beam search\n",
    "\n",
    "For a better grasp of seq2seq We recommend you to conduct at least one experiment from one of the bullet-points or your alternative ideas. As usual, describe what you tried and what results you obtained in a short report."
   ]
  },
  {
   "cell_type": "markdown",
   "metadata": {
    "colab_type": "text",
    "collapsed": true,
    "id": "2rzAj_xtlrtt"
   },
   "source": [
    "`[your report/log here or anywhere you please]`"
   ]
  }
 ],
 "metadata": {
  "accelerator": "GPU",
  "colab": {
   "collapsed_sections": [
    "edk_oVg0lrtW"
   ],
   "name": "practice.ipynb",
   "provenance": []
  },
  "kernelspec": {
   "display_name": "Python 3 (ipykernel)",
   "language": "python",
   "name": "python3"
  },
  "language_info": {
   "codemirror_mode": {
    "name": "ipython",
    "version": 3
   },
   "file_extension": ".py",
   "mimetype": "text/x-python",
   "name": "python",
   "nbconvert_exporter": "python",
   "pygments_lexer": "ipython3",
   "version": "3.7.6"
  }
 },
 "nbformat": 4,
 "nbformat_minor": 1
}
