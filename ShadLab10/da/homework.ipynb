{
 "cells": [
  {
   "cell_type": "markdown",
   "metadata": {
    "colab_type": "text",
    "id": "fEQLNowBwQsg"
   },
   "source": [
    "# Homework: Transfer Learning & Domain Adaptation\n",
    "##  Named Entity Recognition\n",
    "\n",
    "Today we're gonna solve the problem of named entity recognition. Here's what it does in one picture:\n",
    "![img](https://commons.bmstu.wiki/images/0/00/NER1.png)\n",
    "[image source](https://bit.ly/2Pmg7L2)\n",
    "\n",
    "\n",
    "For each word, in a sentence, your model should predict a named entity class: _person, organization, location_ or _miscellaneous_\n"
   ]
  },
  {
   "cell_type": "markdown",
   "metadata": {},
   "source": [
    "## Data\n",
    "\n",
    "\n",
    "### Source domain testset\n",
    "\n",
    "Our train set consists from texts from different news sources. Therefore as source-domain testset we will use data from [CoNLL-2003 Shared Task](https://github.com/Franck-Dernoncourt/NeuroNER/blob/master/data/conll2003/en). More information about the task can be found [here](https://www.clips.uantwerpen.be/conll2003/ner/).\n",
    "\n",
    "### Target domain (in-domain) data\n",
    "\n",
    "As target-domain data we will use data from [WNUT17 Emerging and Rare entity recognition task](http://noisy-text.github.io/2017/emerging-rare-entities.html). This shared task focuses on identifying unusual, previously-unseen entities in the context of emerging discussions. The data were mined from mined from Twitter, Reddit,\n",
    "YouTube and StackExchange. Results of different competitors of the task were published [here](https://noisy-text.github.io/2017/pdf/WNUT18.pdf).\n",
    "\n",
    "### Named entity classes\n",
    "\n",
    "* PER - _person_: names of people (e.g. Alexander S. Pushkin)\n",
    "* ORG - _organization_: names of corporations (e.g. Yandex), names of non-profit organizations (e.g. UNICEF)\n",
    "Google).\n",
    "* LOC - _location_ : e.g. Russia\n",
    "* MISC - _miscellaneous_ : other named entities including names of products (e.g. iPhone) and creative works (e.g. Bohemian Rhapsody)\n",
    "\n",
    "### Evaluation metrics\n",
    "\n",
    "As evaluation metrics we will F1 measure on exact matched NEs. It means that partially overlapped enitities of same class are considered as mismatch.\n",
    "For example, LOC entities below is partially overlapped. And it is a mismatch:\n",
    "\n",
    "__O, B-LOC, I-LOC, O__\n",
    "\n",
    "__O, B-LOC, I-LOC, I-LOC__\n",
    "\n",
    "Details can be found in the code of _conlleval.py_\n",
    "\n",
    "### Data format\n",
    "\n",
    "The format of all dataset follows popular [IOB format](https://en.wikipedia.org/wiki/Inside–outside–beginning_(tagging)). The B- prefix before a tag indicates that the tag is the beginning of a chunk, and an I- prefix before a tag indicates that the tag is inside a chunk. The B- tag is used only when a tag is followed by a tag of the same type without O tokens between them. An O tag indicates that a token belongs to no chunk.\n",
    "\n",
    "The named entity labels include:\n",
    "* __B-LOC__ - location - first token\n",
    "* __I-LOC__ - location - subsequent tokens\n",
    "* __B-ORG__ - organization - first token\n",
    "* __O__ - not a named entity"
   ]
  },
  {
   "cell_type": "markdown",
   "metadata": {},
   "source": [
    "### Part 1: dataset exploration"
   ]
  },
  {
   "cell_type": "markdown",
   "metadata": {},
   "source": [
    "To load datasets we will use `huggingface/datasets` library:\n",
    "\n",
    "https://huggingface.co/docs/datasets/"
   ]
  },
  {
   "cell_type": "code",
   "execution_count": 8,
   "metadata": {},
   "outputs": [],
   "source": [
    "#!pip install datasets"
   ]
  },
  {
   "cell_type": "code",
   "execution_count": 3,
   "metadata": {},
   "outputs": [
    {
     "name": "stdout",
     "output_type": "stream",
     "text": [
      "/home/iris/paulshab/NLP_env/nlp_environ/bin/python\r\n"
     ]
    }
   ],
   "source": [
    "!which python"
   ]
  },
  {
   "cell_type": "code",
   "execution_count": 1,
   "metadata": {},
   "outputs": [],
   "source": [
    "import typing as tp\n",
    "import datasets"
   ]
  },
  {
   "cell_type": "code",
   "execution_count": null,
   "metadata": {},
   "outputs": [],
   "source": []
  },
  {
   "cell_type": "code",
   "execution_count": 2,
   "metadata": {},
   "outputs": [
    {
     "name": "stderr",
     "output_type": "stream",
     "text": [
      "Reusing dataset conll2003 (/home/iris/.cache/huggingface/datasets/conll2003/conll2003/1.0.0/40e7cb6bcc374f7c349c83acd1e9352a4f09474eb691f64f364ee62eb65d0ca6)\n",
      "Reusing dataset wnut_17 (/home/iris/.cache/huggingface/datasets/wnut_17/wnut_17/1.0.0/077c7f08b8dbc800692e8c9186cdf3606d5849ab0e7be662e6135bb10eba54f9)\n"
     ]
    }
   ],
   "source": [
    "# reddit = datasets.load_dataset(\"reddit\", cache_dir=\"/home/ubuntu/data2/nlp/\", )\n",
    "# stored in  /home/iris/.cache/huggingface/datasets/conll2003\n",
    "conll = datasets.load_dataset(\"conll2003\")\n",
    "wnut = datasets.load_dataset(\"wnut_17\")\n",
    "\n",
    "conll_train = conll['train']\n",
    "conll_test = conll['test']\n",
    "\n",
    "wnut_train = wnut['train']\n",
    "wnut_test = wnut['test']"
   ]
  },
  {
   "cell_type": "code",
   "execution_count": 4,
   "metadata": {},
   "outputs": [
    {
     "name": "stdout",
     "output_type": "stream",
     "text": [
      "DatasetDict({\n",
      "    train: Dataset({\n",
      "        features: ['id', 'tokens', 'pos_tags', 'chunk_tags', 'ner_tags'],\n",
      "        num_rows: 14041\n",
      "    })\n",
      "    validation: Dataset({\n",
      "        features: ['id', 'tokens', 'pos_tags', 'chunk_tags', 'ner_tags'],\n",
      "        num_rows: 3250\n",
      "    })\n",
      "    test: Dataset({\n",
      "        features: ['id', 'tokens', 'pos_tags', 'chunk_tags', 'ner_tags'],\n",
      "        num_rows: 3453\n",
      "    })\n",
      "})\n"
     ]
    },
    {
     "data": {
      "text/plain": [
       "{'id': '2',\n",
       " 'tokens': ['AL-AIN', ',', 'United', 'Arab', 'Emirates', '1996-12-06'],\n",
       " 'pos_tags': [22, 6, 22, 22, 23, 11],\n",
       " 'chunk_tags': [11, 0, 11, 12, 12, 12],\n",
       " 'ner_tags': [5, 0, 5, 6, 6, 0]}"
      ]
     },
     "execution_count": 4,
     "metadata": {},
     "output_type": "execute_result"
    }
   ],
   "source": [
    "print(conll)\n",
    "conll[\"test\"][2]"
   ]
  },
  {
   "cell_type": "markdown",
   "metadata": {},
   "source": [
    "This datasets is a actually `DatasetDict`s.\n",
    "\n",
    "_Hint_ : to see class hierarchy we can use `getmro` function from `inspect` library."
   ]
  },
  {
   "cell_type": "code",
   "execution_count": 4,
   "metadata": {},
   "outputs": [
    {
     "name": "stdout",
     "output_type": "stream",
     "text": [
      "dict_keys(['train', 'validation', 'test']) dict_keys(['train', 'validation', 'test'])\n"
     ]
    }
   ],
   "source": [
    "import inspect\n",
    "inspect.getmro(type(conll))\n",
    "\n",
    "print(conll.keys(), wnut.keys())"
   ]
  },
  {
   "cell_type": "markdown",
   "metadata": {},
   "source": [
    "Let's have a look at content of test part CONLL dataset:"
   ]
  },
  {
   "cell_type": "code",
   "execution_count": 6,
   "metadata": {},
   "outputs": [
    {
     "data": {
      "text/plain": [
       "{'id': Value(dtype='string', id=None),\n",
       " 'tokens': Sequence(feature=Value(dtype='string', id=None), length=-1, id=None),\n",
       " 'pos_tags': Sequence(feature=ClassLabel(num_classes=47, names=['\"', \"''\", '#', '$', '(', ')', ',', '.', ':', '``', 'CC', 'CD', 'DT', 'EX', 'FW', 'IN', 'JJ', 'JJR', 'JJS', 'LS', 'MD', 'NN', 'NNP', 'NNPS', 'NNS', 'NN|SYM', 'PDT', 'POS', 'PRP', 'PRP$', 'RB', 'RBR', 'RBS', 'RP', 'SYM', 'TO', 'UH', 'VB', 'VBD', 'VBG', 'VBN', 'VBP', 'VBZ', 'WDT', 'WP', 'WP$', 'WRB'], names_file=None, id=None), length=-1, id=None),\n",
       " 'chunk_tags': Sequence(feature=ClassLabel(num_classes=23, names=['O', 'B-ADJP', 'I-ADJP', 'B-ADVP', 'I-ADVP', 'B-CONJP', 'I-CONJP', 'B-INTJ', 'I-INTJ', 'B-LST', 'I-LST', 'B-NP', 'I-NP', 'B-PP', 'I-PP', 'B-PRT', 'I-PRT', 'B-SBAR', 'I-SBAR', 'B-UCP', 'I-UCP', 'B-VP', 'I-VP'], names_file=None, id=None), length=-1, id=None),\n",
       " 'ner_tags': Sequence(feature=ClassLabel(num_classes=9, names=['O', 'B-PER', 'I-PER', 'B-ORG', 'I-ORG', 'B-LOC', 'I-LOC', 'B-MISC', 'I-MISC'], names_file=None, id=None), length=-1, id=None)}"
      ]
     },
     "execution_count": 6,
     "metadata": {},
     "output_type": "execute_result"
    }
   ],
   "source": [
    "conll_test.features"
   ]
  },
  {
   "cell_type": "code",
   "execution_count": 5,
   "metadata": {},
   "outputs": [
    {
     "data": {
      "text/plain": [
       "{'O': 0,\n",
       " 'B-PER': 1,\n",
       " 'I-PER': 2,\n",
       " 'B-ORG': 3,\n",
       " 'I-ORG': 4,\n",
       " 'B-LOC': 5,\n",
       " 'I-LOC': 6,\n",
       " 'B-MISC': 7,\n",
       " 'I-MISC': 8}"
      ]
     },
     "execution_count": 5,
     "metadata": {},
     "output_type": "execute_result"
    }
   ],
   "source": [
    "ner_tags_list = conll_test.features['ner_tags'].feature.names\n",
    "pos_tags_list = conll_test.features['pos_tags'].feature.names\n",
    "chunk_tags_list = conll_test.features['chunk_tags'].feature.names\n",
    "\n",
    "# ner tags dict\n",
    "ner_to_indx = {ch:i for i, ch in enumerate(ner_tags_list )}\n",
    "indx_to_ner = {i:ch for i, ch in enumerate(ner_tags_list )}\n",
    "\n",
    "# pos tags dict\n",
    "pos_to_indx = {ch:i for i, ch in enumerate(pos_tags_list)}\n",
    "indx_to_pos = {i:ch for i, ch in enumerate(pos_tags_list)}\n",
    "\n",
    "\n",
    "# chunk tags dict\n",
    "chunk_to_indx = {ch:i for i, ch in enumerate(chunk_tags_list)}\n",
    "indx_to_chunk = {i:ch for i, ch in enumerate(chunk_tags_list)}\n",
    "\n",
    "ner_to_indx"
   ]
  },
  {
   "cell_type": "code",
   "execution_count": 8,
   "metadata": {},
   "outputs": [
    {
     "data": {
      "text/plain": [
       "{'id': '50',\n",
       " 'tokens': ['Results', 'of', 'the', 'World', 'Cup'],\n",
       " 'pos_tags': [24, 15, 12, 22, 22],\n",
       " 'chunk_tags': [11, 13, 11, 12, 12],\n",
       " 'ner_tags': [0, 0, 0, 7, 8]}"
      ]
     },
     "execution_count": 8,
     "metadata": {},
     "output_type": "execute_result"
    }
   ],
   "source": [
    "conll[\"test\"][50]"
   ]
  },
  {
   "cell_type": "code",
   "execution_count": 6,
   "metadata": {},
   "outputs": [],
   "source": [
    "def convert_conll(example: tp.Dict[str, tp.Any]):\n",
    "    ner_example = [indx_to_ner[k] for k in example['ner_tags']]\n",
    "    example['ner_tags'] = ner_example\n",
    "    \n",
    "    return example"
   ]
  },
  {
   "cell_type": "code",
   "execution_count": 10,
   "metadata": {},
   "outputs": [
    {
     "data": {
      "text/plain": [
       "{'id': '50',\n",
       " 'tokens': ['Results', 'of', 'the', 'World', 'Cup'],\n",
       " 'pos_tags': [24, 15, 12, 22, 22],\n",
       " 'chunk_tags': [11, 13, 11, 12, 12],\n",
       " 'ner_tags': ['O', 'O', 'O', 'B-MISC', 'I-MISC']}"
      ]
     },
     "execution_count": 10,
     "metadata": {},
     "output_type": "execute_result"
    }
   ],
   "source": [
    "convert_conll(conll[\"test\"][50])"
   ]
  },
  {
   "cell_type": "code",
   "execution_count": 8,
   "metadata": {},
   "outputs": [
    {
     "data": {
      "application/vnd.jupyter.widget-view+json": {
       "model_id": "638805462e5e45738fcbdaa2a04aa192",
       "version_major": 2,
       "version_minor": 0
      },
      "text/plain": [
       "  0%|          | 0/14041 [00:00<?, ?ex/s]"
      ]
     },
     "metadata": {},
     "output_type": "display_data"
    },
    {
     "data": {
      "application/vnd.jupyter.widget-view+json": {
       "model_id": "0aebd7b61d3a4fe8976b2bc5c2a9bb61",
       "version_major": 2,
       "version_minor": 0
      },
      "text/plain": [
       "  0%|          | 0/3250 [00:00<?, ?ex/s]"
      ]
     },
     "metadata": {},
     "output_type": "display_data"
    },
    {
     "data": {
      "application/vnd.jupyter.widget-view+json": {
       "model_id": "48f9480ffae74fc59c5da4d77eb2c8f1",
       "version_major": 2,
       "version_minor": 0
      },
      "text/plain": [
       "  0%|          | 0/3453 [00:00<?, ?ex/s]"
      ]
     },
     "metadata": {},
     "output_type": "display_data"
    }
   ],
   "source": [
    "converted_conll = conll.map(lambda x: convert_conll(x))"
   ]
  },
  {
   "cell_type": "code",
   "execution_count": 12,
   "metadata": {},
   "outputs": [
    {
     "data": {
      "text/plain": [
       "{'id': '50',\n",
       " 'tokens': ['Results', 'of', 'the', 'World', 'Cup'],\n",
       " 'pos_tags': [24, 15, 12, 22, 22],\n",
       " 'chunk_tags': [11, 13, 11, 12, 12],\n",
       " 'ner_tags': ['O', 'O', 'O', 'B-MISC', 'I-MISC']}"
      ]
     },
     "execution_count": 12,
     "metadata": {},
     "output_type": "execute_result"
    }
   ],
   "source": [
    "converted_conll[\"test\"][50]"
   ]
  },
  {
   "cell_type": "code",
   "execution_count": 9,
   "metadata": {},
   "outputs": [],
   "source": [
    "conll_train = converted_conll['train']\n",
    "conll_test = converted_conll['test']"
   ]
  },
  {
   "cell_type": "code",
   "execution_count": 14,
   "metadata": {},
   "outputs": [
    {
     "data": {
      "text/plain": [
       "(10252718, 3453)"
      ]
     },
     "execution_count": 14,
     "metadata": {},
     "output_type": "execute_result"
    }
   ],
   "source": [
    "conll[\"test\"].dataset_size, len(conll[\"test\"])"
   ]
  },
  {
   "cell_type": "markdown",
   "metadata": {},
   "source": [
    "Let's have a look at single example in the dataset:"
   ]
  },
  {
   "cell_type": "markdown",
   "metadata": {},
   "source": [
    "There is a fancy visualizer in `spacy` nlp library we can adapt for custom dataset."
   ]
  },
  {
   "cell_type": "code",
   "execution_count": 23,
   "metadata": {},
   "outputs": [],
   "source": [
    "#!pip install -U pip setuptools wheel\n",
    "#!pip install -U spacy"
   ]
  },
  {
   "cell_type": "code",
   "execution_count": 10,
   "metadata": {},
   "outputs": [],
   "source": [
    "from spacy import displacy"
   ]
  },
  {
   "cell_type": "code",
   "execution_count": 16,
   "metadata": {},
   "outputs": [
    {
     "data": {
      "text/plain": [
       "{'id': '50',\n",
       " 'tokens': ['Results', 'of', 'the', 'World', 'Cup'],\n",
       " 'pos_tags': [24, 15, 12, 22, 22],\n",
       " 'chunk_tags': [11, 13, 11, 12, 12],\n",
       " 'ner_tags': ['O', 'O', 'O', 'B-MISC', 'I-MISC']}"
      ]
     },
     "execution_count": 16,
     "metadata": {},
     "output_type": "execute_result"
    }
   ],
   "source": [
    "conll_test[50]"
   ]
  },
  {
   "cell_type": "code",
   "execution_count": 11,
   "metadata": {},
   "outputs": [],
   "source": [
    "def ner_render(tokens: tp.Sequence[str], ner_tags: tp.Sequence[str], title: tp.Optional[str] = None, **kwargs):\n",
    "    pos = 0\n",
    "    ents = []\n",
    "    for word, tag in zip(tokens, ner_tags):\n",
    "        #tag = indx_to_ner[tag]\n",
    "        if tag.startswith('B'):\n",
    "            ents.append({\n",
    "                \"start\": pos,\n",
    "                \"end\": pos + len(word),\n",
    "                \"label\": tag.split(\"-\")[1]\n",
    "            })\n",
    "        elif tag.startswith('I'):\n",
    "            ents[-1][\"end\"] = pos + len(word)\n",
    "        pos += (len(word) + 1)\n",
    "    displacy.render({\n",
    "        \"text\": \" \".join(tokens),\n",
    "        \"ents\": ents,\n",
    "        \"title\": title\n",
    "    }, style=\"ent\", manual=True)\n",
    "            "
   ]
  },
  {
   "cell_type": "markdown",
   "metadata": {},
   "source": [
    "Voilà!"
   ]
  },
  {
   "cell_type": "code",
   "execution_count": 12,
   "metadata": {},
   "outputs": [
    {
     "data": {
      "text/html": [
       "<span class=\"tex2jax_ignore\"><div class=\"entities\" style=\"line-height: 2.5; direction: ltr\">Results of the \n",
       "<mark class=\"entity\" style=\"background: #ddd; padding: 0.45em 0.6em; margin: 0 0.25em; line-height: 1; border-radius: 0.35em;\">\n",
       "    World Cup\n",
       "    <span style=\"font-size: 0.8em; font-weight: bold; line-height: 1; border-radius: 0.35em; vertical-align: middle; margin-left: 0.5rem\">MISC</span>\n",
       "</mark>\n",
       "</div></span>"
      ],
      "text/plain": [
       "<IPython.core.display.HTML object>"
      ]
     },
     "metadata": {},
     "output_type": "display_data"
    },
    {
     "data": {
      "text/html": [
       "<span class=\"tex2jax_ignore\"><div class=\"entities\" style=\"line-height: 2.5; direction: ltr\">League duties restricted the \n",
       "<mark class=\"entity\" style=\"background: #7aecec; padding: 0.45em 0.6em; margin: 0 0.25em; line-height: 1; border-radius: 0.35em;\">\n",
       "    Barbarians\n",
       "    <span style=\"font-size: 0.8em; font-weight: bold; line-height: 1; border-radius: 0.35em; vertical-align: middle; margin-left: 0.5rem\">ORG</span>\n",
       "</mark>\n",
       " ' selectorial options but they still boast 13 internationals including \n",
       "<mark class=\"entity\" style=\"background: #ff9561; padding: 0.45em 0.6em; margin: 0 0.25em; line-height: 1; border-radius: 0.35em;\">\n",
       "    England\n",
       "    <span style=\"font-size: 0.8em; font-weight: bold; line-height: 1; border-radius: 0.35em; vertical-align: middle; margin-left: 0.5rem\">LOC</span>\n",
       "</mark>\n",
       " full-back \n",
       "<mark class=\"entity\" style=\"background: #ddd; padding: 0.45em 0.6em; margin: 0 0.25em; line-height: 1; border-radius: 0.35em;\">\n",
       "    Tim Stimpson\n",
       "    <span style=\"font-size: 0.8em; font-weight: bold; line-height: 1; border-radius: 0.35em; vertical-align: middle; margin-left: 0.5rem\">PER</span>\n",
       "</mark>\n",
       " and recalled wing \n",
       "<mark class=\"entity\" style=\"background: #ddd; padding: 0.45em 0.6em; margin: 0 0.25em; line-height: 1; border-radius: 0.35em;\">\n",
       "    Tony Underwood\n",
       "    <span style=\"font-size: 0.8em; font-weight: bold; line-height: 1; border-radius: 0.35em; vertical-align: middle; margin-left: 0.5rem\">PER</span>\n",
       "</mark>\n",
       " , plus \n",
       "<mark class=\"entity\" style=\"background: #7aecec; padding: 0.45em 0.6em; margin: 0 0.25em; line-height: 1; border-radius: 0.35em;\">\n",
       "    All Black\n",
       "    <span style=\"font-size: 0.8em; font-weight: bold; line-height: 1; border-radius: 0.35em; vertical-align: middle; margin-left: 0.5rem\">ORG</span>\n",
       "</mark>\n",
       " forwards \n",
       "<mark class=\"entity\" style=\"background: #ddd; padding: 0.45em 0.6em; margin: 0 0.25em; line-height: 1; border-radius: 0.35em;\">\n",
       "    Ian Jones\n",
       "    <span style=\"font-size: 0.8em; font-weight: bold; line-height: 1; border-radius: 0.35em; vertical-align: middle; margin-left: 0.5rem\">PER</span>\n",
       "</mark>\n",
       " and \n",
       "<mark class=\"entity\" style=\"background: #ddd; padding: 0.45em 0.6em; margin: 0 0.25em; line-height: 1; border-radius: 0.35em;\">\n",
       "    Norm Hewitt\n",
       "    <span style=\"font-size: 0.8em; font-weight: bold; line-height: 1; border-radius: 0.35em; vertical-align: middle; margin-left: 0.5rem\">PER</span>\n",
       "</mark>\n",
       " .</div></span>"
      ],
      "text/plain": [
       "<IPython.core.display.HTML object>"
      ]
     },
     "metadata": {},
     "output_type": "display_data"
    }
   ],
   "source": [
    "ner_render(**conll_test[50])\n",
    "ner_render(**conll_test[200])"
   ]
  },
  {
   "cell_type": "markdown",
   "metadata": {},
   "source": [
    "Let's compare CONLL and WNUT named entity tags. We need to count each type of tags in both datasets"
   ]
  },
  {
   "cell_type": "code",
   "execution_count": 13,
   "metadata": {},
   "outputs": [
    {
     "data": {
      "text/plain": [
       "Counter({'B-ORG': 6321,\n",
       "         'O': 169578,\n",
       "         'B-MISC': 3438,\n",
       "         'B-PER': 6600,\n",
       "         'I-PER': 4528,\n",
       "         'B-LOC': 7140,\n",
       "         'I-ORG': 3704,\n",
       "         'I-MISC': 1155,\n",
       "         'I-LOC': 1157})"
      ]
     },
     "execution_count": 13,
     "metadata": {},
     "output_type": "execute_result"
    }
   ],
   "source": [
    "from itertools import chain\n",
    "from collections import Counter\n",
    "\n",
    "# Count every type of tag in CONLL and WNUT datasets:\n",
    "\n",
    "conll_tag_counts = Counter()\n",
    "wnut_tag_counts = Counter()\n",
    "\n",
    "# <YOUR CODE HERE>\n",
    "\n",
    "conll_tag_counts = Counter()\n",
    "wnut_tag_counts = Counter()\n",
    "\n",
    "for tags in conll_train[\"ner_tags\"]:\n",
    "    conll_tag_counts.update(tags)\n",
    "\n",
    "conll_tag_counts "
   ]
  },
  {
   "cell_type": "code",
   "execution_count": 14,
   "metadata": {},
   "outputs": [
    {
     "data": {
      "text/plain": [
       "{0: 'O',\n",
       " 1: 'B-corporation',\n",
       " 2: 'I-corporation',\n",
       " 3: 'B-creative-work',\n",
       " 4: 'I-creative-work',\n",
       " 5: 'B-group',\n",
       " 6: 'I-group',\n",
       " 7: 'B-location',\n",
       " 8: 'I-location',\n",
       " 9: 'B-person',\n",
       " 10: 'I-person',\n",
       " 11: 'B-product',\n",
       " 12: 'I-product'}"
      ]
     },
     "execution_count": 14,
     "metadata": {},
     "output_type": "execute_result"
    }
   ],
   "source": [
    "wnut_ner_tags_list = wnut_test.features['ner_tags'].feature.names\n",
    "\n",
    "# ner tags dict\n",
    "wnut_ner_to_indx = {ch:i for i, ch in enumerate(wnut_ner_tags_list)}\n",
    "wnut_indx_to_ner = {i:ch for i, ch in enumerate(wnut_ner_tags_list)}\n",
    "\n",
    "wnut_indx_to_ner"
   ]
  },
  {
   "cell_type": "code",
   "execution_count": 21,
   "metadata": {},
   "outputs": [
    {
     "data": {
      "text/plain": [
       "{'id': '10',\n",
       " 'tokens': ['Watch', 'What', 'Else', 'is', 'Making', 'News'],\n",
       " 'ner_tags': [0, 3, 4, 4, 4, 4]}"
      ]
     },
     "execution_count": 21,
     "metadata": {},
     "output_type": "execute_result"
    }
   ],
   "source": [
    "wnut[\"test\"][10]"
   ]
  },
  {
   "cell_type": "markdown",
   "metadata": {},
   "source": [
    "Thus, WNUT and CONLL have different set of NE tags (labels)."
   ]
  },
  {
   "cell_type": "markdown",
   "metadata": {},
   "source": [
    "From WNUT description:\n",
    "\n",
    "**person** –  Names  of  people  (e.g.Virginia Wade).   Don’t mark people that don’t have their own name.  Include punctuation in the middle ofnames.  Fictional people can be included, as long as they’re referred to by name (e.g.Harry Potter).\n",
    "\n",
    "**location** –  Names  that  are  locations  (e.g. France).    Don’t  mark  locations  that  don’t  have their own name.  Include punctuation in the middle of names. Fictional locations can be included, as long as they’re referred to by name (e.g.Hogwarts)\n",
    "\n",
    "**corporation** –  Names  of  corporations  (e.g.Google).   Don’t  mark  locations  that  don’t  have their own name. Include punctuation in the middle of names\n",
    "\n",
    "**product** –  Name  of  products  (e.g. iPhone). Don’t  mark  products  that  don’t  have  their  own name. Include punctuation in the middle of names. Fictional  products  can  be  included,  as  long  as they’re referred to by name (e.g.Everlasting Gobstopper).  It’s got to be something you can touch, and it’s got to be the official name.\n",
    "\n",
    "**creative-work** –  Names  of  creative  works (e.g.Bohemian Rhapsody). Include punctuation inthe middle of names. The work should be created by a human, and referred to by its specific name.\n",
    "\n",
    "**group** – Names of groups (e.g.Nirvana, SanDiego  Padres). Don’t  mark  groups  that  don’t have a specific, unique name, or companies (which should be marked corporation).\n"
   ]
  },
  {
   "cell_type": "markdown",
   "metadata": {},
   "source": [
    "We can match CONLL and WNUT labels using next rules:"
   ]
  },
  {
   "cell_type": "code",
   "execution_count": 15,
   "metadata": {},
   "outputs": [],
   "source": [
    "label_mapping = {\n",
    "    'O': 'O',\n",
    "    'B-location': 'B-LOC',\n",
    "    'I-location': 'I-LOC',\n",
    "    'B-group': 'B-ORG',\n",
    "    'B-corporation': 'B-ORG',\n",
    "    'B-person': 'B-PER',\n",
    "    'B-creative-work': 'B-MISC',\n",
    "    'B-product': 'B-MISC',\n",
    "    'I-person': 'I-PER',\n",
    "    'I-creative-work': 'I-MISC',\n",
    "    'I-corporation': 'I-ORG',\n",
    "    'I-group': 'I-ORG',\n",
    "    'I-product': 'I-MISC'\n",
    "}"
   ]
  },
  {
   "cell_type": "code",
   "execution_count": 16,
   "metadata": {},
   "outputs": [],
   "source": [
    "def convert_label_sequence(example: tp.Dict[str, tp.Any], label_mapping: tp.Dict[str, str]) -> tp.Dict[str, tp.Any]:\n",
    "    #print(example)\n",
    "    \n",
    "    ner_example = [wnut_indx_to_ner[k] for k in example['ner_tags']]\n",
    "    #print(\"\\n\", ner_example)\n",
    "    ner_example = [label_mapping[label] for label in ner_example]\n",
    "    #print(\"\\n\", ner_example)\n",
    "    \n",
    "    # change to format above\n",
    "    #ner_example = [ner_to_indx[k] for k in ner_example]\n",
    "    \n",
    "    example['ner_tags'] = ner_example\n",
    "    #print(\"\\n\", example)\n",
    "   \n",
    "    return example"
   ]
  },
  {
   "cell_type": "code",
   "execution_count": 17,
   "metadata": {},
   "outputs": [
    {
     "data": {
      "application/vnd.jupyter.widget-view+json": {
       "model_id": "cac122326b0f473b844548132f17fa6b",
       "version_major": 2,
       "version_minor": 0
      },
      "text/plain": [
       "  0%|          | 0/3394 [00:00<?, ?ex/s]"
      ]
     },
     "metadata": {},
     "output_type": "display_data"
    },
    {
     "data": {
      "application/vnd.jupyter.widget-view+json": {
       "model_id": "188d88ffe62f4f96bec844776abfb509",
       "version_major": 2,
       "version_minor": 0
      },
      "text/plain": [
       "  0%|          | 0/1009 [00:00<?, ?ex/s]"
      ]
     },
     "metadata": {},
     "output_type": "display_data"
    },
    {
     "data": {
      "application/vnd.jupyter.widget-view+json": {
       "model_id": "fc702b3a191547ba83e7ef080e4e1a5a",
       "version_major": 2,
       "version_minor": 0
      },
      "text/plain": [
       "  0%|          | 0/1287 [00:00<?, ?ex/s]"
      ]
     },
     "metadata": {},
     "output_type": "display_data"
    }
   ],
   "source": [
    "converted_wnut = wnut.map(lambda x: convert_label_sequence(x, label_mapping))"
   ]
  },
  {
   "cell_type": "markdown",
   "metadata": {},
   "source": [
    "**Before:**"
   ]
  },
  {
   "cell_type": "code",
   "execution_count": 108,
   "metadata": {},
   "outputs": [],
   "source": [
    "# ner_render(**wnut[\"train\"][0].fea)\n",
    "# ner_render(**wnut[\"train\"][1])\n",
    "# ner_render(**wnut[\"train\"][2])"
   ]
  },
  {
   "cell_type": "markdown",
   "metadata": {},
   "source": [
    "**After label mapping:**"
   ]
  },
  {
   "cell_type": "code",
   "execution_count": 18,
   "metadata": {},
   "outputs": [
    {
     "data": {
      "text/html": [
       "<span class=\"tex2jax_ignore\"><div class=\"entities\" style=\"line-height: 2.5; direction: ltr\">@paulwalk It 's the view from where I 'm living for two weeks . \n",
       "<mark class=\"entity\" style=\"background: #ff9561; padding: 0.45em 0.6em; margin: 0 0.25em; line-height: 1; border-radius: 0.35em;\">\n",
       "    Empire State Building\n",
       "    <span style=\"font-size: 0.8em; font-weight: bold; line-height: 1; border-radius: 0.35em; vertical-align: middle; margin-left: 0.5rem\">LOC</span>\n",
       "</mark>\n",
       " = \n",
       "<mark class=\"entity\" style=\"background: #ff9561; padding: 0.45em 0.6em; margin: 0 0.25em; line-height: 1; border-radius: 0.35em;\">\n",
       "    ESB\n",
       "    <span style=\"font-size: 0.8em; font-weight: bold; line-height: 1; border-radius: 0.35em; vertical-align: middle; margin-left: 0.5rem\">LOC</span>\n",
       "</mark>\n",
       " . Pretty bad storm here last evening .</div></span>"
      ],
      "text/plain": [
       "<IPython.core.display.HTML object>"
      ]
     },
     "metadata": {},
     "output_type": "display_data"
    },
    {
     "data": {
      "text/html": [
       "<span class=\"tex2jax_ignore\"><div class=\"entities\" style=\"line-height: 2.5; direction: ltr\">From Green Newsfeed : \n",
       "<mark class=\"entity\" style=\"background: #7aecec; padding: 0.45em 0.6em; margin: 0 0.25em; line-height: 1; border-radius: 0.35em;\">\n",
       "    AHFA\n",
       "    <span style=\"font-size: 0.8em; font-weight: bold; line-height: 1; border-radius: 0.35em; vertical-align: middle; margin-left: 0.5rem\">ORG</span>\n",
       "</mark>\n",
       " extends deadline for Sage Award to Nov . 5 http://tinyurl.com/24agj38</div></span>"
      ],
      "text/plain": [
       "<IPython.core.display.HTML object>"
      ]
     },
     "metadata": {},
     "output_type": "display_data"
    },
    {
     "data": {
      "text/html": [
       "<span class=\"tex2jax_ignore\"><div class=\"entities\" style=\"line-height: 2.5; direction: ltr\">\n",
       "<mark class=\"entity\" style=\"background: #7aecec; padding: 0.45em 0.6em; margin: 0 0.25em; line-height: 1; border-radius: 0.35em;\">\n",
       "    Pxleyes\n",
       "    <span style=\"font-size: 0.8em; font-weight: bold; line-height: 1; border-radius: 0.35em; vertical-align: middle; margin-left: 0.5rem\">ORG</span>\n",
       "</mark>\n",
       " Top 50 Photography Contest Pictures of August 2010 ... http://bit.ly/bgCyZ0 #photography</div></span>"
      ],
      "text/plain": [
       "<IPython.core.display.HTML object>"
      ]
     },
     "metadata": {},
     "output_type": "display_data"
    }
   ],
   "source": [
    "ner_render(**converted_wnut[\"train\"][0])\n",
    "ner_render(**converted_wnut[\"train\"][1])\n",
    "ner_render(**converted_wnut[\"train\"][2])"
   ]
  },
  {
   "cell_type": "markdown",
   "metadata": {},
   "source": [
    "To visualize lexical differences between WNUT and CONLL let's use `scattertext` library."
   ]
  },
  {
   "cell_type": "code",
   "execution_count": 20,
   "metadata": {},
   "outputs": [
    {
     "data": {
      "text/html": [
       "<style>.container { width:70% !important; }</style>"
      ],
      "text/plain": [
       "<IPython.core.display.HTML object>"
      ]
     },
     "metadata": {},
     "output_type": "display_data"
    }
   ],
   "source": [
    "from IPython.display import IFrame\n",
    "from IPython.core.display import display, HTML\n",
    "display(HTML(\"<style>.container { width:70% !important; }</style>\"))\n",
    "import matplotlib.pyplot as plt\n",
    "from IPython.display import IFrame\n",
    "%matplotlib inline "
   ]
  },
  {
   "cell_type": "code",
   "execution_count": 23,
   "metadata": {},
   "outputs": [],
   "source": [
    "#!pip3 install scattertext"
   ]
  },
  {
   "cell_type": "code",
   "execution_count": 21,
   "metadata": {},
   "outputs": [],
   "source": [
    "import scattertext as st\n",
    "import pandas as pd"
   ]
  },
  {
   "cell_type": "code",
   "execution_count": 22,
   "metadata": {},
   "outputs": [],
   "source": [
    "conll_df = pd.DataFrame([{\"text\": \" \".join(example[\"tokens\"]), \"ner\": example[\"ner_tags\"], \"dataset\": \"conll\"} for example in conll[\"train\"]])\n",
    "wnut_df = pd.DataFrame([{\"text\": \" \".join(example[\"tokens\"]), \"ner\": example[\"ner_tags\"], \"dataset\": \"wnut\"} for example in converted_wnut[\"train\"]])"
   ]
  },
  {
   "cell_type": "code",
   "execution_count": 23,
   "metadata": {},
   "outputs": [],
   "source": [
    "df = pd.concat([conll_df, wnut_df]).assign(\n",
    "    parse=lambda df: df.text.apply(st.whitespace_nlp_with_sentences)\n",
    ")\n",
    "\n",
    "corpus = st.CorpusFromParsedDocuments(\n",
    "    df, category_col='dataset', parsed_col='parse'\n",
    ").build().get_unigram_corpus().compact(st.AssociationCompactor(2000))"
   ]
  },
  {
   "cell_type": "code",
   "execution_count": 27,
   "metadata": {},
   "outputs": [],
   "source": [
    "html = st.produce_scattertext_explorer(\n",
    "    corpus,\n",
    "    category='conll', category_name='CONLL', not_category_name='WNUT',\n",
    "    minimum_term_frequency=0, pmi_threshold_coefficient=0,\n",
    "    width_in_pixels=1000,\n",
    "    transform=st.Scalers.dense_rank\n",
    ")\n",
    "\n",
    "with open(\"difference.html\", \"w\") as outf:\n",
    "    print(html, file=outf)"
   ]
  },
  {
   "cell_type": "code",
   "execution_count": 24,
   "metadata": {},
   "outputs": [
    {
     "data": {
      "text/html": [
       "\n",
       "        <iframe\n",
       "            width=\"1200\"\n",
       "            height=\"1000\"\n",
       "            src=\"difference.html\"\n",
       "            frameborder=\"0\"\n",
       "            allowfullscreen\n",
       "        ></iframe>\n",
       "        "
      ],
      "text/plain": [
       "<IPython.lib.display.IFrame at 0x7f0a6e44ad10>"
      ]
     },
     "execution_count": 24,
     "metadata": {},
     "output_type": "execute_result"
    }
   ],
   "source": [
    "IFrame(\"difference.html\", width=1200, height=1000)"
   ]
  },
  {
   "cell_type": "markdown",
   "metadata": {},
   "source": [
    "### Part 2: BERT sequence labeling recap (2 points)"
   ]
  },
  {
   "cell_type": "markdown",
   "metadata": {},
   "source": [
    "https://huggingface.co/transformers/task_summary.html#named-entity-recognition"
   ]
  },
  {
   "cell_type": "markdown",
   "metadata": {},
   "source": [
    "The sequence labeling task is a degenerate case of the seq2seq task: we need to map a sequence of words to a sequence of labels (tags) of **the same length**.\n",
    "\n",
    "In case of BERT we want to get a vector of probabilities of labels for each input token. The simplest way to make it is just feed output token embeddings to Linear layer.\n",
    "\n",
    "`transformers` class `BertForTokenClassification` works just like this."
   ]
  },
  {
   "attachments": {
    "image.png": {
     "image/png": "[encoded data removed]"
    }
   },
   "cell_type": "markdown",
   "metadata": {},
   "source": [
    "![image.png](attachment:image.png)\n",
    "\n",
    "Image from FastAI article: https://d2l.ai/chapter_natural-language-processing-applications/finetuning-bert.html"
   ]
  },
  {
   "cell_type": "markdown",
   "metadata": {},
   "source": [
    "#### 2.1 Load pre-trained BERT-based sequence tagger"
   ]
  },
  {
   "cell_type": "code",
   "execution_count": 25,
   "metadata": {},
   "outputs": [
    {
     "name": "stdout",
     "output_type": "stream",
     "text": [
      "[{'entity': 'B-PER', 'score': 0.99866605, 'index': 4, 'word': 'Wolfgang', 'start': 11, 'end': 19}, {'entity': 'B-LOC', 'score': 0.9994331, 'index': 9, 'word': 'Los', 'start': 34, 'end': 37}, {'entity': 'I-LOC', 'score': 0.99945575, 'index': 10, 'word': 'Angeles', 'start': 38, 'end': 45}]\n"
     ]
    }
   ],
   "source": [
    "from transformers import pipeline, AutoModelForTokenClassification, AutoTokenizer\n",
    "\n",
    "# Load pretrained model and tokenizer for English NER task (dslim/bert-base-NER)\n",
    "device = 'cuda:1'\n",
    "\n",
    "model = AutoModelForTokenClassification.from_pretrained(\"dslim/bert-base-NER\").to(device)\n",
    "tokenizer = AutoTokenizer.from_pretrained(\"dslim/bert-base-NER\")\n",
    "\n",
    "nlp = pipeline(\"ner\", model=model, tokenizer=tokenizer, device=1)\n",
    "example = \"My name is Wolfgang and I live in Los Angeles\"\n",
    "\n",
    "\n",
    "ner_results = nlp(example)\n",
    "print(ner_results)\n"
   ]
  },
  {
   "cell_type": "code",
   "execution_count": null,
   "metadata": {},
   "outputs": [],
   "source": []
  },
  {
   "cell_type": "code",
   "execution_count": 224,
   "metadata": {},
   "outputs": [
    {
     "data": {
      "text/plain": [
       "{'input_ids': [101, 19082, 103, 1293, 1132, 1128, 102], 'token_type_ids': [0, 0, 0, 0, 0, 0, 0], 'attention_mask': [1, 1, 1, 1, 1, 1, 1]}"
      ]
     },
     "execution_count": 224,
     "metadata": {},
     "output_type": "execute_result"
    }
   ],
   "source": [
    "tokenizer(\"hello [MASK] how are you\")"
   ]
  },
  {
   "cell_type": "markdown",
   "metadata": {},
   "source": [
    "Let's have a look at `BertForTokenClassification` class hierarchy"
   ]
  },
  {
   "cell_type": "code",
   "execution_count": 27,
   "metadata": {},
   "outputs": [
    {
     "data": {
      "text/plain": [
       "(transformers.models.bert.modeling_bert.BertForTokenClassification,\n",
       " transformers.models.bert.modeling_bert.BertPreTrainedModel,\n",
       " transformers.modeling_utils.PreTrainedModel,\n",
       " torch.nn.modules.module.Module,\n",
       " transformers.modeling_utils.ModuleUtilsMixin,\n",
       " transformers.generation_utils.GenerationMixin,\n",
       " transformers.file_utils.PushToHubMixin,\n",
       " object)"
      ]
     },
     "execution_count": 27,
     "metadata": {},
     "output_type": "execute_result"
    }
   ],
   "source": [
    "inspect.getmro(type(model))"
   ]
  },
  {
   "cell_type": "markdown",
   "metadata": {},
   "source": [
    "In `transformers.BertPreTrainedModel` there is an important attribute `config`. Let's have a look. "
   ]
  },
  {
   "cell_type": "code",
   "execution_count": 28,
   "metadata": {},
   "outputs": [
    {
     "data": {
      "text/plain": [
       "{'B-LOC': 7,\n",
       " 'B-MISC': 1,\n",
       " 'B-ORG': 5,\n",
       " 'B-PER': 3,\n",
       " 'I-LOC': 8,\n",
       " 'I-MISC': 2,\n",
       " 'I-ORG': 6,\n",
       " 'I-PER': 4,\n",
       " 'O': 0}"
      ]
     },
     "execution_count": 28,
     "metadata": {},
     "output_type": "execute_result"
    }
   ],
   "source": [
    "model.config.label2id"
   ]
  },
  {
   "cell_type": "markdown",
   "metadata": {},
   "source": [
    "As mentioned above `BertForTokenClassification` = BERT + linear classifier"
   ]
  },
  {
   "cell_type": "code",
   "execution_count": 29,
   "metadata": {
    "scrolled": true
   },
   "outputs": [
    {
     "data": {
      "text/plain": [
       "Linear(in_features=768, out_features=9, bias=True)"
      ]
     },
     "execution_count": 29,
     "metadata": {},
     "output_type": "execute_result"
    }
   ],
   "source": [
    "model.classifier"
   ]
  },
  {
   "cell_type": "code",
   "execution_count": 30,
   "metadata": {},
   "outputs": [
    {
     "data": {
      "text/plain": [
       "BertModel(\n",
       "  (embeddings): BertEmbeddings(\n",
       "    (word_embeddings): Embedding(28996, 768, padding_idx=0)\n",
       "    (position_embeddings): Embedding(512, 768)\n",
       "    (token_type_embeddings): Embedding(2, 768)\n",
       "    (LayerNorm): LayerNorm((768,), eps=1e-12, elementwise_affine=True)\n",
       "    (dropout): Dropout(p=0.1, inplace=False)\n",
       "  )\n",
       "  (encoder): BertEncoder(\n",
       "    (layer): ModuleList(\n",
       "      (0): BertLayer(\n",
       "        (attention): BertAttention(\n",
       "          (self): BertSelfAttention(\n",
       "            (query): Linear(in_features=768, out_features=768, bias=True)\n",
       "            (key): Linear(in_features=768, out_features=768, bias=True)\n",
       "            (value): Linear(in_features=768, out_features=768, bias=True)\n",
       "            (dropout): Dropout(p=0.1, inplace=False)\n",
       "          )\n",
       "          (output): BertSelfOutput(\n",
       "            (dense): Linear(in_features=768, out_features=768, bias=True)\n",
       "            (LayerNorm): LayerNorm((768,), eps=1e-12, elementwise_affine=True)\n",
       "            (dropout): Dropout(p=0.1, inplace=False)\n",
       "          )\n",
       "        )\n",
       "        (intermediate): BertIntermediate(\n",
       "          (dense): Linear(in_features=768, out_features=3072, bias=True)\n",
       "        )\n",
       "        (output): BertOutput(\n",
       "          (dense): Linear(in_features=3072, out_features=768, bias=True)\n",
       "          (LayerNorm): LayerNorm((768,), eps=1e-12, elementwise_affine=True)\n",
       "          (dropout): Dropout(p=0.1, inplace=False)\n",
       "        )\n",
       "      )\n",
       "      (1): BertLayer(\n",
       "        (attention): BertAttention(\n",
       "          (self): BertSelfAttention(\n",
       "            (query): Linear(in_features=768, out_features=768, bias=True)\n",
       "            (key): Linear(in_features=768, out_features=768, bias=True)\n",
       "            (value): Linear(in_features=768, out_features=768, bias=True)\n",
       "            (dropout): Dropout(p=0.1, inplace=False)\n",
       "          )\n",
       "          (output): BertSelfOutput(\n",
       "            (dense): Linear(in_features=768, out_features=768, bias=True)\n",
       "            (LayerNorm): LayerNorm((768,), eps=1e-12, elementwise_affine=True)\n",
       "            (dropout): Dropout(p=0.1, inplace=False)\n",
       "          )\n",
       "        )\n",
       "        (intermediate): BertIntermediate(\n",
       "          (dense): Linear(in_features=768, out_features=3072, bias=True)\n",
       "        )\n",
       "        (output): BertOutput(\n",
       "          (dense): Linear(in_features=3072, out_features=768, bias=True)\n",
       "          (LayerNorm): LayerNorm((768,), eps=1e-12, elementwise_affine=True)\n",
       "          (dropout): Dropout(p=0.1, inplace=False)\n",
       "        )\n",
       "      )\n",
       "      (2): BertLayer(\n",
       "        (attention): BertAttention(\n",
       "          (self): BertSelfAttention(\n",
       "            (query): Linear(in_features=768, out_features=768, bias=True)\n",
       "            (key): Linear(in_features=768, out_features=768, bias=True)\n",
       "            (value): Linear(in_features=768, out_features=768, bias=True)\n",
       "            (dropout): Dropout(p=0.1, inplace=False)\n",
       "          )\n",
       "          (output): BertSelfOutput(\n",
       "            (dense): Linear(in_features=768, out_features=768, bias=True)\n",
       "            (LayerNorm): LayerNorm((768,), eps=1e-12, elementwise_affine=True)\n",
       "            (dropout): Dropout(p=0.1, inplace=False)\n",
       "          )\n",
       "        )\n",
       "        (intermediate): BertIntermediate(\n",
       "          (dense): Linear(in_features=768, out_features=3072, bias=True)\n",
       "        )\n",
       "        (output): BertOutput(\n",
       "          (dense): Linear(in_features=3072, out_features=768, bias=True)\n",
       "          (LayerNorm): LayerNorm((768,), eps=1e-12, elementwise_affine=True)\n",
       "          (dropout): Dropout(p=0.1, inplace=False)\n",
       "        )\n",
       "      )\n",
       "      (3): BertLayer(\n",
       "        (attention): BertAttention(\n",
       "          (self): BertSelfAttention(\n",
       "            (query): Linear(in_features=768, out_features=768, bias=True)\n",
       "            (key): Linear(in_features=768, out_features=768, bias=True)\n",
       "            (value): Linear(in_features=768, out_features=768, bias=True)\n",
       "            (dropout): Dropout(p=0.1, inplace=False)\n",
       "          )\n",
       "          (output): BertSelfOutput(\n",
       "            (dense): Linear(in_features=768, out_features=768, bias=True)\n",
       "            (LayerNorm): LayerNorm((768,), eps=1e-12, elementwise_affine=True)\n",
       "            (dropout): Dropout(p=0.1, inplace=False)\n",
       "          )\n",
       "        )\n",
       "        (intermediate): BertIntermediate(\n",
       "          (dense): Linear(in_features=768, out_features=3072, bias=True)\n",
       "        )\n",
       "        (output): BertOutput(\n",
       "          (dense): Linear(in_features=3072, out_features=768, bias=True)\n",
       "          (LayerNorm): LayerNorm((768,), eps=1e-12, elementwise_affine=True)\n",
       "          (dropout): Dropout(p=0.1, inplace=False)\n",
       "        )\n",
       "      )\n",
       "      (4): BertLayer(\n",
       "        (attention): BertAttention(\n",
       "          (self): BertSelfAttention(\n",
       "            (query): Linear(in_features=768, out_features=768, bias=True)\n",
       "            (key): Linear(in_features=768, out_features=768, bias=True)\n",
       "            (value): Linear(in_features=768, out_features=768, bias=True)\n",
       "            (dropout): Dropout(p=0.1, inplace=False)\n",
       "          )\n",
       "          (output): BertSelfOutput(\n",
       "            (dense): Linear(in_features=768, out_features=768, bias=True)\n",
       "            (LayerNorm): LayerNorm((768,), eps=1e-12, elementwise_affine=True)\n",
       "            (dropout): Dropout(p=0.1, inplace=False)\n",
       "          )\n",
       "        )\n",
       "        (intermediate): BertIntermediate(\n",
       "          (dense): Linear(in_features=768, out_features=3072, bias=True)\n",
       "        )\n",
       "        (output): BertOutput(\n",
       "          (dense): Linear(in_features=3072, out_features=768, bias=True)\n",
       "          (LayerNorm): LayerNorm((768,), eps=1e-12, elementwise_affine=True)\n",
       "          (dropout): Dropout(p=0.1, inplace=False)\n",
       "        )\n",
       "      )\n",
       "      (5): BertLayer(\n",
       "        (attention): BertAttention(\n",
       "          (self): BertSelfAttention(\n",
       "            (query): Linear(in_features=768, out_features=768, bias=True)\n",
       "            (key): Linear(in_features=768, out_features=768, bias=True)\n",
       "            (value): Linear(in_features=768, out_features=768, bias=True)\n",
       "            (dropout): Dropout(p=0.1, inplace=False)\n",
       "          )\n",
       "          (output): BertSelfOutput(\n",
       "            (dense): Linear(in_features=768, out_features=768, bias=True)\n",
       "            (LayerNorm): LayerNorm((768,), eps=1e-12, elementwise_affine=True)\n",
       "            (dropout): Dropout(p=0.1, inplace=False)\n",
       "          )\n",
       "        )\n",
       "        (intermediate): BertIntermediate(\n",
       "          (dense): Linear(in_features=768, out_features=3072, bias=True)\n",
       "        )\n",
       "        (output): BertOutput(\n",
       "          (dense): Linear(in_features=3072, out_features=768, bias=True)\n",
       "          (LayerNorm): LayerNorm((768,), eps=1e-12, elementwise_affine=True)\n",
       "          (dropout): Dropout(p=0.1, inplace=False)\n",
       "        )\n",
       "      )\n",
       "      (6): BertLayer(\n",
       "        (attention): BertAttention(\n",
       "          (self): BertSelfAttention(\n",
       "            (query): Linear(in_features=768, out_features=768, bias=True)\n",
       "            (key): Linear(in_features=768, out_features=768, bias=True)\n",
       "            (value): Linear(in_features=768, out_features=768, bias=True)\n",
       "            (dropout): Dropout(p=0.1, inplace=False)\n",
       "          )\n",
       "          (output): BertSelfOutput(\n",
       "            (dense): Linear(in_features=768, out_features=768, bias=True)\n",
       "            (LayerNorm): LayerNorm((768,), eps=1e-12, elementwise_affine=True)\n",
       "            (dropout): Dropout(p=0.1, inplace=False)\n",
       "          )\n",
       "        )\n",
       "        (intermediate): BertIntermediate(\n",
       "          (dense): Linear(in_features=768, out_features=3072, bias=True)\n",
       "        )\n",
       "        (output): BertOutput(\n",
       "          (dense): Linear(in_features=3072, out_features=768, bias=True)\n",
       "          (LayerNorm): LayerNorm((768,), eps=1e-12, elementwise_affine=True)\n",
       "          (dropout): Dropout(p=0.1, inplace=False)\n",
       "        )\n",
       "      )\n",
       "      (7): BertLayer(\n",
       "        (attention): BertAttention(\n",
       "          (self): BertSelfAttention(\n",
       "            (query): Linear(in_features=768, out_features=768, bias=True)\n",
       "            (key): Linear(in_features=768, out_features=768, bias=True)\n",
       "            (value): Linear(in_features=768, out_features=768, bias=True)\n",
       "            (dropout): Dropout(p=0.1, inplace=False)\n",
       "          )\n",
       "          (output): BertSelfOutput(\n",
       "            (dense): Linear(in_features=768, out_features=768, bias=True)\n",
       "            (LayerNorm): LayerNorm((768,), eps=1e-12, elementwise_affine=True)\n",
       "            (dropout): Dropout(p=0.1, inplace=False)\n",
       "          )\n",
       "        )\n",
       "        (intermediate): BertIntermediate(\n",
       "          (dense): Linear(in_features=768, out_features=3072, bias=True)\n",
       "        )\n",
       "        (output): BertOutput(\n",
       "          (dense): Linear(in_features=3072, out_features=768, bias=True)\n",
       "          (LayerNorm): LayerNorm((768,), eps=1e-12, elementwise_affine=True)\n",
       "          (dropout): Dropout(p=0.1, inplace=False)\n",
       "        )\n",
       "      )\n",
       "      (8): BertLayer(\n",
       "        (attention): BertAttention(\n",
       "          (self): BertSelfAttention(\n",
       "            (query): Linear(in_features=768, out_features=768, bias=True)\n",
       "            (key): Linear(in_features=768, out_features=768, bias=True)\n",
       "            (value): Linear(in_features=768, out_features=768, bias=True)\n",
       "            (dropout): Dropout(p=0.1, inplace=False)\n",
       "          )\n",
       "          (output): BertSelfOutput(\n",
       "            (dense): Linear(in_features=768, out_features=768, bias=True)\n",
       "            (LayerNorm): LayerNorm((768,), eps=1e-12, elementwise_affine=True)\n",
       "            (dropout): Dropout(p=0.1, inplace=False)\n",
       "          )\n",
       "        )\n",
       "        (intermediate): BertIntermediate(\n",
       "          (dense): Linear(in_features=768, out_features=3072, bias=True)\n",
       "        )\n",
       "        (output): BertOutput(\n",
       "          (dense): Linear(in_features=3072, out_features=768, bias=True)\n",
       "          (LayerNorm): LayerNorm((768,), eps=1e-12, elementwise_affine=True)\n",
       "          (dropout): Dropout(p=0.1, inplace=False)\n",
       "        )\n",
       "      )\n",
       "      (9): BertLayer(\n",
       "        (attention): BertAttention(\n",
       "          (self): BertSelfAttention(\n",
       "            (query): Linear(in_features=768, out_features=768, bias=True)\n",
       "            (key): Linear(in_features=768, out_features=768, bias=True)\n",
       "            (value): Linear(in_features=768, out_features=768, bias=True)\n",
       "            (dropout): Dropout(p=0.1, inplace=False)\n",
       "          )\n",
       "          (output): BertSelfOutput(\n",
       "            (dense): Linear(in_features=768, out_features=768, bias=True)\n",
       "            (LayerNorm): LayerNorm((768,), eps=1e-12, elementwise_affine=True)\n",
       "            (dropout): Dropout(p=0.1, inplace=False)\n",
       "          )\n",
       "        )\n",
       "        (intermediate): BertIntermediate(\n",
       "          (dense): Linear(in_features=768, out_features=3072, bias=True)\n",
       "        )\n",
       "        (output): BertOutput(\n",
       "          (dense): Linear(in_features=3072, out_features=768, bias=True)\n",
       "          (LayerNorm): LayerNorm((768,), eps=1e-12, elementwise_affine=True)\n",
       "          (dropout): Dropout(p=0.1, inplace=False)\n",
       "        )\n",
       "      )\n",
       "      (10): BertLayer(\n",
       "        (attention): BertAttention(\n",
       "          (self): BertSelfAttention(\n",
       "            (query): Linear(in_features=768, out_features=768, bias=True)\n",
       "            (key): Linear(in_features=768, out_features=768, bias=True)\n",
       "            (value): Linear(in_features=768, out_features=768, bias=True)\n",
       "            (dropout): Dropout(p=0.1, inplace=False)\n",
       "          )\n",
       "          (output): BertSelfOutput(\n",
       "            (dense): Linear(in_features=768, out_features=768, bias=True)\n",
       "            (LayerNorm): LayerNorm((768,), eps=1e-12, elementwise_affine=True)\n",
       "            (dropout): Dropout(p=0.1, inplace=False)\n",
       "          )\n",
       "        )\n",
       "        (intermediate): BertIntermediate(\n",
       "          (dense): Linear(in_features=768, out_features=3072, bias=True)\n",
       "        )\n",
       "        (output): BertOutput(\n",
       "          (dense): Linear(in_features=3072, out_features=768, bias=True)\n",
       "          (LayerNorm): LayerNorm((768,), eps=1e-12, elementwise_affine=True)\n",
       "          (dropout): Dropout(p=0.1, inplace=False)\n",
       "        )\n",
       "      )\n",
       "      (11): BertLayer(\n",
       "        (attention): BertAttention(\n",
       "          (self): BertSelfAttention(\n",
       "            (query): Linear(in_features=768, out_features=768, bias=True)\n",
       "            (key): Linear(in_features=768, out_features=768, bias=True)\n",
       "            (value): Linear(in_features=768, out_features=768, bias=True)\n",
       "            (dropout): Dropout(p=0.1, inplace=False)\n",
       "          )\n",
       "          (output): BertSelfOutput(\n",
       "            (dense): Linear(in_features=768, out_features=768, bias=True)\n",
       "            (LayerNorm): LayerNorm((768,), eps=1e-12, elementwise_affine=True)\n",
       "            (dropout): Dropout(p=0.1, inplace=False)\n",
       "          )\n",
       "        )\n",
       "        (intermediate): BertIntermediate(\n",
       "          (dense): Linear(in_features=768, out_features=3072, bias=True)\n",
       "        )\n",
       "        (output): BertOutput(\n",
       "          (dense): Linear(in_features=3072, out_features=768, bias=True)\n",
       "          (LayerNorm): LayerNorm((768,), eps=1e-12, elementwise_affine=True)\n",
       "          (dropout): Dropout(p=0.1, inplace=False)\n",
       "        )\n",
       "      )\n",
       "    )\n",
       "  )\n",
       ")"
      ]
     },
     "execution_count": 30,
     "metadata": {},
     "output_type": "execute_result"
    }
   ],
   "source": [
    "model.bert"
   ]
  },
  {
   "cell_type": "markdown",
   "metadata": {},
   "source": [
    "Let's explore one exmaple from dataset:"
   ]
  },
  {
   "cell_type": "code",
   "execution_count": 31,
   "metadata": {},
   "outputs": [
    {
     "data": {
      "text/html": [
       "<span class=\"tex2jax_ignore\"><div class=\"entities\" style=\"line-height: 2.5; direction: ltr\">\n",
       "<mark class=\"entity\" style=\"background: #ddd; padding: 0.45em 0.6em; margin: 0 0.25em; line-height: 1; border-radius: 0.35em;\">\n",
       "    Nader Jokhadar\n",
       "    <span style=\"font-size: 0.8em; font-weight: bold; line-height: 1; border-radius: 0.35em; vertical-align: middle; margin-left: 0.5rem\">PER</span>\n",
       "</mark>\n",
       " had given \n",
       "<mark class=\"entity\" style=\"background: #ff9561; padding: 0.45em 0.6em; margin: 0 0.25em; line-height: 1; border-radius: 0.35em;\">\n",
       "    Syria\n",
       "    <span style=\"font-size: 0.8em; font-weight: bold; line-height: 1; border-radius: 0.35em; vertical-align: middle; margin-left: 0.5rem\">LOC</span>\n",
       "</mark>\n",
       " the lead with a well-struck header in the seventh minute .</div></span>"
      ],
      "text/plain": [
       "<IPython.core.display.HTML object>"
      ]
     },
     "metadata": {},
     "output_type": "display_data"
    }
   ],
   "source": [
    "ner_render(**conll_test[13])"
   ]
  },
  {
   "cell_type": "markdown",
   "metadata": {},
   "source": [
    "Tokenizer call splits sequence of words to sequnce of word pieces (bpe units) and maps it to token ids."
   ]
  },
  {
   "cell_type": "code",
   "execution_count": 20,
   "metadata": {},
   "outputs": [],
   "source": [
    "encoded = tokenizer(conll_test[10][\"tokens\"], is_split_into_words=True)"
   ]
  },
  {
   "cell_type": "code",
   "execution_count": 33,
   "metadata": {},
   "outputs": [
    {
     "data": {
      "text/plain": [
       "{'input_ids': [101, 22515, 4786, 2315, 22515, 1968, 5389, 2297, 1103, 2981, 1107, 1103, 5385, 1582, 2517, 117, 4703, 1106, 1246, 170, 8790, 5864, 3031, 2176, 14932, 27547, 12610, 2771, 2019, 1103, 8697, 2273, 1134, 10159, 10293, 27400, 1813, 1691, 1106, 1138, 2262, 1133, 1173, 2148, 1106, 7324, 1154, 1103, 5795, 119, 102], 'token_type_ids': [0, 0, 0, 0, 0, 0, 0, 0, 0, 0, 0, 0, 0, 0, 0, 0, 0, 0, 0, 0, 0, 0, 0, 0, 0, 0, 0, 0, 0, 0, 0, 0, 0, 0, 0, 0, 0, 0, 0, 0, 0, 0, 0, 0, 0, 0, 0, 0, 0, 0, 0], 'attention_mask': [1, 1, 1, 1, 1, 1, 1, 1, 1, 1, 1, 1, 1, 1, 1, 1, 1, 1, 1, 1, 1, 1, 1, 1, 1, 1, 1, 1, 1, 1, 1, 1, 1, 1, 1, 1, 1, 1, 1, 1, 1, 1, 1, 1, 1, 1, 1, 1, 1, 1, 1]}"
      ]
     },
     "execution_count": 33,
     "metadata": {},
     "output_type": "execute_result"
    }
   ],
   "source": [
    "encoded"
   ]
  },
  {
   "cell_type": "markdown",
   "metadata": {},
   "source": [
    "Here:\n",
    "\n",
    "`input_ids` - indices of input sequence tokens in the vocabulary\n",
    "\n",
    "`token_type_ids` - segment token indices to indicate first and second portions of the inputs. Indices are selected in [0, 1]: 0 corresponds to a sentence A token, 1 corresponds to a sentence B token\n",
    "\n",
    "`attention_mask` - mask to avoid performing attention on padding token indices. Mask values selected in [0, 1]:"
   ]
  },
  {
   "cell_type": "markdown",
   "metadata": {},
   "source": [
    "As we discussed above in sequence labeling task output sequence length should be equal to input sequence length.\n",
    "\n",
    "Tokenizer can split single world to multiple pieces:"
   ]
  },
  {
   "cell_type": "code",
   "execution_count": 18,
   "metadata": {},
   "outputs": [],
   "source": [
    "import transformers"
   ]
  },
  {
   "cell_type": "code",
   "execution_count": 21,
   "metadata": {},
   "outputs": [
    {
     "name": "stdout",
     "output_type": "stream",
     "text": [
      "Original sentence:\n",
      "---\n",
      "Takuya Takagi scored the winner in the 88th minute , rising to head a Hiroshige Yanagimoto cross towards the Syrian goal which goalkeeper Salem Bitar appeared to have covered but then allowed to slip into the net .\n",
      "\n",
      "Tokenized sentence:\n",
      "---\n",
      "[CLS] Ta ##ku ##ya Ta ##ka ##gi scored the winner in the 88 ##th minute , rising to head a Hi ##ros ##hi ##ge Yan ##agi ##moto cross towards the Syrian goal which goalkeeper Salem Bit ##ar appeared to have covered but then allowed to slip into the net . [SEP]\n"
     ]
    }
   ],
   "source": [
    "print(f\"Original sentence:\\n---\\n{' '.join(conll['test'][10]['tokens'])}\")\n",
    "\n",
    "tokenized = \" \".join([tokenizer.decode(id_) for id_ in encoded[\"input_ids\"]])\n",
    "print(f\"\\nTokenized sentence:\\n---\\n{tokenized}\")\n",
    "\n",
    "# "
   ]
  },
  {
   "cell_type": "markdown",
   "metadata": {},
   "source": [
    "For example named entity `Takuya Takagi` transforms into `Ta ##ku ##ya Ta ##ka ##gi`. We need to preserve invariant: input sequence length = output sequence length. So sequence labels (tags) should be tokenized too.\n",
    "\n",
    "\n",
    "```\n",
    "Takuya Takagi -> Ta    ##ku   ##ya   Ta     ##ka    ##gi\n",
    "   |     |        |     |       |     |      |        |\n",
    "B-PER  I-PER    B-PER  I-PER  I-PER  I-PER  I-PER   I-PER \n",
    "```"
   ]
  },
  {
   "cell_type": "markdown",
   "metadata": {},
   "source": [
    "Let's write function for it."
   ]
  },
  {
   "cell_type": "code",
   "execution_count": 19,
   "metadata": {},
   "outputs": [],
   "source": [
    "map_labels = {\n",
    "    'B-LOC': 'I-LOC',\n",
    "    'I-LOC': 'I-LOC',\n",
    "    'B-ORG': 'I-ORG',\n",
    "    'I-ORG': 'I-ORG',\n",
    "    'B-PER': 'I-PER',\n",
    "    'I-PER': 'I-PER',\n",
    "    'B-MISC': 'I-MISC',\n",
    "    'I-MISC': 'I-MISC',\n",
    "    'B-ORG': 'I-ORG',\n",
    "    'I-ORG': 'I-ORG',\n",
    "    'O': 'O'\n",
    "}"
   ]
  },
  {
   "cell_type": "code",
   "execution_count": 20,
   "metadata": {},
   "outputs": [],
   "source": [
    "def tokenize_and_preserve_labels(sentence, text_labels, tokenizer):\n",
    "\n",
    "    tokenized_sentence = []\n",
    "    labels = ['O']\n",
    "\n",
    "    for word, label in zip(sentence, text_labels):\n",
    "        \n",
    "        # Tokenize the word and count # of subwords the word is broken into\n",
    "        tokenized_word = tokenizer.tokenize(word)\n",
    "        n_subwords = len(tokenized_word)\n",
    "        \n",
    "\n",
    "        # Add the tokenized word to the final tokenized word list\n",
    "        tokenized_sentence.extend(tokenized_word)\n",
    "\n",
    "        # Add the same label to the new list of labels `n_subwords` times\n",
    "        if n_subwords > 1:\n",
    "            labels.extend([label])\n",
    "            #print(labels)\n",
    "            #print([map_labels[label]] * (n_subwords - 1))\n",
    "            labels.extend([map_labels[label]] * (n_subwords - 1))\n",
    "        else:\n",
    "            labels.extend([label] * n_subwords)\n",
    "    labels += ['O']\n",
    "    return tokenized_sentence, labels"
   ]
  },
  {
   "cell_type": "code",
   "execution_count": 23,
   "metadata": {},
   "outputs": [
    {
     "data": {
      "text/plain": [
       "(['His', 'name', 'is', 'Jerry', '##son', '##ker', 'Abraham', '##son'],\n",
       " ['O', 'O', 'O', 'O', 'B-PER', 'I-PER', 'I-PER', 'I-PER', 'I-PER', 'O'])"
      ]
     },
     "execution_count": 23,
     "metadata": {},
     "output_type": "execute_result"
    }
   ],
   "source": [
    "test_sentence = \"His name is Jerrysonker Abrahamson\"\n",
    "tokenize_and_preserve_labels(test_sentence.split(\" \"), test_example[\"ner_tags\"], tokenizer)"
   ]
  },
  {
   "cell_type": "code",
   "execution_count": 21,
   "metadata": {},
   "outputs": [],
   "source": [
    "def tokenize_and_preserve_tags(example: tp.Dict[str, tp.Any],\n",
    "                               tokenizer: transformers.BertTokenizer,\n",
    "                               label2id: tp.Dict[str, int],\n",
    "                               tokenizer_params={}) -> tp.Dict[str, tp.Any]:\n",
    "    \n",
    "    # write your own function to split each pair of word-token to same number of pieces. \n",
    "    encoded = tokenizer(example[\"tokens\"], is_split_into_words=True, **tokenizer_params)\n",
    "    \n",
    "    encoded.update(example)\n",
    "    \n",
    "    _, encoded['text_labels'] = tokenize_and_preserve_labels(example[\"tokens\"], example[\"ner_tags\"], tokenizer)\n",
    "    \n",
    "    encoded['labels'] = [label2id[label] for label in encoded['text_labels']]\n",
    "    #print(\"\\n\", encoded)\n",
    "    \n",
    "    assert len(encoded['labels']) == len(encoded[\"input_ids\"])\n",
    "    return encoded\n",
    "    "
   ]
  },
  {
   "cell_type": "code",
   "execution_count": 24,
   "metadata": {},
   "outputs": [],
   "source": [
    "test_sentence = \"His name is Jerry Abrahamson\"\n",
    "test_example = {\"tokens\": test_sentence.split(\" \"), \"ner_tags\": [\"O\", \"O\", \"O\", \"B-PER\", \"I-PER\"]}\n",
    "test_result = tokenize_and_preserve_tags(test_example, tokenizer, model.config.label2id)\n",
    "\n",
    "\n",
    "assert tokenizer.decode(test_result['input_ids']) == '[CLS] His name is Jerry Abrahamson [SEP]'\n",
    "\n",
    "                                     #CLS     His  name is    Jerry    Abraham   ##son      SEP\n",
    "assert test_result['text_labels'] == ['O'] + [\"O\", \"O\", \"O\", \"B-PER\", \"I-PER\",  \"I-PER\"] + [\"O\"]\n"
   ]
  },
  {
   "cell_type": "code",
   "execution_count": 25,
   "metadata": {},
   "outputs": [
    {
     "data": {
      "application/vnd.jupyter.widget-view+json": {
       "model_id": "364bc433d1ac40ba9a472dc8cad3b136",
       "version_major": 2,
       "version_minor": 0
      },
      "text/plain": [
       "  0%|          | 0/14041 [00:00<?, ?ex/s]"
      ]
     },
     "metadata": {},
     "output_type": "display_data"
    },
    {
     "data": {
      "application/vnd.jupyter.widget-view+json": {
       "model_id": "2324c14216cd40038a71377c2cbb1497",
       "version_major": 2,
       "version_minor": 0
      },
      "text/plain": [
       "  0%|          | 0/3250 [00:00<?, ?ex/s]"
      ]
     },
     "metadata": {},
     "output_type": "display_data"
    },
    {
     "data": {
      "application/vnd.jupyter.widget-view+json": {
       "model_id": "e4ef8968a3e649dfb6ad34257a0b1282",
       "version_major": 2,
       "version_minor": 0
      },
      "text/plain": [
       "  0%|          | 0/3453 [00:00<?, ?ex/s]"
      ]
     },
     "metadata": {},
     "output_type": "display_data"
    }
   ],
   "source": [
    "conll = converted_conll.map(lambda x: tokenize_and_preserve_tags(x, tokenizer, model.config.label2id))"
   ]
  },
  {
   "cell_type": "code",
   "execution_count": 26,
   "metadata": {},
   "outputs": [
    {
     "data": {
      "application/vnd.jupyter.widget-view+json": {
       "model_id": "2013b69fa3764449af074a9bf0fbd020",
       "version_major": 2,
       "version_minor": 0
      },
      "text/plain": [
       "  0%|          | 0/3394 [00:00<?, ?ex/s]"
      ]
     },
     "metadata": {},
     "output_type": "display_data"
    },
    {
     "data": {
      "application/vnd.jupyter.widget-view+json": {
       "model_id": "215e135fbe764c0bae9830003c4db744",
       "version_major": 2,
       "version_minor": 0
      },
      "text/plain": [
       "  0%|          | 0/1009 [00:00<?, ?ex/s]"
      ]
     },
     "metadata": {},
     "output_type": "display_data"
    },
    {
     "data": {
      "application/vnd.jupyter.widget-view+json": {
       "model_id": "29a1bdb49df9414e8eb4938d6d21585f",
       "version_major": 2,
       "version_minor": 0
      },
      "text/plain": [
       "  0%|          | 0/1287 [00:00<?, ?ex/s]"
      ]
     },
     "metadata": {},
     "output_type": "display_data"
    }
   ],
   "source": [
    "wnut = converted_wnut\n",
    "wnut = wnut.map(lambda x: tokenize_and_preserve_tags(x, tokenizer, model.config.label2id))"
   ]
  },
  {
   "cell_type": "markdown",
   "metadata": {},
   "source": [
    "Next step is convert all numpy.arrays to torch.tensors:"
   ]
  },
  {
   "cell_type": "code",
   "execution_count": 27,
   "metadata": {},
   "outputs": [],
   "source": [
    "conll.set_format(type='torch', columns=['input_ids', 'token_type_ids', 'attention_mask', 'labels'], output_all_columns=True)\n",
    "wnut.set_format(type='torch', columns=['input_ids', 'token_type_ids', 'attention_mask', 'labels'], output_all_columns=True)"
   ]
  },
  {
   "cell_type": "code",
   "execution_count": 28,
   "metadata": {},
   "outputs": [],
   "source": [
    "import torch"
   ]
  },
  {
   "cell_type": "code",
   "execution_count": 46,
   "metadata": {},
   "outputs": [
    {
     "data": {
      "text/plain": [
       "{'input_ids': tensor([  101, 16005,  1104,  1103,  1291,  1635,   102]),\n",
       " 'token_type_ids': tensor([0, 0, 0, 0, 0, 0, 0]),\n",
       " 'attention_mask': tensor([1, 1, 1, 1, 1, 1, 1]),\n",
       " 'labels': tensor([0, 0, 0, 0, 1, 2, 0]),\n",
       " 'id': '50',\n",
       " 'tokens': ['Results', 'of', 'the', 'World', 'Cup'],\n",
       " 'pos_tags': [24, 15, 12, 22, 22],\n",
       " 'chunk_tags': [11, 13, 11, 12, 12],\n",
       " 'ner_tags': ['O', 'O', 'O', 'B-MISC', 'I-MISC'],\n",
       " 'text_labels': ['O', 'O', 'O', 'O', 'B-MISC', 'I-MISC', 'O']}"
      ]
     },
     "execution_count": 46,
     "metadata": {},
     "output_type": "execute_result"
    }
   ],
   "source": [
    "conll[\"test\"][50]"
   ]
  },
  {
   "cell_type": "markdown",
   "metadata": {},
   "source": [
    "To use `transformers.Dataset` with `torch.DataLoader` we need a custom function to pad sequences and make batches."
   ]
  },
  {
   "cell_type": "code",
   "execution_count": 28,
   "metadata": {},
   "outputs": [],
   "source": [
    "from collections import defaultdict\n",
    "class PadSequence:\n",
    "    def __init__(self, padded_columns, device='cuda:0'):\n",
    "        self.padded_columns = set(padded_columns)\n",
    "        self.device = device\n",
    "\n",
    "    def __call__(self, batch):\n",
    "        padded_batch = defaultdict(list)\n",
    "        for example in batch:\n",
    "            for key, tensor in example.items():\n",
    "                padded_batch[key].append(tensor)\n",
    "                \n",
    "        for key, val in padded_batch.items():\n",
    "            if key in self.padded_columns:\n",
    "                padded_batch[key] = torch.nn.utils.rnn.pad_sequence(val, batch_first=True).to(self.device)\n",
    "        return padded_batch"
   ]
  },
  {
   "cell_type": "code",
   "execution_count": 31,
   "metadata": {},
   "outputs": [],
   "source": [
    "conll_test_dataloader = torch.utils.data.DataLoader(conll[\"test\"], batch_size=4, collate_fn=PadSequence(['input_ids', 'token_type_ids', 'attention_mask', 'labels']))"
   ]
  },
  {
   "cell_type": "code",
   "execution_count": 32,
   "metadata": {},
   "outputs": [
    {
     "name": "stdout",
     "output_type": "stream",
     "text": [
      "torch.Size([4, 33])\n",
      "torch.Size([4, 33])\n",
      "torch.Size([4, 33])\n",
      "torch.Size([4, 33])\n",
      "4\n",
      "4\n",
      "4\n"
     ]
    }
   ],
   "source": [
    "from itertools import islice\n",
    "\n",
    "for batch in islice(conll_test_dataloader, 0, 1):\n",
    "        print(batch['input_ids'].shape)\n",
    "        print(batch['token_type_ids'].shape)\n",
    "        print(batch['attention_mask'].shape)\n",
    "        print(batch['labels'].shape)\n",
    "        print(len(batch['text_labels']))\n",
    "        print(len(batch['tokens']))\n",
    "        print(len(batch['ner_tags']))\n",
    "       "
   ]
  },
  {
   "cell_type": "markdown",
   "metadata": {},
   "source": [
    "Let's test it:"
   ]
  },
  {
   "cell_type": "code",
   "execution_count": 33,
   "metadata": {},
   "outputs": [],
   "source": [
    "test_batch = next(iter(conll_test_dataloader))\n",
    "model_output = model(input_ids=test_batch[\"input_ids\"],\n",
    "                     token_type_ids=test_batch[\"token_type_ids\"],\n",
    "                     attention_mask=test_batch[\"attention_mask\"],\n",
    "                     labels=test_batch[\"labels\"], return_dict=True)"
   ]
  },
  {
   "cell_type": "code",
   "execution_count": 144,
   "metadata": {},
   "outputs": [
    {
     "data": {
      "text/plain": [
       "odict_keys(['loss', 'logits'])"
      ]
     },
     "execution_count": 144,
     "metadata": {},
     "output_type": "execute_result"
    }
   ],
   "source": [
    "model_output.keys()"
   ]
  },
  {
   "cell_type": "markdown",
   "metadata": {},
   "source": [
    "Model output contains only `loss` and `logits`. We need to write simple wrapper to convert raw logits to token sequence."
   ]
  },
  {
   "cell_type": "code",
   "execution_count": 34,
   "metadata": {},
   "outputs": [],
   "source": [
    "class NamedEntityPredictor:\n",
    "    def __init__(self,\n",
    "                 model: transformers.BertForTokenClassification,\n",
    "                 tokenizer: transformers.BertTokenizer,\n",
    "                 id2label: tp.Optional[tp.Dict[str, int]] = None):\n",
    "        self.model = model\n",
    "        self.tokenizer = tokenizer\n",
    "        self.id2label = model.config.id2label if id2label is None else id2label\n",
    "    \n",
    "    def predict(self, batch: tp.Dict[str, tp.Any]):\n",
    "        self.model.eval()\n",
    "        with torch.no_grad():\n",
    "            model_output = self.model(input_ids=batch[\"input_ids\"],\n",
    "                                      token_type_ids=batch[\"token_type_ids\"],\n",
    "                                      attention_mask=batch[\"attention_mask\"],\n",
    "                                      labels=batch[\"labels\"],\n",
    "                                      return_dict=True)\n",
    "        indices = torch.argmax(model_output.logits, axis=2)\n",
    "        indices = indices.detach().cpu().numpy()\n",
    "        attention_mask = batch[\"attention_mask\"].cpu().numpy()\n",
    "        batch_size = len(batch[\"input_ids\"])\n",
    "        predicted_labels = []\n",
    "        for i in range(batch_size):\n",
    "            predicted_labels.append([self.id2label[id_] for id_ in indices[i][attention_mask[i] == 1]])\n",
    "            \n",
    "        return {\n",
    "            \"predicted_labels\": predicted_labels,\n",
    "            \"loss\": model_output.loss,\n",
    "            \"logits\": model_output.logits\n",
    "        }\n",
    "            \n",
    "        "
   ]
  },
  {
   "cell_type": "code",
   "execution_count": 146,
   "metadata": {},
   "outputs": [
    {
     "name": "stdout",
     "output_type": "stream",
     "text": [
      "torch.Size([4, 33])\n"
     ]
    },
    {
     "data": {
      "text/plain": [
       "torch.Size([4, 33, 9])"
      ]
     },
     "execution_count": 146,
     "metadata": {},
     "output_type": "execute_result"
    }
   ],
   "source": [
    "print(test_batch['input_ids'].shape)\n",
    "test_prediction['logits'].shape"
   ]
  },
  {
   "cell_type": "code",
   "execution_count": 147,
   "metadata": {},
   "outputs": [],
   "source": [
    "ner = NamedEntityPredictor(model, tokenizer)\n",
    "test_prediction = ner.predict(test_batch)\n",
    "assert test_prediction['predicted_labels'][2] == list(test_batch[\"text_labels\"][2])"
   ]
  },
  {
   "cell_type": "code",
   "execution_count": 133,
   "metadata": {},
   "outputs": [],
   "source": [
    "import tqdm"
   ]
  },
  {
   "cell_type": "markdown",
   "metadata": {},
   "source": [
    "Let's measure quality of NER for in-domain and out-domain testset.\n",
    "\n",
    "To compare models we can use F1 measure. There is a great package `seqeval` to make such quality measurements."
   ]
  },
  {
   "cell_type": "code",
   "execution_count": 134,
   "metadata": {},
   "outputs": [],
   "source": [
    "#!pip3 install seqeval"
   ]
  },
  {
   "cell_type": "code",
   "execution_count": 148,
   "metadata": {},
   "outputs": [],
   "source": [
    "conll_test_dataloader = torch.utils.data.DataLoader(conll[\"test\"], batch_size=16, collate_fn=PadSequence(['input_ids', 'token_type_ids', 'attention_mask', 'labels']))\n",
    "wnut_test_dataloader = torch.utils.data.DataLoader(wnut[\"test\"], batch_size=16, collate_fn=PadSequence(['input_ids', 'token_type_ids', 'attention_mask', 'labels']))"
   ]
  },
  {
   "cell_type": "code",
   "execution_count": 149,
   "metadata": {},
   "outputs": [
    {
     "name": "stderr",
     "output_type": "stream",
     "text": [
      "/home/iris/paulshab/NLP_env/nlp_environ/lib/python3.7/site-packages/ipykernel_launcher.py:4: TqdmDeprecationWarning: This function will be removed in tqdm==5.0.0\n",
      "Please use `tqdm.notebook.tqdm` instead of `tqdm.tqdm_notebook`\n",
      "  after removing the cwd from sys.path.\n"
     ]
    },
    {
     "data": {
      "application/vnd.jupyter.widget-view+json": {
       "model_id": "8bb9ad04d63e4a08846d14d8c859fd89",
       "version_major": 2,
       "version_minor": 0
      },
      "text/plain": [
       "  0%|          | 0/216 [00:00<?, ?it/s]"
      ]
     },
     "metadata": {},
     "output_type": "display_data"
    },
    {
     "name": "stderr",
     "output_type": "stream",
     "text": [
      "/home/iris/paulshab/NLP_env/nlp_environ/lib/python3.7/site-packages/ipykernel_launcher.py:7: TqdmDeprecationWarning: This function will be removed in tqdm==5.0.0\n",
      "Please use `tqdm.notebook.tqdm` instead of `tqdm.tqdm_notebook`\n",
      "  import sys\n"
     ]
    },
    {
     "data": {
      "application/vnd.jupyter.widget-view+json": {
       "model_id": "b819881085fd4fb1b937e0017167f09d",
       "version_major": 2,
       "version_minor": 0
      },
      "text/plain": [
       "  0%|          | 0/81 [00:00<?, ?it/s]"
      ]
     },
     "metadata": {},
     "output_type": "display_data"
    }
   ],
   "source": [
    "ner = NamedEntityPredictor(model, tokenizer)\n",
    "predicted_labels = {\"wnut_test\": [], \"conll_test\": []}\n",
    "\n",
    "for batch in tqdm.tqdm_notebook(conll_test_dataloader):\n",
    "    predicted_labels[\"conll_test\"].extend(ner.predict(batch)[\"predicted_labels\"])\n",
    "    \n",
    "for batch in tqdm.tqdm_notebook(wnut_test_dataloader):\n",
    "    predicted_labels[\"wnut_test\"].extend(ner.predict(batch)[\"predicted_labels\"])"
   ]
  },
  {
   "cell_type": "code",
   "execution_count": 248,
   "metadata": {},
   "outputs": [],
   "source": [
    "#predicted_labels[\"wnut_test\"][2]"
   ]
  },
  {
   "cell_type": "code",
   "execution_count": 149,
   "metadata": {},
   "outputs": [],
   "source": []
  },
  {
   "cell_type": "code",
   "execution_count": 150,
   "metadata": {},
   "outputs": [],
   "source": [
    "import seqeval\n",
    "from seqeval.metrics import classification_report\n",
    "\n",
    "conll_report = classification_report(y_true=[list(example[\"text_labels\"]) for example in conll[\"test\"]],\n",
    "                                                     y_pred=predicted_labels[\"conll_test\"])\n",
    "\n",
    "conll_acc = accuracy_score(y_true=[list(example[\"text_labels\"]) for example in conll[\"test\"]],\n",
    "                                                     y_pred=predicted_labels[\"conll_test\"])"
   ]
  },
  {
   "cell_type": "code",
   "execution_count": 154,
   "metadata": {},
   "outputs": [],
   "source": [
    "wnut_report = classification_report(y_true=[list(example[\"text_labels\"]) for example in wnut[\"test\"]],\n",
    "                                                    y_pred=predicted_labels[\"wnut_test\"])\n",
    "\n",
    "wnut_acc = accuracy_score(y_true=[list(example[\"text_labels\"]) for example in wnut[\"test\"]],\n",
    "                                                     y_pred=predicted_labels[\"wnut_test\"])"
   ]
  },
  {
   "cell_type": "code",
   "execution_count": 156,
   "metadata": {},
   "outputs": [
    {
     "name": "stdout",
     "output_type": "stream",
     "text": [
      "CONLL:\n",
      "               precision    recall  f1-score   support\n",
      "\n",
      "         LOC       0.75      0.84      0.79      1668\n",
      "        MISC       0.58      0.70      0.63       702\n",
      "         ORG       0.71      0.82      0.76      1661\n",
      "         PER       0.36      0.58      0.45      1617\n",
      "\n",
      "   micro avg       0.58      0.74      0.65      5648\n",
      "   macro avg       0.60      0.74      0.66      5648\n",
      "weighted avg       0.61      0.74      0.66      5648\n",
      "\n",
      "WNUT:\n",
      "               precision    recall  f1-score   support\n",
      "\n",
      "         LOC       0.45      0.51      0.48       150\n",
      "        MISC       0.17      0.22      0.19       269\n",
      "         ORG       0.16      0.30      0.21       231\n",
      "         PER       0.30      0.30      0.30       429\n",
      "\n",
      "   micro avg       0.24      0.31      0.27      1079\n",
      "   macro avg       0.27      0.33      0.29      1079\n",
      "weighted avg       0.26      0.31      0.28      1079\n",
      "\n",
      "CONLL_acc:\n",
      " 0.95288984893487\n",
      "WNUT acc:\n",
      " 0.9279747014678813\n"
     ]
    }
   ],
   "source": [
    "print(f\"CONLL:\\n {conll_report}\")\n",
    "print(f\"WNUT:\\n {wnut_report}\")\n",
    "\n",
    "print(f\"CONLL_acc:\\n {conll_acc}\")\n",
    "print(f\"WNUT acc:\\n {wnut_acc}\")"
   ]
  },
  {
   "cell_type": "markdown",
   "metadata": {},
   "source": [
    "As we can see WNUT model perfomance is poor. Let's test hypothesis that for CONLL-like inputs NER quality will be higher.\n",
    "\n",
    "To make this we will train a simple log-regression to classify sentences between two datasets based on their sentence embeddings.\n",
    "\n",
    "The sentence embeddings can be obtained from [CLS] token embedding.\n",
    "\n",
    "For classification we will train vanilla sklearn log-regression. Just like on picture below, but we will use ordinary BERT for sentence embeddings."
   ]
  },
  {
   "attachments": {
    "image.png": {
     "image/png": "[encoded data removed]"
    }
   },
   "cell_type": "markdown",
   "metadata": {},
   "source": [
    "![image.png](attachment:image.png)"
   ]
  },
  {
   "cell_type": "markdown",
   "metadata": {},
   "source": [
    "Picture from great [Jay Alammar's blog post](http://jalammar.github.io/a-visual-guide-to-using-bert-for-the-first-time/)"
   ]
  },
  {
   "cell_type": "code",
   "execution_count": null,
   "metadata": {},
   "outputs": [],
   "source": [
    "#!pip3 install nltk"
   ]
  },
  {
   "cell_type": "code",
   "execution_count": 32,
   "metadata": {},
   "outputs": [],
   "source": [
    "def get_sentence_embeddings(model, batch):\n",
    "    model.eval()\n",
    "    with torch.no_grad():\n",
    "        return model.bert(input_ids=batch[\"input_ids\"],\n",
    "                          token_type_ids=batch[\"token_type_ids\"],\n",
    "                          attention_mask=batch[\"attention_mask\"],\n",
    "                          return_dict=True)[\"last_hidden_state\"].cpu().numpy()[:,0]"
   ]
  },
  {
   "cell_type": "code",
   "execution_count": 154,
   "metadata": {
    "scrolled": true
   },
   "outputs": [
    {
     "name": "stderr",
     "output_type": "stream",
     "text": [
      "/home/iris/paulshab/NLP_env/nlp_environ/lib/python3.7/site-packages/ipykernel_launcher.py:7: TqdmDeprecationWarning: This function will be removed in tqdm==5.0.0\n",
      "Please use `tqdm.notebook.tqdm` instead of `tqdm.tqdm_notebook`\n",
      "  import sys\n"
     ]
    },
    {
     "data": {
      "application/vnd.jupyter.widget-view+json": {
       "model_id": "6cdd2a07f3244a5bb661b75ba73ae78e",
       "version_major": 2,
       "version_minor": 0
      },
      "text/plain": [
       "  0%|          | 0/439 [00:00<?, ?it/s]"
      ]
     },
     "metadata": {},
     "output_type": "display_data"
    },
    {
     "name": "stderr",
     "output_type": "stream",
     "text": [
      "/home/iris/paulshab/NLP_env/nlp_environ/lib/python3.7/site-packages/ipykernel_launcher.py:11: TqdmDeprecationWarning: This function will be removed in tqdm==5.0.0\n",
      "Please use `tqdm.notebook.tqdm` instead of `tqdm.tqdm_notebook`\n",
      "  # This is added back by InteractiveShellApp.init_path()\n"
     ]
    },
    {
     "data": {
      "application/vnd.jupyter.widget-view+json": {
       "model_id": "f7535d585d3c4e5abe2a8b3b2c11ad24",
       "version_major": 2,
       "version_minor": 0
      },
      "text/plain": [
       "  0%|          | 0/107 [00:00<?, ?it/s]"
      ]
     },
     "metadata": {},
     "output_type": "display_data"
    }
   ],
   "source": [
    "X = []\n",
    "Y = []\n",
    "\n",
    "conll_train_dataloader = torch.utils.data.DataLoader(conll[\"train\"], batch_size=32, collate_fn=PadSequence(['input_ids', 'token_type_ids', 'attention_mask', 'labels']))\n",
    "wnut_train_dataloader = torch.utils.data.DataLoader(wnut[\"train\"], batch_size=32, collate_fn=PadSequence(['input_ids', 'token_type_ids', 'attention_mask', 'labels']))\n",
    "\n",
    "for batch in tqdm.tqdm_notebook(conll_train_dataloader):\n",
    "    X.append(get_sentence_embeddings(model, batch))\n",
    "    Y.extend([0] * len(batch[\"input_ids\"]))\n",
    "    \n",
    "for batch in tqdm.tqdm_notebook(wnut_train_dataloader):\n",
    "    X.append(get_sentence_embeddings(model, batch))\n",
    "    Y.extend([1] * len(batch[\"input_ids\"]))"
   ]
  },
  {
   "cell_type": "code",
   "execution_count": 169,
   "metadata": {},
   "outputs": [
    {
     "data": {
      "text/plain": [
       "17435"
      ]
     },
     "execution_count": 169,
     "metadata": {},
     "output_type": "execute_result"
    }
   ],
   "source": [
    "len(conll_train) + len(wnut_train)"
   ]
  },
  {
   "cell_type": "code",
   "execution_count": 65,
   "metadata": {},
   "outputs": [],
   "source": [
    "import numpy as np"
   ]
  },
  {
   "cell_type": "code",
   "execution_count": 166,
   "metadata": {},
   "outputs": [],
   "source": [
    "X = np.concatenate(X)\n",
    "Y = np.array(Y)"
   ]
  },
  {
   "cell_type": "code",
   "execution_count": 167,
   "metadata": {},
   "outputs": [
    {
     "data": {
      "text/plain": [
       "(17435, 768)"
      ]
     },
     "execution_count": 167,
     "metadata": {},
     "output_type": "execute_result"
    }
   ],
   "source": [
    "X.shape"
   ]
  },
  {
   "cell_type": "code",
   "execution_count": 174,
   "metadata": {},
   "outputs": [],
   "source": [
    "import sklearn\n",
    "from sklearn import linear_model"
   ]
  },
  {
   "cell_type": "code",
   "execution_count": 175,
   "metadata": {},
   "outputs": [
    {
     "data": {
      "text/plain": [
       "LogisticRegression(max_iter=1000)"
      ]
     },
     "execution_count": 175,
     "metadata": {},
     "output_type": "execute_result"
    }
   ],
   "source": [
    "dataset_classifier = sklearn.linear_model.LogisticRegression(max_iter=1000)\n",
    "dataset_classifier.fit(X, Y)"
   ]
  },
  {
   "cell_type": "code",
   "execution_count": 179,
   "metadata": {},
   "outputs": [
    {
     "name": "stderr",
     "output_type": "stream",
     "text": [
      "/home/iris/paulshab/NLP_env/nlp_environ/lib/python3.7/site-packages/ipykernel_launcher.py:4: TqdmDeprecationWarning: This function will be removed in tqdm==5.0.0\n",
      "Please use `tqdm.notebook.tqdm` instead of `tqdm.tqdm_notebook`\n",
      "  after removing the cwd from sys.path.\n"
     ]
    },
    {
     "data": {
      "application/vnd.jupyter.widget-view+json": {
       "model_id": "aac32972b09f4f8cb9b26a4c49fc4a2d",
       "version_major": 2,
       "version_minor": 0
      },
      "text/plain": [
       "  0%|          | 0/41 [00:00<?, ?it/s]"
      ]
     },
     "metadata": {},
     "output_type": "display_data"
    }
   ],
   "source": [
    "wnut_test_scores = []\n",
    "\n",
    "wnut_test_dataloader = torch.utils.data.DataLoader(wnut[\"test\"], batch_size=32, collate_fn=PadSequence(['input_ids', 'token_type_ids', 'attention_mask', 'labels']))\n",
    "for batch in tqdm.tqdm_notebook(wnut_test_dataloader):\n",
    "    x = get_sentence_embeddings(model, batch)\n",
    "    wnut_test_scores.append(dataset_classifier.predict_proba(x)[:,1])\n",
    "    "
   ]
  },
  {
   "cell_type": "code",
   "execution_count": 180,
   "metadata": {},
   "outputs": [],
   "source": [
    "wnut_test_scores = np.concatenate(wnut_test_scores)"
   ]
  },
  {
   "cell_type": "code",
   "execution_count": 181,
   "metadata": {},
   "outputs": [
    {
     "name": "stdout",
     "output_type": "stream",
     "text": [
      "Populating the interactive namespace from numpy and matplotlib\n"
     ]
    }
   ],
   "source": [
    "import matplotlib.pyplot as plt\n",
    "%pylab inline"
   ]
  },
  {
   "cell_type": "code",
   "execution_count": 184,
   "metadata": {},
   "outputs": [
    {
     "data": {
      "text/plain": [
       "(1287,)"
      ]
     },
     "execution_count": 184,
     "metadata": {},
     "output_type": "execute_result"
    }
   ],
   "source": [
    "wnut_test_scores.shape"
   ]
  },
  {
   "cell_type": "code",
   "execution_count": 182,
   "metadata": {},
   "outputs": [
    {
     "data": {
      "image/png": "[encoded data removed]",
      "text/plain": [
       "<Figure size 432x288 with 1 Axes>"
      ]
     },
     "metadata": {
      "needs_background": "light"
     },
     "output_type": "display_data"
    }
   ],
   "source": [
    "plt.hist(wnut_test_scores)\n",
    "plt.xlabel(\"WNUT score.\")\n",
    "plt.show()"
   ]
  },
  {
   "cell_type": "code",
   "execution_count": 185,
   "metadata": {},
   "outputs": [],
   "source": [
    "score_indices = np.argsort(wnut_test_scores)"
   ]
  },
  {
   "cell_type": "code",
   "execution_count": 186,
   "metadata": {},
   "outputs": [
    {
     "name": "stderr",
     "output_type": "stream",
     "text": [
      "/home/iris/paulshab/NLP_env/nlp_environ/lib/python3.7/site-packages/ipykernel_launcher.py:1: VisibleDeprecationWarning: Creating an ndarray from ragged nested sequences (which is a list-or-tuple of lists-or-tuples-or ndarrays with different lengths or shapes) is deprecated. If you meant to do this, you must specify 'dtype=object' when creating the ndarray.\n",
      "  \"\"\"Entry point for launching an IPython kernel.\n"
     ]
    }
   ],
   "source": [
    "wnut_predicted_labels = np.array(predicted_labels[\"wnut_test\"])[np.argsort(wnut_test_scores)]"
   ]
  },
  {
   "cell_type": "code",
   "execution_count": 187,
   "metadata": {},
   "outputs": [
    {
     "name": "stderr",
     "output_type": "stream",
     "text": [
      "/home/iris/paulshab/NLP_env/nlp_environ/lib/python3.7/site-packages/ipykernel_launcher.py:1: VisibleDeprecationWarning: Creating an ndarray from ragged nested sequences (which is a list-or-tuple of lists-or-tuples-or ndarrays with different lengths or shapes) is deprecated. If you meant to do this, you must specify 'dtype=object' when creating the ndarray.\n",
      "  \"\"\"Entry point for launching an IPython kernel.\n"
     ]
    }
   ],
   "source": [
    "wnut_true_labels = np.array([list(example[\"text_labels\"]) for example in wnut[\"test\"]])[np.argsort(wnut_test_scores)]"
   ]
  },
  {
   "cell_type": "markdown",
   "metadata": {},
   "source": [
    "After sorting true and predicted labels based on WNUT score let split them into 5 chunks and measure F1. "
   ]
  },
  {
   "cell_type": "code",
   "execution_count": 188,
   "metadata": {},
   "outputs": [],
   "source": [
    "predicted_splits = np.array_split(wnut_predicted_labels, 5, )\n",
    "true_splits = np.array_split(wnut_true_labels, 5)\n",
    "score_splits = np.array_split(wnut_test_scores[np.argsort(wnut_test_scores)], 5)"
   ]
  },
  {
   "cell_type": "code",
   "execution_count": 189,
   "metadata": {},
   "outputs": [
    {
     "name": "stdout",
     "output_type": "stream",
     "text": [
      "score\tf1\n",
      "0.055\t0.453\n",
      "0.688\t0.319\n",
      "0.985\t0.308\n",
      "0.999\t0.177\n",
      "1.000\t0.152\n"
     ]
    }
   ],
   "source": [
    "print(\"score\\tf1\")\n",
    "for scores, true_split, predicted_split in zip(score_splits, true_splits, predicted_splits):\n",
    "    mean_score = np.mean(scores)\n",
    "    f1 = seqeval.metrics.f1_score(true_split, predicted_split)\n",
    "    print(f\"{mean_score:.3f}\\t{f1:.3f}\")"
   ]
  },
  {
   "cell_type": "markdown",
   "metadata": {},
   "source": [
    "So:\n",
    "\n",
    "**The bigger domain shift the lower f1 measure**"
   ]
  },
  {
   "cell_type": "markdown",
   "metadata": {},
   "source": [
    "### Part 3: domain adaptation"
   ]
  },
  {
   "cell_type": "markdown",
   "metadata": {},
   "source": [
    "*HINT:* In this task you will have to run a multiple experiments and compare metric curves between them. While you *could* do everything in pure matplotlib, your notebook will quickly spiral into a hot mess of unordered plots and irreproducible results.\n",
    "\n",
    "In order to manage all your plots and results, we recommend using specialized frameworks. You could use `tensorboardX` or `visdom`(even [in colab](https://stackoverflow.com/questions/47818822/can-i-use-tensorboard-with-google-colab)), but they only work on your local machine and do not let you share your results with colleagues.\n",
    "\n",
    "If you want to show off your awesome learning curves for everyone to envy, you could also use cloud-based services such as [weights and biases](https://www.wandb.com/), [comet.ml](https://www.comet.ml/site/) or [neptune.ai](https://neptune.ai/) (recommended). We encourage you to try them for this homework, but you're still free to use any library you want.\n",
    "\n",
    "If you're interested, here's how to set up your project in Neptune:\n",
    "1. Sign up at [neptune.ai](https://neptune.ai/) and create a public project, e.g. `ysda-hw5`\n",
    "2. Install neptune: `pip install neptune-client`\n",
    "3. Initialize your project:\n",
    "```python\n",
    "import neptune\n",
    "neptune.init(f'{USERNAME}/ysda-hw5',\n",
    "             api_token=API_TOKEN)\n",
    "```\n",
    "3. Set the experiment parameters (any and all values that you want to keep track of)\n",
    "```python\n",
    "\n",
    "PARAMS = {'decay_factor': 0.7,\n",
    "          'n_iterations': 117,\n",
    "          'lr': 0.33,\n",
    "          'training-data': 'wnut',\n",
    "          'tokenizer': 'default'\n",
    "          'additional_info': 'Removed some suspicious training samples'\n",
    "         }\n",
    "\n",
    "neptune.create_experiment(name='my_first_experiment',\n",
    "                          params=PARAMS)\n",
    "```\n",
    "\n",
    "4. Dump your metrics (in training loop):\n",
    "\n",
    "```python\n",
    "# log some metrics\n",
    "for i in range(1, PARAMS['n_iterations']):\n",
    "    neptune.log_metric('iteration', i)\n",
    "    neptune.log_metric('loss', PARAMS['decay_factor'] / i ** 0.5)\n",
    "    neptune.log_text('text_info', 'some value {}'.format(0.95 * i ** 2))\n",
    "\n",
    "# add tag to the experiment\n",
    "neptune.append_tag('quick_start')\n",
    "\n",
    "# log some images\n",
    "for j in range(5):\n",
    "    array = np.random.rand(10, 10, 3)*255\n",
    "    array = np.repeat(array, 30, 0)\n",
    "    array = np.repeat(array, 30, 1)\n",
    "    neptune.log_image('mosaics', array)\n",
    "```"
   ]
  },
  {
   "cell_type": "markdown",
   "metadata": {},
   "source": [
    "#### 3.0 Intro"
   ]
  },
  {
   "cell_type": "markdown",
   "metadata": {},
   "source": [
    "**Your task:**\n",
    "\n",
    "Fine-tune your model on in-domain data, investigate how it affects model quality (both in-domain and out-of-domain). Find out the optimal training strategy.\n",
    "\n",
    "\n",
    "**Evaluation:**\n",
    "\n",
    "The main performance metric for NER is F1-score. You can use the canonic implementation from `seqeval.metrics.f1_score`. For simplicity, please measure F1 score with the same tokenization as used above, i.e. without removing BPE-segments or special tokens ([CLS] and [SEP]).\n",
    "\n",
    "You will need to track validation metrics on both in-domain (WNUT) and out-of-domain (CONLL) test sets. Here's how  you could do that:\n",
    "\n",
    "```python\n",
    "ner = NamedEntityPredictor(model, tokenizer)\n",
    "predicted_labels = {\"wnut_test\": [], \"conll_test\": []}\n",
    "\n",
    "for batch in tqdm.tqdm_notebook(conll_test_dataloader):\n",
    "    predicted_labels[\"conll_test\"].extend(ner.predict(batch)[\"predicted_labels\"])\n",
    "    \n",
    "for batch in tqdm.tqdm_notebook(wnut_test_dataloader):\n",
    "    predicted_labels[\"wnut_test\"].extend(ner.predict(batch)[\"predicted_labels\"])\n",
    "    \n",
    "    \n",
    "conll_f1 = seqeval.metrics.f1_score(y_true=[list(example[\"text_labels\"])\n",
    "                                                             for example in conll[\"test\"]],\n",
    "                                                     y_pred=predicted_labels[\"conll_test\"])\n",
    "\n",
    "wnut_f1 = seqeval.metrics.f1_score(y_true=[list(example[\"text_labels\"])\n",
    "                                                             for example in wnut[\"test\"]],\n",
    "                                                     y_pred=predicted_labels[\"wnut_test\"])\n",
    "\n",
    "```\n",
    "\n",
    "**Models:**\n",
    "\n",
    "Feel free to use any pre-trained transformer of your choosing. However, we recommend that you start with `dslim/bert-base-NER` to avoid potential side effects.\n",
    "\n",
    "\n",
    "**Data:**\n",
    "\n",
    "Use WNUT and CONLL datasets loaded above, as long as any additional data that you see fit.\n",
    "\n",
    "\n",
    "**Grading:**\n",
    "\n",
    "To get the maximum grade, you will need to run several experiments for parameter tuning and summarize your results in a short report."
   ]
  },
  {
   "cell_type": "markdown",
   "metadata": {},
   "source": [
    "#### 3.1 Supervised DA [4 points]"
   ]
  },
  {
   "cell_type": "markdown",
   "metadata": {},
   "source": [
    "##### 3.1.1 In-domain fine-tuning [2 points]"
   ]
  },
  {
   "cell_type": "markdown",
   "metadata": {},
   "source": [
    "**Your task:**\n",
    "\n",
    "1. Fine-tune your entire model (all layers) using `wnut[\"train\"]`\n",
    "2. Fine-tune the model again using only the final layer (`model.classifier`)\n",
    "3. Compare results\n",
    "\n",
    "**Hint:**\n",
    "In order to \"freeze\" some of the model parameters and prevent fine-tuning, you can manually set `requires_grad=False` for all parameters and then manually set it back to True for the ones you want to train (more info [here](https://huggingface.co/transformers/training.html#pytorch)):\n",
    "\n",
    "```python\n",
    "for param in model.bert.parameters():\n",
    "    param.requires_grad = False\n",
    "```\n"
   ]
  },
  {
   "cell_type": "markdown",
   "metadata": {},
   "source": [
    "## 3.1.1 Finetune Model using final layer"
   ]
  },
  {
   "cell_type": "code",
   "execution_count": 29,
   "metadata": {},
   "outputs": [],
   "source": [
    "import torch.nn as nn\n",
    "import torch.optim as optim\n",
    "import torch.nn.functional as F\n",
    "from tqdm import tqdm\n",
    "from copy import deepcopy  # in case you still need original model\n",
    "\n",
    "class Identity(torch.nn.Module):\n",
    "\n",
    "    def __init__(self):\n",
    "        super(Identity, self).__init__()\n",
    "\n",
    "    def forward(self, x):\n",
    "        return x\n"
   ]
  },
  {
   "cell_type": "code",
   "execution_count": 29,
   "metadata": {},
   "outputs": [],
   "source": [
    "embedding = deepcopy(model)\n",
    "          \n",
    "# redefine the last layer to be Identity\n",
    "embedding.classifier = Identity()"
   ]
  },
  {
   "cell_type": "markdown",
   "metadata": {},
   "source": [
    "## Get Padding on Batch"
   ]
  },
  {
   "cell_type": "code",
   "execution_count": 30,
   "metadata": {},
   "outputs": [],
   "source": [
    "from collections import defaultdict\n",
    "\n",
    "class PadSequence:\n",
    "    def __init__(self, padded_columns, device='cuda:1', pad_val=-1):\n",
    "        self.padded_columns = set(padded_columns)\n",
    "        self.device = device\n",
    "        self.pad_val = pad_val\n",
    "\n",
    "    def __call__(self, batch):\n",
    "        padded_batch = defaultdict(list)\n",
    "        for example in batch:\n",
    "            for key, tensor in example.items():\n",
    "                padded_batch[key].append(tensor)\n",
    "                \n",
    "        for key, val in padded_batch.items():\n",
    "            if key in self.padded_columns:\n",
    "                 #padded_batch[key] = torch.nn.utils.rnn.pad_sequence(val, batch_first=True).to(self.device)\n",
    "                if key == \"labels\":\n",
    "                    padded_batch[key] = torch.nn.utils.rnn.pad_sequence(val, batch_first=True, padding_value=self.pad_val).to(self.device)\n",
    "                else:\n",
    "                    padded_batch[key] = torch.nn.utils.rnn.pad_sequence(val, batch_first=True).to(self.device)\n",
    "        return padded_batch\n",
    "\n",
    "\n",
    "wnut_train_dataloader = torch.utils.data.DataLoader(wnut[\"train\"], \n",
    "                                                    batch_size=32, \n",
    "                                                    collate_fn=PadSequence(['input_ids', 'token_type_ids', 'attention_mask', 'labels']\n",
    "                                                                          ))\n",
    "wnut_test_dataloader = torch.utils.data.DataLoader(wnut[\"test\"], \n",
    "                                                    batch_size=32, \n",
    "                                                    collate_fn=PadSequence(['input_ids', 'token_type_ids', 'attention_mask', 'labels']\n",
    "                                                                          ))"
   ]
  },
  {
   "cell_type": "markdown",
   "metadata": {},
   "source": [
    "### Check Forward Pass:"
   ]
  },
  {
   "cell_type": "code",
   "execution_count": 31,
   "metadata": {},
   "outputs": [
    {
     "name": "stdout",
     "output_type": "stream",
     "text": [
      "torch.Size([32, 47, 768])\n"
     ]
    }
   ],
   "source": [
    "train_batch = next(iter(wnut_train_dataloader))\n",
    "\n",
    "with torch.no_grad():\n",
    "    inputs1 = embedding(train_batch['input_ids']);\n",
    "print(inputs1.logits.shape)\n"
   ]
  },
  {
   "cell_type": "markdown",
   "metadata": {},
   "source": [
    "### Convergance Graph"
   ]
  },
  {
   "cell_type": "code",
   "execution_count": 31,
   "metadata": {},
   "outputs": [],
   "source": [
    "import matplotlib.pyplot as plt\n",
    "def convergence_graph(loss_vals):\n",
    "    print(\"min loss value\", loss_vals[-1])\n",
    "\n",
    "    plt.plot(range(1, len(loss_vals) +1), loss_vals, color ='blue')\n",
    "    plt.rcParams[\"figure.figsize\"] = (10,6)\n",
    "    plt.grid()\n",
    "    plt.xlabel(\"Number of iterations\")\n",
    "    plt.ylabel(\"cost (J)\")\n",
    "    plt.title(\"Convergence of gradient descent\")"
   ]
  },
  {
   "cell_type": "markdown",
   "metadata": {},
   "source": [
    "### Linear Classifier Model"
   ]
  },
  {
   "cell_type": "code",
   "execution_count": 33,
   "metadata": {},
   "outputs": [],
   "source": [
    "class LinClassifier(nn.Module):\n",
    "    def __init__(self):\n",
    "        super(LinClassifier, self).__init__()\n",
    "        self.linear = nn.Linear(768, 9) \n",
    "        \n",
    "        \n",
    "    def forward(self, X):\n",
    "        X = self.linear(X)\n",
    "        return X\n",
    "\n",
    "classifier = LinClassifier()"
   ]
  },
  {
   "cell_type": "markdown",
   "metadata": {},
   "source": [
    "### Train Linear Classifier"
   ]
  },
  {
   "cell_type": "code",
   "execution_count": 37,
   "metadata": {},
   "outputs": [],
   "source": [
    "import torch.nn as nn\n",
    "import torch.optim as optim\n",
    "import torch.nn.functional as F\n",
    "from tqdm import tqdm\n",
    "\n",
    "\n",
    "def train_model(embedding, classifier, trainloader, num_epochs=10, device='cuda:1'):\n",
    "    classifier.to(device)\n",
    "    classifier.train()\n",
    "    \n",
    "    classifier.to(device)\n",
    "    embedding.train(False)\n",
    "    \n",
    "    criterion = nn.CrossEntropyLoss(ignore_index=-1)\n",
    "    optimizer = optim.Adam(classifier.parameters(), lr=0.001 )\n",
    "    train_loss = []\n",
    "\n",
    "    for epoch in tqdm(range(num_epochs)):\n",
    "        avg_batch_loss = []\n",
    "        for batch in trainloader: \n",
    "            with torch.no_grad():\n",
    "                embedding_logits = embedding(batch['input_ids']).logits.to(device)\n",
    "            #print(embedding_logits.shape)\n",
    "            \n",
    "            logits = classifier(embedding_logits).transpose(-1, -2)\n",
    "            \n",
    "            loss = criterion(logits, batch['labels'].long())\n",
    "            optimizer.zero_grad()\n",
    "            loss.backward()\n",
    "            optimizer.step()\n",
    "\n",
    "            avg_batch_loss.append(loss.item())\n",
    "            \n",
    "        avg = sum(avg_batch_loss) / len(avg_batch_loss)\n",
    "        #print(avg)\n",
    "        train_loss.append(avg)\n",
    "        \n",
    "    return train_loss"
   ]
  },
  {
   "cell_type": "code",
   "execution_count": 36,
   "metadata": {},
   "outputs": [
    {
     "name": "stderr",
     "output_type": "stream",
     "text": [
      "100%|███████████████████████████████████████████████████████████████████| 50/50 [04:30<00:00,  5.41s/it]"
     ]
    },
    {
     "name": "stdout",
     "output_type": "stream",
     "text": [
      "min loss value 0.0945957911453236\n"
     ]
    },
    {
     "name": "stderr",
     "output_type": "stream",
     "text": [
      "\n"
     ]
    },
    {
     "data": {
      "image/png": "[encoded data removed]",
      "text/plain": [
       "<Figure size 432x288 with 1 Axes>"
      ]
     },
     "metadata": {
      "needs_background": "light"
     },
     "output_type": "display_data"
    }
   ],
   "source": [
    "train_loss = train_model(embedding, classifier, wnut_train_dataloader, num_epochs=50)\n",
    "\n",
    "torch.save(classifier.state_dict(), 'weights/top_classifier.pth')\n",
    "\n",
    "convergence_graph(train_loss)"
   ]
  },
  {
   "cell_type": "markdown",
   "metadata": {},
   "source": [
    "### Load Linear Classifier"
   ]
  },
  {
   "cell_type": "code",
   "execution_count": 41,
   "metadata": {},
   "outputs": [
    {
     "data": {
      "text/plain": [
       "<All keys matched successfully>"
      ]
     },
     "execution_count": 41,
     "metadata": {},
     "output_type": "execute_result"
    }
   ],
   "source": [
    "classifier = LinClassifier()                                                   # define model\n",
    "classifier.load_state_dict(torch.load('weights/top_classifier.pth'))           # load weights"
   ]
  },
  {
   "cell_type": "markdown",
   "metadata": {},
   "source": [
    "### Evaluate Model"
   ]
  },
  {
   "cell_type": "code",
   "execution_count": 34,
   "metadata": {},
   "outputs": [],
   "source": [
    "def eval_model_batch(model, batch, classifier=classifier, train_class=False, device='cuda:1'):\n",
    "    classifier.to(device)\n",
    "    model.to(device)\n",
    "    \n",
    "    classifier.train(False)\n",
    "    model.train(False)\n",
    "    id2label = model.config.id2label \n",
    "    \n",
    "    with torch.no_grad():\n",
    "        if train_class == True:\n",
    "            embedding_logits = model(batch['input_ids']).logits.to(device)\n",
    "            y_pred = classifier(embedding_logits)\n",
    "        else:\n",
    "            y_pred = model(batch['input_ids']).logits.to(device)\n",
    "        \n",
    "        indices = torch.argmax(y_pred, axis=2)\n",
    "        indices = indices.detach().cpu().numpy()\n",
    "        attention_mask = batch[\"attention_mask\"].cpu().numpy()\n",
    "        batch_size = len(batch[\"input_ids\"])\n",
    "        predicted_labels = []\n",
    "        \n",
    "        for i in range(batch_size):\n",
    "            temp = []\n",
    "            for j in range(len(attention_mask[i])):\n",
    "                if attention_mask[i][j] == 1:\n",
    "                    temp.append(id2label[indices[i][j]])\n",
    "            predicted_labels.append(temp)\n",
    "            \n",
    "    \n",
    "    return predicted_labels\n"
   ]
  },
  {
   "cell_type": "markdown",
   "metadata": {},
   "source": [
    "### Check Eval"
   ]
  },
  {
   "cell_type": "code",
   "execution_count": 43,
   "metadata": {},
   "outputs": [
    {
     "name": "stdout",
     "output_type": "stream",
     "text": [
      "['O', 'O', 'O', 'O', 'O', 'O', 'O', 'O', 'O', 'O', 'O', 'O', 'O', 'B-LOC', 'O', 'I-LOC', 'I-LOC', 'I-LOC', 'O', 'O', 'O', 'O', 'O', 'O', 'O', 'O', 'O', 'O', 'O', 'O', 'O', 'O', 'O', 'O', 'O', 'O', 'O', 'O', 'O', 'O', 'O', 'O', 'O']\n",
      "\n",
      " ['O', 'O', 'O', 'O', 'O', 'O', 'O', 'O', 'O', 'O', 'O', 'O', 'O', 'B-LOC', 'I-LOC', 'I-LOC', 'I-LOC', 'I-LOC', 'O', 'O', 'O', 'O', 'O', 'O', 'O', 'O', 'O', 'O', 'O', 'O', 'O', 'O', 'O', 'O', 'O', 'O', 'O', 'O', 'O', 'O', 'O', 'O', 'O']\n",
      "\n",
      " ['&', 'gt', ';', '*', 'Police', 'last', 'week', 'evacuated', '80', 'villagers', 'from', 'Waltengoo', 'Nar', 'where', 'dozens', 'were', 'killed', 'after', 'a', 'series', 'of', 'avalanches', 'hit', 'the', 'area', 'in', '2005', 'in', 'the', 'south', 'of', 'the', 'territory', '.']\n",
      "\n",
      " 34\n",
      "\n",
      " torch.Size([69])\n"
     ]
    }
   ],
   "source": [
    "test_batch = next(iter(wnut_test_dataloader))\n",
    "\n",
    "pred = eval_model_batch(embedding, test_batch, train_class=True)\n",
    "\n",
    "l = 1\n",
    "print(pred[l])\n",
    "\n",
    "print(\"\\n\", test_batch['text_labels'][l])\n",
    "\n",
    "print(\"\\n\", test_batch['tokens'][l])\n",
    "\n",
    "print(\"\\n\", len(test_batch['tokens'][l]))\n",
    "\n",
    "print(\"\\n\", test_batch['attention_mask'][l].shape)"
   ]
  },
  {
   "cell_type": "markdown",
   "metadata": {},
   "source": [
    "### Classification Report"
   ]
  },
  {
   "cell_type": "code",
   "execution_count": 36,
   "metadata": {},
   "outputs": [],
   "source": [
    "from tqdm import tqdm\n",
    "import seqeval\n",
    "from seqeval.metrics import classification_report, accuracy_score, f1_score\n",
    "\n",
    "def get_classification_report(model, train_loader, test_loader, train_class=False, device='cuda:1'):\n",
    "    model.to(device)\n",
    "    id2label = model.config.id2label \n",
    "\n",
    "    predicted_labels = {\"wnut_test\": [], \"wnut_train\": []}\n",
    "\n",
    "    for batch in tqdm(test_loader):\n",
    "        predicted_labels[\"wnut_test\"].extend(eval_model_batch(model, batch, train_class=train_class, device=device))\n",
    "    \n",
    "    for batch in tqdm(train_loader):\n",
    "        predicted_labels[\"wnut_train\"].extend(eval_model_batch(model, batch, train_class=train_class, device=device))\n",
    "                      \n",
    "    clasifier_report_test = classification_report(y_true=[list(example[\"text_labels\"]) for example in wnut[\"test\"]],\n",
    "                                                     y_pred=predicted_labels[\"wnut_test\"])\n",
    "\n",
    "\n",
    "    clasifier_report_train = classification_report(y_true=[list(example[\"text_labels\"]) for example in wnut[\"train\"]],\n",
    "                                                     y_pred=predicted_labels[\"wnut_train\"])\n",
    "\n",
    "    class_acc_test = accuracy_score(y_true=[list(example[\"text_labels\"]) for example in wnut[\"test\"]],\n",
    "                                                     y_pred=predicted_labels[\"wnut_test\"])\n",
    "\n",
    "    class_acc_train = accuracy_score(y_true=[list(example[\"text_labels\"]) for example in wnut[\"train\"]],\n",
    "                                                     y_pred=predicted_labels[\"wnut_train\"])\n",
    "    \n",
    "    print(f\"WNUT_TRAIN:\\n {clasifier_report_train}\")\n",
    "    print(f\"WNUT_TEST:\\n {clasifier_report_test}\")\n",
    "    \n",
    "\n",
    "    print(f\"WNUT_TRAIN:\\n {class_acc_train}\")\n",
    "    print(f\"WNUT_TEST:\\n {class_acc_test}\")\n",
    "    \n",
    "                      "
   ]
  },
  {
   "cell_type": "code",
   "execution_count": 45,
   "metadata": {},
   "outputs": [
    {
     "name": "stderr",
     "output_type": "stream",
     "text": [
      "100%|███████████████████████████████████████████████████████████████████| 41/41 [00:02<00:00, 15.14it/s]\n",
      "100%|█████████████████████████████████████████████████████████████████| 107/107 [00:05<00:00, 18.82it/s]\n"
     ]
    },
    {
     "name": "stdout",
     "output_type": "stream",
     "text": [
      "WNUT_TRAIN:\n",
      "               precision    recall  f1-score   support\n",
      "\n",
      "         LOC       0.57      0.60      0.58       548\n",
      "        MISC       0.09      0.07      0.08       282\n",
      "         ORG       0.35      0.30      0.32       485\n",
      "         PER       0.58      0.67      0.62       660\n",
      "\n",
      "   micro avg       0.47      0.47      0.47      1975\n",
      "   macro avg       0.40      0.41      0.40      1975\n",
      "weighted avg       0.45      0.47      0.46      1975\n",
      "\n",
      "WNUT_TEST:\n",
      "               precision    recall  f1-score   support\n",
      "\n",
      "         LOC       0.42      0.34      0.38       150\n",
      "        MISC       0.06      0.02      0.03       269\n",
      "         ORG       0.19      0.15      0.17       231\n",
      "         PER       0.53      0.34      0.41       429\n",
      "\n",
      "   micro avg       0.36      0.22      0.27      1079\n",
      "   macro avg       0.30      0.21      0.25      1079\n",
      "weighted avg       0.33      0.22      0.26      1079\n",
      "\n",
      "WNUT_TRAIN:\n",
      " 0.9730575635188091\n",
      "WNUT_TEST:\n",
      " 0.9324349837164299\n"
     ]
    }
   ],
   "source": [
    "get_classification_report(embedding, wnut_train_dataloader, wnut_test_dataloader, train_class=True)"
   ]
  },
  {
   "cell_type": "code",
   "execution_count": null,
   "metadata": {},
   "outputs": [],
   "source": []
  },
  {
   "cell_type": "markdown",
   "metadata": {},
   "source": [
    "## 3.1.2 Finetune Model on whole Model"
   ]
  },
  {
   "cell_type": "markdown",
   "metadata": {},
   "source": [
    "### Forward Pass"
   ]
  },
  {
   "cell_type": "code",
   "execution_count": 46,
   "metadata": {},
   "outputs": [
    {
     "name": "stdout",
     "output_type": "stream",
     "text": [
      "torch.Size([32, 47, 9])\n"
     ]
    }
   ],
   "source": [
    "fine_tuned_model = deepcopy(model)\n",
    "\n",
    "train_batch = next(iter(wnut_train_dataloader))\n",
    "\n",
    "with torch.no_grad():\n",
    "    inputs = fine_tuned_model(train_batch['input_ids']);\n",
    "print(inputs.logits.shape)"
   ]
  },
  {
   "cell_type": "markdown",
   "metadata": {},
   "source": [
    "### Train Whole Model"
   ]
  },
  {
   "cell_type": "code",
   "execution_count": 47,
   "metadata": {},
   "outputs": [],
   "source": [
    "import torch.nn as nn\n",
    "import torch.optim as optim\n",
    "import torch.nn.functional as F\n",
    "from tqdm import tqdm\n",
    "\n",
    "def train_whole_model(model, trainloader, testloader, num_epochs=10, device='cuda:1'):\n",
    "    model.to(device)\n",
    "    model.train() \n",
    "    \n",
    "    criterion = nn.CrossEntropyLoss(ignore_index=-1)\n",
    "    optimizer = optim.Adam(model.parameters(), lr=0.0001)\n",
    "    train_loss = []\n",
    "\n",
    "    for epoch in tqdm(range(num_epochs)):\n",
    "        avg_batch_loss = []\n",
    "        for batch in trainloader: \n",
    "            logits = model(batch['input_ids']).logits.transpose(-1, -2).to(device)\n",
    "            \n",
    "            #print(batch['labels'])\n",
    "            loss = criterion(logits, batch['labels'].long())\n",
    "            \n",
    "            loss.backward()\n",
    "            optimizer.step()\n",
    "            optimizer.zero_grad()\n",
    "            \n",
    "            avg_batch_loss.append(loss.item())\n",
    "        \n",
    "#         predicted_labels = {\"wnut_test\": []}\n",
    "        \n",
    "#         for batch in testloader:\n",
    "#             predicted_labels[\"wnut_test\"].extend(eval_model_batch(model, batch, train_class=False))\n",
    "        \n",
    "#         my_f1_score = f1_score(y_true=[list(example[\"text_labels\"]) for example in wnut[\"test\"]],\n",
    "#                                                      y_pred=predicted_labels[\"wnut_test\"])\n",
    "    \n",
    "#         print(f\"WNUT_TRAIN:\\n {my_f1_score }\")\n",
    "            \n",
    "        avg = sum(avg_batch_loss) / len(avg_batch_loss)\n",
    "        #print(avg)\n",
    "        train_loss.append(avg)\n",
    "        \n",
    "    return train_loss"
   ]
  },
  {
   "cell_type": "code",
   "execution_count": 48,
   "metadata": {},
   "outputs": [
    {
     "name": "stderr",
     "output_type": "stream",
     "text": [
      "100%|███████████████████████████████████████████████████████████████████| 50/50 [12:43<00:00, 15.27s/it]\n"
     ]
    },
    {
     "name": "stdout",
     "output_type": "stream",
     "text": [
      "min loss value 0.003887576687566677\n"
     ]
    },
    {
     "data": {
      "image/png": "[encoded data removed]",
      "text/plain": [
       "<Figure size 720x432 with 1 Axes>"
      ]
     },
     "metadata": {
      "needs_background": "light"
     },
     "output_type": "display_data"
    }
   ],
   "source": [
    "#379\n",
    "train_loss = train_whole_model(fine_tuned_model, wnut_train_dataloader, wnut_test_dataloader, num_epochs=50)\n",
    "\n",
    "torch.save(fine_tuned_model.state_dict(), 'weights/whole_fine_tuned_model.pth')\n",
    "\n",
    "convergence_graph(train_loss)"
   ]
  },
  {
   "cell_type": "markdown",
   "metadata": {},
   "source": [
    "### Load Whole Model"
   ]
  },
  {
   "cell_type": "code",
   "execution_count": 49,
   "metadata": {},
   "outputs": [
    {
     "data": {
      "text/plain": [
       "<All keys matched successfully>"
      ]
     },
     "execution_count": 49,
     "metadata": {},
     "output_type": "execute_result"
    }
   ],
   "source": [
    "fine_tuned_model = model                                                                     # define model\n",
    "fine_tuned_model.load_state_dict(torch.load('weights/whole_fine_tuned_model.pth'))           # load weights"
   ]
  },
  {
   "cell_type": "markdown",
   "metadata": {},
   "source": [
    "### Check Forward Pass"
   ]
  },
  {
   "cell_type": "code",
   "execution_count": 50,
   "metadata": {},
   "outputs": [
    {
     "name": "stdout",
     "output_type": "stream",
     "text": [
      "['O', 'B-ORG', 'I-ORG', 'I-ORG', 'O', 'O', 'O', 'O', 'O', 'O', 'O', 'O', 'O', 'O', 'O', 'O', 'O', 'O', 'O', 'O', 'O', 'O', 'O', 'O', 'O', 'O', 'O', 'O', 'O', 'O', 'O']\n",
      "\n",
      " ['O', 'B-ORG', 'I-ORG', 'I-ORG', 'O', 'O', 'O', 'O', 'O', 'O', 'O', 'O', 'O', 'O', 'O', 'O', 'O', 'O', 'O', 'O', 'O', 'O', 'O', 'O', 'O', 'O', 'O', 'O', 'O', 'O', 'O']\n",
      "\n",
      " ['MetroPCS', 'has', 'the', 'worst', 'customer', 'service', 'I', \"'ve\", 'experienced', 'in', 'months', '(', 'trying', 'to', 'help', 'someone', 'order', 'a', 'phone', ')', '#metropcs', '#fail']\n",
      "\n",
      " 22\n",
      "\n",
      " torch.Size([47])\n"
     ]
    }
   ],
   "source": [
    "test_batch = next(iter(wnut_train_dataloader))\n",
    "\n",
    "pred = eval_model_batch(fine_tuned_model, test_batch, train_class=False )\n",
    "#pred = eval_model_batch(embedding, test_batch, train_class=True )\n",
    "#pred = eval_model_batch(model, test_batch, train_class=False )\n",
    "\n",
    "l = 21\n",
    "print(pred[l])\n",
    "\n",
    "print(\"\\n\", test_batch['text_labels'][l])\n",
    "\n",
    "print(\"\\n\", test_batch['tokens'][l])\n",
    "\n",
    "print(\"\\n\", len(test_batch['tokens'][l]))\n",
    "\n",
    "print(\"\\n\", test_batch['attention_mask'][l].shape)"
   ]
  },
  {
   "cell_type": "markdown",
   "metadata": {},
   "source": [
    "### 3.1.3 Get Whole Fintuned Model Classification Report"
   ]
  },
  {
   "cell_type": "code",
   "execution_count": 51,
   "metadata": {},
   "outputs": [
    {
     "name": "stdout",
     "output_type": "stream",
     "text": [
      "\n",
      "    Whole Model Finetuned    \n"
     ]
    },
    {
     "name": "stderr",
     "output_type": "stream",
     "text": [
      "100%|███████████████████████████████████████████████████████████████████| 41/41 [00:02<00:00, 14.90it/s]\n",
      "100%|█████████████████████████████████████████████████████████████████| 107/107 [00:05<00:00, 18.48it/s]\n"
     ]
    },
    {
     "name": "stdout",
     "output_type": "stream",
     "text": [
      "WNUT_TRAIN:\n",
      "               precision    recall  f1-score   support\n",
      "\n",
      "         LOC       0.98      0.98      0.98       548\n",
      "        MISC       0.93      0.99      0.96       282\n",
      "         ORG       0.98      0.99      0.99       485\n",
      "         PER       0.99      0.99      0.99       660\n",
      "\n",
      "   micro avg       0.98      0.99      0.98      1975\n",
      "   macro avg       0.97      0.99      0.98      1975\n",
      "weighted avg       0.98      0.99      0.98      1975\n",
      "\n",
      "WNUT_TEST:\n",
      "               precision    recall  f1-score   support\n",
      "\n",
      "         LOC       0.54      0.41      0.47       150\n",
      "        MISC       0.25      0.17      0.20       269\n",
      "         ORG       0.41      0.09      0.14       231\n",
      "         PER       0.73      0.36      0.49       429\n",
      "\n",
      "   micro avg       0.51      0.26      0.35      1079\n",
      "   macro avg       0.48      0.26      0.32      1079\n",
      "weighted avg       0.51      0.26      0.34      1079\n",
      "\n",
      "WNUT_TRAIN:\n",
      " 0.99913393186359\n",
      "WNUT_TEST:\n",
      " 0.9326237787322414\n"
     ]
    }
   ],
   "source": [
    "print(\"\\n    Whole Model Finetuned    \")\n",
    "get_classification_report(fine_tuned_model, wnut_train_dataloader, wnut_test_dataloader)"
   ]
  },
  {
   "cell_type": "code",
   "execution_count": 317,
   "metadata": {},
   "outputs": [],
   "source": [
    "# from transformers import TrainingArguments\n",
    "# from transformers import Trainer\n",
    "\n",
    "# def tokenize_function(examples):\n",
    "#     return tokenizer(examples[\"tokens\"], padding=\"max_length\", truncation=True, is_split_into_words=True)\n",
    "\n",
    "# fine_wnut = wnut\n",
    "# tokenized_wnut = fine_wnut.map(tokenize_function, batched=True)\n",
    "\n",
    "# training_args = TrainingArguments(\"test_trainer\")\n",
    "\n",
    "# trainer = Trainer(\n",
    "#     model=fine_tuned_model, \n",
    "#     args=training_args, \n",
    "#     train_dataset=tokenized_wnut['train'],\n",
    "#     eval_dataset=tokenized_wnut['validation'] \n",
    "# )\n",
    "\n",
    "# trainer.train()"
   ]
  },
  {
   "cell_type": "markdown",
   "metadata": {},
   "source": [
    "##### 3.2  Resampling methods [2 points]\n",
    "\n",
    "1. Train a binary classifier that tells `conll[\"train\"]` apart from `wnut[\"train\"]`.\n",
    "2. Use the classifier probability to select top-25% samples from `conll[\"train\"]` that are most similar to `wnut`.\n",
    "  - note: use leave-one-out predictions: split `conll[\"train\"]+wnut[\"train\"]` into N chunks;\n",
    "  - for each chunk, train a classifier on all other chunks and make predictions for the remaining chunk.\n",
    "3. Try fine-tuning your primary model using 25% best samples;\n",
    "4. Alternative: fine-tune using the entire `conll[\"train\"]` dataset with sample weights. Use $1 + p_i$ weights where $p_i$ is the probability of `wnut` for i-th  according to your classifier."
   ]
  },
  {
   "cell_type": "code",
   "execution_count": 52,
   "metadata": {},
   "outputs": [],
   "source": [
    "wnut_train_dataloader = torch.utils.data.DataLoader(wnut[\"train\"], \n",
    "                                                    batch_size=32,\n",
    "                                                    shuffle=True,\n",
    "                                                    drop_last=True,\n",
    "                                                    collate_fn=PadSequence(['input_ids', 'token_type_ids', 'attention_mask', 'labels']\n",
    "                                                                          ))\n",
    "conll_train_dataloader = torch.utils.data.DataLoader(conll[\"train\"], \n",
    "                                                    batch_size=32, \n",
    "                                                    shuffle=True,\n",
    "                                                    drop_last=True,\n",
    "                                                    collate_fn=PadSequence(['input_ids', 'token_type_ids', 'attention_mask', 'labels']\n",
    "                                                                          ))"
   ]
  },
  {
   "cell_type": "code",
   "execution_count": 55,
   "metadata": {},
   "outputs": [
    {
     "data": {
      "text/plain": [
       "torch.Size([32, 61])"
      ]
     },
     "execution_count": 55,
     "metadata": {},
     "output_type": "execute_result"
    }
   ],
   "source": [
    "test_batch = next(iter(wnut_train_dataloader))\n",
    "test_batch[\"input_ids\"].shape\n",
    "\n",
    "#get_sentence_embeddings(model, test_batch).shape"
   ]
  },
  {
   "cell_type": "markdown",
   "metadata": {},
   "source": [
    "### Binary Classifier"
   ]
  },
  {
   "cell_type": "code",
   "execution_count": 37,
   "metadata": {},
   "outputs": [],
   "source": [
    "class BinClassifier(nn.Module):\n",
    "    def __init__(self):\n",
    "        super(BinClassifier, self).__init__()\n",
    "        self.linear = nn.Linear(768, 2) \n",
    "        \n",
    "        \n",
    "    def forward(self, X):\n",
    "        X = self.linear(X)\n",
    "        return X\n",
    "\n",
    "bin_classifier = BinClassifier()"
   ]
  },
  {
   "cell_type": "code",
   "execution_count": 232,
   "metadata": {},
   "outputs": [
    {
     "data": {
      "text/plain": [
       "BinClassifier(\n",
       "  (linear): Linear(in_features=768, out_features=2, bias=True)\n",
       ")"
      ]
     },
     "execution_count": 232,
     "metadata": {},
     "output_type": "execute_result"
    }
   ],
   "source": [
    "bin_classifier"
   ]
  },
  {
   "cell_type": "markdown",
   "metadata": {},
   "source": [
    "## Train Binary Classifier"
   ]
  },
  {
   "cell_type": "code",
   "execution_count": 38,
   "metadata": {},
   "outputs": [],
   "source": [
    "import torch.nn as nn\n",
    "import torch.optim as optim\n",
    "import torch.nn.functional as F\n",
    "from tqdm import tqdm\n",
    "\n",
    "def get_sentence_embeddings(model, batch, device='cuda:1'):\n",
    "    model.eval()\n",
    "    with torch.no_grad():\n",
    "        return model.bert(input_ids=batch[\"input_ids\"],\n",
    "                          token_type_ids=batch[\"token_type_ids\"],\n",
    "                          attention_mask=batch[\"attention_mask\"],\n",
    "                          return_dict=True)[\"last_hidden_state\"][:,0]\n",
    "\n",
    "def train_bin_class(classifier, model, wnut_dataloader, conll_dataloader, num_epochs=10, device='cuda:1'):\n",
    "    classifier.to(device)\n",
    "    classifier.train()\n",
    "    \n",
    "    model.to(device)\n",
    "    model.train(False)\n",
    "    \n",
    "    criterion = nn.CrossEntropyLoss()\n",
    "    optimizer = optim.Adam(classifier.parameters(), lr=0.001)\n",
    "    train_loss = []\n",
    "\n",
    "    for epoch in tqdm(range(num_epochs)):\n",
    "        avg_batch_loss = []\n",
    "        cnt = 0\n",
    "        for wnut_batch, conll_batch in zip(wnut_dataloader,conll_dataloader) : \n",
    "            if cnt % 2 == 0:\n",
    "                batch = wnut_batch\n",
    "                labels = torch.LongTensor([32 * [0]]).to(device)\n",
    "            else:\n",
    "                batch = conll_batch\n",
    "                labels = torch.LongTensor([32 * [1]]).to(device)\n",
    "            \n",
    "            cnt += 1\n",
    "            \n",
    "            cls_logits = get_sentence_embeddings(model, batch, device=device)\n",
    "            #print(\"\\nlogits: \", cls_logits.shape)\n",
    "            \n",
    "            logits = classifier(cls_logits)\n",
    "            #print(\"\\nlogits: \", logits.shape)\n",
    "            \n",
    "            #print(labels.T.shape)\n",
    "            loss = criterion(logits, torch.squeeze(labels.T))\n",
    "            \n",
    "            loss.backward()\n",
    "            optimizer.step()\n",
    "            optimizer.zero_grad()\n",
    "            \n",
    "\n",
    "            avg_batch_loss.append(loss.item())\n",
    "        \n",
    "        avg = sum(avg_batch_loss) / len(avg_batch_loss)\n",
    "        #print(avg)\n",
    "        train_loss.append(avg)\n",
    "        \n",
    "    return train_loss"
   ]
  },
  {
   "cell_type": "code",
   "execution_count": 58,
   "metadata": {},
   "outputs": [
    {
     "name": "stderr",
     "output_type": "stream",
     "text": [
      "100%|███████████████████████████████████████████████████████████████████| 50/50 [05:14<00:00,  6.30s/it]"
     ]
    },
    {
     "name": "stdout",
     "output_type": "stream",
     "text": [
      "min loss value 0.22146084525112836\n"
     ]
    },
    {
     "name": "stderr",
     "output_type": "stream",
     "text": [
      "\n"
     ]
    },
    {
     "data": {
      "image/png": "[encoded data removed]",
      "text/plain": [
       "<Figure size 720x432 with 1 Axes>"
      ]
     },
     "metadata": {
      "needs_background": "light"
     },
     "output_type": "display_data"
    }
   ],
   "source": [
    "train_loss = train_bin_class(bin_classifier, model, wnut_train_dataloader, conll_train_dataloader, num_epochs=50)\n",
    "\n",
    "torch.save(bin_classifier.state_dict(), 'weights/bin_classifier.pth')\n",
    "\n",
    "convergence_graph(train_loss)"
   ]
  },
  {
   "cell_type": "markdown",
   "metadata": {},
   "source": [
    "### Load Binary Classifier"
   ]
  },
  {
   "cell_type": "code",
   "execution_count": 60,
   "metadata": {},
   "outputs": [
    {
     "data": {
      "text/plain": [
       "<All keys matched successfully>"
      ]
     },
     "execution_count": 60,
     "metadata": {},
     "output_type": "execute_result"
    }
   ],
   "source": [
    "bin_classifier = BinClassifier()                                                   # define model\n",
    "bin_classifier.load_state_dict(torch.load('weights/bin_classifier.pth'))           # load weights"
   ]
  },
  {
   "cell_type": "markdown",
   "metadata": {},
   "source": [
    "### Get Closest 25% Conll to Wnut"
   ]
  },
  {
   "cell_type": "code",
   "execution_count": 39,
   "metadata": {},
   "outputs": [],
   "source": [
    "import numpy as np\n",
    "\n",
    "def get_closest_conll(classifier, model, conll_dataloader, device='cuda:1', percent=0.25, target_set=conll[\"train\"]):\n",
    "    classifier.to(device)\n",
    "    classifier.eval()\n",
    "    \n",
    "    model.to(device)\n",
    "    model.eval()  \n",
    "    \n",
    "    sample_dict = {}\n",
    "    top_indx = int(len(target_set) * percent)\n",
    "    for conll_batch in tqdm(conll_dataloader):\n",
    "        if conll_batch['input_ids'].shape[1] > 512:\n",
    "            continue\n",
    "        cls_logits = get_sentence_embeddings(model, conll_batch)\n",
    "        with torch.no_grad():\n",
    "            logits = classifier(cls_logits)                # get logits\n",
    "            logits = F.softmax(logits, -1)                 # get log-SoftMax\n",
    "            #logits = torch.argmax(logits, -1)             # get argMax\n",
    "            logits = logits.detach().cpu().numpy()         # to cpu\n",
    "        \n",
    "        for sameple_id, logit in zip(conll_batch[\"id\"], logits[:,0]):\n",
    "            sample_dict[sameple_id] = logit\n",
    "    \n",
    "    sample_dict = dict(sorted(sample_dict.items(), key=lambda item: item[1], reverse=True))  # sort dict\n",
    "    conll_indx_list = list(sample_dict)[: top_indx]\n",
    "    \n",
    "    top_cnoll = []\n",
    "    for indx in conll_indx_list:\n",
    "        indx = int(indx)\n",
    "        top_cnoll.append(target_set[indx])\n",
    "    \n",
    "    \n",
    "    return top_cnoll"
   ]
  },
  {
   "cell_type": "markdown",
   "metadata": {},
   "source": [
    "### Finetune New Model"
   ]
  },
  {
   "cell_type": "code",
   "execution_count": 62,
   "metadata": {},
   "outputs": [
    {
     "name": "stderr",
     "output_type": "stream",
     "text": [
      "100%|█████████████████████████████████████████████████████████████████| 438/438 [00:19<00:00, 22.21it/s]\n",
      "100%|███████████████████████████████████████████████████████████████████| 50/50 [10:59<00:00, 13.18s/it]\n"
     ]
    },
    {
     "name": "stdout",
     "output_type": "stream",
     "text": [
      "min loss value 0.012700089211681519\n"
     ]
    },
    {
     "data": {
      "image/png": "[encoded data removed]",
      "text/plain": [
       "<Figure size 720x432 with 1 Axes>"
      ]
     },
     "metadata": {
      "needs_background": "light"
     },
     "output_type": "display_data"
    }
   ],
   "source": [
    "top_cnoll_list = get_closest_conll(bin_classifier, model, conll_train_dataloader)  \n",
    "\n",
    "top_cnoll_dataloader = torch.utils.data.DataLoader(top_cnoll_list, batch_size=32, collate_fn=PadSequence(['input_ids', 'token_type_ids', 'attention_mask', 'labels'], device='cuda:0'))\n",
    "\n",
    "cnoll_model = deepcopy(model)\n",
    "\n",
    "train_loss = train_whole_model(cnoll_model, top_cnoll_dataloader, wnut_test_dataloader, num_epochs=50, device='cuda:0')\n",
    "\n",
    "torch.save(cnoll_model.state_dict(), 'weights/top_connl_model.pth')\n",
    "\n",
    "convergence_graph(train_loss)"
   ]
  },
  {
   "cell_type": "markdown",
   "metadata": {},
   "source": [
    "### Load Top Connl Model:"
   ]
  },
  {
   "cell_type": "code",
   "execution_count": 64,
   "metadata": {},
   "outputs": [
    {
     "data": {
      "text/plain": [
       "<All keys matched successfully>"
      ]
     },
     "execution_count": 64,
     "metadata": {},
     "output_type": "execute_result"
    }
   ],
   "source": [
    "cnoll_model = model                                                              # define model\n",
    "cnoll_model.load_state_dict(torch.load('weights/top_connl_model.pth'))           # load weights"
   ]
  },
  {
   "cell_type": "markdown",
   "metadata": {},
   "source": [
    "### Get Classification Report"
   ]
  },
  {
   "cell_type": "code",
   "execution_count": 67,
   "metadata": {},
   "outputs": [
    {
     "name": "stderr",
     "output_type": "stream",
     "text": [
      "100%|███████████████████████████████████████████████████████████████████| 41/41 [00:02<00:00, 14.41it/s]\n",
      "100%|█████████████████████████████████████████████████████████████████| 107/107 [00:05<00:00, 18.63it/s]\n"
     ]
    },
    {
     "name": "stdout",
     "output_type": "stream",
     "text": [
      "WNUT_TRAIN:\n",
      "               precision    recall  f1-score   support\n",
      "\n",
      "         LOC       0.49      0.62      0.55       548\n",
      "        MISC       0.15      0.46      0.23       282\n",
      "         ORG       0.39      0.64      0.48       485\n",
      "         PER       0.55      0.77      0.65       660\n",
      "\n",
      "   micro avg       0.39      0.65      0.49      1975\n",
      "   macro avg       0.39      0.62      0.48      1975\n",
      "weighted avg       0.44      0.65      0.52      1975\n",
      "\n",
      "WNUT_TEST:\n",
      "               precision    recall  f1-score   support\n",
      "\n",
      "         LOC       0.39      0.39      0.39       150\n",
      "        MISC       0.12      0.14      0.13       269\n",
      "         ORG       0.22      0.25      0.24       231\n",
      "         PER       0.58      0.41      0.48       429\n",
      "\n",
      "   micro avg       0.32      0.31      0.31      1079\n",
      "   macro avg       0.33      0.30      0.31      1079\n",
      "weighted avg       0.36      0.31      0.33      1079\n",
      "\n",
      "WNUT_TRAIN:\n",
      " 0.9607696859002393\n",
      "WNUT_TEST:\n",
      " 0.9234200217114268\n"
     ]
    }
   ],
   "source": [
    "wnut_train_dataloader = torch.utils.data.DataLoader(wnut[\"train\"], \n",
    "                                                    batch_size=32, \n",
    "                                                    collate_fn=PadSequence(['input_ids', 'token_type_ids', 'attention_mask', 'labels']\n",
    "                                                                          ))\n",
    "wnut_test_dataloader = torch.utils.data.DataLoader(wnut[\"test\"], \n",
    "                                                    batch_size=32, \n",
    "                                                    collate_fn=PadSequence(['input_ids', 'token_type_ids', 'attention_mask', 'labels']\n",
    "                                                                          ))\n",
    "#cnoll_model.to('cuda:0')\n",
    "get_classification_report(cnoll_model, wnut_train_dataloader, wnut_test_dataloader, train_class=False)                                                               "
   ]
  },
  {
   "cell_type": "markdown",
   "metadata": {},
   "source": [
    "#### 3.3 Unsupervised DA [6 points]\n",
    "**Your task:**\n",
    "\n",
    "Train and evaluate domain adaptation using unlabeled data.\n",
    "\n",
    "##### 3.3.1 Proxy-labels methods [2 points]\n",
    "\n",
    "1. Use pre-trained bert to make predictions for all `wnut[\"train\"]` samples,\n",
    "2. Select top-50% training samples where the average probability of the predicted is the highest,\n",
    "3. Fine-tune BERT using the proxy-labelled data\n",
    "\n",
    "##### 3.3.2 Unsupervised pretraining [4 points]\n",
    "\n",
    "1. Download the reddit dataset\n",
    "\n",
    "```python\n",
    "!wget https://ysda-seminars.s3.eu-central-1.amazonaws.com/reddit_sample.json\n",
    "reddit = datasets.load_dataset('json', data_files='/home/ubuntu/data2/nlp/reddit_sample.json')\n",
    "\n",
    "# alternative download link: https://www.dropbox.com/s/zmiv3oq7girdvla/reddit_sample.json?dl=1\n",
    "```\n",
    "2. Use the method from (3.1.2) to select 100,000 best training samples from reddit data (that most resemble `wnut[\"train\"]`)\n",
    "3. Fine-tune the BERT model on those samples using Masked LM objective (see `transformers.BertForMaskedLM`)\n",
    "4. Use the resulting model to classify `wnut[\"train\"]` with the best fine-tuning strategy from previous experiments.\n",
    "\n",
    "Feel free to try any alternative models, fine-tuning methods and datasets. As usual, we will award bonus points for extra experiments and analysis.\n",
    "\n",
    "Good hunting!\n",
    "\n",
    "```\n",
    "\n",
    "```\n",
    "\n",
    "```\n",
    "\n",
    "```\n",
    "\n",
    "```\n",
    "\n",
    "```\n",
    "\n",
    "```\n",
    "\n",
    "```\n",
    "\n",
    "```\n",
    "\n",
    "```\n",
    "\n",
    "```\n",
    "\n",
    "```\n",
    "\n",
    "```\n",
    "\n",
    "```\n",
    "\n",
    "```\n",
    "\n",
    "```\n",
    "\n",
    "```\n",
    "\n",
    "```\n",
    "\n",
    "```\n",
    "\n",
    "```\n",
    "\n",
    "\n",
    "\n"
   ]
  },
  {
   "cell_type": "markdown",
   "metadata": {},
   "source": [
    "## Proxy-labels methods"
   ]
  },
  {
   "cell_type": "code",
   "execution_count": 36,
   "metadata": {},
   "outputs": [],
   "source": [
    "from sklearn.metrics import f1_score\n",
    "\n",
    "wnut_train_dataloader = torch.utils.data.DataLoader(wnut[\"train\"], \n",
    "                                                    batch_size=32, \n",
    "                                                    #drop_last=True,\n",
    "                                                    collate_fn=PadSequence(['input_ids', 'token_type_ids', 'attention_mask', 'labels'], device='cuda:0'\n",
    "                                                                          ))\n",
    "\n",
    "def get_top_50(model, trainloader, device='cuda:0'):\n",
    "    model.to(device)\n",
    "    model.eval()\n",
    "    \n",
    "    top_indx = len(wnut[\"train\"]) // 2\n",
    "    \n",
    "    sample_dict = {}\n",
    "    \n",
    "    for batch in tqdm(trainloader):\n",
    "        with torch.no_grad():\n",
    "            logits = model(batch['input_ids']).logits\n",
    "            pred = F.softmax(logits, -1)                 # get log-SoftMax\n",
    "            pred = torch.argmax(pred, -1)\n",
    "            pred = pred.detach().cpu().numpy()\n",
    "            pred = pred.tolist()\n",
    "            \n",
    "            y_true = batch['attention_mask'].int() *  batch['labels'].int()\n",
    "            y_true = y_true.detach().cpu().numpy()\n",
    "            y_true = y_true.tolist()\n",
    "            \n",
    "            for sameple_id, true_sample, pred_sample in zip(batch[\"id\"], y_true, pred):\n",
    "                \n",
    "                f1_score_sample = f1_score(y_true=true_sample, y_pred=pred_sample, average='macro')\n",
    "                sample_dict[sameple_id] = f1_score_sample \n",
    "            \n",
    "    sample_dict = dict(sorted(sample_dict.items(), key=lambda item: item[1], reverse=True))  # sort dict\n",
    "    wnut_indx_list = list(sample_dict)[: top_indx]\n",
    "        \n",
    "    #print(sample_dict)\n",
    "\n",
    "    top_wnut = []\n",
    "    for indx in wnut_indx_list:\n",
    "        indx = int(indx)\n",
    "        top_wnut.append(wnut[\"train\"][indx])\n",
    "    \n",
    "    return top_wnut"
   ]
  },
  {
   "cell_type": "markdown",
   "metadata": {},
   "source": [
    "### Finetune New Model"
   ]
  },
  {
   "cell_type": "code",
   "execution_count": 69,
   "metadata": {},
   "outputs": [
    {
     "name": "stderr",
     "output_type": "stream",
     "text": [
      "100%|█████████████████████████████████████████████████████████████████| 107/107 [00:07<00:00, 14.16it/s]\n",
      "100%|███████████████████████████████████████████████████████████████████| 50/50 [05:45<00:00,  6.91s/it]\n"
     ]
    },
    {
     "name": "stdout",
     "output_type": "stream",
     "text": [
      "min loss value 0.001626815118504089\n"
     ]
    },
    {
     "data": {
      "image/png": "[encoded data removed]",
      "text/plain": [
       "<Figure size 720x432 with 1 Axes>"
      ]
     },
     "metadata": {
      "needs_background": "light"
     },
     "output_type": "display_data"
    }
   ],
   "source": [
    "top_wnut_list = get_top_50(model, wnut_train_dataloader, device='cuda:1')\n",
    "\n",
    "top_wnut_dataloader = torch.utils.data.DataLoader(top_wnut_list, batch_size=32, collate_fn=PadSequence(['input_ids', 'token_type_ids', 'attention_mask', 'labels'], device='cuda:1'))\n",
    "\n",
    "top_wnut_model = deepcopy(model)\n",
    "\n",
    "train_loss = train_whole_model(top_wnut_model, top_wnut_dataloader, wnut_test_dataloader, num_epochs=50, device='cuda:1')\n",
    "\n",
    "torch.save(top_wnut_model.state_dict(), 'weights/top_wnut_model.pth')\n",
    "\n",
    "convergence_graph(train_loss)"
   ]
  },
  {
   "cell_type": "markdown",
   "metadata": {},
   "source": [
    "### Load Top Wnut Model:"
   ]
  },
  {
   "cell_type": "code",
   "execution_count": 70,
   "metadata": {},
   "outputs": [
    {
     "data": {
      "text/plain": [
       "<All keys matched successfully>"
      ]
     },
     "execution_count": 70,
     "metadata": {},
     "output_type": "execute_result"
    }
   ],
   "source": [
    "top_wnut_model = model                                                              # define model\n",
    "top_wnut_model.load_state_dict(torch.load('weights/top_wnut_model.pth'))            # load weights"
   ]
  },
  {
   "cell_type": "markdown",
   "metadata": {},
   "source": [
    "### Get Classification Report"
   ]
  },
  {
   "cell_type": "code",
   "execution_count": 73,
   "metadata": {},
   "outputs": [
    {
     "name": "stderr",
     "output_type": "stream",
     "text": [
      "100%|███████████████████████████████████████████████████████████████████| 41/41 [00:02<00:00, 15.09it/s]\n",
      "100%|█████████████████████████████████████████████████████████████████| 107/107 [00:05<00:00, 18.57it/s]\n"
     ]
    },
    {
     "name": "stdout",
     "output_type": "stream",
     "text": [
      "WNUT_TRAIN:\n",
      "               precision    recall  f1-score   support\n",
      "\n",
      "         LOC       0.61      0.59      0.60       548\n",
      "        MISC       0.27      0.33      0.29       282\n",
      "         ORG       0.62      0.48      0.54       485\n",
      "         PER       0.73      0.67      0.70       660\n",
      "\n",
      "   micro avg       0.59      0.55      0.57      1975\n",
      "   macro avg       0.56      0.52      0.53      1975\n",
      "weighted avg       0.60      0.55      0.58      1975\n",
      "\n",
      "WNUT_TEST:\n",
      "               precision    recall  f1-score   support\n",
      "\n",
      "         LOC       0.37      0.38      0.37       150\n",
      "        MISC       0.14      0.06      0.08       269\n",
      "         ORG       0.25      0.13      0.17       231\n",
      "         PER       0.60      0.28      0.38       429\n",
      "\n",
      "   micro avg       0.38      0.20      0.26      1079\n",
      "   macro avg       0.34      0.21      0.25      1079\n",
      "weighted avg       0.38      0.20      0.26      1079\n",
      "\n",
      "WNUT_TRAIN:\n",
      " 0.9723286942950977\n",
      "WNUT_TEST:\n",
      " 0.9266767357341766\n"
     ]
    }
   ],
   "source": [
    "wnut_test_dataloader = torch.utils.data.DataLoader(wnut[\"test\"], \n",
    "                                                    batch_size=32, \n",
    "                                                    collate_fn=PadSequence(['input_ids', 'token_type_ids', 'attention_mask', 'labels'], device='cuda:1'\n",
    "                                                                          ))\n",
    "wnut_train_dataloader = torch.utils.data.DataLoader(wnut[\"train\"], \n",
    "                                                    batch_size=32, \n",
    "                                                    collate_fn=PadSequence(['input_ids', 'token_type_ids', 'attention_mask', 'labels'], device='cuda:1'\n",
    "                                                                          ))\n",
    "\n",
    "\n",
    "get_classification_report(top_wnut_model, wnut_train_dataloader, wnut_test_dataloader, train_class=False, device='cuda:1') "
   ]
  },
  {
   "cell_type": "markdown",
   "metadata": {},
   "source": [
    "## 3.3.2 Unsupervised pretraining"
   ]
  },
  {
   "cell_type": "code",
   "execution_count": 227,
   "metadata": {},
   "outputs": [],
   "source": [
    "#!wget https://ysda-seminars.s3.eu-central-1.amazonaws.com/reddit_sample.json"
   ]
  },
  {
   "cell_type": "markdown",
   "metadata": {},
   "source": [
    "### Load Dataset"
   ]
  },
  {
   "cell_type": "code",
   "execution_count": 40,
   "metadata": {},
   "outputs": [
    {
     "data": {
      "text/plain": [
       "500000"
      ]
     },
     "execution_count": 40,
     "metadata": {},
     "output_type": "execute_result"
    }
   ],
   "source": [
    "import ast\n",
    "\n",
    "red_list = []\n",
    "for line in open('reddit_sample.json', 'r',  encoding=\"utf-8\"):\n",
    "    red_dict = ast.literal_eval(line)\n",
    "    red_list.append(red_dict['words'])\n",
    "\n",
    "len(red_list)"
   ]
  },
  {
   "cell_type": "code",
   "execution_count": 41,
   "metadata": {},
   "outputs": [
    {
     "name": "stderr",
     "output_type": "stream",
     "text": [
      " 16%|████████████████▊                                                                                          | 78460/500000 [00:09<00:56, 7509.13it/s]Token indices sequence length is longer than the specified maximum sequence length for this model (539 > 512). Running this sequence through the model will result in indexing errors\n",
      "100%|██████████████████████████████████████████████████████████████████████████████████████████████████████████| 500000/500000 [00:58<00:00, 8589.43it/s]\n"
     ]
    }
   ],
   "source": [
    "reddit_dataset = []\n",
    "for line in tqdm(red_list):\n",
    "    elem = tokenizer(\" \".join(line))\n",
    "    elem['input_ids'] = torch.as_tensor(elem['input_ids'])\n",
    "    elem['token_type_ids'] = torch.as_tensor(elem['token_type_ids'])\n",
    "    elem['attention_mask'] = torch.as_tensor(elem['attention_mask'])\n",
    "    elem['tokens'] = line\n",
    "    reddit_dataset.append(elem)"
   ]
  },
  {
   "cell_type": "markdown",
   "metadata": {},
   "source": [
    "### Apply Mask"
   ]
  },
  {
   "cell_type": "code",
   "execution_count": 42,
   "metadata": {},
   "outputs": [
    {
     "name": "stderr",
     "output_type": "stream",
     "text": [
      "100%|█████████████████████████████████████████████████████████████████████████████████████████████████████████| 500000/500000 [00:36<00:00, 13685.18it/s]\n"
     ]
    }
   ],
   "source": [
    "def apply_mask(example: tp.Dict[str, tp.Any], indx):\n",
    "    \n",
    "    # copy real input_ids:\n",
    "    example['labels'] = example['input_ids'].detach().clone()\n",
    "    example['id'] = indx\n",
    "    \n",
    "    # create random array of floats in equal dimension to input_ids\n",
    "    rand = torch.rand(example['input_ids'].shape)\n",
    "\n",
    "    # where the random array is less than 0.15, we set true\n",
    "    mask_arr = rand < 0.15 *  (example['input_ids'] != 101) * (example['input_ids'] != 102) \n",
    "    \n",
    "    # create selection from mask_arr\n",
    "    selection = mask_arr.nonzero().tolist()\n",
    "    \n",
    "    for i in selection:\n",
    "        example['input_ids'][i] = 103\n",
    "    \n",
    "    return example\n",
    "\n",
    "\n",
    "for i in tqdm(range(len(reddit_dataset))):\n",
    "    reddit_dataset[i] = apply_mask(reddit_dataset[i], i)"
   ]
  },
  {
   "cell_type": "code",
   "execution_count": 83,
   "metadata": {},
   "outputs": [
    {
     "data": {
      "text/plain": [
       "tensor([  101,  1109,  1236,  1115,  1103, 13824,  1108,  2234,  1166,  1159,\n",
       "         1108,  1632,   119,   102])"
      ]
     },
     "execution_count": 83,
     "metadata": {},
     "output_type": "execute_result"
    }
   ],
   "source": [
    "reddit_dataset[0]['labels']"
   ]
  },
  {
   "cell_type": "code",
   "execution_count": 47,
   "metadata": {},
   "outputs": [],
   "source": [
    "reddit_dataloader = torch.utils.data.DataLoader(reddit_dataset,\n",
    "                                                batch_size=32, \n",
    "                                                drop_last = True,\n",
    "                                                collate_fn=PadSequence(['input_ids', 'token_type_ids', 'attention_mask', 'labels'], \n",
    "                                                device='cuda:1', pad_val=0))\n",
    "\n",
    "wnut_train_dataloader = torch.utils.data.DataLoader(wnut['train'],\n",
    "                                                batch_size=32, \n",
    "                                                drop_last = True,\n",
    "                                                collate_fn=PadSequence(['input_ids', 'token_type_ids', 'attention_mask', 'labels'], \n",
    "                                                device='cuda:1'))"
   ]
  },
  {
   "cell_type": "code",
   "execution_count": 48,
   "metadata": {},
   "outputs": [
    {
     "name": "stdout",
     "output_type": "stream",
     "text": [
      "tensor([[  101,  1109,  1236,  ...,     0,     0,     0],\n",
      "        [  101,   113,   146,  ...,     0,     0,     0],\n",
      "        [  101,  1967,  1131,  ...,     0,     0,     0],\n",
      "        ...,\n",
      "        [  101, 16053,   170,  ...,     0,     0,     0],\n",
      "        [  101,  1262,  1119,  ...,     0,     0,     0],\n",
      "        [  101,  3446,   112,  ...,     0,     0,     0]], device='cuda:1')\n"
     ]
    }
   ],
   "source": [
    "red_batch = next(iter(reddit_dataloader))\n",
    "print(red_batch['labels'])"
   ]
  },
  {
   "cell_type": "markdown",
   "metadata": {},
   "source": [
    "### Train Binary Classifier"
   ]
  },
  {
   "cell_type": "code",
   "execution_count": 43,
   "metadata": {},
   "outputs": [
    {
     "name": "stderr",
     "output_type": "stream",
     "text": [
      "100%|████████████████████████████████████████████████████████████████████████████████████████████████████████████████████| 50/50 [04:39<00:00,  5.59s/it]"
     ]
    },
    {
     "name": "stdout",
     "output_type": "stream",
     "text": [
      "min loss value 0.09434993912132\n"
     ]
    },
    {
     "name": "stderr",
     "output_type": "stream",
     "text": [
      "\n"
     ]
    },
    {
     "data": {
      "image/png": "[encoded data removed]",
      "text/plain": [
       "<Figure size 432x288 with 1 Axes>"
      ]
     },
     "metadata": {
      "needs_background": "light"
     },
     "output_type": "display_data"
    }
   ],
   "source": [
    "reddit_classifier = BinClassifier()\n",
    "\n",
    "train_loss = train_bin_class(reddit_classifier, model, wnut_train_dataloader, reddit_dataloader, num_epochs=50, device='cuda:1')\n",
    "\n",
    "torch.save(reddit_classifier.state_dict(), 'weights/reddit_classifier.pth')\n",
    "\n",
    "convergence_graph(train_loss)"
   ]
  },
  {
   "cell_type": "markdown",
   "metadata": {},
   "source": [
    "### Load Reddit Binary Classifier"
   ]
  },
  {
   "cell_type": "code",
   "execution_count": 49,
   "metadata": {},
   "outputs": [
    {
     "data": {
      "text/plain": [
       "<All keys matched successfully>"
      ]
     },
     "execution_count": 49,
     "metadata": {},
     "output_type": "execute_result"
    }
   ],
   "source": [
    "reddit_classifier = BinClassifier()                                                       # define model\n",
    "reddit_classifier.load_state_dict(torch.load('weights/reddit_classifier.pth'))            # load weights"
   ]
  },
  {
   "cell_type": "markdown",
   "metadata": {},
   "source": [
    "### Get Top 100k Samples"
   ]
  },
  {
   "cell_type": "code",
   "execution_count": 50,
   "metadata": {},
   "outputs": [
    {
     "name": "stderr",
     "output_type": "stream",
     "text": [
      "100%|██████████████████████████████████████████████████████████████████████████████████████████████████████████████| 15625/15625 [11:30<00:00, 22.64it/s]\n"
     ]
    },
    {
     "name": "stdout",
     "output_type": "stream",
     "text": [
      "100000\n"
     ]
    }
   ],
   "source": [
    "#reddit_classifier.to('cuda:1')\n",
    "\n",
    "top_reddit_list = get_closest_conll(reddit_classifier, model, reddit_dataloader, percent=0.2, target_set=reddit_dataset)  \n",
    "print(len(top_reddit_list))"
   ]
  },
  {
   "cell_type": "markdown",
   "metadata": {},
   "source": [
    "### Finetune New Reddit Model"
   ]
  },
  {
   "cell_type": "code",
   "execution_count": 57,
   "metadata": {},
   "outputs": [],
   "source": [
    "def train_reddit_model(model, trainloader, num_epochs=10, device='cuda:1'):\n",
    "    model.to(device)\n",
    "    model.train() \n",
    "    \n",
    "    criterion = nn.CrossEntropyLoss()\n",
    "    optimizer = optim.Adam(model.parameters(), lr=0.0001)\n",
    "\n",
    "    for epoch in tqdm(range(num_epochs)):\n",
    "        avg_batch_loss = []\n",
    "        for batch in tqdm(trainloader):\n",
    "            print(batch.shape)\n",
    "            logits = model(batch['input_ids']).logits.transpose(-1, -2).to(device)\n",
    "            print(logits)\n",
    "            loss = criterion(logits, batch['labels'].long())\n",
    "            loss.backward()\n",
    "            \n",
    "            optimizer.step()\n",
    "            optimizer.zero_grad()\n",
    "        "
   ]
  },
  {
   "cell_type": "code",
   "execution_count": 61,
   "metadata": {},
   "outputs": [
    {
     "ename": "RuntimeError",
     "evalue": "CUDA error: device-side assert triggered\nCUDA kernel errors might be asynchronously reported at some other API call,so the stacktrace below might be incorrect.\nFor debugging consider passing CUDA_LAUNCH_BLOCKING=1.",
     "output_type": "error",
     "traceback": [
      "\u001b[0;31m---------------------------------------------------------------------------\u001b[0m",
      "\u001b[0;31mRuntimeError\u001b[0m                              Traceback (most recent call last)",
      "\u001b[0;32m/tmp/ipykernel_16635/3590717844.py\u001b[0m in \u001b[0;36m<module>\u001b[0;34m\u001b[0m\n\u001b[1;32m      1\u001b[0m \u001b[0mtop_reddit_dataloader\u001b[0m \u001b[0;34m=\u001b[0m \u001b[0mtorch\u001b[0m\u001b[0;34m.\u001b[0m\u001b[0mutils\u001b[0m\u001b[0;34m.\u001b[0m\u001b[0mdata\u001b[0m\u001b[0;34m.\u001b[0m\u001b[0mDataLoader\u001b[0m\u001b[0;34m(\u001b[0m\u001b[0mtop_reddit_list\u001b[0m\u001b[0;34m,\u001b[0m \u001b[0mbatch_size\u001b[0m\u001b[0;34m=\u001b[0m\u001b[0;36m32\u001b[0m\u001b[0;34m,\u001b[0m \u001b[0mcollate_fn\u001b[0m\u001b[0;34m=\u001b[0m\u001b[0mPadSequence\u001b[0m\u001b[0;34m(\u001b[0m\u001b[0;34m[\u001b[0m\u001b[0;34m'input_ids'\u001b[0m\u001b[0;34m,\u001b[0m \u001b[0;34m'token_type_ids'\u001b[0m\u001b[0;34m,\u001b[0m \u001b[0;34m'attention_mask'\u001b[0m\u001b[0;34m,\u001b[0m \u001b[0;34m'labels'\u001b[0m\u001b[0;34m]\u001b[0m\u001b[0;34m,\u001b[0m \u001b[0mdevice\u001b[0m\u001b[0;34m=\u001b[0m\u001b[0;34m'cuda:0'\u001b[0m\u001b[0;34m,\u001b[0m \u001b[0mpad_val\u001b[0m\u001b[0;34m=\u001b[0m\u001b[0;36m0\u001b[0m\u001b[0;34m)\u001b[0m\u001b[0;34m)\u001b[0m\u001b[0;34m\u001b[0m\u001b[0;34m\u001b[0m\u001b[0m\n\u001b[1;32m      2\u001b[0m \u001b[0;34m\u001b[0m\u001b[0m\n\u001b[0;32m----> 3\u001b[0;31m \u001b[0mtop_batch\u001b[0m \u001b[0;34m=\u001b[0m \u001b[0mnext\u001b[0m\u001b[0;34m(\u001b[0m\u001b[0miter\u001b[0m\u001b[0;34m(\u001b[0m\u001b[0mtop_reddit_dataloader\u001b[0m\u001b[0;34m)\u001b[0m\u001b[0;34m)\u001b[0m\u001b[0;34m\u001b[0m\u001b[0;34m\u001b[0m\u001b[0m\n\u001b[0m\u001b[1;32m      4\u001b[0m \u001b[0mprint\u001b[0m\u001b[0;34m(\u001b[0m\u001b[0mtop_batch\u001b[0m\u001b[0;34m[\u001b[0m\u001b[0;34m'labels'\u001b[0m\u001b[0;34m]\u001b[0m\u001b[0;34m)\u001b[0m\u001b[0;34m\u001b[0m\u001b[0;34m\u001b[0m\u001b[0m\n",
      "\u001b[0;32m~/paulshab/NLP_env/nlp_environ/lib/python3.7/site-packages/torch/utils/data/dataloader.py\u001b[0m in \u001b[0;36m__next__\u001b[0;34m(self)\u001b[0m\n\u001b[1;32m    519\u001b[0m             \u001b[0;32mif\u001b[0m \u001b[0mself\u001b[0m\u001b[0;34m.\u001b[0m\u001b[0m_sampler_iter\u001b[0m \u001b[0;32mis\u001b[0m \u001b[0;32mNone\u001b[0m\u001b[0;34m:\u001b[0m\u001b[0;34m\u001b[0m\u001b[0;34m\u001b[0m\u001b[0m\n\u001b[1;32m    520\u001b[0m                 \u001b[0mself\u001b[0m\u001b[0;34m.\u001b[0m\u001b[0m_reset\u001b[0m\u001b[0;34m(\u001b[0m\u001b[0;34m)\u001b[0m\u001b[0;34m\u001b[0m\u001b[0;34m\u001b[0m\u001b[0m\n\u001b[0;32m--> 521\u001b[0;31m             \u001b[0mdata\u001b[0m \u001b[0;34m=\u001b[0m \u001b[0mself\u001b[0m\u001b[0;34m.\u001b[0m\u001b[0m_next_data\u001b[0m\u001b[0;34m(\u001b[0m\u001b[0;34m)\u001b[0m\u001b[0;34m\u001b[0m\u001b[0;34m\u001b[0m\u001b[0m\n\u001b[0m\u001b[1;32m    522\u001b[0m             \u001b[0mself\u001b[0m\u001b[0;34m.\u001b[0m\u001b[0m_num_yielded\u001b[0m \u001b[0;34m+=\u001b[0m \u001b[0;36m1\u001b[0m\u001b[0;34m\u001b[0m\u001b[0;34m\u001b[0m\u001b[0m\n\u001b[1;32m    523\u001b[0m             \u001b[0;32mif\u001b[0m \u001b[0mself\u001b[0m\u001b[0;34m.\u001b[0m\u001b[0m_dataset_kind\u001b[0m \u001b[0;34m==\u001b[0m \u001b[0m_DatasetKind\u001b[0m\u001b[0;34m.\u001b[0m\u001b[0mIterable\u001b[0m \u001b[0;32mand\u001b[0m\u001b[0;31m \u001b[0m\u001b[0;31m\\\u001b[0m\u001b[0;34m\u001b[0m\u001b[0;34m\u001b[0m\u001b[0m\n",
      "\u001b[0;32m~/paulshab/NLP_env/nlp_environ/lib/python3.7/site-packages/torch/utils/data/dataloader.py\u001b[0m in \u001b[0;36m_next_data\u001b[0;34m(self)\u001b[0m\n\u001b[1;32m    559\u001b[0m     \u001b[0;32mdef\u001b[0m \u001b[0m_next_data\u001b[0m\u001b[0;34m(\u001b[0m\u001b[0mself\u001b[0m\u001b[0;34m)\u001b[0m\u001b[0;34m:\u001b[0m\u001b[0;34m\u001b[0m\u001b[0;34m\u001b[0m\u001b[0m\n\u001b[1;32m    560\u001b[0m         \u001b[0mindex\u001b[0m \u001b[0;34m=\u001b[0m \u001b[0mself\u001b[0m\u001b[0;34m.\u001b[0m\u001b[0m_next_index\u001b[0m\u001b[0;34m(\u001b[0m\u001b[0;34m)\u001b[0m  \u001b[0;31m# may raise StopIteration\u001b[0m\u001b[0;34m\u001b[0m\u001b[0;34m\u001b[0m\u001b[0m\n\u001b[0;32m--> 561\u001b[0;31m         \u001b[0mdata\u001b[0m \u001b[0;34m=\u001b[0m \u001b[0mself\u001b[0m\u001b[0;34m.\u001b[0m\u001b[0m_dataset_fetcher\u001b[0m\u001b[0;34m.\u001b[0m\u001b[0mfetch\u001b[0m\u001b[0;34m(\u001b[0m\u001b[0mindex\u001b[0m\u001b[0;34m)\u001b[0m  \u001b[0;31m# may raise StopIteration\u001b[0m\u001b[0;34m\u001b[0m\u001b[0;34m\u001b[0m\u001b[0m\n\u001b[0m\u001b[1;32m    562\u001b[0m         \u001b[0;32mif\u001b[0m \u001b[0mself\u001b[0m\u001b[0;34m.\u001b[0m\u001b[0m_pin_memory\u001b[0m\u001b[0;34m:\u001b[0m\u001b[0;34m\u001b[0m\u001b[0;34m\u001b[0m\u001b[0m\n\u001b[1;32m    563\u001b[0m             \u001b[0mdata\u001b[0m \u001b[0;34m=\u001b[0m \u001b[0m_utils\u001b[0m\u001b[0;34m.\u001b[0m\u001b[0mpin_memory\u001b[0m\u001b[0;34m.\u001b[0m\u001b[0mpin_memory\u001b[0m\u001b[0;34m(\u001b[0m\u001b[0mdata\u001b[0m\u001b[0;34m)\u001b[0m\u001b[0;34m\u001b[0m\u001b[0;34m\u001b[0m\u001b[0m\n",
      "\u001b[0;32m~/paulshab/NLP_env/nlp_environ/lib/python3.7/site-packages/torch/utils/data/_utils/fetch.py\u001b[0m in \u001b[0;36mfetch\u001b[0;34m(self, possibly_batched_index)\u001b[0m\n\u001b[1;32m     45\u001b[0m         \u001b[0;32melse\u001b[0m\u001b[0;34m:\u001b[0m\u001b[0;34m\u001b[0m\u001b[0;34m\u001b[0m\u001b[0m\n\u001b[1;32m     46\u001b[0m             \u001b[0mdata\u001b[0m \u001b[0;34m=\u001b[0m \u001b[0mself\u001b[0m\u001b[0;34m.\u001b[0m\u001b[0mdataset\u001b[0m\u001b[0;34m[\u001b[0m\u001b[0mpossibly_batched_index\u001b[0m\u001b[0;34m]\u001b[0m\u001b[0;34m\u001b[0m\u001b[0;34m\u001b[0m\u001b[0m\n\u001b[0;32m---> 47\u001b[0;31m         \u001b[0;32mreturn\u001b[0m \u001b[0mself\u001b[0m\u001b[0;34m.\u001b[0m\u001b[0mcollate_fn\u001b[0m\u001b[0;34m(\u001b[0m\u001b[0mdata\u001b[0m\u001b[0;34m)\u001b[0m\u001b[0;34m\u001b[0m\u001b[0;34m\u001b[0m\u001b[0m\n\u001b[0m",
      "\u001b[0;32m/tmp/ipykernel_16635/352819314.py\u001b[0m in \u001b[0;36m__call__\u001b[0;34m(self, batch)\u001b[0m\n\u001b[1;32m     19\u001b[0m                     \u001b[0mpadded_batch\u001b[0m\u001b[0;34m[\u001b[0m\u001b[0mkey\u001b[0m\u001b[0;34m]\u001b[0m \u001b[0;34m=\u001b[0m \u001b[0mtorch\u001b[0m\u001b[0;34m.\u001b[0m\u001b[0mnn\u001b[0m\u001b[0;34m.\u001b[0m\u001b[0mutils\u001b[0m\u001b[0;34m.\u001b[0m\u001b[0mrnn\u001b[0m\u001b[0;34m.\u001b[0m\u001b[0mpad_sequence\u001b[0m\u001b[0;34m(\u001b[0m\u001b[0mval\u001b[0m\u001b[0;34m,\u001b[0m \u001b[0mbatch_first\u001b[0m\u001b[0;34m=\u001b[0m\u001b[0;32mTrue\u001b[0m\u001b[0;34m,\u001b[0m \u001b[0mpadding_value\u001b[0m\u001b[0;34m=\u001b[0m\u001b[0mself\u001b[0m\u001b[0;34m.\u001b[0m\u001b[0mpad_val\u001b[0m\u001b[0;34m)\u001b[0m\u001b[0;34m.\u001b[0m\u001b[0mto\u001b[0m\u001b[0;34m(\u001b[0m\u001b[0mself\u001b[0m\u001b[0;34m.\u001b[0m\u001b[0mdevice\u001b[0m\u001b[0;34m)\u001b[0m\u001b[0;34m\u001b[0m\u001b[0;34m\u001b[0m\u001b[0m\n\u001b[1;32m     20\u001b[0m                 \u001b[0;32melse\u001b[0m\u001b[0;34m:\u001b[0m\u001b[0;34m\u001b[0m\u001b[0;34m\u001b[0m\u001b[0m\n\u001b[0;32m---> 21\u001b[0;31m                     \u001b[0mpadded_batch\u001b[0m\u001b[0;34m[\u001b[0m\u001b[0mkey\u001b[0m\u001b[0;34m]\u001b[0m \u001b[0;34m=\u001b[0m \u001b[0mtorch\u001b[0m\u001b[0;34m.\u001b[0m\u001b[0mnn\u001b[0m\u001b[0;34m.\u001b[0m\u001b[0mutils\u001b[0m\u001b[0;34m.\u001b[0m\u001b[0mrnn\u001b[0m\u001b[0;34m.\u001b[0m\u001b[0mpad_sequence\u001b[0m\u001b[0;34m(\u001b[0m\u001b[0mval\u001b[0m\u001b[0;34m,\u001b[0m \u001b[0mbatch_first\u001b[0m\u001b[0;34m=\u001b[0m\u001b[0;32mTrue\u001b[0m\u001b[0;34m)\u001b[0m\u001b[0;34m.\u001b[0m\u001b[0mto\u001b[0m\u001b[0;34m(\u001b[0m\u001b[0mself\u001b[0m\u001b[0;34m.\u001b[0m\u001b[0mdevice\u001b[0m\u001b[0;34m)\u001b[0m\u001b[0;34m\u001b[0m\u001b[0;34m\u001b[0m\u001b[0m\n\u001b[0m\u001b[1;32m     22\u001b[0m         \u001b[0;32mreturn\u001b[0m \u001b[0mpadded_batch\u001b[0m\u001b[0;34m\u001b[0m\u001b[0;34m\u001b[0m\u001b[0m\n\u001b[1;32m     23\u001b[0m \u001b[0;34m\u001b[0m\u001b[0m\n",
      "\u001b[0;31mRuntimeError\u001b[0m: CUDA error: device-side assert triggered\nCUDA kernel errors might be asynchronously reported at some other API call,so the stacktrace below might be incorrect.\nFor debugging consider passing CUDA_LAUNCH_BLOCKING=1."
     ]
    }
   ],
   "source": [
    "top_reddit_dataloader = torch.utils.data.DataLoader(top_reddit_list, batch_size=32, collate_fn=PadSequence(['input_ids', 'token_type_ids', 'attention_mask', 'labels'], device='cuda:0', pad_val=0))\n",
    "\n",
    "top_batch = next(iter(top_reddit_dataloader))\n",
    "print(top_batch['labels'])"
   ]
  },
  {
   "cell_type": "code",
   "execution_count": 55,
   "metadata": {},
   "outputs": [],
   "source": [
    "ftrain"
   ]
  },
  {
   "cell_type": "code",
   "execution_count": 59,
   "metadata": {},
   "outputs": [
    {
     "name": "stderr",
     "output_type": "stream",
     "text": [
      "  0%|                                                                                                                             | 0/50 [00:00<?, ?it/s]\n"
     ]
    },
    {
     "ename": "RuntimeError",
     "evalue": "CUDA error: device-side assert triggered\nCUDA kernel errors might be asynchronously reported at some other API call,so the stacktrace below might be incorrect.\nFor debugging consider passing CUDA_LAUNCH_BLOCKING=1.",
     "output_type": "error",
     "traceback": [
      "\u001b[0;31m---------------------------------------------------------------------------\u001b[0m",
      "\u001b[0;31mRuntimeError\u001b[0m                              Traceback (most recent call last)",
      "\u001b[0;32m/tmp/ipykernel_16635/903446142.py\u001b[0m in \u001b[0;36m<module>\u001b[0;34m\u001b[0m\n\u001b[1;32m      2\u001b[0m \u001b[0;31m# print(len(top_reddit_list))\u001b[0m\u001b[0;34m\u001b[0m\u001b[0;34m\u001b[0m\u001b[0;34m\u001b[0m\u001b[0m\n\u001b[1;32m      3\u001b[0m \u001b[0;34m\u001b[0m\u001b[0m\n\u001b[0;32m----> 4\u001b[0;31m \u001b[0mtrain_reddit_model\u001b[0m\u001b[0;34m(\u001b[0m\u001b[0mreddit_model\u001b[0m\u001b[0;34m,\u001b[0m \u001b[0mtop_reddit_dataloader\u001b[0m\u001b[0;34m,\u001b[0m \u001b[0mnum_epochs\u001b[0m\u001b[0;34m=\u001b[0m\u001b[0;36m50\u001b[0m\u001b[0;34m,\u001b[0m \u001b[0mdevice\u001b[0m\u001b[0;34m=\u001b[0m\u001b[0;34m'cuda:1'\u001b[0m\u001b[0;34m)\u001b[0m\u001b[0;34m\u001b[0m\u001b[0;34m\u001b[0m\u001b[0m\n\u001b[0m\u001b[1;32m      5\u001b[0m \u001b[0;34m\u001b[0m\u001b[0m\n\u001b[1;32m      6\u001b[0m \u001b[0mtorch\u001b[0m\u001b[0;34m.\u001b[0m\u001b[0msave\u001b[0m\u001b[0;34m(\u001b[0m\u001b[0mreddit_model\u001b[0m\u001b[0;34m.\u001b[0m\u001b[0mstate_dict\u001b[0m\u001b[0;34m(\u001b[0m\u001b[0;34m)\u001b[0m\u001b[0;34m,\u001b[0m\u001b[0;34m'weights/reddit_model.pth'\u001b[0m\u001b[0;34m)\u001b[0m\u001b[0;34m\u001b[0m\u001b[0;34m\u001b[0m\u001b[0m\n",
      "\u001b[0;32m/tmp/ipykernel_16635/959179104.py\u001b[0m in \u001b[0;36mtrain_reddit_model\u001b[0;34m(model, trainloader, num_epochs, device)\u001b[0m\n\u001b[1;32m      8\u001b[0m     \u001b[0;32mfor\u001b[0m \u001b[0mepoch\u001b[0m \u001b[0;32min\u001b[0m \u001b[0mtqdm\u001b[0m\u001b[0;34m(\u001b[0m\u001b[0mrange\u001b[0m\u001b[0;34m(\u001b[0m\u001b[0mnum_epochs\u001b[0m\u001b[0;34m)\u001b[0m\u001b[0;34m)\u001b[0m\u001b[0;34m:\u001b[0m\u001b[0;34m\u001b[0m\u001b[0;34m\u001b[0m\u001b[0m\n\u001b[1;32m      9\u001b[0m         \u001b[0mavg_batch_loss\u001b[0m \u001b[0;34m=\u001b[0m \u001b[0;34m[\u001b[0m\u001b[0;34m]\u001b[0m\u001b[0;34m\u001b[0m\u001b[0;34m\u001b[0m\u001b[0m\n\u001b[0;32m---> 10\u001b[0;31m         \u001b[0;32mfor\u001b[0m \u001b[0mbatch\u001b[0m \u001b[0;32min\u001b[0m \u001b[0mtrainloader\u001b[0m\u001b[0;34m:\u001b[0m\u001b[0;34m\u001b[0m\u001b[0;34m\u001b[0m\u001b[0m\n\u001b[0m\u001b[1;32m     11\u001b[0m             \u001b[0mlogits\u001b[0m \u001b[0;34m=\u001b[0m \u001b[0mmodel\u001b[0m\u001b[0;34m(\u001b[0m\u001b[0mbatch\u001b[0m\u001b[0;34m[\u001b[0m\u001b[0;34m'input_ids'\u001b[0m\u001b[0;34m]\u001b[0m\u001b[0;34m)\u001b[0m\u001b[0;34m.\u001b[0m\u001b[0mlogits\u001b[0m\u001b[0;34m.\u001b[0m\u001b[0mtranspose\u001b[0m\u001b[0;34m(\u001b[0m\u001b[0;34m-\u001b[0m\u001b[0;36m1\u001b[0m\u001b[0;34m,\u001b[0m \u001b[0;34m-\u001b[0m\u001b[0;36m2\u001b[0m\u001b[0;34m)\u001b[0m\u001b[0;34m.\u001b[0m\u001b[0mto\u001b[0m\u001b[0;34m(\u001b[0m\u001b[0mdevice\u001b[0m\u001b[0;34m)\u001b[0m\u001b[0;34m\u001b[0m\u001b[0;34m\u001b[0m\u001b[0m\n\u001b[1;32m     12\u001b[0m             \u001b[0mprint\u001b[0m\u001b[0;34m(\u001b[0m\u001b[0mlogits\u001b[0m\u001b[0;34m)\u001b[0m\u001b[0;34m\u001b[0m\u001b[0;34m\u001b[0m\u001b[0m\n",
      "\u001b[0;32m~/paulshab/NLP_env/nlp_environ/lib/python3.7/site-packages/torch/utils/data/dataloader.py\u001b[0m in \u001b[0;36m__next__\u001b[0;34m(self)\u001b[0m\n\u001b[1;32m    519\u001b[0m             \u001b[0;32mif\u001b[0m \u001b[0mself\u001b[0m\u001b[0;34m.\u001b[0m\u001b[0m_sampler_iter\u001b[0m \u001b[0;32mis\u001b[0m \u001b[0;32mNone\u001b[0m\u001b[0;34m:\u001b[0m\u001b[0;34m\u001b[0m\u001b[0;34m\u001b[0m\u001b[0m\n\u001b[1;32m    520\u001b[0m                 \u001b[0mself\u001b[0m\u001b[0;34m.\u001b[0m\u001b[0m_reset\u001b[0m\u001b[0;34m(\u001b[0m\u001b[0;34m)\u001b[0m\u001b[0;34m\u001b[0m\u001b[0;34m\u001b[0m\u001b[0m\n\u001b[0;32m--> 521\u001b[0;31m             \u001b[0mdata\u001b[0m \u001b[0;34m=\u001b[0m \u001b[0mself\u001b[0m\u001b[0;34m.\u001b[0m\u001b[0m_next_data\u001b[0m\u001b[0;34m(\u001b[0m\u001b[0;34m)\u001b[0m\u001b[0;34m\u001b[0m\u001b[0;34m\u001b[0m\u001b[0m\n\u001b[0m\u001b[1;32m    522\u001b[0m             \u001b[0mself\u001b[0m\u001b[0;34m.\u001b[0m\u001b[0m_num_yielded\u001b[0m \u001b[0;34m+=\u001b[0m \u001b[0;36m1\u001b[0m\u001b[0;34m\u001b[0m\u001b[0;34m\u001b[0m\u001b[0m\n\u001b[1;32m    523\u001b[0m             \u001b[0;32mif\u001b[0m \u001b[0mself\u001b[0m\u001b[0;34m.\u001b[0m\u001b[0m_dataset_kind\u001b[0m \u001b[0;34m==\u001b[0m \u001b[0m_DatasetKind\u001b[0m\u001b[0;34m.\u001b[0m\u001b[0mIterable\u001b[0m \u001b[0;32mand\u001b[0m\u001b[0;31m \u001b[0m\u001b[0;31m\\\u001b[0m\u001b[0;34m\u001b[0m\u001b[0;34m\u001b[0m\u001b[0m\n",
      "\u001b[0;32m~/paulshab/NLP_env/nlp_environ/lib/python3.7/site-packages/torch/utils/data/dataloader.py\u001b[0m in \u001b[0;36m_next_data\u001b[0;34m(self)\u001b[0m\n\u001b[1;32m    559\u001b[0m     \u001b[0;32mdef\u001b[0m \u001b[0m_next_data\u001b[0m\u001b[0;34m(\u001b[0m\u001b[0mself\u001b[0m\u001b[0;34m)\u001b[0m\u001b[0;34m:\u001b[0m\u001b[0;34m\u001b[0m\u001b[0;34m\u001b[0m\u001b[0m\n\u001b[1;32m    560\u001b[0m         \u001b[0mindex\u001b[0m \u001b[0;34m=\u001b[0m \u001b[0mself\u001b[0m\u001b[0;34m.\u001b[0m\u001b[0m_next_index\u001b[0m\u001b[0;34m(\u001b[0m\u001b[0;34m)\u001b[0m  \u001b[0;31m# may raise StopIteration\u001b[0m\u001b[0;34m\u001b[0m\u001b[0;34m\u001b[0m\u001b[0m\n\u001b[0;32m--> 561\u001b[0;31m         \u001b[0mdata\u001b[0m \u001b[0;34m=\u001b[0m \u001b[0mself\u001b[0m\u001b[0;34m.\u001b[0m\u001b[0m_dataset_fetcher\u001b[0m\u001b[0;34m.\u001b[0m\u001b[0mfetch\u001b[0m\u001b[0;34m(\u001b[0m\u001b[0mindex\u001b[0m\u001b[0;34m)\u001b[0m  \u001b[0;31m# may raise StopIteration\u001b[0m\u001b[0;34m\u001b[0m\u001b[0;34m\u001b[0m\u001b[0m\n\u001b[0m\u001b[1;32m    562\u001b[0m         \u001b[0;32mif\u001b[0m \u001b[0mself\u001b[0m\u001b[0;34m.\u001b[0m\u001b[0m_pin_memory\u001b[0m\u001b[0;34m:\u001b[0m\u001b[0;34m\u001b[0m\u001b[0;34m\u001b[0m\u001b[0m\n\u001b[1;32m    563\u001b[0m             \u001b[0mdata\u001b[0m \u001b[0;34m=\u001b[0m \u001b[0m_utils\u001b[0m\u001b[0;34m.\u001b[0m\u001b[0mpin_memory\u001b[0m\u001b[0;34m.\u001b[0m\u001b[0mpin_memory\u001b[0m\u001b[0;34m(\u001b[0m\u001b[0mdata\u001b[0m\u001b[0;34m)\u001b[0m\u001b[0;34m\u001b[0m\u001b[0;34m\u001b[0m\u001b[0m\n",
      "\u001b[0;32m~/paulshab/NLP_env/nlp_environ/lib/python3.7/site-packages/torch/utils/data/_utils/fetch.py\u001b[0m in \u001b[0;36mfetch\u001b[0;34m(self, possibly_batched_index)\u001b[0m\n\u001b[1;32m     45\u001b[0m         \u001b[0;32melse\u001b[0m\u001b[0;34m:\u001b[0m\u001b[0;34m\u001b[0m\u001b[0;34m\u001b[0m\u001b[0m\n\u001b[1;32m     46\u001b[0m             \u001b[0mdata\u001b[0m \u001b[0;34m=\u001b[0m \u001b[0mself\u001b[0m\u001b[0;34m.\u001b[0m\u001b[0mdataset\u001b[0m\u001b[0;34m[\u001b[0m\u001b[0mpossibly_batched_index\u001b[0m\u001b[0;34m]\u001b[0m\u001b[0;34m\u001b[0m\u001b[0;34m\u001b[0m\u001b[0m\n\u001b[0;32m---> 47\u001b[0;31m         \u001b[0;32mreturn\u001b[0m \u001b[0mself\u001b[0m\u001b[0;34m.\u001b[0m\u001b[0mcollate_fn\u001b[0m\u001b[0;34m(\u001b[0m\u001b[0mdata\u001b[0m\u001b[0;34m)\u001b[0m\u001b[0;34m\u001b[0m\u001b[0;34m\u001b[0m\u001b[0m\n\u001b[0m",
      "\u001b[0;32m/tmp/ipykernel_16635/352819314.py\u001b[0m in \u001b[0;36m__call__\u001b[0;34m(self, batch)\u001b[0m\n\u001b[1;32m     19\u001b[0m                     \u001b[0mpadded_batch\u001b[0m\u001b[0;34m[\u001b[0m\u001b[0mkey\u001b[0m\u001b[0;34m]\u001b[0m \u001b[0;34m=\u001b[0m \u001b[0mtorch\u001b[0m\u001b[0;34m.\u001b[0m\u001b[0mnn\u001b[0m\u001b[0;34m.\u001b[0m\u001b[0mutils\u001b[0m\u001b[0;34m.\u001b[0m\u001b[0mrnn\u001b[0m\u001b[0;34m.\u001b[0m\u001b[0mpad_sequence\u001b[0m\u001b[0;34m(\u001b[0m\u001b[0mval\u001b[0m\u001b[0;34m,\u001b[0m \u001b[0mbatch_first\u001b[0m\u001b[0;34m=\u001b[0m\u001b[0;32mTrue\u001b[0m\u001b[0;34m,\u001b[0m \u001b[0mpadding_value\u001b[0m\u001b[0;34m=\u001b[0m\u001b[0mself\u001b[0m\u001b[0;34m.\u001b[0m\u001b[0mpad_val\u001b[0m\u001b[0;34m)\u001b[0m\u001b[0;34m.\u001b[0m\u001b[0mto\u001b[0m\u001b[0;34m(\u001b[0m\u001b[0mself\u001b[0m\u001b[0;34m.\u001b[0m\u001b[0mdevice\u001b[0m\u001b[0;34m)\u001b[0m\u001b[0;34m\u001b[0m\u001b[0;34m\u001b[0m\u001b[0m\n\u001b[1;32m     20\u001b[0m                 \u001b[0;32melse\u001b[0m\u001b[0;34m:\u001b[0m\u001b[0;34m\u001b[0m\u001b[0;34m\u001b[0m\u001b[0m\n\u001b[0;32m---> 21\u001b[0;31m                     \u001b[0mpadded_batch\u001b[0m\u001b[0;34m[\u001b[0m\u001b[0mkey\u001b[0m\u001b[0;34m]\u001b[0m \u001b[0;34m=\u001b[0m \u001b[0mtorch\u001b[0m\u001b[0;34m.\u001b[0m\u001b[0mnn\u001b[0m\u001b[0;34m.\u001b[0m\u001b[0mutils\u001b[0m\u001b[0;34m.\u001b[0m\u001b[0mrnn\u001b[0m\u001b[0;34m.\u001b[0m\u001b[0mpad_sequence\u001b[0m\u001b[0;34m(\u001b[0m\u001b[0mval\u001b[0m\u001b[0;34m,\u001b[0m \u001b[0mbatch_first\u001b[0m\u001b[0;34m=\u001b[0m\u001b[0;32mTrue\u001b[0m\u001b[0;34m)\u001b[0m\u001b[0;34m.\u001b[0m\u001b[0mto\u001b[0m\u001b[0;34m(\u001b[0m\u001b[0mself\u001b[0m\u001b[0;34m.\u001b[0m\u001b[0mdevice\u001b[0m\u001b[0;34m)\u001b[0m\u001b[0;34m\u001b[0m\u001b[0;34m\u001b[0m\u001b[0m\n\u001b[0m\u001b[1;32m     22\u001b[0m         \u001b[0;32mreturn\u001b[0m \u001b[0mpadded_batch\u001b[0m\u001b[0;34m\u001b[0m\u001b[0;34m\u001b[0m\u001b[0m\n\u001b[1;32m     23\u001b[0m \u001b[0;34m\u001b[0m\u001b[0m\n",
      "\u001b[0;31mRuntimeError\u001b[0m: CUDA error: device-side assert triggered\nCUDA kernel errors might be asynchronously reported at some other API call,so the stacktrace below might be incorrect.\nFor debugging consider passing CUDA_LAUNCH_BLOCKING=1."
     ]
    }
   ],
   "source": [
    "# top_reddit_list = get_closest_conll(reddit_classifier, model, reddit_dataloader, percent=0.2, target_set=reddit_dataset)  \n",
    "# print(len(top_reddit_list))\n",
    "\n",
    "train_reddit_model(reddit_model, top_reddit_dataloader, num_epochs=50, device='cuda:0')\n",
    "\n",
    "torch.save(reddit_model.state_dict(),'weights/reddit_model.pth')"
   ]
  },
  {
   "cell_type": "markdown",
   "metadata": {},
   "source": [
    "### Load Reddit Model"
   ]
  },
  {
   "cell_type": "code",
   "execution_count": null,
   "metadata": {},
   "outputs": [],
   "source": [
    "reddit_model = model                                                            # define model\n",
    "reddit_model.load_state_dict(torch.load('weights/reddit_model.pth'))            # load weights"
   ]
  },
  {
   "cell_type": "code",
   "execution_count": 60,
   "metadata": {},
   "outputs": [
    {
     "ename": "RuntimeError",
     "evalue": "CUDA error: device-side assert triggered\nCUDA kernel errors might be asynchronously reported at some other API call,so the stacktrace below might be incorrect.\nFor debugging consider passing CUDA_LAUNCH_BLOCKING=1.",
     "output_type": "error",
     "traceback": [
      "\u001b[0;31m---------------------------------------------------------------------------\u001b[0m",
      "\u001b[0;31mRuntimeError\u001b[0m                              Traceback (most recent call last)",
      "\u001b[0;32m/tmp/ipykernel_16635/1796502328.py\u001b[0m in \u001b[0;36m<module>\u001b[0;34m\u001b[0m\n\u001b[0;32m----> 1\u001b[0;31m \u001b[0mtest_batch\u001b[0m \u001b[0;34m=\u001b[0m \u001b[0mnext\u001b[0m\u001b[0;34m(\u001b[0m\u001b[0miter\u001b[0m\u001b[0;34m(\u001b[0m\u001b[0mtop_reddit_dataloader\u001b[0m\u001b[0;34m)\u001b[0m\u001b[0;34m)\u001b[0m\u001b[0;34m\u001b[0m\u001b[0;34m\u001b[0m\u001b[0m\n\u001b[0m\u001b[1;32m      2\u001b[0m \u001b[0mprint\u001b[0m\u001b[0;34m(\u001b[0m\u001b[0;34m\"test_batch\"\u001b[0m\u001b[0;34m)\u001b[0m\u001b[0;34m\u001b[0m\u001b[0;34m\u001b[0m\u001b[0m\n\u001b[1;32m      3\u001b[0m \u001b[0;34m\u001b[0m\u001b[0m\n\u001b[1;32m      4\u001b[0m \u001b[0mreddit_model\u001b[0m\u001b[0;34m.\u001b[0m\u001b[0mtrain\u001b[0m\u001b[0;34m(\u001b[0m\u001b[0;34m)\u001b[0m\u001b[0;34m\u001b[0m\u001b[0;34m\u001b[0m\u001b[0m\n\u001b[1;32m      5\u001b[0m \u001b[0moutputs\u001b[0m \u001b[0;34m=\u001b[0m \u001b[0mreddit_model\u001b[0m\u001b[0;34m(\u001b[0m\u001b[0mtest_batch\u001b[0m\u001b[0;34m[\u001b[0m\u001b[0;34m'input_ids'\u001b[0m\u001b[0;34m]\u001b[0m\u001b[0;34m)\u001b[0m\u001b[0;34m\u001b[0m\u001b[0;34m\u001b[0m\u001b[0m\n",
      "\u001b[0;32m~/paulshab/NLP_env/nlp_environ/lib/python3.7/site-packages/torch/utils/data/dataloader.py\u001b[0m in \u001b[0;36m__next__\u001b[0;34m(self)\u001b[0m\n\u001b[1;32m    519\u001b[0m             \u001b[0;32mif\u001b[0m \u001b[0mself\u001b[0m\u001b[0;34m.\u001b[0m\u001b[0m_sampler_iter\u001b[0m \u001b[0;32mis\u001b[0m \u001b[0;32mNone\u001b[0m\u001b[0;34m:\u001b[0m\u001b[0;34m\u001b[0m\u001b[0;34m\u001b[0m\u001b[0m\n\u001b[1;32m    520\u001b[0m                 \u001b[0mself\u001b[0m\u001b[0;34m.\u001b[0m\u001b[0m_reset\u001b[0m\u001b[0;34m(\u001b[0m\u001b[0;34m)\u001b[0m\u001b[0;34m\u001b[0m\u001b[0;34m\u001b[0m\u001b[0m\n\u001b[0;32m--> 521\u001b[0;31m             \u001b[0mdata\u001b[0m \u001b[0;34m=\u001b[0m \u001b[0mself\u001b[0m\u001b[0;34m.\u001b[0m\u001b[0m_next_data\u001b[0m\u001b[0;34m(\u001b[0m\u001b[0;34m)\u001b[0m\u001b[0;34m\u001b[0m\u001b[0;34m\u001b[0m\u001b[0m\n\u001b[0m\u001b[1;32m    522\u001b[0m             \u001b[0mself\u001b[0m\u001b[0;34m.\u001b[0m\u001b[0m_num_yielded\u001b[0m \u001b[0;34m+=\u001b[0m \u001b[0;36m1\u001b[0m\u001b[0;34m\u001b[0m\u001b[0;34m\u001b[0m\u001b[0m\n\u001b[1;32m    523\u001b[0m             \u001b[0;32mif\u001b[0m \u001b[0mself\u001b[0m\u001b[0;34m.\u001b[0m\u001b[0m_dataset_kind\u001b[0m \u001b[0;34m==\u001b[0m \u001b[0m_DatasetKind\u001b[0m\u001b[0;34m.\u001b[0m\u001b[0mIterable\u001b[0m \u001b[0;32mand\u001b[0m\u001b[0;31m \u001b[0m\u001b[0;31m\\\u001b[0m\u001b[0;34m\u001b[0m\u001b[0;34m\u001b[0m\u001b[0m\n",
      "\u001b[0;32m~/paulshab/NLP_env/nlp_environ/lib/python3.7/site-packages/torch/utils/data/dataloader.py\u001b[0m in \u001b[0;36m_next_data\u001b[0;34m(self)\u001b[0m\n\u001b[1;32m    559\u001b[0m     \u001b[0;32mdef\u001b[0m \u001b[0m_next_data\u001b[0m\u001b[0;34m(\u001b[0m\u001b[0mself\u001b[0m\u001b[0;34m)\u001b[0m\u001b[0;34m:\u001b[0m\u001b[0;34m\u001b[0m\u001b[0;34m\u001b[0m\u001b[0m\n\u001b[1;32m    560\u001b[0m         \u001b[0mindex\u001b[0m \u001b[0;34m=\u001b[0m \u001b[0mself\u001b[0m\u001b[0;34m.\u001b[0m\u001b[0m_next_index\u001b[0m\u001b[0;34m(\u001b[0m\u001b[0;34m)\u001b[0m  \u001b[0;31m# may raise StopIteration\u001b[0m\u001b[0;34m\u001b[0m\u001b[0;34m\u001b[0m\u001b[0m\n\u001b[0;32m--> 561\u001b[0;31m         \u001b[0mdata\u001b[0m \u001b[0;34m=\u001b[0m \u001b[0mself\u001b[0m\u001b[0;34m.\u001b[0m\u001b[0m_dataset_fetcher\u001b[0m\u001b[0;34m.\u001b[0m\u001b[0mfetch\u001b[0m\u001b[0;34m(\u001b[0m\u001b[0mindex\u001b[0m\u001b[0;34m)\u001b[0m  \u001b[0;31m# may raise StopIteration\u001b[0m\u001b[0;34m\u001b[0m\u001b[0;34m\u001b[0m\u001b[0m\n\u001b[0m\u001b[1;32m    562\u001b[0m         \u001b[0;32mif\u001b[0m \u001b[0mself\u001b[0m\u001b[0;34m.\u001b[0m\u001b[0m_pin_memory\u001b[0m\u001b[0;34m:\u001b[0m\u001b[0;34m\u001b[0m\u001b[0;34m\u001b[0m\u001b[0m\n\u001b[1;32m    563\u001b[0m             \u001b[0mdata\u001b[0m \u001b[0;34m=\u001b[0m \u001b[0m_utils\u001b[0m\u001b[0;34m.\u001b[0m\u001b[0mpin_memory\u001b[0m\u001b[0;34m.\u001b[0m\u001b[0mpin_memory\u001b[0m\u001b[0;34m(\u001b[0m\u001b[0mdata\u001b[0m\u001b[0;34m)\u001b[0m\u001b[0;34m\u001b[0m\u001b[0;34m\u001b[0m\u001b[0m\n",
      "\u001b[0;32m~/paulshab/NLP_env/nlp_environ/lib/python3.7/site-packages/torch/utils/data/_utils/fetch.py\u001b[0m in \u001b[0;36mfetch\u001b[0;34m(self, possibly_batched_index)\u001b[0m\n\u001b[1;32m     45\u001b[0m         \u001b[0;32melse\u001b[0m\u001b[0;34m:\u001b[0m\u001b[0;34m\u001b[0m\u001b[0;34m\u001b[0m\u001b[0m\n\u001b[1;32m     46\u001b[0m             \u001b[0mdata\u001b[0m \u001b[0;34m=\u001b[0m \u001b[0mself\u001b[0m\u001b[0;34m.\u001b[0m\u001b[0mdataset\u001b[0m\u001b[0;34m[\u001b[0m\u001b[0mpossibly_batched_index\u001b[0m\u001b[0;34m]\u001b[0m\u001b[0;34m\u001b[0m\u001b[0;34m\u001b[0m\u001b[0m\n\u001b[0;32m---> 47\u001b[0;31m         \u001b[0;32mreturn\u001b[0m \u001b[0mself\u001b[0m\u001b[0;34m.\u001b[0m\u001b[0mcollate_fn\u001b[0m\u001b[0;34m(\u001b[0m\u001b[0mdata\u001b[0m\u001b[0;34m)\u001b[0m\u001b[0;34m\u001b[0m\u001b[0;34m\u001b[0m\u001b[0m\n\u001b[0m",
      "\u001b[0;32m/tmp/ipykernel_16635/352819314.py\u001b[0m in \u001b[0;36m__call__\u001b[0;34m(self, batch)\u001b[0m\n\u001b[1;32m     19\u001b[0m                     \u001b[0mpadded_batch\u001b[0m\u001b[0;34m[\u001b[0m\u001b[0mkey\u001b[0m\u001b[0;34m]\u001b[0m \u001b[0;34m=\u001b[0m \u001b[0mtorch\u001b[0m\u001b[0;34m.\u001b[0m\u001b[0mnn\u001b[0m\u001b[0;34m.\u001b[0m\u001b[0mutils\u001b[0m\u001b[0;34m.\u001b[0m\u001b[0mrnn\u001b[0m\u001b[0;34m.\u001b[0m\u001b[0mpad_sequence\u001b[0m\u001b[0;34m(\u001b[0m\u001b[0mval\u001b[0m\u001b[0;34m,\u001b[0m \u001b[0mbatch_first\u001b[0m\u001b[0;34m=\u001b[0m\u001b[0;32mTrue\u001b[0m\u001b[0;34m,\u001b[0m \u001b[0mpadding_value\u001b[0m\u001b[0;34m=\u001b[0m\u001b[0mself\u001b[0m\u001b[0;34m.\u001b[0m\u001b[0mpad_val\u001b[0m\u001b[0;34m)\u001b[0m\u001b[0;34m.\u001b[0m\u001b[0mto\u001b[0m\u001b[0;34m(\u001b[0m\u001b[0mself\u001b[0m\u001b[0;34m.\u001b[0m\u001b[0mdevice\u001b[0m\u001b[0;34m)\u001b[0m\u001b[0;34m\u001b[0m\u001b[0;34m\u001b[0m\u001b[0m\n\u001b[1;32m     20\u001b[0m                 \u001b[0;32melse\u001b[0m\u001b[0;34m:\u001b[0m\u001b[0;34m\u001b[0m\u001b[0;34m\u001b[0m\u001b[0m\n\u001b[0;32m---> 21\u001b[0;31m                     \u001b[0mpadded_batch\u001b[0m\u001b[0;34m[\u001b[0m\u001b[0mkey\u001b[0m\u001b[0;34m]\u001b[0m \u001b[0;34m=\u001b[0m \u001b[0mtorch\u001b[0m\u001b[0;34m.\u001b[0m\u001b[0mnn\u001b[0m\u001b[0;34m.\u001b[0m\u001b[0mutils\u001b[0m\u001b[0;34m.\u001b[0m\u001b[0mrnn\u001b[0m\u001b[0;34m.\u001b[0m\u001b[0mpad_sequence\u001b[0m\u001b[0;34m(\u001b[0m\u001b[0mval\u001b[0m\u001b[0;34m,\u001b[0m \u001b[0mbatch_first\u001b[0m\u001b[0;34m=\u001b[0m\u001b[0;32mTrue\u001b[0m\u001b[0;34m)\u001b[0m\u001b[0;34m.\u001b[0m\u001b[0mto\u001b[0m\u001b[0;34m(\u001b[0m\u001b[0mself\u001b[0m\u001b[0;34m.\u001b[0m\u001b[0mdevice\u001b[0m\u001b[0;34m)\u001b[0m\u001b[0;34m\u001b[0m\u001b[0;34m\u001b[0m\u001b[0m\n\u001b[0m\u001b[1;32m     22\u001b[0m         \u001b[0;32mreturn\u001b[0m \u001b[0mpadded_batch\u001b[0m\u001b[0;34m\u001b[0m\u001b[0;34m\u001b[0m\u001b[0m\n\u001b[1;32m     23\u001b[0m \u001b[0;34m\u001b[0m\u001b[0m\n",
      "\u001b[0;31mRuntimeError\u001b[0m: CUDA error: device-side assert triggered\nCUDA kernel errors might be asynchronously reported at some other API call,so the stacktrace below might be incorrect.\nFor debugging consider passing CUDA_LAUNCH_BLOCKING=1."
     ]
    }
   ],
   "source": [
    "test_batch = next(iter(top_reddit_dataloader))\n",
    "print(\"test_batch\")\n",
    "\n",
    "reddit_model.train()\n",
    "outputs = reddit_model(test_batch['input_ids'])\n",
    "\n",
    "outputs.logits.shape"
   ]
  },
  {
   "cell_type": "markdown",
   "metadata": {},
   "source": [
    "### Get Classifiation Report"
   ]
  },
  {
   "cell_type": "code",
   "execution_count": null,
   "metadata": {},
   "outputs": [],
   "source": [
    "wnut_test_dataloader = torch.utils.data.DataLoader(wnut[\"test\"], \n",
    "                                                    batch_size=32, \n",
    "                                                    collate_fn=PadSequence(['input_ids', 'token_type_ids', 'attention_mask', 'labels'], \n",
    "                                                    device='cuda:1'))\n",
    "\n",
    "get_classification_report(reddit_model, wnut_train_dataloader, wnut_test_dataloader, train_class=False, device='cuda:1') "
   ]
  },
  {
   "cell_type": "markdown",
   "metadata": {},
   "source": [
    "### Bonus assignment: Model Compression\n",
    "\n",
    "![img](https://i.imgur.com/yOHM1ZNl.png?1)\n",
    "\n",
    "Imagine you want to deploy your model as a part of your \"smart speaker\" device (such as Amazon Echo / Yandex Alisa / etc). Unfortunately, it currently takes over 400MB of disk (and RAM) space to simply store your model. Can you do something about that?\n",
    "\n",
    "Note: there are multiple ways to solve this assignment with different award scales. For instance, a simple solution with float16 precision will be awarded 3 points. However, if you combine several methods and get a *really* competitive solution, you will get significantly more (e.g. >>10 points).\n",
    "\n",
    "**Your task** is to design a way to *save your model into a checkpoint* and measure two quantities:\n",
    "* The size of the resulting checkpoint (megabytes)\n",
    "* F1 scores on in- and out-of-domain test sets\n",
    "* Model throughput (samples/s) in your CPU configuration\n",
    "\n",
    "The F1 scores must be obtained using only the checkpoint and your de-serialization code (<1MB source, <60s cpu). Loading extra data is off-limits. So, for instance, you *can* implement a custom checkpoint format, but you can *not* fetch a separate pre-trained model unless it is stored inside your checkpoint.\n",
    "\n",
    "\n",
    "Here's what you can try:\n",
    "* __Half precision:__ by far the simplest way of downsizing your model: cast it to float16.\n",
    "* __Quantization:__ pytorch has builtin support for [quantized tensors](https://pytorch.org/docs/stable/quantization.html), but you can write your own implementation to prioritize model size.\n",
    "* __Distillation:__ before fine-tuning your model, you can deliberately change its architecture to use up less disk space.\n",
    "* __Sparsification:__ you can prune off unnecessary weights, units or even layers. Use [this code](https://github.com/moskomule/l0.pytorch/blob/master/l0module.py) for inspiration.\n",
    "* __Imagination:__ there's plenty of other interesting ideas you can try. For instance, you can choose a different BERT model, or train an ensemble of models and distill them into one to improve quality.\n",
    "\n",
    "Sky is the limit.\n"
   ]
  },
  {
   "cell_type": "code",
   "execution_count": null,
   "metadata": {},
   "outputs": [],
   "source": [
    "# <Your completely optional code here>"
   ]
  }
 ],
 "metadata": {
  "accelerator": "GPU",
  "colab": {
   "name": "homework.ipynb",
   "provenance": [],
   "version": "0.3.2"
  },
  "kernelspec": {
   "display_name": "Python 3 (ipykernel)",
   "language": "python",
   "name": "python3"
  },
  "language_info": {
   "codemirror_mode": {
    "name": "ipython",
    "version": 3
   },
   "file_extension": ".py",
   "mimetype": "text/x-python",
   "name": "python",
   "nbconvert_exporter": "python",
   "pygments_lexer": "ipython3",
   "version": "3.7.6"
  }
 },
 "nbformat": 4,
 "nbformat_minor": 1
}
