{
 "cells": [
  {
   "cell_type": "markdown",
   "metadata": {
    "slideshow": {
     "slide_type": "subslide"
    }
   },
   "source": [
    "### Семинар 10. Композиция моделей\n",
    "\n",
    "<br />\n",
    "<br />\n",
    "11 ноября 2021"
   ]
  },
  {
   "cell_type": "markdown",
   "metadata": {
    "id": "Vop69uKO-WpV",
    "slideshow": {
     "slide_type": "subslide"
    }
   },
   "source": [
    "### Подготовка и первые эксперименты"
   ]
  },
  {
   "cell_type": "code",
   "execution_count": 2,
   "metadata": {
    "slideshow": {
     "slide_type": "fragment"
    }
   },
   "outputs": [
    {
     "name": "stdout",
     "output_type": "stream",
     "text": [
      "/home/iris/paulshab/NLP_env/nlp_environ/bin/python\r\n"
     ]
    }
   ],
   "source": [
    "!which python"
   ]
  },
  {
   "cell_type": "code",
   "execution_count": 1,
   "metadata": {
    "id": "_w3zdh6K0uLK",
    "slideshow": {
     "slide_type": "-"
    }
   },
   "outputs": [],
   "source": [
    "import numpy as np\n",
    "import pandas as pd\n",
    "from sklearn.datasets import make_classification\n",
    "\n",
    "X, y = make_classification(n_samples=1000, n_features=20, n_informative=15, n_redundant=5, random_state=42)\n"
   ]
  },
  {
   "cell_type": "code",
   "execution_count": 13,
   "metadata": {
    "slideshow": {
     "slide_type": "fragment"
    }
   },
   "outputs": [],
   "source": [
    "from sklearn.model_selection import cross_val_score, RepeatedStratifiedKFold\n",
    "\n",
    "def eval_classifier(clf):\n",
    "    cv = RepeatedStratifiedKFold(n_splits=10, n_repeats=3, random_state=43)\n",
    "    n_scores = cross_val_score(clf, X, y, scoring='accuracy', cv=cv, n_jobs=-1, error_score='raise')\n",
    "    return np.mean(n_scores), np.std(n_scores)"
   ]
  },
  {
   "cell_type": "code",
   "execution_count": 14,
   "metadata": {
    "id": "ZBrbr58U1S_n",
    "slideshow": {
     "slide_type": "subslide"
    }
   },
   "outputs": [],
   "source": [
    "from sklearn.tree import DecisionTreeClassifier\n",
    "\n",
    "from sklearn.linear_model import LogisticRegression\n",
    "\n",
    "from sklearn.svm import SVC\n",
    "\n",
    "results_accuracy = pd.DataFrame(0.0,\n",
    "                                columns=['No composition', 'Dummy', 'Bagging', 'Bagging_mf', 'AdaBoost'],\n",
    "                                index=['DTC', 'DTC-1', 'LR', 'SVC'])"
   ]
  },
  {
   "cell_type": "code",
   "execution_count": 15,
   "metadata": {
    "colab": {
     "base_uri": "https://localhost:8080/"
    },
    "id": "tLi1BNAp1bCb",
    "outputId": "a78db314-04b4-461a-8683-ec3c936c4f1b",
    "slideshow": {
     "slide_type": "subslide"
    }
   },
   "outputs": [
    {
     "name": "stdout",
     "output_type": "stream",
     "text": [
      "0.79, 0.04\n"
     ]
    }
   ],
   "source": [
    "acc_mean, acc_std = eval_classifier(DecisionTreeClassifier())\n",
    "\n",
    "results_accuracy.loc['DTC', 'No composition'] = acc_mean\n",
    "print(f\"{acc_mean:.2f}, {acc_std:.2f}\")"
   ]
  },
  {
   "cell_type": "code",
   "execution_count": 24,
   "metadata": {
    "slideshow": {
     "slide_type": "fragment"
    }
   },
   "outputs": [
    {
     "name": "stdout",
     "output_type": "stream",
     "text": [
      "0.68, 0.04\n"
     ]
    }
   ],
   "source": [
    "acc_mean, acc_std = eval_classifier(DecisionTreeClassifier(max_depth=1))\n",
    "\n",
    "results_accuracy.loc['DTC-1', 'No composition'] = acc_mean\n",
    "print(f\"{acc_mean:.2f}, {acc_std:.2f}\")"
   ]
  },
  {
   "cell_type": "code",
   "execution_count": 53,
   "metadata": {
    "id": "n4kjbepy1fY2",
    "slideshow": {
     "slide_type": "fragment"
    }
   },
   "outputs": [
    {
     "name": "stdout",
     "output_type": "stream",
     "text": [
      "0.81, 0.03\n",
      "train: 0.815\n",
      "test: 0.825\n"
     ]
    }
   ],
   "source": [
    "from sklearn.metrics import f1_score, accuracy_score\n",
    "from sklearn.model_selection import train_test_split\n",
    "\n",
    "\n",
    "acc_mean, acc_std = eval_classifier(LogisticRegression())\n",
    "\n",
    "results_accuracy.loc['LR', 'No composition'] = acc_mean\n",
    "print(f\"{acc_mean:.2f}, {acc_std:.2f}\")\n",
    "\n",
    "X_train, X_test, y_train, y_test = train_test_split(X, y, test_size=0.2, random_state=42)\n",
    "\n",
    "log_reg = LogisticRegression(C=1e5)\n",
    "log_reg.fit(X_train, y_train)\n",
    "pred = log_reg.predict(X_train)\n",
    "print(\"train:\", accuracy_score(y_train, pred))\n",
    "\n",
    "pred = log_reg.predict(X_test)\n",
    "print(\"test:\", accuracy_score(y_test, pred))"
   ]
  },
  {
   "cell_type": "code",
   "execution_count": 54,
   "metadata": {},
   "outputs": [
    {
     "name": "stdout",
     "output_type": "stream",
     "text": [
      "(800, 20)\n",
      "(200, 20)\n"
     ]
    }
   ],
   "source": [
    "print(X_train.shape)\n",
    "print(X_test.shape)"
   ]
  },
  {
   "cell_type": "code",
   "execution_count": 55,
   "metadata": {
    "colab": {
     "base_uri": "https://localhost:8080/"
    },
    "id": "gIMAJFQLrBFP",
    "outputId": "f0436bda-2a76-4699-8460-9d3a87c5d844",
    "slideshow": {
     "slide_type": "fragment"
    }
   },
   "outputs": [
    {
     "name": "stdout",
     "output_type": "stream",
     "text": [
      "0.94, 0.02\n"
     ]
    }
   ],
   "source": [
    "acc_mean, acc_std = eval_classifier(SVC(probability=True))\n",
    "\n",
    "results_accuracy.loc['SVC', 'No composition'] = acc_mean\n",
    "print(f\"{acc_mean:.2f}, {acc_std:.2f}\")"
   ]
  },
  {
   "cell_type": "markdown",
   "metadata": {
    "id": "QFNxSspktVYI",
    "slideshow": {
     "slide_type": "subslide"
    }
   },
   "source": [
    "### Dummy"
   ]
  },
  {
   "cell_type": "markdown",
   "metadata": {
    "id": "u7LT0F2P4pPd",
    "slideshow": {
     "slide_type": "-"
    }
   },
   "source": [
    "Для начала реализуем свой простейший метод ассамблирования. \n",
    "\n",
    "Идея проста: мы будем просто обучать классификатор несколько раз и усреднять ответ: $$c(x) = \\frac{1}{n}\\sum\\limits_{i=1}^n c_i(x)$$"
   ]
  },
  {
   "cell_type": "code",
   "execution_count": 18,
   "metadata": {
    "id": "mGM8gx0ErI1d",
    "slideshow": {
     "slide_type": "subslide"
    }
   },
   "outputs": [],
   "source": [
    "from sklearn import base\n",
    "\n",
    "class DummyEnsemble(object):\n",
    "    def __init__(self, base_estimator, n_estimators=10):\n",
    "        self.n_estimators = n_estimators\n",
    "        self.base_estimator = base_estimator            \n",
    "        self._bs = [base.clone(self.base_estimator) for _ in range(self.n_estimators)]\n",
    "        \n",
    "    def get_params(self, deep=True):\n",
    "        return {'n_estimators': self.n_estimators, \n",
    "                'base_estimator': self.base_estimator}\n",
    "        \n",
    "    def fit(self, X, Y):\n",
    "        for b in self._bs:\n",
    "            b.fit(X, Y)\n",
    "            \n",
    "    def predict(self, X):\n",
    "        probas = self.predict_proba(X)\n",
    "        return np.argmax(probas, axis=1)\n",
    "    \n",
    "    def predict_proba(self, X):\n",
    "        return np.mean([b.predict_proba(X) for b in self._bs], axis=0)"
   ]
  },
  {
   "cell_type": "code",
   "execution_count": 19,
   "metadata": {
    "colab": {
     "base_uri": "https://localhost:8080/"
    },
    "id": "DEaWYfS2rrTY",
    "outputId": "098f315d-47ae-47c9-fcd4-7ee606a8d0cb",
    "slideshow": {
     "slide_type": "subslide"
    }
   },
   "outputs": [
    {
     "name": "stdout",
     "output_type": "stream",
     "text": [
      "0.80, 0.05\n"
     ]
    }
   ],
   "source": [
    "acc_mean, acc_std = eval_classifier(DummyEnsemble(DecisionTreeClassifier(), n_estimators=10))\n",
    "\n",
    "results_accuracy.loc['DTC', 'Dummy'] = acc_mean\n",
    "print(f\"{acc_mean:.2f}, {acc_std:.2f}\")"
   ]
  },
  {
   "cell_type": "code",
   "execution_count": 20,
   "metadata": {
    "colab": {
     "base_uri": "https://localhost:8080/"
    },
    "id": "sTXyo7p08oVj",
    "outputId": "e29d1965-78c6-4476-bbdf-c336b003d9c9",
    "slideshow": {
     "slide_type": "fragment"
    }
   },
   "outputs": [
    {
     "name": "stdout",
     "output_type": "stream",
     "text": [
      "0.68, 0.04\n"
     ]
    }
   ],
   "source": [
    "acc_mean, acc_std = eval_classifier(DummyEnsemble(DecisionTreeClassifier(max_depth=1)))\n",
    "\n",
    "results_accuracy.loc['DTC-1', 'Dummy'] = acc_mean\n",
    "print(f\"{acc_mean:.2f}, {acc_std:.2f}\")"
   ]
  },
  {
   "cell_type": "code",
   "execution_count": 21,
   "metadata": {
    "colab": {
     "base_uri": "https://localhost:8080/"
    },
    "id": "GfQitu6drwlF",
    "outputId": "97684ed7-3afe-4945-8e53-e276ab54c457",
    "slideshow": {
     "slide_type": "fragment"
    }
   },
   "outputs": [
    {
     "name": "stdout",
     "output_type": "stream",
     "text": [
      "0.81, 0.03\n"
     ]
    }
   ],
   "source": [
    "acc_mean, acc_std = eval_classifier(DummyEnsemble(LogisticRegression()))\n",
    "\n",
    "results_accuracy.loc['LR', 'Dummy'] = acc_mean\n",
    "print(f\"{acc_mean:.2f}, {acc_std:.2f}\")"
   ]
  },
  {
   "cell_type": "code",
   "execution_count": 22,
   "metadata": {
    "colab": {
     "base_uri": "https://localhost:8080/"
    },
    "id": "fnRnNvOusC17",
    "outputId": "06025e79-e61d-4fff-dd5e-4c04f5df7ff2",
    "slideshow": {
     "slide_type": "fragment"
    }
   },
   "outputs": [
    {
     "name": "stdout",
     "output_type": "stream",
     "text": [
      "0.94, 0.02\n"
     ]
    }
   ],
   "source": [
    "acc_mean, acc_std = eval_classifier(DummyEnsemble(SVC(probability=True)))\n",
    "\n",
    "results_accuracy.loc['SVC', 'Dummy'] = acc_mean\n",
    "print(f\"{acc_mean:.2f}, {acc_std:.2f}\")"
   ]
  },
  {
   "cell_type": "markdown",
   "metadata": {
    "slideshow": {
     "slide_type": "subslide"
    }
   },
   "source": [
    "<div class=\"alert alert-info\">\n",
    "<b>Вопрос 1:</b> Какие проблемы у данного метода?\n",
    "</div>"
   ]
  },
  {
   "cell_type": "code",
   "execution_count": 25,
   "metadata": {
    "slideshow": {
     "slide_type": "-"
    }
   },
   "outputs": [
    {
     "data": {
      "text/html": [
       "<div>\n",
       "<style scoped>\n",
       "    .dataframe tbody tr th:only-of-type {\n",
       "        vertical-align: middle;\n",
       "    }\n",
       "\n",
       "    .dataframe tbody tr th {\n",
       "        vertical-align: top;\n",
       "    }\n",
       "\n",
       "    .dataframe thead th {\n",
       "        text-align: right;\n",
       "    }\n",
       "</style>\n",
       "<table border=\"1\" class=\"dataframe\">\n",
       "  <thead>\n",
       "    <tr style=\"text-align: right;\">\n",
       "      <th></th>\n",
       "      <th>No composition</th>\n",
       "      <th>Dummy</th>\n",
       "      <th>Bagging</th>\n",
       "      <th>Bagging_mf</th>\n",
       "      <th>AdaBoost</th>\n",
       "    </tr>\n",
       "  </thead>\n",
       "  <tbody>\n",
       "    <tr>\n",
       "      <th>DTC</th>\n",
       "      <td>0.79</td>\n",
       "      <td>0.80</td>\n",
       "      <td>0.00</td>\n",
       "      <td>0.00</td>\n",
       "      <td>0.00</td>\n",
       "    </tr>\n",
       "    <tr>\n",
       "      <th>DTC-1</th>\n",
       "      <td>0.68</td>\n",
       "      <td>0.68</td>\n",
       "      <td>0.00</td>\n",
       "      <td>0.00</td>\n",
       "      <td>0.00</td>\n",
       "    </tr>\n",
       "    <tr>\n",
       "      <th>LR</th>\n",
       "      <td>0.81</td>\n",
       "      <td>0.81</td>\n",
       "      <td>0.00</td>\n",
       "      <td>0.00</td>\n",
       "      <td>0.00</td>\n",
       "    </tr>\n",
       "    <tr>\n",
       "      <th>SVC</th>\n",
       "      <td>0.94</td>\n",
       "      <td>0.94</td>\n",
       "      <td>0.00</td>\n",
       "      <td>0.00</td>\n",
       "      <td>0.00</td>\n",
       "    </tr>\n",
       "  </tbody>\n",
       "</table>\n",
       "</div>"
      ],
      "text/plain": [
       "       No composition  Dummy  Bagging  Bagging_mf  AdaBoost\n",
       "DTC              0.79   0.80     0.00        0.00      0.00\n",
       "DTC-1            0.68   0.68     0.00        0.00      0.00\n",
       "LR               0.81   0.81     0.00        0.00      0.00\n",
       "SVC              0.94   0.94     0.00        0.00      0.00"
      ]
     },
     "execution_count": 25,
     "metadata": {},
     "output_type": "execute_result"
    }
   ],
   "source": [
    "pd.options.display.float_format = \"{:,.2f}\".format\n",
    "results_accuracy"
   ]
  },
  {
   "cell_type": "markdown",
   "metadata": {
    "id": "Ll5aajkMtTxG",
    "slideshow": {
     "slide_type": "subslide"
    }
   },
   "source": [
    "### Bagging"
   ]
  },
  {
   "cell_type": "markdown",
   "metadata": {
    "id": "y8EKyIsl5QAx",
    "slideshow": {
     "slide_type": "-"
    }
   },
   "source": [
    "Естественная модификация метода из предыдущего пункта — Bagging. В нём для обучения каждой следующей модели используем только часть данных/признаков."
   ]
  },
  {
   "cell_type": "code",
   "execution_count": 27,
   "metadata": {
    "id": "8OWgFsVrsZs-",
    "slideshow": {
     "slide_type": "fragment"
    }
   },
   "outputs": [
    {
     "name": "stdout",
     "output_type": "stream",
     "text": [
      "0.87, 0.03\n"
     ]
    }
   ],
   "source": [
    "from sklearn.ensemble import BaggingClassifier\n",
    "\n",
    "acc_mean, acc_std = eval_classifier(\n",
    "    BaggingClassifier(DecisionTreeClassifier(), n_estimators=10, max_samples=1.0, \n",
    "                      max_features=1.0, bootstrap=True, bootstrap_features=False))\n",
    "\n",
    "results_accuracy.loc['DTC', 'Bagging'] = acc_mean\n",
    "print(f\"{acc_mean:.2f}, {acc_std:.2f}\")"
   ]
  },
  {
   "cell_type": "code",
   "execution_count": 28,
   "metadata": {
    "colab": {
     "base_uri": "https://localhost:8080/"
    },
    "id": "2iRHeTrw3sEX",
    "outputId": "93340640-8aa5-4ff5-a73c-369611b73648",
    "slideshow": {
     "slide_type": "fragment"
    }
   },
   "outputs": [
    {
     "name": "stdout",
     "output_type": "stream",
     "text": [
      "0.87, 0.03\n"
     ]
    }
   ],
   "source": [
    "acc_mean, acc_std = eval_classifier(\n",
    "    BaggingClassifier(DecisionTreeClassifier(), n_estimators=10, max_samples=1.0, \n",
    "                      max_features=0.8, bootstrap=True, bootstrap_features=False))\n",
    "\n",
    "results_accuracy.loc['DTC', 'Bagging_mf'] = acc_mean\n",
    "print(f\"{acc_mean:.2f}, {acc_std:.2f}\")"
   ]
  },
  {
   "cell_type": "code",
   "execution_count": 29,
   "metadata": {
    "id": "8OWgFsVrsZs-",
    "slideshow": {
     "slide_type": "subslide"
    }
   },
   "outputs": [
    {
     "name": "stdout",
     "output_type": "stream",
     "text": [
      "0.69, 0.04\n"
     ]
    }
   ],
   "source": [
    "from sklearn.ensemble import BaggingClassifier\n",
    "\n",
    "acc_mean, acc_std = eval_classifier(\n",
    "    BaggingClassifier(DecisionTreeClassifier(max_depth=1), n_estimators=10, max_samples=1.0, \n",
    "                      max_features=1.0, bootstrap=True, bootstrap_features=False))\n",
    "\n",
    "results_accuracy.loc['DTC-1', 'Bagging'] = acc_mean\n",
    "print(f\"{acc_mean:.2f}, {acc_std:.2f}\")"
   ]
  },
  {
   "cell_type": "code",
   "execution_count": 30,
   "metadata": {
    "slideshow": {
     "slide_type": "fragment"
    }
   },
   "outputs": [
    {
     "name": "stdout",
     "output_type": "stream",
     "text": [
      "0.69, 0.04\n"
     ]
    }
   ],
   "source": [
    "from sklearn.ensemble import BaggingClassifier\n",
    "\n",
    "acc_mean, acc_std = eval_classifier(\n",
    "    BaggingClassifier(DecisionTreeClassifier(max_depth=1), n_estimators=10, max_samples=1.0, \n",
    "                      max_features=0.8, bootstrap=True, bootstrap_features=False))\n",
    "\n",
    "results_accuracy.loc['DTC-1', 'Bagging_mf'] = acc_mean\n",
    "print(f\"{acc_mean:.2f}, {acc_std:.2f}\")"
   ]
  },
  {
   "cell_type": "code",
   "execution_count": 31,
   "metadata": {
    "colab": {
     "base_uri": "https://localhost:8080/"
    },
    "id": "E77Zm3fY3z4K",
    "outputId": "0305548f-df93-4ee2-b7a4-64bbe8b1842f",
    "slideshow": {
     "slide_type": "subslide"
    }
   },
   "outputs": [
    {
     "name": "stdout",
     "output_type": "stream",
     "text": [
      "0.81, 0.03\n"
     ]
    }
   ],
   "source": [
    "from sklearn.ensemble import BaggingClassifier\n",
    "\n",
    "acc_mean, acc_std = eval_classifier(\n",
    "    BaggingClassifier(LogisticRegression(), n_estimators=10, max_samples=1.0, \n",
    "                      max_features=1.0, bootstrap=True, bootstrap_features=False))\n",
    "\n",
    "results_accuracy.loc['LR', 'Bagging'] = acc_mean\n",
    "print(f\"{acc_mean:.2f}, {acc_std:.2f}\")"
   ]
  },
  {
   "cell_type": "code",
   "execution_count": 32,
   "metadata": {
    "slideshow": {
     "slide_type": "fragment"
    }
   },
   "outputs": [
    {
     "name": "stdout",
     "output_type": "stream",
     "text": [
      "0.81, 0.04\n"
     ]
    }
   ],
   "source": [
    "acc_mean, acc_std = eval_classifier(\n",
    "    BaggingClassifier(LogisticRegression(), n_estimators=10, max_samples=1.0, \n",
    "                      max_features=0.8, bootstrap=True, bootstrap_features=False))\n",
    "\n",
    "results_accuracy.loc['LR', 'Bagging_mf'] = acc_mean\n",
    "print(f\"{acc_mean:.2f}, {acc_std:.2f}\")"
   ]
  },
  {
   "cell_type": "code",
   "execution_count": 33,
   "metadata": {
    "colab": {
     "base_uri": "https://localhost:8080/"
    },
    "id": "efgo8whGtpQN",
    "outputId": "a12a7123-4468-46bd-e87e-4e0be140e0f6",
    "slideshow": {
     "slide_type": "subslide"
    }
   },
   "outputs": [
    {
     "name": "stdout",
     "output_type": "stream",
     "text": [
      "0.940, 0.020\n"
     ]
    }
   ],
   "source": [
    "acc_mean, acc_std = eval_classifier(BaggingClassifier(SVC(probability=True)))\n",
    "\n",
    "results_accuracy.loc['SVC', 'Bagging'] = acc_mean\n",
    "print(f\"{acc_mean:.3f}, {acc_std:.3f}\")"
   ]
  },
  {
   "cell_type": "code",
   "execution_count": 34,
   "metadata": {
    "colab": {
     "base_uri": "https://localhost:8080/"
    },
    "id": "PqGivnYK4TWf",
    "outputId": "a05a0b79-b875-4901-ddd1-df75c2e48cbc",
    "slideshow": {
     "slide_type": "fragment"
    }
   },
   "outputs": [
    {
     "name": "stdout",
     "output_type": "stream",
     "text": [
      "0.943, 0.023\n"
     ]
    }
   ],
   "source": [
    "acc_mean, acc_std = eval_classifier(\n",
    "    BaggingClassifier(SVC(probability=True), n_estimators=10, max_samples=1.0, \n",
    "                      max_features=0.8, bootstrap=True, bootstrap_features=False))\n",
    "\n",
    "results_accuracy.loc['SVC', 'Bagging_mf'] = acc_mean\n",
    "print(f\"{acc_mean:.3f}, {acc_std:.3f}\")"
   ]
  },
  {
   "cell_type": "markdown",
   "metadata": {
    "slideshow": {
     "slide_type": "subslide"
    }
   },
   "source": [
    "<div class=\"alert alert-info\">\n",
    "<b>Вопрос 2:</b> Какие плюсы/минусы у Bagging'а по сравнению с Dummy методом?\n",
    "</div>"
   ]
  },
  {
   "cell_type": "code",
   "execution_count": 35,
   "metadata": {
    "slideshow": {
     "slide_type": "-"
    }
   },
   "outputs": [
    {
     "data": {
      "text/html": [
       "<div>\n",
       "<style scoped>\n",
       "    .dataframe tbody tr th:only-of-type {\n",
       "        vertical-align: middle;\n",
       "    }\n",
       "\n",
       "    .dataframe tbody tr th {\n",
       "        vertical-align: top;\n",
       "    }\n",
       "\n",
       "    .dataframe thead th {\n",
       "        text-align: right;\n",
       "    }\n",
       "</style>\n",
       "<table border=\"1\" class=\"dataframe\">\n",
       "  <thead>\n",
       "    <tr style=\"text-align: right;\">\n",
       "      <th></th>\n",
       "      <th>No composition</th>\n",
       "      <th>Dummy</th>\n",
       "      <th>Bagging</th>\n",
       "      <th>Bagging_mf</th>\n",
       "      <th>AdaBoost</th>\n",
       "    </tr>\n",
       "  </thead>\n",
       "  <tbody>\n",
       "    <tr>\n",
       "      <th>DTC</th>\n",
       "      <td>0.79</td>\n",
       "      <td>0.80</td>\n",
       "      <td>0.87</td>\n",
       "      <td>0.87</td>\n",
       "      <td>0.00</td>\n",
       "    </tr>\n",
       "    <tr>\n",
       "      <th>DTC-1</th>\n",
       "      <td>0.68</td>\n",
       "      <td>0.68</td>\n",
       "      <td>0.69</td>\n",
       "      <td>0.69</td>\n",
       "      <td>0.00</td>\n",
       "    </tr>\n",
       "    <tr>\n",
       "      <th>LR</th>\n",
       "      <td>0.81</td>\n",
       "      <td>0.81</td>\n",
       "      <td>0.81</td>\n",
       "      <td>0.81</td>\n",
       "      <td>0.00</td>\n",
       "    </tr>\n",
       "    <tr>\n",
       "      <th>SVC</th>\n",
       "      <td>0.94</td>\n",
       "      <td>0.94</td>\n",
       "      <td>0.94</td>\n",
       "      <td>0.94</td>\n",
       "      <td>0.00</td>\n",
       "    </tr>\n",
       "  </tbody>\n",
       "</table>\n",
       "</div>"
      ],
      "text/plain": [
       "       No composition  Dummy  Bagging  Bagging_mf  AdaBoost\n",
       "DTC              0.79   0.80     0.87        0.87      0.00\n",
       "DTC-1            0.68   0.68     0.69        0.69      0.00\n",
       "LR               0.81   0.81     0.81        0.81      0.00\n",
       "SVC              0.94   0.94     0.94        0.94      0.00"
      ]
     },
     "execution_count": 35,
     "metadata": {},
     "output_type": "execute_result"
    },
    {
     "name": "stderr",
     "output_type": "stream",
     "text": [
      "/home/iris/paulshab/NLP_env/nlp_environ/lib/python3.7/site-packages/sklearn/linear_model/_logistic.py:765: ConvergenceWarning: lbfgs failed to converge (status=1):\n",
      "STOP: TOTAL NO. of ITERATIONS REACHED LIMIT.\n",
      "\n",
      "Increase the number of iterations (max_iter) or scale the data as shown in:\n",
      "    https://scikit-learn.org/stable/modules/preprocessing.html\n",
      "Please also refer to the documentation for alternative solver options:\n",
      "    https://scikit-learn.org/stable/modules/linear_model.html#logistic-regression\n",
      "  extra_warning_msg=_LOGISTIC_SOLVER_CONVERGENCE_MSG)\n",
      "/home/iris/paulshab/NLP_env/nlp_environ/lib/python3.7/site-packages/sklearn/linear_model/_logistic.py:765: ConvergenceWarning: lbfgs failed to converge (status=1):\n",
      "STOP: TOTAL NO. of ITERATIONS REACHED LIMIT.\n",
      "\n",
      "Increase the number of iterations (max_iter) or scale the data as shown in:\n",
      "    https://scikit-learn.org/stable/modules/preprocessing.html\n",
      "Please also refer to the documentation for alternative solver options:\n",
      "    https://scikit-learn.org/stable/modules/linear_model.html#logistic-regression\n",
      "  extra_warning_msg=_LOGISTIC_SOLVER_CONVERGENCE_MSG)\n",
      "/home/iris/paulshab/NLP_env/nlp_environ/lib/python3.7/site-packages/sklearn/linear_model/_logistic.py:765: ConvergenceWarning: lbfgs failed to converge (status=1):\n",
      "STOP: TOTAL NO. of ITERATIONS REACHED LIMIT.\n",
      "\n",
      "Increase the number of iterations (max_iter) or scale the data as shown in:\n",
      "    https://scikit-learn.org/stable/modules/preprocessing.html\n",
      "Please also refer to the documentation for alternative solver options:\n",
      "    https://scikit-learn.org/stable/modules/linear_model.html#logistic-regression\n",
      "  extra_warning_msg=_LOGISTIC_SOLVER_CONVERGENCE_MSG)\n"
     ]
    }
   ],
   "source": [
    "results_accuracy"
   ]
  },
  {
   "cell_type": "markdown",
   "metadata": {
    "id": "Xw1FBE6ywjGf",
    "slideshow": {
     "slide_type": "subslide"
    }
   },
   "source": [
    "### AdaBoost"
   ]
  },
  {
   "cell_type": "markdown",
   "metadata": {
    "id": "Dej-xsjo50EJ",
    "slideshow": {
     "slide_type": "-"
    }
   },
   "source": [
    "AdaBoost обучает каждый следующий классификатор на объектах, на которых ошибаются предыдущие (объекты с ошибками получают больший вес, без ошибок — меньший)."
   ]
  },
  {
   "cell_type": "code",
   "execution_count": 36,
   "metadata": {
    "id": "oJ5pEs0Gtv6b",
    "slideshow": {
     "slide_type": "subslide"
    }
   },
   "outputs": [],
   "source": [
    "from sklearn.ensemble import AdaBoostClassifier"
   ]
  },
  {
   "cell_type": "code",
   "execution_count": 40,
   "metadata": {
    "colab": {
     "base_uri": "https://localhost:8080/"
    },
    "id": "ygFz4LlmwtNh",
    "outputId": "4f640e36-90fa-4400-c74d-b5697cf653bf",
    "slideshow": {
     "slide_type": "-"
    }
   },
   "outputs": [
    {
     "name": "stdout",
     "output_type": "stream",
     "text": [
      "0.79, 0.04\n"
     ]
    }
   ],
   "source": [
    "acc_mean, acc_std = eval_classifier(\n",
    "    AdaBoostClassifier(DecisionTreeClassifier(), n_estimators=50, learning_rate=1.0))\n",
    "\n",
    "results_accuracy.loc['DTC', 'AdaBoost'] = acc_mean\n",
    "print(f\"{acc_mean:.2f}, {acc_std:.2f}\")"
   ]
  },
  {
   "cell_type": "code",
   "execution_count": 43,
   "metadata": {
    "colab": {
     "base_uri": "https://localhost:8080/"
    },
    "id": "yB7Zqjvk88ue",
    "outputId": "7f2a2963-8872-4d6c-cff2-be5a284a8f9b",
    "slideshow": {
     "slide_type": "fragment"
    }
   },
   "outputs": [
    {
     "name": "stdout",
     "output_type": "stream",
     "text": [
      "0.82, 0.04\n"
     ]
    }
   ],
   "source": [
    "acc_mean, acc_std = eval_classifier(\n",
    "    AdaBoostClassifier(DecisionTreeClassifier(max_depth=1)))\n",
    "\n",
    "results_accuracy.loc['DTC-1', 'AdaBoost'] = acc_mean\n",
    "print(f\"{acc_mean:.2f}, {acc_std:.2f}\")"
   ]
  },
  {
   "cell_type": "code",
   "execution_count": 44,
   "metadata": {
    "colab": {
     "base_uri": "https://localhost:8080/"
    },
    "id": "_0QdJEHJwxXK",
    "outputId": "9630acef-8028-42c1-b944-564c544fdc9e",
    "slideshow": {
     "slide_type": "subslide"
    }
   },
   "outputs": [
    {
     "name": "stdout",
     "output_type": "stream",
     "text": [
      "0.82, 0.04\n"
     ]
    }
   ],
   "source": [
    "acc_mean, acc_std = eval_classifier(\n",
    "    AdaBoostClassifier(LogisticRegression()))\n",
    "\n",
    "results_accuracy.loc['LR', 'AdaBoost'] = acc_mean\n",
    "print(f\"{acc_mean:.2f}, {acc_std:.2f}\")"
   ]
  },
  {
   "cell_type": "code",
   "execution_count": 45,
   "metadata": {
    "colab": {
     "base_uri": "https://localhost:8080/"
    },
    "id": "6lKjeJJ9xV_V",
    "outputId": "e45f2dfc-d5ff-4331-beeb-c7a0572068fe",
    "slideshow": {
     "slide_type": "fragment"
    }
   },
   "outputs": [
    {
     "name": "stdout",
     "output_type": "stream",
     "text": [
      "0.95, 0.02\n"
     ]
    }
   ],
   "source": [
    "acc_mean, acc_std = eval_classifier(\n",
    "    AdaBoostClassifier(SVC(probability=True)))\n",
    "\n",
    "results_accuracy.loc['SVC', 'AdaBoost'] = acc_mean\n",
    "print(f\"{acc_mean:.2f}, {acc_std:.2f}\")"
   ]
  },
  {
   "cell_type": "code",
   "execution_count": 46,
   "metadata": {
    "slideshow": {
     "slide_type": "subslide"
    }
   },
   "outputs": [
    {
     "data": {
      "text/html": [
       "<style type=\"text/css\">\n",
       "#T_fcce8_row0_col3, #T_fcce8_row1_col4, #T_fcce8_row2_col4, #T_fcce8_row3_col4 {\n",
       "  color: white;\n",
       "  background-color: green;\n",
       "}\n",
       "</style>\n",
       "<table id=\"T_fcce8_\">\n",
       "  <thead>\n",
       "    <tr>\n",
       "      <th class=\"blank level0\" >&nbsp;</th>\n",
       "      <th class=\"col_heading level0 col0\" >No composition</th>\n",
       "      <th class=\"col_heading level0 col1\" >Dummy</th>\n",
       "      <th class=\"col_heading level0 col2\" >Bagging</th>\n",
       "      <th class=\"col_heading level0 col3\" >Bagging_mf</th>\n",
       "      <th class=\"col_heading level0 col4\" >AdaBoost</th>\n",
       "    </tr>\n",
       "  </thead>\n",
       "  <tbody>\n",
       "    <tr>\n",
       "      <th id=\"T_fcce8_level0_row0\" class=\"row_heading level0 row0\" >DTC</th>\n",
       "      <td id=\"T_fcce8_row0_col0\" class=\"data row0 col0\" >0.787</td>\n",
       "      <td id=\"T_fcce8_row0_col1\" class=\"data row0 col1\" >0.797</td>\n",
       "      <td id=\"T_fcce8_row0_col2\" class=\"data row0 col2\" >0.865</td>\n",
       "      <td id=\"T_fcce8_row0_col3\" class=\"data row0 col3\" >0.870</td>\n",
       "      <td id=\"T_fcce8_row0_col4\" class=\"data row0 col4\" >0.790</td>\n",
       "    </tr>\n",
       "    <tr>\n",
       "      <th id=\"T_fcce8_level0_row1\" class=\"row_heading level0 row1\" >DTC-1</th>\n",
       "      <td id=\"T_fcce8_row1_col0\" class=\"data row1 col0\" >0.683</td>\n",
       "      <td id=\"T_fcce8_row1_col1\" class=\"data row1 col1\" >0.683</td>\n",
       "      <td id=\"T_fcce8_row1_col2\" class=\"data row1 col2\" >0.690</td>\n",
       "      <td id=\"T_fcce8_row1_col3\" class=\"data row1 col3\" >0.690</td>\n",
       "      <td id=\"T_fcce8_row1_col4\" class=\"data row1 col4\" >0.818</td>\n",
       "    </tr>\n",
       "    <tr>\n",
       "      <th id=\"T_fcce8_level0_row2\" class=\"row_heading level0 row2\" >LR</th>\n",
       "      <td id=\"T_fcce8_row2_col0\" class=\"data row2 col0\" >0.811</td>\n",
       "      <td id=\"T_fcce8_row2_col1\" class=\"data row2 col1\" >0.811</td>\n",
       "      <td id=\"T_fcce8_row2_col2\" class=\"data row2 col2\" >0.812</td>\n",
       "      <td id=\"T_fcce8_row2_col3\" class=\"data row2 col3\" >0.813</td>\n",
       "      <td id=\"T_fcce8_row2_col4\" class=\"data row2 col4\" >0.815</td>\n",
       "    </tr>\n",
       "    <tr>\n",
       "      <th id=\"T_fcce8_level0_row3\" class=\"row_heading level0 row3\" >SVC</th>\n",
       "      <td id=\"T_fcce8_row3_col0\" class=\"data row3 col0\" >0.938</td>\n",
       "      <td id=\"T_fcce8_row3_col1\" class=\"data row3 col1\" >0.942</td>\n",
       "      <td id=\"T_fcce8_row3_col2\" class=\"data row3 col2\" >0.940</td>\n",
       "      <td id=\"T_fcce8_row3_col3\" class=\"data row3 col3\" >0.943</td>\n",
       "      <td id=\"T_fcce8_row3_col4\" class=\"data row3 col4\" >0.955</td>\n",
       "    </tr>\n",
       "  </tbody>\n",
       "</table>\n"
      ],
      "text/plain": [
       "<pandas.io.formats.style.Styler at 0x7f0c6d2a11d0>"
      ]
     },
     "execution_count": 46,
     "metadata": {},
     "output_type": "execute_result"
    }
   ],
   "source": [
    "def highlight_max(s, props=''):\n",
    "    return np.where(s == np.nanmax(s.values), props, '')\n",
    "\n",
    "results_to_show = results_accuracy.copy()\n",
    "\n",
    "results_to_show.style.apply(highlight_max, props='color:white;background-color:green;', axis=1).format('{:.3f}')"
   ]
  },
  {
   "cell_type": "markdown",
   "metadata": {
    "slideshow": {
     "slide_type": "fragment"
    }
   },
   "source": [
    "<div class=\"alert alert-info\">\n",
    "<b>Вопрос 3:</b> Ни бэггинг, ни бустинг не дали заметного улучшения для логистической регрессии. Объясните, почему.\n",
    "</div>"
   ]
  },
  {
   "cell_type": "markdown",
   "metadata": {
    "slideshow": {
     "slide_type": "fragment"
    }
   },
   "source": [
    "<div class=\"alert alert-info\">\n",
    "<b>Вопрос 4:</b> Почему AdaBoost хуже работает на глубоких деревьях?\n",
    "</div>"
   ]
  },
  {
   "cell_type": "markdown",
   "metadata": {
    "slideshow": {
     "slide_type": "fragment"
    }
   },
   "source": [
    "<div class=\"alert alert-info\">\n",
    "<b>Вопрос 5:</b> В чем минусы использвоания AdaBoost + SVC?\n",
    "</div>"
   ]
  },
  {
   "cell_type": "markdown",
   "metadata": {
    "id": "kBk7E0QpxpKS",
    "slideshow": {
     "slide_type": "subslide"
    }
   },
   "source": [
    "# GradBoost"
   ]
  },
  {
   "cell_type": "code",
   "execution_count": 8,
   "metadata": {
    "id": "6WBm6FA-xtLQ",
    "slideshow": {
     "slide_type": "-"
    }
   },
   "outputs": [
    {
     "name": "stdout",
     "output_type": "stream",
     "text": [
      "0.90, 0.03\n"
     ]
    }
   ],
   "source": [
    "from sklearn.ensemble import GradientBoostingClassifier\n",
    "\n",
    "acc_mean, acc_std = eval_classifier(GradientBoostingClassifier())\n",
    "\n",
    "sk_gboost = acc_mean\n",
    "print(f\"{acc_mean:.2f}, {acc_std:.2f}\")"
   ]
  },
  {
   "cell_type": "markdown",
   "metadata": {
    "id": "HIrulgCN9v0E",
    "slideshow": {
     "slide_type": "subslide"
    }
   },
   "source": [
    "# XGBoost"
   ]
  },
  {
   "cell_type": "markdown",
   "metadata": {
    "id": "e1jn-S6kvtrq",
    "slideshow": {
     "slide_type": "-"
    }
   },
   "source": [
    "[Статья](https://www.kdd.org/kdd2016/papers/files/rfp0697-chenAemb.pdf)\n",
    "\n",
    "Плюсы:\n",
    "* Хорошая [документация](https://xgboost.readthedocs.io/en/latest/)\n",
    "* Позволяет легко паралелить вычисления (например на спарке)\n",
    "* Легко использовать с sklearn и numpy (но с потерей производительности)\n",
    "* Обработка разреженных данных\n",
    "* Предсортированные блоки, кэши, шардирование\n",
    "\n",
    "Минусы:\n",
    "* Нет поддержки GPU"
   ]
  },
  {
   "cell_type": "code",
   "execution_count": 9,
   "metadata": {
    "id": "FbU6hjUOtsk5",
    "slideshow": {
     "slide_type": "subslide"
    }
   },
   "outputs": [
    {
     "name": "stdout",
     "output_type": "stream",
     "text": [
      "0.92, 0.04\n"
     ]
    }
   ],
   "source": [
    "import xgboost\n",
    "\n",
    "acc_mean, acc_std = eval_classifier(xgboost.XGBClassifier(objective='binary:logistic', random_state=42))\n",
    "\n",
    "xg_boost = acc_mean\n",
    "print(f\"{acc_mean:.2f}, {acc_std:.2f}\")"
   ]
  },
  {
   "cell_type": "markdown",
   "metadata": {
    "id": "j0thknXjuc-9",
    "slideshow": {
     "slide_type": "subslide"
    }
   },
   "source": [
    "# LightGBM"
   ]
  },
  {
   "cell_type": "markdown",
   "metadata": {
    "id": "td_hWt0HwWmo",
    "slideshow": {
     "slide_type": "-"
    }
   },
   "source": [
    "[Статья](https://papers.nips.cc/paper/2017/file/6449f44a102fde848669bdd9eb6b76fa-Paper.pdf)\n",
    "\n",
    "Плюсы:\n",
    "* Хорошая [документация](https://lightgbm.readthedocs.io/en/latest/Python-API.html)\n",
    "* Поддержка GPU\n",
    "* Метод Фишера для работы с категориальными признаками\n",
    "* Уменьшение размера обучающей выборки (GOSS)\n",
    "* Объединение разреженных признаков (EFB)\n",
    "\n",
    "Минусы:\n",
    "* Микрософт как всегда пошли своим путем и итерфейс не совместим с sklearn/numpy"
   ]
  },
  {
   "cell_type": "code",
   "execution_count": 10,
   "metadata": {
    "colab": {
     "base_uri": "https://localhost:8080/"
    },
    "id": "XvnBBfv0uh1j",
    "outputId": "4c1efd0d-6977-41a5-e016-058fbaa6224e",
    "slideshow": {
     "slide_type": "subslide"
    }
   },
   "outputs": [
    {
     "name": "stdout",
     "output_type": "stream",
     "text": [
      "[LightGBM] [Warning] Auto-choosing col-wise multi-threading, the overhead of testing was 0.000593 seconds.\n",
      "You can set `force_col_wise=true` to remove the overhead.\n",
      "[LightGBM] [Info] Total Bins 5100\n",
      "[LightGBM] [Info] Number of data points in the train set: 1000, number of used features: 20\n",
      "[LightGBM] [Info] Start training from score -0.689155\n",
      "[LightGBM] [Info] Start training from score -0.697155\n",
      "0.95\n"
     ]
    }
   ],
   "source": [
    "import lightgbm as lgb\n",
    "\n",
    "train_data = lgb.Dataset(X, label=y)\n",
    "\n",
    "param = {'num_leaves': 31, \n",
    "         'objective': 'multiclass', \n",
    "         'num_class': 2, \n",
    "         'metric': ['multi_logloss']}\n",
    "\n",
    "num_round = 10\n",
    "boost = lgb.train(param, train_data, num_boost_round=10)\n",
    "\n",
    "lg_boost = (boost.predict(X).argmax(axis=-1) == y).mean()\n",
    "\n",
    "print(f\"{lg_boost:.2f}\")"
   ]
  },
  {
   "cell_type": "markdown",
   "metadata": {
    "id": "XumlBfXmu67s",
    "slideshow": {
     "slide_type": "subslide"
    }
   },
   "source": [
    "# CatBoost"
   ]
  },
  {
   "cell_type": "markdown",
   "metadata": {
    "id": "5MjVKp6JxLDi",
    "slideshow": {
     "slide_type": "-"
    }
   },
   "source": [
    "[Статья](https://papers.nips.cc/paper/2018/file/14491b756b3a51daac41c24863285549-Paper.pdf)\n",
    "\n",
    "Плюсы:\n",
    "* Хорошая [документация](https://catboost.ai/docs/concepts/python-quickstart.html)\n",
    "* Поддержка GPU\n",
    "* Легко использовать с sklearn и numpy\n",
    "* Более продвинутая работа с категориальными фичами\n",
    "* Можно поразрабатывать в Санкт-Петербурге\n",
    "\n",
    "Минусы:\n",
    "* Бывает работает хуже (возможно слабее эвристики), но с категориальными фичами — хорошо"
   ]
  },
  {
   "cell_type": "code",
   "execution_count": 11,
   "metadata": {
    "id": "pP1BIij2vFDj",
    "slideshow": {
     "slide_type": "subslide"
    }
   },
   "outputs": [
    {
     "name": "stdout",
     "output_type": "stream",
     "text": [
      "0.80, 0.04\n"
     ]
    }
   ],
   "source": [
    "from catboost import CatBoostClassifier\n",
    "\n",
    "acc_mean, acc_std = eval_classifier(\n",
    "    CatBoostClassifier(\n",
    "        iterations=10,\n",
    "        depth=2,\n",
    "        learning_rate=1,\n",
    "        loss_function='Logloss',\n",
    "        verbose=True, \n",
    "        task_type='CPU'))\n",
    "\n",
    "сat_boost = acc_mean\n",
    "print(f\"{acc_mean:.2f}, {acc_std:.2f}\")"
   ]
  },
  {
   "cell_type": "code",
   "execution_count": 35,
   "metadata": {
    "slideshow": {
     "slide_type": "subslide"
    }
   },
   "outputs": [
    {
     "data": {
      "text/html": [
       "<div>\n",
       "<style scoped>\n",
       "    .dataframe tbody tr th:only-of-type {\n",
       "        vertical-align: middle;\n",
       "    }\n",
       "\n",
       "    .dataframe tbody tr th {\n",
       "        vertical-align: top;\n",
       "    }\n",
       "\n",
       "    .dataframe thead th {\n",
       "        text-align: right;\n",
       "    }\n",
       "</style>\n",
       "<table border=\"1\" class=\"dataframe\">\n",
       "  <thead>\n",
       "    <tr style=\"text-align: right;\">\n",
       "      <th></th>\n",
       "      <th>No composition</th>\n",
       "      <th>Dummy</th>\n",
       "      <th>Bagging</th>\n",
       "      <th>Bagging_mf</th>\n",
       "      <th>AdaBoost</th>\n",
       "    </tr>\n",
       "  </thead>\n",
       "  <tbody>\n",
       "    <tr>\n",
       "      <th>DTC</th>\n",
       "      <td>0.79</td>\n",
       "      <td>0.79</td>\n",
       "      <td>0.86</td>\n",
       "      <td>0.86</td>\n",
       "      <td>0.79</td>\n",
       "    </tr>\n",
       "    <tr>\n",
       "      <th>DTC-1</th>\n",
       "      <td>0.68</td>\n",
       "      <td>0.68</td>\n",
       "      <td>0.69</td>\n",
       "      <td>0.69</td>\n",
       "      <td>0.82</td>\n",
       "    </tr>\n",
       "    <tr>\n",
       "      <th>LR</th>\n",
       "      <td>0.81</td>\n",
       "      <td>0.81</td>\n",
       "      <td>0.81</td>\n",
       "      <td>0.81</td>\n",
       "      <td>0.82</td>\n",
       "    </tr>\n",
       "    <tr>\n",
       "      <th>SVC</th>\n",
       "      <td>0.94</td>\n",
       "      <td>0.94</td>\n",
       "      <td>0.94</td>\n",
       "      <td>0.94</td>\n",
       "      <td>0.96</td>\n",
       "    </tr>\n",
       "  </tbody>\n",
       "</table>\n",
       "</div>"
      ],
      "text/plain": [
       "       No composition  Dummy  Bagging  Bagging_mf  AdaBoost\n",
       "DTC              0.79   0.79     0.86        0.86      0.79\n",
       "DTC-1            0.68   0.68     0.69        0.69      0.82\n",
       "LR               0.81   0.81     0.81        0.81      0.82\n",
       "SVC              0.94   0.94     0.94        0.94      0.96"
      ]
     },
     "execution_count": 35,
     "metadata": {},
     "output_type": "execute_result"
    }
   ],
   "source": [
    "results_to_show"
   ]
  },
  {
   "cell_type": "code",
   "execution_count": 15,
   "metadata": {
    "colab": {
     "base_uri": "https://localhost:8080/"
    },
    "id": "CPMnxxCbuq9-",
    "outputId": "ffd3ea5a-3b03-4454-a196-01d3338287f2",
    "slideshow": {
     "slide_type": "-"
    }
   },
   "outputs": [
    {
     "data": {
      "text/plain": [
       "'0.90, 0.92, 0.95, 0.80'"
      ]
     },
     "execution_count": 15,
     "metadata": {},
     "output_type": "execute_result"
    }
   ],
   "source": [
    "f\"{sk_gboost:.2f}, {xg_boost:.2f}, {lg_boost:.2f}, {сat_boost:.2f}\""
   ]
  },
  {
   "cell_type": "markdown",
   "metadata": {
    "id": "cr7sGc3PyatF",
    "slideshow": {
     "slide_type": "subslide"
    }
   },
   "source": [
    "# Случайный лес (Random forest)"
   ]
  },
  {
   "cell_type": "code",
   "execution_count": 38,
   "metadata": {
    "id": "fDqeZf8TvSHQ",
    "slideshow": {
     "slide_type": "-"
    }
   },
   "outputs": [],
   "source": [
    "from sklearn.datasets import load_wine\n",
    "from sklearn.model_selection import train_test_split"
   ]
  },
  {
   "cell_type": "code",
   "execution_count": 39,
   "metadata": {
    "id": "kVn5ME33yheu",
    "slideshow": {
     "slide_type": "-"
    }
   },
   "outputs": [],
   "source": [
    "data = load_wine()\n",
    "X = data['data']\n",
    "Y = data['target']\n",
    "\n",
    "X_train, X_test, Y_train, Y_test = train_test_split(X, Y, \n",
    "                                                    test_size=30, \n",
    "                                                    random_state=0)"
   ]
  },
  {
   "cell_type": "code",
   "execution_count": 40,
   "metadata": {
    "id": "PLTLQLI6y6Zh",
    "slideshow": {
     "slide_type": "subslide"
    }
   },
   "outputs": [
    {
     "name": "stdout",
     "output_type": "stream",
     "text": [
      "0.9797297297297297 0.9666666666666667\n",
      "              precision    recall  f1-score   support\n",
      "\n",
      "           0       1.00      1.00      1.00         9\n",
      "           1       1.00      0.93      0.97        15\n",
      "           2       0.86      1.00      0.92         6\n",
      "\n",
      "    accuracy                           0.97        30\n",
      "   macro avg       0.95      0.98      0.96        30\n",
      "weighted avg       0.97      0.97      0.97        30\n",
      "\n"
     ]
    }
   ],
   "source": [
    "from sklearn.ensemble import RandomForestClassifier\n",
    "from sklearn.metrics import classification_report\n",
    "\n",
    "model = RandomForestClassifier(n_estimators=6, max_depth=2, random_state=0)\n",
    "model.fit(X_train, Y_train)\n",
    "\n",
    "print(model.score(X_train, Y_train), model.score(X_test, Y_test))\n",
    "print(classification_report(Y_test, model.predict(X_test)))"
   ]
  },
  {
   "cell_type": "markdown",
   "metadata": {
    "id": "8OShLHPPzVEE",
    "slideshow": {
     "slide_type": "subslide"
    }
   },
   "source": [
    "# Зависимость от числа деревьев"
   ]
  },
  {
   "cell_type": "code",
   "execution_count": 41,
   "metadata": {
    "id": "bxsRapPqy137",
    "slideshow": {
     "slide_type": "-"
    }
   },
   "outputs": [],
   "source": [
    "models = []\n",
    "scores_train = []\n",
    "scores_test = []\n",
    "n_estimators = list(range(1, 20))\n",
    "for estimators in n_estimators:\n",
    "    model = RandomForestClassifier(n_estimators=estimators, random_state=0)\n",
    "    model.fit(X_train, Y_train)\n",
    "    models.append(model)\n",
    "    scores_test.append(model.score(X_test, Y_test))\n",
    "    scores_train.append(model.score(X_train, Y_train))"
   ]
  },
  {
   "cell_type": "code",
   "execution_count": 42,
   "metadata": {
    "colab": {
     "base_uri": "https://localhost:8080/",
     "height": 265
    },
    "id": "kkNcC50RzOVw",
    "outputId": "f48ce12d-3d11-4936-a9dd-f38e8fd1f0cf",
    "slideshow": {
     "slide_type": "subslide"
    }
   },
   "outputs": [
    {
     "data": {
      "image/png": "[encoded data removed]",
      "text/plain": [
       "<Figure size 432x288 with 1 Axes>"
      ]
     },
     "metadata": {
      "needs_background": "light"
     },
     "output_type": "display_data"
    }
   ],
   "source": [
    "import matplotlib.pyplot as plt\n",
    "\n",
    "plt.plot(n_estimators, scores_train, label='train')\n",
    "plt.plot(n_estimators, scores_test, label='test')\n",
    "\n",
    "plt.legend(loc='best')\n",
    "plt.grid()\n",
    "plt.show()"
   ]
  },
  {
   "cell_type": "markdown",
   "metadata": {
    "id": "8_q3964azclM",
    "slideshow": {
     "slide_type": "subslide"
    }
   },
   "source": [
    "# Зависимость от числа признаков"
   ]
  },
  {
   "cell_type": "code",
   "execution_count": 43,
   "metadata": {
    "id": "fDpfI8H3zQNd",
    "slideshow": {
     "slide_type": "-"
    }
   },
   "outputs": [],
   "source": [
    "models = []\n",
    "scores_train = []\n",
    "scores_test = []\n",
    "max_features = list(range(1, 13))\n",
    "for features in max_features:\n",
    "    model = RandomForestClassifier(n_estimators=6, \n",
    "                                   max_features=features, random_state=0)\n",
    "    model.fit(X_train, Y_train)\n",
    "    models.append(model)\n",
    "    scores_test.append(model.score(X_test, Y_test))\n",
    "    scores_train.append(model.score(X_train, Y_train))"
   ]
  },
  {
   "cell_type": "code",
   "execution_count": 44,
   "metadata": {
    "colab": {
     "base_uri": "https://localhost:8080/",
     "height": 265
    },
    "id": "O6_bcXRwzkWF",
    "outputId": "49919631-0472-4a5e-c208-ff471242f833",
    "slideshow": {
     "slide_type": "subslide"
    }
   },
   "outputs": [
    {
     "data": {
      "image/png": "[encoded data removed]",
      "text/plain": [
       "<Figure size 432x288 with 1 Axes>"
      ]
     },
     "metadata": {
      "needs_background": "light"
     },
     "output_type": "display_data"
    }
   ],
   "source": [
    "plt.plot(max_features, scores_train, label='train')\n",
    "plt.plot(max_features, scores_test, label='test')\n",
    "\n",
    "plt.legend(loc='best')\n",
    "plt.grid()\n",
    "plt.show()"
   ]
  },
  {
   "cell_type": "markdown",
   "metadata": {
    "id": "w_By8qoczpEk",
    "slideshow": {
     "slide_type": "subslide"
    }
   },
   "source": [
    "# Зависимость от глубины"
   ]
  },
  {
   "cell_type": "code",
   "execution_count": 45,
   "metadata": {
    "id": "Mk_51JtlzmVD",
    "slideshow": {
     "slide_type": "-"
    }
   },
   "outputs": [],
   "source": [
    "models = []\n",
    "scores_train = []\n",
    "scores_test = []\n",
    "current_depth = []\n",
    "max_depth = list(range(1, 10))\n",
    "for depth in max_depth:\n",
    "    model = RandomForestClassifier(n_estimators=6,\n",
    "        max_depth=depth, random_state=0)\n",
    "    model.fit(X_train, Y_train)\n",
    "    models.append(model)\n",
    "    scores_test.append(model.score(X_test, Y_test))\n",
    "    scores_train.append(model.score(X_train, Y_train))\n",
    "    current_depth.append(model.estimators_[0].get_depth()/depth)"
   ]
  },
  {
   "cell_type": "code",
   "execution_count": 46,
   "metadata": {
    "colab": {
     "base_uri": "https://localhost:8080/",
     "height": 265
    },
    "id": "OrN5iTi80Crj",
    "outputId": "e5952fd3-d3ed-429c-ea6b-3747543995ea",
    "slideshow": {
     "slide_type": "subslide"
    }
   },
   "outputs": [
    {
     "data": {
      "image/png": "[encoded data removed]",
      "text/plain": [
       "<Figure size 432x288 with 1 Axes>"
      ]
     },
     "metadata": {
      "needs_background": "light"
     },
     "output_type": "display_data"
    }
   ],
   "source": [
    "plt.plot(max_depth, scores_train, label='train')\n",
    "plt.plot(max_depth, scores_test, label='test')\n",
    "plt.plot(max_depth, current_depth, label='real depth')\n",
    "\n",
    "plt.legend(loc='best')\n",
    "plt.grid()\n",
    "plt.show()"
   ]
  },
  {
   "cell_type": "code",
   "execution_count": 47,
   "metadata": {
    "id": "OFfvQpjZ0HR0",
    "slideshow": {
     "slide_type": "subslide"
    }
   },
   "outputs": [],
   "source": [
    "X, y = make_classification(n_samples=1000, n_features=20, n_informative=15, n_redundant=5, random_state=42)"
   ]
  },
  {
   "cell_type": "code",
   "execution_count": 48,
   "metadata": {
    "colab": {
     "base_uri": "https://localhost:8080/"
    },
    "id": "TPX6uI2z0UBp",
    "outputId": "9ba44551-0f31-40fa-81d3-f2bac2214e6b",
    "slideshow": {
     "slide_type": "-"
    }
   },
   "outputs": [
    {
     "name": "stdout",
     "output_type": "stream",
     "text": [
      "0.83, 0.04\n"
     ]
    }
   ],
   "source": [
    "acc_mean, acc_std = eval_classifier(RandomForestClassifier(n_estimators=10, max_depth=5, max_features=3, random_state=0))\n",
    "\n",
    "print(f\"{acc_mean:.2f}, {acc_std:.2f}\")"
   ]
  },
  {
   "cell_type": "code",
   "execution_count": null,
   "metadata": {},
   "outputs": [],
   "source": []
  }
 ],
 "metadata": {
  "celltoolbar": "Slideshow",
  "kernelspec": {
   "display_name": "Python 3 (ipykernel)",
   "language": "python",
   "name": "python3"
  },
  "language_info": {
   "codemirror_mode": {
    "name": "ipython",
    "version": 3
   },
   "file_extension": ".py",
   "mimetype": "text/x-python",
   "name": "python",
   "nbconvert_exporter": "python",
   "pygments_lexer": "ipython3",
   "version": "3.7.6"
  },
  "rise": {
   "transition": "none"
  }
 },
 "nbformat": 4,
 "nbformat_minor": 2
}
